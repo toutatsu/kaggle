{
 "cells": [
  {
   "cell_type": "markdown",
   "id": "5c661ff4",
   "metadata": {
    "papermill": {
     "duration": 0.025258,
     "end_time": "2022-03-01T00:44:50.006036",
     "exception": false,
     "start_time": "2022-03-01T00:44:49.980778",
     "status": "completed"
    },
    "tags": []
   },
   "source": [
    "<h1>template notebook</h1>"
   ]
  },
  {
   "cell_type": "markdown",
   "id": "200825e2",
   "metadata": {
    "papermill": {
     "duration": 0.022649,
     "end_time": "2022-03-01T00:44:50.052179",
     "exception": false,
     "start_time": "2022-03-01T00:44:50.029530",
     "status": "completed"
    },
    "tags": []
   },
   "source": [
    "import libraries"
   ]
  },
  {
   "cell_type": "code",
   "execution_count": 1,
   "id": "326d58c3",
   "metadata": {
    "_kg_hide-input": true,
    "execution": {
     "iopub.execute_input": "2022-03-01T00:44:50.106202Z",
     "iopub.status.busy": "2022-03-01T00:44:50.104383Z",
     "iopub.status.idle": "2022-03-01T00:44:53.129621Z",
     "shell.execute_reply": "2022-03-01T00:44:53.128765Z",
     "shell.execute_reply.started": "2022-02-28T14:24:40.303906Z"
    },
    "papermill": {
     "duration": 3.054165,
     "end_time": "2022-03-01T00:44:53.129809",
     "exception": false,
     "start_time": "2022-03-01T00:44:50.075644",
     "status": "completed"
    },
    "tags": []
   },
   "outputs": [],
   "source": [
    "#defaul libraries\n",
    "#https://docs.python.org/ja/\n",
    "import os\n",
    "import sys\n",
    "import io\n",
    "\n",
    "import math\n",
    "import random\n",
    "import pprint\n",
    "import time\n",
    "import datetime\n",
    "import typing\n",
    "import json\n",
    "import glob\n",
    "import requests\n",
    "import warnings\n",
    "import gc\n",
    "from pprint import pprint\n",
    "import re\n",
    "\n",
    "import numpy as np #https://numpy.org/\n",
    "import pandas as pd #https://pandas.pydata.org/\n",
    "import sklearn #https://scikit-learn.org/stable/\n",
    "\n",
    "import matplotlib.pyplot as plt #https://matplotlib.org/stable/api/_as_gen/matplotlib.pyplot.html\n",
    "%matplotlib inline\n",
    "\n",
    "import seaborn as sns\n",
    "sns.set()\n",
    "\n",
    "from tqdm import tqdm #https://tqdm.github.io/\n",
    "\n",
    "import torch #https://pytorch.org/\n",
    "import transformers #https://huggingface.co/transformers/\n",
    "\n",
    "import torchvision\n",
    "import torchtext"
   ]
  },
  {
   "cell_type": "markdown",
   "id": "2e4d3219",
   "metadata": {
    "papermill": {
     "duration": 0.022525,
     "end_time": "2022-03-01T00:44:53.175493",
     "exception": false,
     "start_time": "2022-03-01T00:44:53.152968",
     "status": "completed"
    },
    "tags": []
   },
   "source": [
    "CFG"
   ]
  },
  {
   "cell_type": "code",
   "execution_count": 2,
   "id": "64c644ac",
   "metadata": {
    "_kg_hide-input": true,
    "execution": {
     "iopub.execute_input": "2022-03-01T00:44:53.231730Z",
     "iopub.status.busy": "2022-03-01T00:44:53.230584Z",
     "iopub.status.idle": "2022-03-01T00:44:53.240368Z",
     "shell.execute_reply": "2022-03-01T00:44:53.241019Z",
     "shell.execute_reply.started": "2022-02-28T14:24:44.347515Z"
    },
    "papermill": {
     "duration": 0.042771,
     "end_time": "2022-03-01T00:44:53.241211",
     "exception": false,
     "start_time": "2022-03-01T00:44:53.198440",
     "status": "completed"
    },
    "tags": []
   },
   "outputs": [
    {
     "name": "stdout",
     "output_type": "stream",
     "text": [
      "cpu\n"
     ]
    }
   ],
   "source": [
    "class CFG():\n",
    "    \n",
    "    data_path=\"/kaggle/input/digit-recognizer\"\n",
    "    debug=True\n",
    "    seed=0\n",
    "\n",
    "    device = torch.device('cuda:0' if torch.cuda.is_available() else 'cpu')\n",
    "    batch_size=1#32\n",
    "    epochs=30\n",
    "    learning_rate=0.1\n",
    "    kFold=5\n",
    "\n",
    "\n",
    "    #高速化関連\n",
    "    #https://qiita.com/sugulu_Ogawa_ISID/items/62f5f7adee083d96a587\n",
    "\n",
    "    #GPU 遅くなるらしい↓\n",
    "    torch.backends.cudnn.deterministic = True\n",
    "\n",
    "    #イテレーションごとのnnの順伝搬および誤差関数の 計算手法がある程度一定であれば、torch.backends.cudnn.benchmark = Trueで GPU での計算が高速化\n",
    "    torch.backends.cudnn.benchmark = False\n",
    "\n",
    "\n",
    "def set_seed(seed=0):\n",
    "    random.seed(seed)\n",
    "    os.environ['PYTHONHASHSEED'] = str(seed)\n",
    "    np.random.seed(seed)\n",
    "    #tf.random.set_seed(seed)\n",
    "    torch.manual_seed(seed)\n",
    "    torch.cuda.manual_seed(seed)\n",
    "    torch.cuda.manual_seed_all(seed)\n",
    "\n",
    "set_seed(CFG.seed)\n",
    "\n",
    "print(CFG.device)\n",
    "if torch.cuda.is_available():\n",
    "    print(torch.cuda.current_device())\n",
    "    print(torch.cuda.get_device_name())"
   ]
  },
  {
   "cell_type": "markdown",
   "id": "52d48900",
   "metadata": {
    "papermill": {
     "duration": 0.024133,
     "end_time": "2022-03-01T00:44:53.289293",
     "exception": false,
     "start_time": "2022-03-01T00:44:53.265160",
     "status": "completed"
    },
    "tags": []
   },
   "source": [
    "color"
   ]
  },
  {
   "cell_type": "code",
   "execution_count": 3,
   "id": "da19b736",
   "metadata": {
    "_kg_hide-input": true,
    "execution": {
     "iopub.execute_input": "2022-03-01T00:44:53.339868Z",
     "iopub.status.busy": "2022-03-01T00:44:53.338853Z",
     "iopub.status.idle": "2022-03-01T00:44:53.345803Z",
     "shell.execute_reply": "2022-03-01T00:44:53.346339Z",
     "shell.execute_reply.started": "2022-02-28T14:24:44.367336Z"
    },
    "papermill": {
     "duration": 0.033828,
     "end_time": "2022-03-01T00:44:53.346514",
     "exception": false,
     "start_time": "2022-03-01T00:44:53.312686",
     "status": "completed"
    },
    "tags": []
   },
   "outputs": [],
   "source": [
    "def color(string,fg='DEFAULT',bg='DEFAULT',fg_rgb=None,bg_rgb=None,style='END'):\n",
    "    colors=['BLACK','RED','GREEN','YELLOW','BLUE','PURPLE','CYAN','WHITE','8','DEFAULT']\n",
    "    styles=['END','BOLD','2','3','UNDERLINE','5','6','REVERSE','INVISIBLE','9']\n",
    "\n",
    "    fg=f'\\033[3{colors.index(fg)}m'\n",
    "    bg=f'\\033[4{colors.index(bg)}m'\n",
    "    style=f'\\033[0{styles.index(style)}m'\n",
    "\n",
    "    if fg_rgb:fg=f\"\\033[38;2;{fg_rgb[0]};{fg_rgb[1]};{fg_rgb[2]}m\"\n",
    "    if bg_rgb:bg=f\"\\033[48;2;{bg_rgb[0]};{bg_rgb[1]};{bg_rgb[2]}m\"\n",
    "\n",
    "    return style+fg+bg+str(string)+'\\033[0m'"
   ]
  },
  {
   "cell_type": "code",
   "execution_count": 4,
   "id": "bb2f48d6",
   "metadata": {
    "execution": {
     "iopub.execute_input": "2022-03-01T00:44:53.397702Z",
     "iopub.status.busy": "2022-03-01T00:44:53.396714Z",
     "iopub.status.idle": "2022-03-01T00:44:59.530921Z",
     "shell.execute_reply": "2022-03-01T00:44:59.530009Z",
     "shell.execute_reply.started": "2022-02-28T14:24:44.38425Z"
    },
    "papermill": {
     "duration": 6.161194,
     "end_time": "2022-03-01T00:44:59.531095",
     "exception": false,
     "start_time": "2022-03-01T00:44:53.369901",
     "status": "completed"
    },
    "tags": []
   },
   "outputs": [],
   "source": [
    "# %%script echo skipping\n",
    "\n",
    "train=pd.read_csv(os.path.join(CFG.data_path,\"train.csv\"))\n",
    "test=pd.read_csv(os.path.join(CFG.data_path,\"test.csv\"))\n",
    "sample_submission=pd.read_csv(os.path.join(CFG.data_path,\"sample_submission.csv\"),index_col='ImageId')\n",
    "\n",
    "# if CFG.debug:\n",
    "#     #train=train[:len(train)//50]\n",
    "#     train=train.sample(frac=0.1)\n",
    "\n",
    "df=pd.concat([train,test])\n",
    "# train=df[:len(train)].copy()\n",
    "# test=df[len(train):].copy()\n",
    "\n",
    "data={\n",
    "    'train':train,\n",
    "#     'val':pd.DataFrame({'feature':val.feature,'target':val['target']}),\n",
    "    'test':test,\n",
    "}"
   ]
  },
  {
   "cell_type": "code",
   "execution_count": 5,
   "id": "1b37f7cf",
   "metadata": {
    "execution": {
     "iopub.execute_input": "2022-03-01T00:44:59.587259Z",
     "iopub.status.busy": "2022-03-01T00:44:59.586523Z",
     "iopub.status.idle": "2022-03-01T00:44:59.613317Z",
     "shell.execute_reply": "2022-03-01T00:44:59.613891Z",
     "shell.execute_reply.started": "2022-02-28T14:24:49.853198Z"
    },
    "papermill": {
     "duration": 0.058972,
     "end_time": "2022-03-01T00:44:59.614066",
     "exception": false,
     "start_time": "2022-03-01T00:44:59.555094",
     "status": "completed"
    },
    "tags": []
   },
   "outputs": [
    {
     "data": {
      "text/html": [
       "<div>\n",
       "<style scoped>\n",
       "    .dataframe tbody tr th:only-of-type {\n",
       "        vertical-align: middle;\n",
       "    }\n",
       "\n",
       "    .dataframe tbody tr th {\n",
       "        vertical-align: top;\n",
       "    }\n",
       "\n",
       "    .dataframe thead th {\n",
       "        text-align: right;\n",
       "    }\n",
       "</style>\n",
       "<table border=\"1\" class=\"dataframe\">\n",
       "  <thead>\n",
       "    <tr style=\"text-align: right;\">\n",
       "      <th></th>\n",
       "      <th>label</th>\n",
       "      <th>pixel0</th>\n",
       "      <th>pixel1</th>\n",
       "      <th>pixel2</th>\n",
       "      <th>pixel3</th>\n",
       "      <th>pixel4</th>\n",
       "      <th>pixel5</th>\n",
       "      <th>pixel6</th>\n",
       "      <th>pixel7</th>\n",
       "      <th>pixel8</th>\n",
       "      <th>...</th>\n",
       "      <th>pixel774</th>\n",
       "      <th>pixel775</th>\n",
       "      <th>pixel776</th>\n",
       "      <th>pixel777</th>\n",
       "      <th>pixel778</th>\n",
       "      <th>pixel779</th>\n",
       "      <th>pixel780</th>\n",
       "      <th>pixel781</th>\n",
       "      <th>pixel782</th>\n",
       "      <th>pixel783</th>\n",
       "    </tr>\n",
       "  </thead>\n",
       "  <tbody>\n",
       "    <tr>\n",
       "      <th>0</th>\n",
       "      <td>1</td>\n",
       "      <td>0</td>\n",
       "      <td>0</td>\n",
       "      <td>0</td>\n",
       "      <td>0</td>\n",
       "      <td>0</td>\n",
       "      <td>0</td>\n",
       "      <td>0</td>\n",
       "      <td>0</td>\n",
       "      <td>0</td>\n",
       "      <td>...</td>\n",
       "      <td>0</td>\n",
       "      <td>0</td>\n",
       "      <td>0</td>\n",
       "      <td>0</td>\n",
       "      <td>0</td>\n",
       "      <td>0</td>\n",
       "      <td>0</td>\n",
       "      <td>0</td>\n",
       "      <td>0</td>\n",
       "      <td>0</td>\n",
       "    </tr>\n",
       "    <tr>\n",
       "      <th>1</th>\n",
       "      <td>0</td>\n",
       "      <td>0</td>\n",
       "      <td>0</td>\n",
       "      <td>0</td>\n",
       "      <td>0</td>\n",
       "      <td>0</td>\n",
       "      <td>0</td>\n",
       "      <td>0</td>\n",
       "      <td>0</td>\n",
       "      <td>0</td>\n",
       "      <td>...</td>\n",
       "      <td>0</td>\n",
       "      <td>0</td>\n",
       "      <td>0</td>\n",
       "      <td>0</td>\n",
       "      <td>0</td>\n",
       "      <td>0</td>\n",
       "      <td>0</td>\n",
       "      <td>0</td>\n",
       "      <td>0</td>\n",
       "      <td>0</td>\n",
       "    </tr>\n",
       "    <tr>\n",
       "      <th>2</th>\n",
       "      <td>1</td>\n",
       "      <td>0</td>\n",
       "      <td>0</td>\n",
       "      <td>0</td>\n",
       "      <td>0</td>\n",
       "      <td>0</td>\n",
       "      <td>0</td>\n",
       "      <td>0</td>\n",
       "      <td>0</td>\n",
       "      <td>0</td>\n",
       "      <td>...</td>\n",
       "      <td>0</td>\n",
       "      <td>0</td>\n",
       "      <td>0</td>\n",
       "      <td>0</td>\n",
       "      <td>0</td>\n",
       "      <td>0</td>\n",
       "      <td>0</td>\n",
       "      <td>0</td>\n",
       "      <td>0</td>\n",
       "      <td>0</td>\n",
       "    </tr>\n",
       "    <tr>\n",
       "      <th>3</th>\n",
       "      <td>4</td>\n",
       "      <td>0</td>\n",
       "      <td>0</td>\n",
       "      <td>0</td>\n",
       "      <td>0</td>\n",
       "      <td>0</td>\n",
       "      <td>0</td>\n",
       "      <td>0</td>\n",
       "      <td>0</td>\n",
       "      <td>0</td>\n",
       "      <td>...</td>\n",
       "      <td>0</td>\n",
       "      <td>0</td>\n",
       "      <td>0</td>\n",
       "      <td>0</td>\n",
       "      <td>0</td>\n",
       "      <td>0</td>\n",
       "      <td>0</td>\n",
       "      <td>0</td>\n",
       "      <td>0</td>\n",
       "      <td>0</td>\n",
       "    </tr>\n",
       "    <tr>\n",
       "      <th>4</th>\n",
       "      <td>0</td>\n",
       "      <td>0</td>\n",
       "      <td>0</td>\n",
       "      <td>0</td>\n",
       "      <td>0</td>\n",
       "      <td>0</td>\n",
       "      <td>0</td>\n",
       "      <td>0</td>\n",
       "      <td>0</td>\n",
       "      <td>0</td>\n",
       "      <td>...</td>\n",
       "      <td>0</td>\n",
       "      <td>0</td>\n",
       "      <td>0</td>\n",
       "      <td>0</td>\n",
       "      <td>0</td>\n",
       "      <td>0</td>\n",
       "      <td>0</td>\n",
       "      <td>0</td>\n",
       "      <td>0</td>\n",
       "      <td>0</td>\n",
       "    </tr>\n",
       "    <tr>\n",
       "      <th>...</th>\n",
       "      <td>...</td>\n",
       "      <td>...</td>\n",
       "      <td>...</td>\n",
       "      <td>...</td>\n",
       "      <td>...</td>\n",
       "      <td>...</td>\n",
       "      <td>...</td>\n",
       "      <td>...</td>\n",
       "      <td>...</td>\n",
       "      <td>...</td>\n",
       "      <td>...</td>\n",
       "      <td>...</td>\n",
       "      <td>...</td>\n",
       "      <td>...</td>\n",
       "      <td>...</td>\n",
       "      <td>...</td>\n",
       "      <td>...</td>\n",
       "      <td>...</td>\n",
       "      <td>...</td>\n",
       "      <td>...</td>\n",
       "      <td>...</td>\n",
       "    </tr>\n",
       "    <tr>\n",
       "      <th>41995</th>\n",
       "      <td>0</td>\n",
       "      <td>0</td>\n",
       "      <td>0</td>\n",
       "      <td>0</td>\n",
       "      <td>0</td>\n",
       "      <td>0</td>\n",
       "      <td>0</td>\n",
       "      <td>0</td>\n",
       "      <td>0</td>\n",
       "      <td>0</td>\n",
       "      <td>...</td>\n",
       "      <td>0</td>\n",
       "      <td>0</td>\n",
       "      <td>0</td>\n",
       "      <td>0</td>\n",
       "      <td>0</td>\n",
       "      <td>0</td>\n",
       "      <td>0</td>\n",
       "      <td>0</td>\n",
       "      <td>0</td>\n",
       "      <td>0</td>\n",
       "    </tr>\n",
       "    <tr>\n",
       "      <th>41996</th>\n",
       "      <td>1</td>\n",
       "      <td>0</td>\n",
       "      <td>0</td>\n",
       "      <td>0</td>\n",
       "      <td>0</td>\n",
       "      <td>0</td>\n",
       "      <td>0</td>\n",
       "      <td>0</td>\n",
       "      <td>0</td>\n",
       "      <td>0</td>\n",
       "      <td>...</td>\n",
       "      <td>0</td>\n",
       "      <td>0</td>\n",
       "      <td>0</td>\n",
       "      <td>0</td>\n",
       "      <td>0</td>\n",
       "      <td>0</td>\n",
       "      <td>0</td>\n",
       "      <td>0</td>\n",
       "      <td>0</td>\n",
       "      <td>0</td>\n",
       "    </tr>\n",
       "    <tr>\n",
       "      <th>41997</th>\n",
       "      <td>7</td>\n",
       "      <td>0</td>\n",
       "      <td>0</td>\n",
       "      <td>0</td>\n",
       "      <td>0</td>\n",
       "      <td>0</td>\n",
       "      <td>0</td>\n",
       "      <td>0</td>\n",
       "      <td>0</td>\n",
       "      <td>0</td>\n",
       "      <td>...</td>\n",
       "      <td>0</td>\n",
       "      <td>0</td>\n",
       "      <td>0</td>\n",
       "      <td>0</td>\n",
       "      <td>0</td>\n",
       "      <td>0</td>\n",
       "      <td>0</td>\n",
       "      <td>0</td>\n",
       "      <td>0</td>\n",
       "      <td>0</td>\n",
       "    </tr>\n",
       "    <tr>\n",
       "      <th>41998</th>\n",
       "      <td>6</td>\n",
       "      <td>0</td>\n",
       "      <td>0</td>\n",
       "      <td>0</td>\n",
       "      <td>0</td>\n",
       "      <td>0</td>\n",
       "      <td>0</td>\n",
       "      <td>0</td>\n",
       "      <td>0</td>\n",
       "      <td>0</td>\n",
       "      <td>...</td>\n",
       "      <td>0</td>\n",
       "      <td>0</td>\n",
       "      <td>0</td>\n",
       "      <td>0</td>\n",
       "      <td>0</td>\n",
       "      <td>0</td>\n",
       "      <td>0</td>\n",
       "      <td>0</td>\n",
       "      <td>0</td>\n",
       "      <td>0</td>\n",
       "    </tr>\n",
       "    <tr>\n",
       "      <th>41999</th>\n",
       "      <td>9</td>\n",
       "      <td>0</td>\n",
       "      <td>0</td>\n",
       "      <td>0</td>\n",
       "      <td>0</td>\n",
       "      <td>0</td>\n",
       "      <td>0</td>\n",
       "      <td>0</td>\n",
       "      <td>0</td>\n",
       "      <td>0</td>\n",
       "      <td>...</td>\n",
       "      <td>0</td>\n",
       "      <td>0</td>\n",
       "      <td>0</td>\n",
       "      <td>0</td>\n",
       "      <td>0</td>\n",
       "      <td>0</td>\n",
       "      <td>0</td>\n",
       "      <td>0</td>\n",
       "      <td>0</td>\n",
       "      <td>0</td>\n",
       "    </tr>\n",
       "  </tbody>\n",
       "</table>\n",
       "<p>42000 rows × 785 columns</p>\n",
       "</div>"
      ],
      "text/plain": [
       "       label  pixel0  pixel1  pixel2  pixel3  pixel4  pixel5  pixel6  pixel7  \\\n",
       "0          1       0       0       0       0       0       0       0       0   \n",
       "1          0       0       0       0       0       0       0       0       0   \n",
       "2          1       0       0       0       0       0       0       0       0   \n",
       "3          4       0       0       0       0       0       0       0       0   \n",
       "4          0       0       0       0       0       0       0       0       0   \n",
       "...      ...     ...     ...     ...     ...     ...     ...     ...     ...   \n",
       "41995      0       0       0       0       0       0       0       0       0   \n",
       "41996      1       0       0       0       0       0       0       0       0   \n",
       "41997      7       0       0       0       0       0       0       0       0   \n",
       "41998      6       0       0       0       0       0       0       0       0   \n",
       "41999      9       0       0       0       0       0       0       0       0   \n",
       "\n",
       "       pixel8  ...  pixel774  pixel775  pixel776  pixel777  pixel778  \\\n",
       "0           0  ...         0         0         0         0         0   \n",
       "1           0  ...         0         0         0         0         0   \n",
       "2           0  ...         0         0         0         0         0   \n",
       "3           0  ...         0         0         0         0         0   \n",
       "4           0  ...         0         0         0         0         0   \n",
       "...       ...  ...       ...       ...       ...       ...       ...   \n",
       "41995       0  ...         0         0         0         0         0   \n",
       "41996       0  ...         0         0         0         0         0   \n",
       "41997       0  ...         0         0         0         0         0   \n",
       "41998       0  ...         0         0         0         0         0   \n",
       "41999       0  ...         0         0         0         0         0   \n",
       "\n",
       "       pixel779  pixel780  pixel781  pixel782  pixel783  \n",
       "0             0         0         0         0         0  \n",
       "1             0         0         0         0         0  \n",
       "2             0         0         0         0         0  \n",
       "3             0         0         0         0         0  \n",
       "4             0         0         0         0         0  \n",
       "...         ...       ...       ...       ...       ...  \n",
       "41995         0         0         0         0         0  \n",
       "41996         0         0         0         0         0  \n",
       "41997         0         0         0         0         0  \n",
       "41998         0         0         0         0         0  \n",
       "41999         0         0         0         0         0  \n",
       "\n",
       "[42000 rows x 785 columns]"
      ]
     },
     "execution_count": 5,
     "metadata": {},
     "output_type": "execute_result"
    }
   ],
   "source": [
    "data['train']"
   ]
  },
  {
   "cell_type": "code",
   "execution_count": 6,
   "id": "bf824e0d",
   "metadata": {
    "execution": {
     "iopub.execute_input": "2022-03-01T00:44:59.677822Z",
     "iopub.status.busy": "2022-03-01T00:44:59.677005Z",
     "iopub.status.idle": "2022-03-01T00:44:59.989291Z",
     "shell.execute_reply": "2022-03-01T00:44:59.988629Z",
     "shell.execute_reply.started": "2022-02-28T14:24:49.891558Z"
    },
    "papermill": {
     "duration": 0.350133,
     "end_time": "2022-03-01T00:44:59.989443",
     "exception": false,
     "start_time": "2022-03-01T00:44:59.639310",
     "status": "completed"
    },
    "tags": []
   },
   "outputs": [
    {
     "name": "stderr",
     "output_type": "stream",
     "text": [
      "/opt/conda/lib/python3.7/site-packages/seaborn/_decorators.py:43: FutureWarning: Pass the following variable as a keyword arg: x. From version 0.12, the only valid positional argument will be `data`, and passing other arguments without an explicit keyword will result in an error or misinterpretation.\n",
      "  FutureWarning\n"
     ]
    },
    {
     "data": {
      "text/plain": [
       "<AxesSubplot:xlabel='label', ylabel='count'>"
      ]
     },
     "execution_count": 6,
     "metadata": {},
     "output_type": "execute_result"
    },
    {
     "data": {
      "image/png": "[encoded data removed]",
      "text/plain": [
       "<Figure size 432x288 with 1 Axes>"
      ]
     },
     "metadata": {},
     "output_type": "display_data"
    }
   ],
   "source": [
    "sns.countplot(train['label'])"
   ]
  },
  {
   "cell_type": "code",
   "execution_count": 7,
   "id": "33cf3125",
   "metadata": {
    "execution": {
     "iopub.execute_input": "2022-03-01T00:45:00.057420Z",
     "iopub.status.busy": "2022-03-01T00:45:00.056671Z",
     "iopub.status.idle": "2022-03-01T00:45:03.666142Z",
     "shell.execute_reply": "2022-03-01T00:45:03.665586Z",
     "shell.execute_reply.started": "2022-02-28T14:24:50.217102Z"
    },
    "papermill": {
     "duration": 3.649062,
     "end_time": "2022-03-01T00:45:03.666318",
     "exception": false,
     "start_time": "2022-03-01T00:45:00.017256",
     "status": "completed"
    },
    "tags": []
   },
   "outputs": [
    {
     "data": {
      "image/png": "[encoded data removed]",
      "text/plain": [
       "<Figure size 864x720 with 50 Axes>"
      ]
     },
     "metadata": {},
     "output_type": "display_data"
    }
   ],
   "source": [
    "plt.figure(figsize=(12,10))\n",
    "x, y = 10, 5 # 10列5行\n",
    "for i in range(50):  \n",
    "    plt.subplot(y, x, i+1)\n",
    "    plt.imshow(np.array(data['train'].iloc[i,1:]).reshape((28,28)))\n",
    "    plt.axis('off')\n",
    "    plt.title(data['train'].iloc[i,0])\n",
    "plt.show()"
   ]
  },
  {
   "cell_type": "code",
   "execution_count": 8,
   "id": "9244004b",
   "metadata": {
    "execution": {
     "iopub.execute_input": "2022-03-01T00:45:03.757402Z",
     "iopub.status.busy": "2022-03-01T00:45:03.756070Z",
     "iopub.status.idle": "2022-03-01T00:45:03.957748Z",
     "shell.execute_reply": "2022-03-01T00:45:03.958259Z",
     "shell.execute_reply.started": "2022-02-28T14:24:54.16108Z"
    },
    "papermill": {
     "duration": 0.261215,
     "end_time": "2022-03-01T00:45:03.958454",
     "exception": false,
     "start_time": "2022-03-01T00:45:03.697239",
     "status": "completed"
    },
    "tags": []
   },
   "outputs": [
    {
     "data": {
      "image/png": "[encoded data removed]",
      "text/plain": [
       "<Figure size 432x288 with 1 Axes>"
      ]
     },
     "metadata": {},
     "output_type": "display_data"
    }
   ],
   "source": [
    "plt.imshow(np.array(data['train'].iloc[0,1:]).reshape(28,28))\n",
    "plt.show()"
   ]
  },
  {
   "cell_type": "code",
   "execution_count": 9,
   "id": "dd014dff",
   "metadata": {
    "execution": {
     "iopub.execute_input": "2022-03-01T00:45:04.025312Z",
     "iopub.status.busy": "2022-03-01T00:45:04.024247Z",
     "iopub.status.idle": "2022-03-01T00:45:20.202941Z",
     "shell.execute_reply": "2022-03-01T00:45:20.203556Z",
     "shell.execute_reply.started": "2022-02-28T14:40:22.928244Z"
    },
    "papermill": {
     "duration": 16.213565,
     "end_time": "2022-03-01T00:45:20.203744",
     "exception": false,
     "start_time": "2022-03-01T00:45:03.990179",
     "status": "completed"
    },
    "tags": []
   },
   "outputs": [
    {
     "name": "stderr",
     "output_type": "stream",
     "text": [
      "100%|██████████| 42000/42000 [00:15<00:00, 2712.20it/s]\n"
     ]
    },
    {
     "data": {
      "image/png": "[encoded data removed]",
      "text/plain": [
       "<Figure size 1440x720 with 10 Axes>"
      ]
     },
     "metadata": {},
     "output_type": "display_data"
    }
   ],
   "source": [
    "mean_digits=np.zeros((10,28*28))\n",
    "\n",
    "for i in tqdm(range(len(data['train']))):\n",
    "    mean_digits[data['train'].iloc[i,0]]+=data['train'].iloc[i,1:]\n",
    "    \n",
    "mean_digits/=len(data['train'])\n",
    "\n",
    "plt.figure(figsize=(20,10))\n",
    "for i in range(10):  \n",
    "    plt.subplot(1, 10, i+1)\n",
    "    plt.imshow(mean_digits[i].reshape((28,28)))\n",
    "    plt.axis('off')\n",
    "    plt.title(f'mean:{i}')\n",
    "plt.show()"
   ]
  },
  {
   "cell_type": "markdown",
   "id": "be41eb73",
   "metadata": {
    "papermill": {
     "duration": 0.087282,
     "end_time": "2022-03-01T00:45:20.380272",
     "exception": false,
     "start_time": "2022-03-01T00:45:20.292990",
     "status": "completed"
    },
    "tags": []
   },
   "source": [
    "submission"
   ]
  },
  {
   "cell_type": "code",
   "execution_count": 10,
   "id": "15b04153",
   "metadata": {
    "execution": {
     "iopub.execute_input": "2022-03-01T00:45:20.559878Z",
     "iopub.status.busy": "2022-03-01T00:45:20.559051Z",
     "iopub.status.idle": "2022-03-01T00:45:20.572456Z",
     "shell.execute_reply": "2022-03-01T00:45:20.573033Z",
     "shell.execute_reply.started": "2022-02-28T14:24:54.492262Z"
    },
    "papermill": {
     "duration": 0.104431,
     "end_time": "2022-03-01T00:45:20.573228",
     "exception": false,
     "start_time": "2022-03-01T00:45:20.468797",
     "status": "completed"
    },
    "tags": []
   },
   "outputs": [
    {
     "data": {
      "text/html": [
       "<div>\n",
       "<style scoped>\n",
       "    .dataframe tbody tr th:only-of-type {\n",
       "        vertical-align: middle;\n",
       "    }\n",
       "\n",
       "    .dataframe tbody tr th {\n",
       "        vertical-align: top;\n",
       "    }\n",
       "\n",
       "    .dataframe thead th {\n",
       "        text-align: right;\n",
       "    }\n",
       "</style>\n",
       "<table border=\"1\" class=\"dataframe\">\n",
       "  <thead>\n",
       "    <tr style=\"text-align: right;\">\n",
       "      <th></th>\n",
       "      <th>Label</th>\n",
       "    </tr>\n",
       "    <tr>\n",
       "      <th>ImageId</th>\n",
       "      <th></th>\n",
       "    </tr>\n",
       "  </thead>\n",
       "  <tbody>\n",
       "    <tr>\n",
       "      <th>1</th>\n",
       "      <td>NaN</td>\n",
       "    </tr>\n",
       "    <tr>\n",
       "      <th>2</th>\n",
       "      <td>NaN</td>\n",
       "    </tr>\n",
       "    <tr>\n",
       "      <th>3</th>\n",
       "      <td>NaN</td>\n",
       "    </tr>\n",
       "    <tr>\n",
       "      <th>4</th>\n",
       "      <td>NaN</td>\n",
       "    </tr>\n",
       "    <tr>\n",
       "      <th>5</th>\n",
       "      <td>NaN</td>\n",
       "    </tr>\n",
       "    <tr>\n",
       "      <th>...</th>\n",
       "      <td>...</td>\n",
       "    </tr>\n",
       "    <tr>\n",
       "      <th>27996</th>\n",
       "      <td>NaN</td>\n",
       "    </tr>\n",
       "    <tr>\n",
       "      <th>27997</th>\n",
       "      <td>NaN</td>\n",
       "    </tr>\n",
       "    <tr>\n",
       "      <th>27998</th>\n",
       "      <td>NaN</td>\n",
       "    </tr>\n",
       "    <tr>\n",
       "      <th>27999</th>\n",
       "      <td>NaN</td>\n",
       "    </tr>\n",
       "    <tr>\n",
       "      <th>28000</th>\n",
       "      <td>NaN</td>\n",
       "    </tr>\n",
       "  </tbody>\n",
       "</table>\n",
       "<p>28000 rows × 1 columns</p>\n",
       "</div>"
      ],
      "text/plain": [
       "        Label\n",
       "ImageId      \n",
       "1         NaN\n",
       "2         NaN\n",
       "3         NaN\n",
       "4         NaN\n",
       "5         NaN\n",
       "...       ...\n",
       "27996     NaN\n",
       "27997     NaN\n",
       "27998     NaN\n",
       "27999     NaN\n",
       "28000     NaN\n",
       "\n",
       "[28000 rows x 1 columns]"
      ]
     },
     "execution_count": 10,
     "metadata": {},
     "output_type": "execute_result"
    }
   ],
   "source": [
    "submission=pd.DataFrame(index=sample_submission.index,columns=['Label'])\n",
    "submission"
   ]
  },
  {
   "cell_type": "markdown",
   "id": "1b45a6c4",
   "metadata": {
    "papermill": {
     "duration": 0.087666,
     "end_time": "2022-03-01T00:45:20.748739",
     "exception": false,
     "start_time": "2022-03-01T00:45:20.661073",
     "status": "completed"
    },
    "tags": []
   },
   "source": [
    "# sample_submission"
   ]
  },
  {
   "cell_type": "code",
   "execution_count": 11,
   "id": "740878f7",
   "metadata": {
    "execution": {
     "iopub.execute_input": "2022-03-01T00:45:20.928634Z",
     "iopub.status.busy": "2022-03-01T00:45:20.927837Z",
     "iopub.status.idle": "2022-03-01T00:45:21.004970Z",
     "shell.execute_reply": "2022-03-01T00:45:21.004258Z",
     "shell.execute_reply.started": "2022-02-28T14:24:54.493582Z"
    },
    "papermill": {
     "duration": 0.168242,
     "end_time": "2022-03-01T00:45:21.005150",
     "exception": false,
     "start_time": "2022-03-01T00:45:20.836908",
     "status": "completed"
    },
    "tags": []
   },
   "outputs": [],
   "source": [
    "submission.Label=[0]*len(submission)\n",
    "submission\n",
    "#0.09896\n",
    "submission.to_csv(\"submission.csv\",index=submission.index.name)"
   ]
  },
  {
   "cell_type": "markdown",
   "id": "168a8339",
   "metadata": {
    "papermill": {
     "duration": 0.087769,
     "end_time": "2022-03-01T00:45:21.185314",
     "exception": false,
     "start_time": "2022-03-01T00:45:21.097545",
     "status": "completed"
    },
    "tags": []
   },
   "source": [
    "# PCA"
   ]
  },
  {
   "cell_type": "code",
   "execution_count": 12,
   "id": "8315b341",
   "metadata": {
    "execution": {
     "iopub.execute_input": "2022-03-01T00:45:21.364926Z",
     "iopub.status.busy": "2022-03-01T00:45:21.364253Z",
     "iopub.status.idle": "2022-03-01T00:47:04.645262Z",
     "shell.execute_reply": "2022-03-01T00:47:04.644649Z",
     "shell.execute_reply.started": "2022-02-28T14:24:54.494892Z"
    },
    "papermill": {
     "duration": 103.371779,
     "end_time": "2022-03-01T00:47:04.645415",
     "exception": false,
     "start_time": "2022-03-01T00:45:21.273636",
     "status": "completed"
    },
    "tags": []
   },
   "outputs": [
    {
     "name": "stderr",
     "output_type": "stream",
     "text": [
      "100%|██████████| 41999/41999 [01:03<00:00, 662.99it/s]\n",
      "100%|██████████| 27999/27999 [00:36<00:00, 763.83it/s]\n"
     ]
    }
   ],
   "source": [
    "def PCA(data,test,d,row=False):\n",
    "    # d:写像する空間の次元\n",
    "    \n",
    "    if row:data=data.T#データを縦ベクトルに\n",
    "    #print(train.shape) (dim,num)\n",
    "    \n",
    "    # 共分散行列:分散（bias=0）\n",
    "    Sigma=np.cov(data,rowvar=1,bias=0)\n",
    "    eigen_values, eigen_vectors = np.linalg.eig(Sigma)\n",
    "    U=eigen_vectors[:,0:d]#固有値の大きい上位d個の固有ベクトル\n",
    "    m=np.mean(data,axis=1)\n",
    "    #2次元空間X_に射影\n",
    "    data_=pd.DataFrame(np.zeros((d,data.shape[1])))\n",
    "    for i in tqdm(range(1,data.shape[1])):\n",
    "        data_.iloc[:,i]=U.T@(data.iloc[:,i]-m)\n",
    "    if row:data_=data_.T\n",
    "\n",
    "    if row:test=test.T\n",
    "    test_=pd.DataFrame(np.zeros((d,test.shape[1])))\n",
    "    for i in tqdm(range(1,test.shape[1])):\n",
    "        test_.iloc[:,i]=U.T@(test.iloc[:,i]-m)\n",
    "    if row:test_=test_.T\n",
    "    return data_,test_\n",
    "\n",
    "data_,test_=PCA(data['train'].drop('label',axis=1),data['test'],2,True)"
   ]
  },
  {
   "cell_type": "code",
   "execution_count": 13,
   "id": "155f2f47",
   "metadata": {
    "execution": {
     "iopub.execute_input": "2022-03-01T00:47:05.537662Z",
     "iopub.status.busy": "2022-03-01T00:47:05.536956Z",
     "iopub.status.idle": "2022-03-01T00:47:23.575074Z",
     "shell.execute_reply": "2022-03-01T00:47:23.575687Z",
     "shell.execute_reply.started": "2022-02-28T14:24:54.497034Z"
    },
    "papermill": {
     "duration": 18.486008,
     "end_time": "2022-03-01T00:47:23.575870",
     "exception": false,
     "start_time": "2022-03-01T00:47:05.089862",
     "status": "completed"
    },
    "tags": []
   },
   "outputs": [
    {
     "name": "stderr",
     "output_type": "stream",
     "text": [
      "/opt/conda/lib/python3.7/site-packages/pandas/core/dtypes/cast.py:1201: ComplexWarning: Casting complex values to real discards the imaginary part\n",
      "  return arr.astype(dtype, copy=True)\n",
      "100%|██████████| 1000/1000 [00:05<00:00, 180.35it/s]\n"
     ]
    },
    {
     "data": {
      "image/png": "[encoded data removed]",
      "text/plain": [
       "<Figure size 432x288 with 1 Axes>"
      ]
     },
     "metadata": {},
     "output_type": "display_data"
    }
   ],
   "source": [
    "data_=data_.astype(int)\n",
    "digit_color= {0:\"black\",1:\"red\",2:\"orange\",3:\"gold\",4:\"lime\",5:\"blue\",6:\"green\",7:\"cyan\",8:\"pink\",9:\"magenta\"}\n",
    "plt.title(\"MNIST PCA\")\n",
    "for i in tqdm(range(1000)):\n",
    "    plt.scatter(\n",
    "        data_.iloc[i,0],\n",
    "        data_.iloc[i,1],\n",
    "        color=digit_color[data['train'].label.iloc[i]],\n",
    "        marker=\"$\"+str(data['train'].label.iloc[i])+\"$\"\n",
    "    )\n",
    "plt.show()"
   ]
  },
  {
   "cell_type": "markdown",
   "id": "bc13c1c8",
   "metadata": {
    "papermill": {
     "duration": 0.458774,
     "end_time": "2022-03-01T00:47:24.497330",
     "exception": false,
     "start_time": "2022-03-01T00:47:24.038556",
     "status": "completed"
    },
    "tags": []
   },
   "source": [
    "# SVM"
   ]
  },
  {
   "cell_type": "code",
   "execution_count": 14,
   "id": "137f5734",
   "metadata": {
    "execution": {
     "iopub.execute_input": "2022-03-01T00:47:25.421690Z",
     "iopub.status.busy": "2022-03-01T00:47:25.420716Z",
     "iopub.status.idle": "2022-03-01T00:58:41.011322Z",
     "shell.execute_reply": "2022-03-01T00:58:41.011923Z",
     "shell.execute_reply.started": "2022-02-28T14:24:54.499134Z"
    },
    "papermill": {
     "duration": 676.058702,
     "end_time": "2022-03-01T00:58:41.012301",
     "exception": false,
     "start_time": "2022-03-01T00:47:24.953599",
     "status": "completed"
    },
    "tags": []
   },
   "outputs": [
    {
     "name": "stdout",
     "output_type": "stream",
     "text": [
      "CPU times: user 11min 14s, sys: 425 ms, total: 11min 14s\n",
      "Wall time: 11min 15s\n"
     ]
    }
   ],
   "source": [
    "%%time\n",
    "from sklearn import svm\n",
    "\n",
    "clf = svm.SVC(verbose=False)\n",
    "clf.fit(data['train'].drop('label',axis=1),data['train']['label'])\n",
    "submission.Label=clf.predict(data['test'])\n",
    "submission\n",
    "#0.97521\n",
    "submission.to_csv(\"svm.csv\",index=submission.index.name)"
   ]
  },
  {
   "cell_type": "markdown",
   "id": "c37e2bab",
   "metadata": {
    "papermill": {
     "duration": 0.474336,
     "end_time": "2022-03-01T00:58:41.999187",
     "exception": false,
     "start_time": "2022-03-01T00:58:41.524851",
     "status": "completed"
    },
    "tags": []
   },
   "source": [
    "# knn"
   ]
  },
  {
   "cell_type": "code",
   "execution_count": 15,
   "id": "e6899dc9",
   "metadata": {
    "execution": {
     "iopub.execute_input": "2022-03-01T00:58:42.937464Z",
     "iopub.status.busy": "2022-03-01T00:58:42.936730Z",
     "iopub.status.idle": "2022-03-01T00:58:42.939182Z",
     "shell.execute_reply": "2022-03-01T00:58:42.939678Z",
     "shell.execute_reply.started": "2022-02-28T14:24:54.500335Z"
    },
    "papermill": {
     "duration": 0.479159,
     "end_time": "2022-03-01T00:58:42.939866",
     "exception": false,
     "start_time": "2022-03-01T00:58:42.460707",
     "status": "completed"
    },
    "tags": []
   },
   "outputs": [],
   "source": [
    "def knn(k,data,test,label):\n",
    "    ans=np.zeros(test.shape[0])\n",
    "    \n",
    "    for i in tqdm(range(test.shape[0])):\n",
    "        distance=np.zeros(data.shape[1])\n",
    "        \n",
    "        for j in range(data.shape[1]):\n",
    "            #euclidean_distance\n",
    "            distance[j]=np.linalg.norm(test.iloc[i,:]-data.iloc[j,:])\n",
    "            \n",
    "        cnt=np.zeros(10)\n",
    "        for K in range(k):\n",
    "            cnt[int(label[np.argmin(distance)])]+=1\n",
    "            distance[np.argmin(distance)]=10000000\n",
    "        #print(cnt)\n",
    "        ans[i]=np.argmax(cnt)\n",
    "    return ans"
   ]
  },
  {
   "cell_type": "code",
   "execution_count": 16,
   "id": "bdd17a16",
   "metadata": {
    "execution": {
     "iopub.execute_input": "2022-03-01T00:58:43.867260Z",
     "iopub.status.busy": "2022-03-01T00:58:43.866559Z",
     "iopub.status.idle": "2022-03-01T00:58:43.881743Z",
     "shell.execute_reply": "2022-03-01T00:58:43.882290Z",
     "shell.execute_reply.started": "2022-02-28T14:24:54.502299Z"
    },
    "papermill": {
     "duration": 0.481012,
     "end_time": "2022-03-01T00:58:43.882464",
     "exception": false,
     "start_time": "2022-03-01T00:58:43.401452",
     "status": "completed"
    },
    "tags": []
   },
   "outputs": [
    {
     "name": "stdout",
     "output_type": "stream",
     "text": [
      "CPU times: user 4 µs, sys: 0 ns, total: 4 µs\n",
      "Wall time: 8.82 µs\n"
     ]
    },
    {
     "data": {
      "text/html": [
       "<div>\n",
       "<style scoped>\n",
       "    .dataframe tbody tr th:only-of-type {\n",
       "        vertical-align: middle;\n",
       "    }\n",
       "\n",
       "    .dataframe tbody tr th {\n",
       "        vertical-align: top;\n",
       "    }\n",
       "\n",
       "    .dataframe thead th {\n",
       "        text-align: right;\n",
       "    }\n",
       "</style>\n",
       "<table border=\"1\" class=\"dataframe\">\n",
       "  <thead>\n",
       "    <tr style=\"text-align: right;\">\n",
       "      <th></th>\n",
       "      <th>Label</th>\n",
       "    </tr>\n",
       "    <tr>\n",
       "      <th>ImageId</th>\n",
       "      <th></th>\n",
       "    </tr>\n",
       "  </thead>\n",
       "  <tbody>\n",
       "    <tr>\n",
       "      <th>1</th>\n",
       "      <td>2</td>\n",
       "    </tr>\n",
       "    <tr>\n",
       "      <th>2</th>\n",
       "      <td>0</td>\n",
       "    </tr>\n",
       "    <tr>\n",
       "      <th>3</th>\n",
       "      <td>9</td>\n",
       "    </tr>\n",
       "    <tr>\n",
       "      <th>4</th>\n",
       "      <td>9</td>\n",
       "    </tr>\n",
       "    <tr>\n",
       "      <th>5</th>\n",
       "      <td>3</td>\n",
       "    </tr>\n",
       "    <tr>\n",
       "      <th>...</th>\n",
       "      <td>...</td>\n",
       "    </tr>\n",
       "    <tr>\n",
       "      <th>27996</th>\n",
       "      <td>9</td>\n",
       "    </tr>\n",
       "    <tr>\n",
       "      <th>27997</th>\n",
       "      <td>7</td>\n",
       "    </tr>\n",
       "    <tr>\n",
       "      <th>27998</th>\n",
       "      <td>3</td>\n",
       "    </tr>\n",
       "    <tr>\n",
       "      <th>27999</th>\n",
       "      <td>9</td>\n",
       "    </tr>\n",
       "    <tr>\n",
       "      <th>28000</th>\n",
       "      <td>2</td>\n",
       "    </tr>\n",
       "  </tbody>\n",
       "</table>\n",
       "<p>28000 rows × 1 columns</p>\n",
       "</div>"
      ],
      "text/plain": [
       "         Label\n",
       "ImageId       \n",
       "1            2\n",
       "2            0\n",
       "3            9\n",
       "4            9\n",
       "5            3\n",
       "...        ...\n",
       "27996        9\n",
       "27997        7\n",
       "27998        3\n",
       "27999        9\n",
       "28000        2\n",
       "\n",
       "[28000 rows x 1 columns]"
      ]
     },
     "execution_count": 16,
     "metadata": {},
     "output_type": "execute_result"
    }
   ],
   "source": [
    "%%time\n",
    "# submission.Label=knn(1,data['train'].drop('label',axis=1),data['test'],data['train']['label'])\n",
    "submission\n",
    "#0.97014\n",
    "#submission.to_csv(\"knn.csv\",index=submission.index.name)\n",
    "\n",
    "# time: 3h 5min"
   ]
  },
  {
   "cell_type": "code",
   "execution_count": 17,
   "id": "566c69b2",
   "metadata": {
    "execution": {
     "iopub.execute_input": "2022-03-01T00:58:44.813048Z",
     "iopub.status.busy": "2022-03-01T00:58:44.812330Z",
     "iopub.status.idle": "2022-03-01T01:32:55.873729Z",
     "shell.execute_reply": "2022-03-01T01:32:55.874359Z",
     "shell.execute_reply.started": "2022-02-28T14:24:54.503731Z"
    },
    "papermill": {
     "duration": 2051.530851,
     "end_time": "2022-03-01T01:32:55.874545",
     "exception": false,
     "start_time": "2022-03-01T00:58:44.343694",
     "status": "completed"
    },
    "tags": []
   },
   "outputs": [
    {
     "name": "stdout",
     "output_type": "stream",
     "text": [
      "CPU times: user 34min 9s, sys: 810 ms, total: 34min 10s\n",
      "Wall time: 34min 10s\n"
     ]
    }
   ],
   "source": [
    "%%time\n",
    "from sklearn.neighbors import KNeighborsClassifier\n",
    "\n",
    "clf = KNeighborsClassifier(n_neighbors=1)\n",
    "clf.fit(data['train'].drop('label',axis=1),data['train']['label'])\n",
    "submission.Label=clf.predict(data['test'])\n",
    "submission\n",
    "#0.97014\n",
    "submission.to_csv(\"knn.csv\",index=submission.index.name)"
   ]
  }
 ],
 "metadata": {
  "kernelspec": {
   "display_name": "Python 3",
   "language": "python",
   "name": "python3"
  },
  "language_info": {
   "codemirror_mode": {
    "name": "ipython",
    "version": 3
   },
   "file_extension": ".py",
   "mimetype": "text/x-python",
   "name": "python",
   "nbconvert_exporter": "python",
   "pygments_lexer": "ipython3",
   "version": "3.7.12"
  },
  "papermill": {
   "default_parameters": {},
   "duration": 2900.304403,
   "end_time": "2022-03-01T01:32:59.467010",
   "environment_variables": {},
   "exception": null,
   "input_path": "__notebook__.ipynb",
   "output_path": "__notebook__.ipynb",
   "parameters": {},
   "start_time": "2022-03-01T00:44:39.162607",
   "version": "2.3.3"
  }
 },
 "nbformat": 4,
 "nbformat_minor": 5
}
