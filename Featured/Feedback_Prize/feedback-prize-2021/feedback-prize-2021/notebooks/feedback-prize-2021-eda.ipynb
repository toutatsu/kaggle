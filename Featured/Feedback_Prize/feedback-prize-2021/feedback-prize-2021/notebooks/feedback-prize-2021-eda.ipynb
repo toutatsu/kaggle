{
 "cells": [
  {
   "cell_type": "markdown",
   "id": "0d87770d",
   "metadata": {
    "papermill": {
     "duration": 0.017271,
     "end_time": "2022-05-05T10:38:47.425893",
     "exception": false,
     "start_time": "2022-05-05T10:38:47.408622",
     "status": "completed"
    },
    "tags": []
   },
   "source": [
    "<h1>template notebook</h1>"
   ]
  },
  {
   "cell_type": "markdown",
   "id": "eba1990f",
   "metadata": {
    "papermill": {
     "duration": 0.015537,
     "end_time": "2022-05-05T10:38:47.457692",
     "exception": false,
     "start_time": "2022-05-05T10:38:47.442155",
     "status": "completed"
    },
    "tags": []
   },
   "source": [
    "# import libraries"
   ]
  },
  {
   "cell_type": "code",
   "execution_count": 8,
   "id": "e9beebb3",
   "metadata": {
    "execution": {
     "iopub.execute_input": "2022-05-05T10:38:47.494220Z",
     "iopub.status.busy": "2022-05-05T10:38:47.493175Z",
     "iopub.status.idle": "2022-05-05T10:38:50.231110Z",
     "shell.execute_reply": "2022-05-05T10:38:50.230254Z",
     "shell.execute_reply.started": "2022-05-05T02:14:48.464591Z"
    },
    "papermill": {
     "duration": 2.7572,
     "end_time": "2022-05-05T10:38:50.231274",
     "exception": false,
     "start_time": "2022-05-05T10:38:47.474074",
     "status": "completed"
    },
    "tags": []
   },
   "outputs": [],
   "source": [
    "#defaul libraries\n",
    "#https://docs.python.org/ja/\n",
    "import os\n",
    "import sys\n",
    "import io\n",
    "\n",
    "import math\n",
    "import random\n",
    "import pprint\n",
    "import time\n",
    "import datetime\n",
    "import typing\n",
    "import json\n",
    "import glob\n",
    "import requests\n",
    "import warnings\n",
    "import gc\n",
    "from pprint import pprint\n",
    "import re\n",
    "import pathlib\n",
    "\n",
    "import numpy as np #https://numpy.org/\n",
    "import pandas as pd #https://pandas.pydata.org/\n",
    "import sklearn #https://scikit-learn.org/stable/\n",
    "\n",
    "import matplotlib.pyplot as plt #https://matplotlib.org/stable/api/_as_gen/matplotlib.pyplot.html\n",
    "%matplotlib inline\n",
    "\n",
    "import seaborn as sns\n",
    "sns.set()\n",
    "\n",
    "# from tqdm import tqdm #https://tqdm.github.io/\n",
    "\n",
    "# import torch #https://pytorch.org/\n",
    "# import transformers #https://huggingface.co/transformers/\n",
    "\n",
    "# import torchvision\n",
    "# import torchtext"
   ]
  },
  {
   "cell_type": "code",
   "execution_count": 9,
   "id": "e49083e9",
   "metadata": {
    "execution": {
     "iopub.execute_input": "2022-05-05T10:38:50.281489Z",
     "iopub.status.busy": "2022-05-05T10:38:50.280809Z",
     "iopub.status.idle": "2022-05-05T10:38:50.286886Z",
     "shell.execute_reply": "2022-05-05T10:38:50.287394Z",
     "shell.execute_reply.started": "2022-05-05T02:14:51.266295Z"
    },
    "papermill": {
     "duration": 0.034567,
     "end_time": "2022-05-05T10:38:50.287561",
     "exception": false,
     "start_time": "2022-05-05T10:38:50.252994",
     "status": "completed"
    },
    "tags": []
   },
   "outputs": [
    {
     "name": "stdout",
     "output_type": "stream",
     "text": [
      ".\n",
      "./feedback-prize-2021-eda.ipynb\n"
     ]
    }
   ],
   "source": [
    "print(os.curdir)\n",
    "for dirname, _, filenames in os.walk('.'):\n",
    "    for filename in filenames:\n",
    "        print(os.path.join(dirname, filename))"
   ]
  },
  {
   "cell_type": "markdown",
   "id": "4194ea43",
   "metadata": {
    "papermill": {
     "duration": 0.015864,
     "end_time": "2022-05-05T10:38:50.322167",
     "exception": false,
     "start_time": "2022-05-05T10:38:50.306303",
     "status": "completed"
    },
    "tags": []
   },
   "source": [
    "# Configuration"
   ]
  },
  {
   "cell_type": "code",
   "execution_count": 10,
   "id": "ec58595c",
   "metadata": {
    "execution": {
     "iopub.execute_input": "2022-05-05T10:38:50.357990Z",
     "iopub.status.busy": "2022-05-05T10:38:50.357212Z",
     "iopub.status.idle": "2022-05-05T10:38:50.371788Z",
     "shell.execute_reply": "2022-05-05T10:38:50.371006Z",
     "shell.execute_reply.started": "2022-05-05T02:14:51.275296Z"
    },
    "papermill": {
     "duration": 0.033196,
     "end_time": "2022-05-05T10:38:50.372010",
     "exception": false,
     "start_time": "2022-05-05T10:38:50.338814",
     "status": "completed"
    },
    "tags": []
   },
   "outputs": [
    {
     "name": "stdout",
     "output_type": "stream",
     "text": [
      "cpu\n"
     ]
    }
   ],
   "source": [
    "class CFG():\n",
    "    \n",
    "    data_path=\"../../data/feedback-prize-2021/\"\n",
    "    debug=True\n",
    "    seed=0\n",
    "\n",
    "    device = torch.device('cuda:0' if torch.cuda.is_available() else 'cpu')\n",
    "    batch_size=1#32\n",
    "    epochs=30\n",
    "    learning_rate=0.1\n",
    "    kFold=5\n",
    "\n",
    "    amp=False\n",
    "\n",
    "def set_seed(seed=0):\n",
    "    random.seed(seed)\n",
    "    os.environ['PYTHONHASHSEED'] = str(seed)\n",
    "    np.random.seed(seed)\n",
    "    #tf.random.set_seed(seed)\n",
    "    torch.manual_seed(seed)\n",
    "    torch.cuda.manual_seed(seed)\n",
    "    torch.cuda.manual_seed_all(seed)\n",
    "\n",
    "set_seed(CFG.seed)\n",
    "\n",
    "print(CFG.device)\n",
    "if torch.cuda.is_available():\n",
    "    torch.cuda.set_device(CFG.device)\n",
    "    print(torch.cuda.current_device())\n",
    "    print(torch.cuda.get_device_name())\n",
    "\n",
    "if CFG.debug:\n",
    "    CFG.epochs=5"
   ]
  },
  {
   "cell_type": "markdown",
   "id": "c2760190",
   "metadata": {
    "papermill": {
     "duration": 0.017685,
     "end_time": "2022-05-05T10:38:50.414782",
     "exception": false,
     "start_time": "2022-05-05T10:38:50.397097",
     "status": "completed"
    },
    "tags": []
   },
   "source": [
    "# Color"
   ]
  },
  {
   "cell_type": "code",
   "execution_count": 11,
   "id": "599095ff",
   "metadata": {
    "execution": {
     "iopub.execute_input": "2022-05-05T10:38:50.451891Z",
     "iopub.status.busy": "2022-05-05T10:38:50.450969Z",
     "iopub.status.idle": "2022-05-05T10:38:50.456928Z",
     "shell.execute_reply": "2022-05-05T10:38:50.457494Z",
     "shell.execute_reply.started": "2022-05-05T02:14:51.292034Z"
    },
    "papermill": {
     "duration": 0.025924,
     "end_time": "2022-05-05T10:38:50.457667",
     "exception": false,
     "start_time": "2022-05-05T10:38:50.431743",
     "status": "completed"
    },
    "tags": []
   },
   "outputs": [],
   "source": [
    "def color(string,fg='DEFAULT',bg='DEFAULT',fg_rgb=None,bg_rgb=None,style='END'):\n",
    "    colors=['BLACK','RED','GREEN','YELLOW','BLUE','PURPLE','CYAN','WHITE','8','DEFAULT']\n",
    "    styles=['END','BOLD','2','3','UNDERLINE','5','6','REVERSE','INVISIBLE','9']\n",
    "\n",
    "    fg=f'\\033[3{colors.index(fg)}m'\n",
    "    bg=f'\\033[4{colors.index(bg)}m'\n",
    "    style=f'\\033[0{styles.index(style)}m'\n",
    "\n",
    "    if fg_rgb:fg=f\"\\033[38;2;{fg_rgb[0]};{fg_rgb[1]};{fg_rgb[2]}m\"\n",
    "    if bg_rgb:bg=f\"\\033[48;2;{bg_rgb[0]};{bg_rgb[1]};{bg_rgb[2]}m\"\n",
    "\n",
    "    return style+fg+bg+str(string)+'\\033[0m'"
   ]
  },
  {
   "cell_type": "code",
   "execution_count": 12,
   "id": "60724eb1",
   "metadata": {
    "execution": {
     "iopub.execute_input": "2022-05-05T10:38:50.494285Z",
     "iopub.status.busy": "2022-05-05T10:38:50.493379Z",
     "iopub.status.idle": "2022-05-05T10:38:50.498950Z",
     "shell.execute_reply": "2022-05-05T10:38:50.499501Z",
     "shell.execute_reply.started": "2022-05-05T02:14:51.302322Z"
    },
    "papermill": {
     "duration": 0.025693,
     "end_time": "2022-05-05T10:38:50.499668",
     "exception": false,
     "start_time": "2022-05-05T10:38:50.473975",
     "status": "completed"
    },
    "tags": []
   },
   "outputs": [],
   "source": [
    "target_columns=['target']\n",
    "def feature_columns(df):\n",
    "    for col in df.columns:\n",
    "        if col in target_columns:df=df.drop(columns=col)\n",
    "    return  df.columns\n",
    "def numerical_columns(df):\n",
    "    return df[feature_columns(df)].select_dtypes(include=['int64','float64']).columns\n",
    "def categorical_columns(df):\n",
    "    return df[feature_columns(df)].select_dtypes(exclude=['int64','float64']).columns"
   ]
  },
  {
   "cell_type": "markdown",
   "id": "a14ccea4",
   "metadata": {
    "papermill": {
     "duration": 0.016055,
     "end_time": "2022-05-05T10:38:50.531944",
     "exception": false,
     "start_time": "2022-05-05T10:38:50.515889",
     "status": "completed"
    },
    "tags": []
   },
   "source": [
    "# read data"
   ]
  },
  {
   "cell_type": "code",
   "execution_count": 13,
   "id": "e81a422d",
   "metadata": {
    "execution": {
     "iopub.execute_input": "2022-05-05T10:38:50.572684Z",
     "iopub.status.busy": "2022-05-05T10:38:50.572060Z",
     "iopub.status.idle": "2022-05-05T10:38:52.229443Z",
     "shell.execute_reply": "2022-05-05T10:38:52.227928Z",
     "shell.execute_reply.started": "2022-05-05T02:14:51.318256Z"
    },
    "papermill": {
     "duration": 1.681576,
     "end_time": "2022-05-05T10:38:52.229641",
     "exception": false,
     "start_time": "2022-05-05T10:38:50.548065",
     "status": "completed"
    },
    "tags": []
   },
   "outputs": [],
   "source": [
    "train=pd.read_csv(os.path.join(CFG.data_path,\"train.csv\"),index_col='id')\n",
    "# test=pd.read_csv(os.path.join(CFG.data_path,\"test.csv\"),index_col='id')\n",
    "sample_submission=pd.read_csv(os.path.join(CFG.data_path,\"sample_submission.csv\"),index_col='id')\n",
    "\n",
    "# if CFG.debug:\n",
    "#     #train=train[:len(train)//50]\n",
    "#     train=train.sample(frac=0.1,random_state=CFG.seed)\n",
    "\n",
    "# df=pd.concat([train,test])\n",
    "# train=df[:len(train)].copy()\n",
    "# test=df[len(train):].copy()\n",
    "\n",
    "# data={\n",
    "#     'train':pd.DataFrame(columns=['feature','target']),\n",
    "#     'val':pd.DataFrame({'feature':val.feature,'target':val['target']}),\n",
    "#     'test':pd.DataFrame(test),\n",
    "# }"
   ]
  },
  {
   "cell_type": "code",
   "execution_count": 14,
   "id": "cd74fa4b",
   "metadata": {
    "execution": {
     "iopub.execute_input": "2022-05-05T10:38:52.275854Z",
     "iopub.status.busy": "2022-05-05T10:38:52.274906Z",
     "iopub.status.idle": "2022-05-05T10:38:52.296947Z",
     "shell.execute_reply": "2022-05-05T10:38:52.296469Z",
     "shell.execute_reply.started": "2022-05-05T02:14:53.069754Z"
    },
    "papermill": {
     "duration": 0.048727,
     "end_time": "2022-05-05T10:38:52.297123",
     "exception": false,
     "start_time": "2022-05-05T10:38:52.248396",
     "status": "completed"
    },
    "tags": []
   },
   "outputs": [
    {
     "data": {
      "text/html": [
       "<div>\n",
       "<style scoped>\n",
       "    .dataframe tbody tr th:only-of-type {\n",
       "        vertical-align: middle;\n",
       "    }\n",
       "\n",
       "    .dataframe tbody tr th {\n",
       "        vertical-align: top;\n",
       "    }\n",
       "\n",
       "    .dataframe thead th {\n",
       "        text-align: right;\n",
       "    }\n",
       "</style>\n",
       "<table border=\"1\" class=\"dataframe\">\n",
       "  <thead>\n",
       "    <tr style=\"text-align: right;\">\n",
       "      <th></th>\n",
       "      <th>discourse_id</th>\n",
       "      <th>discourse_start</th>\n",
       "      <th>discourse_end</th>\n",
       "      <th>discourse_text</th>\n",
       "      <th>discourse_type</th>\n",
       "      <th>discourse_type_num</th>\n",
       "      <th>predictionstring</th>\n",
       "    </tr>\n",
       "    <tr>\n",
       "      <th>id</th>\n",
       "      <th></th>\n",
       "      <th></th>\n",
       "      <th></th>\n",
       "      <th></th>\n",
       "      <th></th>\n",
       "      <th></th>\n",
       "      <th></th>\n",
       "    </tr>\n",
       "  </thead>\n",
       "  <tbody>\n",
       "    <tr>\n",
       "      <th>423A1CA112E2</th>\n",
       "      <td>1.622628e+12</td>\n",
       "      <td>8.0</td>\n",
       "      <td>229.0</td>\n",
       "      <td>Modern humans today are always on their phone....</td>\n",
       "      <td>Lead</td>\n",
       "      <td>Lead 1</td>\n",
       "      <td>1 2 3 4 5 6 7 8 9 10 11 12 13 14 15 16 17 18 1...</td>\n",
       "    </tr>\n",
       "    <tr>\n",
       "      <th>423A1CA112E2</th>\n",
       "      <td>1.622628e+12</td>\n",
       "      <td>230.0</td>\n",
       "      <td>312.0</td>\n",
       "      <td>They are some really bad consequences when stu...</td>\n",
       "      <td>Position</td>\n",
       "      <td>Position 1</td>\n",
       "      <td>45 46 47 48 49 50 51 52 53 54 55 56 57 58 59</td>\n",
       "    </tr>\n",
       "    <tr>\n",
       "      <th>423A1CA112E2</th>\n",
       "      <td>1.622628e+12</td>\n",
       "      <td>313.0</td>\n",
       "      <td>401.0</td>\n",
       "      <td>Some certain areas in the United States ban ph...</td>\n",
       "      <td>Evidence</td>\n",
       "      <td>Evidence 1</td>\n",
       "      <td>60 61 62 63 64 65 66 67 68 69 70 71 72 73 74 75</td>\n",
       "    </tr>\n",
       "    <tr>\n",
       "      <th>423A1CA112E2</th>\n",
       "      <td>1.622628e+12</td>\n",
       "      <td>402.0</td>\n",
       "      <td>758.0</td>\n",
       "      <td>When people have phones, they know about certa...</td>\n",
       "      <td>Evidence</td>\n",
       "      <td>Evidence 2</td>\n",
       "      <td>76 77 78 79 80 81 82 83 84 85 86 87 88 89 90 9...</td>\n",
       "    </tr>\n",
       "    <tr>\n",
       "      <th>423A1CA112E2</th>\n",
       "      <td>1.622628e+12</td>\n",
       "      <td>759.0</td>\n",
       "      <td>886.0</td>\n",
       "      <td>Driving is one of the way how to get around. P...</td>\n",
       "      <td>Claim</td>\n",
       "      <td>Claim 1</td>\n",
       "      <td>139 140 141 142 143 144 145 146 147 148 149 15...</td>\n",
       "    </tr>\n",
       "    <tr>\n",
       "      <th>...</th>\n",
       "      <td>...</td>\n",
       "      <td>...</td>\n",
       "      <td>...</td>\n",
       "      <td>...</td>\n",
       "      <td>...</td>\n",
       "      <td>...</td>\n",
       "      <td>...</td>\n",
       "    </tr>\n",
       "    <tr>\n",
       "      <th>4C471936CD75</th>\n",
       "      <td>1.618153e+12</td>\n",
       "      <td>2234.0</td>\n",
       "      <td>3203.0</td>\n",
       "      <td>if I'm not sure what college I want to attend...</td>\n",
       "      <td>Evidence</td>\n",
       "      <td>Evidence 2</td>\n",
       "      <td>386 387 388 389 390 391 392 393 394 395 396 39...</td>\n",
       "    </tr>\n",
       "    <tr>\n",
       "      <th>4C471936CD75</th>\n",
       "      <td>1.618153e+12</td>\n",
       "      <td>3221.0</td>\n",
       "      <td>4509.0</td>\n",
       "      <td>seeking multiple opinions before making a har...</td>\n",
       "      <td>Evidence</td>\n",
       "      <td>Evidence 3</td>\n",
       "      <td>576 577 578 579 580 581 582 583 584 585 586 58...</td>\n",
       "    </tr>\n",
       "    <tr>\n",
       "      <th>4C471936CD75</th>\n",
       "      <td>1.618025e+12</td>\n",
       "      <td>4510.0</td>\n",
       "      <td>4570.0</td>\n",
       "      <td>it is better to seek multiple opinions instead...</td>\n",
       "      <td>Position</td>\n",
       "      <td>Position 1</td>\n",
       "      <td>828 829 830 831 832 833 834 835 836 837 838</td>\n",
       "    </tr>\n",
       "    <tr>\n",
       "      <th>4C471936CD75</th>\n",
       "      <td>1.618025e+12</td>\n",
       "      <td>4570.0</td>\n",
       "      <td>4922.0</td>\n",
       "      <td>The impact of asking people to help you make a...</td>\n",
       "      <td>Evidence</td>\n",
       "      <td>Evidence 4</td>\n",
       "      <td>839 840 841 842 843 844 845 846 847 848 849 85...</td>\n",
       "    </tr>\n",
       "    <tr>\n",
       "      <th>4C471936CD75</th>\n",
       "      <td>1.618025e+12</td>\n",
       "      <td>4935.0</td>\n",
       "      <td>5825.0</td>\n",
       "      <td>there are many other reasons one might want to...</td>\n",
       "      <td>Concluding Statement</td>\n",
       "      <td>Concluding Statement 1</td>\n",
       "      <td>905 906 907 908 909 910 911 912 913 914 915 91...</td>\n",
       "    </tr>\n",
       "  </tbody>\n",
       "</table>\n",
       "<p>144293 rows × 7 columns</p>\n",
       "</div>"
      ],
      "text/plain": [
       "              discourse_id  discourse_start  discourse_end  \\\n",
       "id                                                           \n",
       "423A1CA112E2  1.622628e+12              8.0          229.0   \n",
       "423A1CA112E2  1.622628e+12            230.0          312.0   \n",
       "423A1CA112E2  1.622628e+12            313.0          401.0   \n",
       "423A1CA112E2  1.622628e+12            402.0          758.0   \n",
       "423A1CA112E2  1.622628e+12            759.0          886.0   \n",
       "...                    ...              ...            ...   \n",
       "4C471936CD75  1.618153e+12           2234.0         3203.0   \n",
       "4C471936CD75  1.618153e+12           3221.0         4509.0   \n",
       "4C471936CD75  1.618025e+12           4510.0         4570.0   \n",
       "4C471936CD75  1.618025e+12           4570.0         4922.0   \n",
       "4C471936CD75  1.618025e+12           4935.0         5825.0   \n",
       "\n",
       "                                                 discourse_text  \\\n",
       "id                                                                \n",
       "423A1CA112E2  Modern humans today are always on their phone....   \n",
       "423A1CA112E2  They are some really bad consequences when stu...   \n",
       "423A1CA112E2  Some certain areas in the United States ban ph...   \n",
       "423A1CA112E2  When people have phones, they know about certa...   \n",
       "423A1CA112E2  Driving is one of the way how to get around. P...   \n",
       "...                                                         ...   \n",
       "4C471936CD75   if I'm not sure what college I want to attend...   \n",
       "4C471936CD75   seeking multiple opinions before making a har...   \n",
       "4C471936CD75  it is better to seek multiple opinions instead...   \n",
       "4C471936CD75  The impact of asking people to help you make a...   \n",
       "4C471936CD75  there are many other reasons one might want to...   \n",
       "\n",
       "                    discourse_type      discourse_type_num  \\\n",
       "id                                                           \n",
       "423A1CA112E2                  Lead                  Lead 1   \n",
       "423A1CA112E2              Position              Position 1   \n",
       "423A1CA112E2              Evidence              Evidence 1   \n",
       "423A1CA112E2              Evidence              Evidence 2   \n",
       "423A1CA112E2                 Claim                 Claim 1   \n",
       "...                            ...                     ...   \n",
       "4C471936CD75              Evidence              Evidence 2   \n",
       "4C471936CD75              Evidence              Evidence 3   \n",
       "4C471936CD75              Position              Position 1   \n",
       "4C471936CD75              Evidence              Evidence 4   \n",
       "4C471936CD75  Concluding Statement  Concluding Statement 1   \n",
       "\n",
       "                                               predictionstring  \n",
       "id                                                               \n",
       "423A1CA112E2  1 2 3 4 5 6 7 8 9 10 11 12 13 14 15 16 17 18 1...  \n",
       "423A1CA112E2       45 46 47 48 49 50 51 52 53 54 55 56 57 58 59  \n",
       "423A1CA112E2    60 61 62 63 64 65 66 67 68 69 70 71 72 73 74 75  \n",
       "423A1CA112E2  76 77 78 79 80 81 82 83 84 85 86 87 88 89 90 9...  \n",
       "423A1CA112E2  139 140 141 142 143 144 145 146 147 148 149 15...  \n",
       "...                                                         ...  \n",
       "4C471936CD75  386 387 388 389 390 391 392 393 394 395 396 39...  \n",
       "4C471936CD75  576 577 578 579 580 581 582 583 584 585 586 58...  \n",
       "4C471936CD75        828 829 830 831 832 833 834 835 836 837 838  \n",
       "4C471936CD75  839 840 841 842 843 844 845 846 847 848 849 85...  \n",
       "4C471936CD75  905 906 907 908 909 910 911 912 913 914 915 91...  \n",
       "\n",
       "[144293 rows x 7 columns]"
      ]
     },
     "execution_count": 14,
     "metadata": {},
     "output_type": "execute_result"
    }
   ],
   "source": [
    "train"
   ]
  },
  {
   "cell_type": "code",
   "execution_count": 30,
   "id": "6ea8182c",
   "metadata": {
    "execution": {
     "iopub.execute_input": "2022-05-05T10:38:52.348459Z",
     "iopub.status.busy": "2022-05-05T10:38:52.343747Z",
     "iopub.status.idle": "2022-05-05T10:38:52.357182Z",
     "shell.execute_reply": "2022-05-05T10:38:52.357677Z",
     "shell.execute_reply.started": "2022-05-05T02:14:53.105334Z"
    },
    "papermill": {
     "duration": 0.043539,
     "end_time": "2022-05-05T10:38:52.357844",
     "exception": false,
     "start_time": "2022-05-05T10:38:52.314305",
     "status": "completed"
    },
    "tags": []
   },
   "outputs": [
    {
     "data": {
      "text/plain": [
       "array(['423A1CA112E2', 'A8445CABFECE', '6B4F7A0165B9', 'E05C7F5C1156',\n",
       "       '50B3435E475B', 'DBF7EB6A9E02', '810B70E80E1D', 'CE98789F502B',\n",
       "       'A97DE0D49AEA', '48D3F4243F0F'], dtype=object)"
      ]
     },
     "execution_count": 30,
     "metadata": {},
     "output_type": "execute_result"
    }
   ],
   "source": [
    "train.index.unique().values[:10]"
   ]
  },
  {
   "cell_type": "code",
   "execution_count": 16,
   "id": "5834b355",
   "metadata": {
    "execution": {
     "iopub.execute_input": "2022-05-05T10:38:52.399622Z",
     "iopub.status.busy": "2022-05-05T10:38:52.398938Z",
     "iopub.status.idle": "2022-05-05T10:38:52.400837Z",
     "shell.execute_reply": "2022-05-05T10:38:52.401287Z",
     "shell.execute_reply.started": "2022-05-05T02:14:53.136174Z"
    },
    "papermill": {
     "duration": 0.026425,
     "end_time": "2022-05-05T10:38:52.401479",
     "exception": false,
     "start_time": "2022-05-05T10:38:52.375054",
     "status": "completed"
    },
    "tags": []
   },
   "outputs": [],
   "source": [
    "class Dataset(torch.utils.data.Dataset):\n",
    "    def __init__(self,indices,phase='train',transform=None):\n",
    "        self.indices=indices\n",
    "        self.phase=phase #train/val/test\n",
    "        self.transform=transform\n",
    "        \n",
    "    def __len__(self):\n",
    "        return len(self.indices)\n",
    "\n",
    "    def __getitem__(self,idx):\n",
    "        \n",
    "        \n",
    "        path=pathlib.Path(self.indices[idx])\n",
    "        text = path.read_text()\n",
    "        annotation=train[train.index==path.stem]\n",
    "        \n",
    "        \n",
    "        return text,annotation\n",
    "        #return {'digit':datum,'label':self.labels.loc[idx]}"
   ]
  },
  {
   "cell_type": "code",
   "execution_count": 17,
   "id": "e6c89d4c",
   "metadata": {
    "execution": {
     "iopub.execute_input": "2022-05-05T10:38:52.440741Z",
     "iopub.status.busy": "2022-05-05T10:38:52.440068Z",
     "iopub.status.idle": "2022-05-05T10:38:52.924094Z",
     "shell.execute_reply": "2022-05-05T10:38:52.924675Z",
     "shell.execute_reply.started": "2022-05-05T02:14:53.147456Z"
    },
    "papermill": {
     "duration": 0.506103,
     "end_time": "2022-05-05T10:38:52.924857",
     "exception": false,
     "start_time": "2022-05-05T10:38:52.418754",
     "status": "completed"
    },
    "tags": []
   },
   "outputs": [],
   "source": [
    "train_texts=glob.glob(CFG.data_path+\"train/*\")\n",
    "train_texts.sort()\n",
    "\n",
    "if CFG.debug:\n",
    "    #train=train[:len(train)//50]\n",
    "    train_texts=random.sample(train_texts, len(train_texts)//10)\n",
    "\n",
    "\n",
    "test_texts=glob.glob(CFG.data_path+\"test/*\")\n",
    "test_texts.sort()\n",
    "\n",
    "\n",
    "data={\n",
    "    'train':Dataset(train_texts),\n",
    "    'test' :Dataset(test_texts),\n",
    "}"
   ]
  },
  {
   "cell_type": "code",
   "execution_count": 18,
   "id": "4908b307",
   "metadata": {
    "_kg_hide-output": true,
    "execution": {
     "iopub.execute_input": "2022-05-05T10:38:52.963648Z",
     "iopub.status.busy": "2022-05-05T10:38:52.963023Z",
     "iopub.status.idle": "2022-05-05T10:39:17.517298Z",
     "shell.execute_reply": "2022-05-05T10:39:17.516672Z",
     "shell.execute_reply.started": "2022-05-05T02:59:14.423707Z"
    },
    "papermill": {
     "duration": 24.574802,
     "end_time": "2022-05-05T10:39:17.517496",
     "exception": false,
     "start_time": "2022-05-05T10:38:52.942694",
     "status": "completed"
    },
    "tags": []
   },
   "outputs": [
    {
     "name": "stdout",
     "output_type": "stream",
     "text": [
      "Requirement already satisfied: spacy in /Users/toutatsu/.local/lib/python3.8/site-packages (3.3.0)\n",
      "Collecting spacy\n",
      "  Using cached spacy-3.4.1-cp38-cp38-macosx_10_9_x86_64.whl (6.5 MB)\n",
      "Requirement already satisfied: tqdm<5.0.0,>=4.38.0 in /Users/toutatsu/.anyenv/envs/pyenv/versions/3.8.8/lib/python3.8/site-packages (from spacy) (4.62.2)\n",
      "Requirement already satisfied: langcodes<4.0.0,>=3.2.0 in /Users/toutatsu/.local/lib/python3.8/site-packages (from spacy) (3.3.0)\n",
      "Requirement already satisfied: setuptools in /Users/toutatsu/.anyenv/envs/pyenv/versions/3.8.8/lib/python3.8/site-packages (from spacy) (57.4.0)\n",
      "Requirement already satisfied: spacy-loggers<2.0.0,>=1.0.0 in /Users/toutatsu/.anyenv/envs/pyenv/versions/3.8.8/lib/python3.8/site-packages (from spacy) (1.0.3)\n",
      "Requirement already satisfied: murmurhash<1.1.0,>=0.28.0 in /Users/toutatsu/.anyenv/envs/pyenv/versions/3.8.8/lib/python3.8/site-packages (from spacy) (1.0.7)\n",
      "Requirement already satisfied: catalogue<2.1.0,>=2.0.6 in /Users/toutatsu/.anyenv/envs/pyenv/versions/3.8.8/lib/python3.8/site-packages (from spacy) (2.0.6)\n",
      "Requirement already satisfied: srsly<3.0.0,>=2.4.3 in /Users/toutatsu/.anyenv/envs/pyenv/versions/3.8.8/lib/python3.8/site-packages (from spacy) (2.4.4)\n",
      "Requirement already satisfied: numpy>=1.15.0 in /Users/toutatsu/.anyenv/envs/pyenv/versions/3.8.8/lib/python3.8/site-packages (from spacy) (1.22.4)\n",
      "Requirement already satisfied: preshed<3.1.0,>=3.0.2 in /Users/toutatsu/.anyenv/envs/pyenv/versions/3.8.8/lib/python3.8/site-packages (from spacy) (3.0.6)\n",
      "Requirement already satisfied: pathy>=0.3.5 in /Users/toutatsu/.anyenv/envs/pyenv/versions/3.8.8/lib/python3.8/site-packages (from spacy) (0.6.2)\n",
      "Requirement already satisfied: packaging>=20.0 in /Users/toutatsu/.anyenv/envs/pyenv/versions/3.8.8/lib/python3.8/site-packages (from spacy) (21.3)\n",
      "Requirement already satisfied: wasabi<1.1.0,>=0.9.1 in /Users/toutatsu/.anyenv/envs/pyenv/versions/3.8.8/lib/python3.8/site-packages (from spacy) (0.9.1)\n",
      "Requirement already satisfied: spacy-legacy<3.1.0,>=3.0.9 in /Users/toutatsu/.local/lib/python3.8/site-packages (from spacy) (3.0.9)\n",
      "Collecting thinc<8.2.0,>=8.1.0\n",
      "  Downloading thinc-8.1.1-cp38-cp38-macosx_10_9_x86_64.whl (752 kB)\n",
      "\u001b[2K     \u001b[90m━━━━━━━━━━━━━━━━━━━━━━━━━━━━━━━━━━━━━━━\u001b[0m \u001b[32m752.1/752.1 kB\u001b[0m \u001b[31m8.3 MB/s\u001b[0m eta \u001b[36m0:00:00\u001b[0m00:01\u001b[0m00:01\u001b[0m\n",
      "\u001b[?25hRequirement already satisfied: typer<0.5.0,>=0.3.0 in /Users/toutatsu/.anyenv/envs/pyenv/versions/3.8.8/lib/python3.8/site-packages (from spacy) (0.4.2)\n",
      "Requirement already satisfied: requests<3.0.0,>=2.13.0 in /Users/toutatsu/.anyenv/envs/pyenv/versions/3.8.8/lib/python3.8/site-packages (from spacy) (2.26.0)\n",
      "Requirement already satisfied: jinja2 in /Users/toutatsu/.anyenv/envs/pyenv/versions/3.8.8/lib/python3.8/site-packages (from spacy) (3.1.2)\n",
      "Requirement already satisfied: cymem<2.1.0,>=2.0.2 in /Users/toutatsu/.anyenv/envs/pyenv/versions/3.8.8/lib/python3.8/site-packages (from spacy) (2.0.6)\n",
      "Requirement already satisfied: pydantic!=1.8,!=1.8.1,<1.10.0,>=1.7.4 in /Users/toutatsu/.anyenv/envs/pyenv/versions/3.8.8/lib/python3.8/site-packages (from spacy) (1.9.1)\n",
      "Requirement already satisfied: pyparsing!=3.0.5,>=2.0.2 in /Users/toutatsu/.anyenv/envs/pyenv/versions/3.8.8/lib/python3.8/site-packages (from packaging>=20.0->spacy) (3.0.9)\n",
      "Requirement already satisfied: smart-open<6.0.0,>=5.2.1 in /Users/toutatsu/.anyenv/envs/pyenv/versions/3.8.8/lib/python3.8/site-packages (from pathy>=0.3.5->spacy) (5.2.1)\n",
      "Requirement already satisfied: typing-extensions>=3.7.4.3 in /Users/toutatsu/.anyenv/envs/pyenv/versions/3.8.8/lib/python3.8/site-packages (from pydantic!=1.8,!=1.8.1,<1.10.0,>=1.7.4->spacy) (4.3.0)\n",
      "Requirement already satisfied: charset-normalizer~=2.0.0 in /Users/toutatsu/.anyenv/envs/pyenv/versions/3.8.8/lib/python3.8/site-packages (from requests<3.0.0,>=2.13.0->spacy) (2.0.4)\n",
      "Requirement already satisfied: idna<4,>=2.5 in /Users/toutatsu/.anyenv/envs/pyenv/versions/3.8.8/lib/python3.8/site-packages (from requests<3.0.0,>=2.13.0->spacy) (3.2)\n",
      "Requirement already satisfied: urllib3<1.27,>=1.21.1 in /Users/toutatsu/.anyenv/envs/pyenv/versions/3.8.8/lib/python3.8/site-packages (from requests<3.0.0,>=2.13.0->spacy) (1.26.11)\n",
      "Requirement already satisfied: certifi>=2017.4.17 in /Users/toutatsu/.anyenv/envs/pyenv/versions/3.8.8/lib/python3.8/site-packages (from requests<3.0.0,>=2.13.0->spacy) (2022.6.15)\n",
      "Requirement already satisfied: blis<0.10.0,>=0.7.8 in /Users/toutatsu/.anyenv/envs/pyenv/versions/3.8.8/lib/python3.8/site-packages (from thinc<8.2.0,>=8.1.0->spacy) (0.7.8)\n",
      "Collecting confection<1.0.0,>=0.0.1\n",
      "  Downloading confection-0.0.1-py3-none-any.whl (32 kB)\n",
      "Requirement already satisfied: click<9.0.0,>=7.1.1 in /Users/toutatsu/.anyenv/envs/pyenv/versions/3.8.8/lib/python3.8/site-packages (from typer<0.5.0,>=0.3.0->spacy) (7.1.2)\n",
      "Requirement already satisfied: MarkupSafe>=2.0 in /Users/toutatsu/.anyenv/envs/pyenv/versions/3.8.8/lib/python3.8/site-packages (from jinja2->spacy) (2.1.1)\n",
      "Installing collected packages: confection, thinc, spacy\n",
      "  Attempting uninstall: thinc\n",
      "    Found existing installation: thinc 8.0.15\n",
      "    Uninstalling thinc-8.0.15:\n",
      "      Successfully uninstalled thinc-8.0.15\n",
      "  Rolling back uninstall of thinc\n",
      "  Moving to /Users/toutatsu/.local/lib/python3.8/site-packages/thinc-8.0.15.dist-info/\n",
      "   from /Users/toutatsu/.local/lib/python3.8/site-packages/~hinc-8.0.15.dist-info\n",
      "  Moving to /Users/toutatsu/.local/lib/python3.8/site-packages/thinc/\n",
      "   from /Users/toutatsu/.local/lib/python3.8/site-packages/~hinc\n",
      "\u001b[31mERROR: Could not install packages due to an OSError: [Errno 13] Permission denied: '/Users/toutatsu/.anyenv/envs/pyenv/versions/3.8.8/lib/python3.8/site-packages/thinc/__init__.pxd'\n",
      "Consider using the `--user` option or check the permissions.\n",
      "\u001b[0m\u001b[31m\n",
      "\u001b[0mNote: you may need to restart the kernel to use updated packages.\n"
     ]
    }
   ],
   "source": [
    "pip install --upgrade spacy;"
   ]
  },
  {
   "cell_type": "code",
   "execution_count": 19,
   "id": "184bdfc4",
   "metadata": {
    "execution": {
     "iopub.execute_input": "2022-05-05T10:39:17.579268Z",
     "iopub.status.busy": "2022-05-05T10:39:17.578615Z",
     "iopub.status.idle": "2022-05-05T10:39:24.450108Z",
     "shell.execute_reply": "2022-05-05T10:39:24.449564Z",
     "shell.execute_reply.started": "2022-05-05T02:15:21.422471Z"
    },
    "papermill": {
     "duration": 6.903975,
     "end_time": "2022-05-05T10:39:24.450264",
     "exception": false,
     "start_time": "2022-05-05T10:39:17.546289",
     "status": "completed"
    },
    "tags": []
   },
   "outputs": [],
   "source": [
    "import spacy\n",
    "from spacy import displacy\n",
    "from spacy.tokens import Span\n",
    "\n",
    "nlp = spacy.blank(\"en\")"
   ]
  },
  {
   "cell_type": "markdown",
   "id": "325816b0",
   "metadata": {
    "papermill": {
     "duration": 0.027219,
     "end_time": "2022-05-05T10:39:24.504874",
     "exception": false,
     "start_time": "2022-05-05T10:39:24.477655",
     "status": "completed"
    },
    "tags": []
   },
   "source": [
    "## annotation visualization\n",
    "\n",
    "reference\n",
    "\n",
    "* [Feedback Prize EDA with displacy](https://www.kaggle.com/code/thedrcat/feedback-prize-eda-with-displacy)"
   ]
  },
  {
   "cell_type": "code",
   "execution_count": 20,
   "id": "c729799b",
   "metadata": {
    "execution": {
     "iopub.execute_input": "2022-05-05T10:39:24.562214Z",
     "iopub.status.busy": "2022-05-05T10:39:24.561274Z",
     "iopub.status.idle": "2022-05-05T10:39:24.568106Z",
     "shell.execute_reply": "2022-05-05T10:39:24.568520Z",
     "shell.execute_reply.started": "2022-05-05T03:07:26.371291Z"
    },
    "papermill": {
     "duration": 0.036662,
     "end_time": "2022-05-05T10:39:24.568697",
     "exception": false,
     "start_time": "2022-05-05T10:39:24.532035",
     "status": "completed"
    },
    "tags": []
   },
   "outputs": [],
   "source": [
    "def visualize(text_id):\n",
    "    ents = []\n",
    "    for i, row in train[train.index== text_id].iterrows():\n",
    "        ents.append(\n",
    "            {\n",
    "                'start': int(row['discourse_start']), \n",
    "                'end': int(row['discourse_end']), \n",
    "                'label': row['discourse_type']\n",
    "            }\n",
    "        )\n",
    "    \n",
    "    displacy.render(\n",
    "        {\n",
    "            \"text\": pathlib.Path(os.path.join(CFG.data_path,'train',text_id+'.txt')).read_text(),\n",
    "            \"ents\": ents,\n",
    "            \"title\": text_id\n",
    "        },\n",
    "        style=\"ent\",\n",
    "        options={\n",
    "            \"ents\": train.discourse_type.unique().tolist(),\n",
    "            \"colors\":{\n",
    "                'Lead': '#8000ff',\n",
    "                'Position': '#2b7ff6',\n",
    "                'Evidence': '#2adddd',\n",
    "                'Claim': '#80ffb4',\n",
    "                'Concluding Statement': 'd4dd80',\n",
    "                'Counterclaim': '#ff8042',\n",
    "                'Rebuttal': '#ff0000'\n",
    "            }\n",
    "        },\n",
    "        manual=True,\n",
    "        jupyter=True\n",
    "    )"
   ]
  },
  {
   "cell_type": "code",
   "execution_count": 21,
   "id": "17283d01",
   "metadata": {
    "execution": {
     "iopub.execute_input": "2022-05-05T10:39:24.624807Z",
     "iopub.status.busy": "2022-05-05T10:39:24.623901Z",
     "iopub.status.idle": "2022-05-05T10:39:24.665803Z",
     "shell.execute_reply": "2022-05-05T10:39:24.666314Z",
     "shell.execute_reply.started": "2022-05-05T03:14:03.722638Z"
    },
    "papermill": {
     "duration": 0.071606,
     "end_time": "2022-05-05T10:39:24.666501",
     "exception": false,
     "start_time": "2022-05-05T10:39:24.594895",
     "status": "completed"
    },
    "tags": []
   },
   "outputs": [
    {
     "data": {
      "text/html": [
       "<span class=\"tex2jax_ignore\"><h2 style=\"margin: 0\">A8445CABFECE</h2>\n",
       "\n",
       "<div class=\"entities\" style=\"line-height: 2.5; direction: ltr\">Phones &amp; Driving</br></br>\n",
       "<mark class=\"entity\" style=\"background: #2b7ff6; padding: 0.45em 0.6em; margin: 0 0.25em; line-height: 1; border-radius: 0.35em;\">\n",
       "    Drivers should not be able to use phones while operating a vehicle.\n",
       "    <span style=\"font-size: 0.8em; font-weight: bold; line-height: 1; border-radius: 0.35em; vertical-align: middle; margin-left: 0.5rem\">Position</span>\n",
       "</mark>\n",
       " \n",
       "<mark class=\"entity\" style=\"background: #80ffb4; padding: 0.45em 0.6em; margin: 0 0.25em; line-height: 1; border-radius: 0.35em;\">\n",
       "    Drivers who used their phone while operating a vehicle are most likely to get into an accident that could be fatal.\n",
       "\n",
       "    <span style=\"font-size: 0.8em; font-weight: bold; line-height: 1; border-radius: 0.35em; vertical-align: middle; margin-left: 0.5rem\">Claim</span>\n",
       "</mark>\n",
       "</br>\n",
       "<mark class=\"entity\" style=\"background: #2adddd; padding: 0.45em 0.6em; margin: 0 0.25em; line-height: 1; border-radius: 0.35em;\">\n",
       "    According to an article by the Edgar Snyder Firm, 21% of teens that were part of a fatal car accident was due to phones. According to the same article, 35% know the risk but continue using their phones while on the road. This shows that its beyond dangerous and irresponsible of drivers not to be fully aware of their surroundings while driving. Drivers should be able to concentrate without any distractions, because it could be fatal.\n",
       "\n",
       "According to another article, &quot;Distracted Driving&quot; by the NHTSA, there has already been about 3,000 phone related car accident deaths since 2017. The article states that teen get too distracted with their phones, which causes their accident. Accidents that can be easily avoided by focusing on the road and not a phone. Drivers should not be able to use their phones at all while driving.\n",
       "\n",
       "    <span style=\"font-size: 0.8em; font-weight: bold; line-height: 1; border-radius: 0.35em; vertical-align: middle; margin-left: 0.5rem\">Evidence</span>\n",
       "</mark>\n",
       "</br>\n",
       "<mark class=\"entity\" style=\"background: d4dd80; padding: 0.45em 0.6em; margin: 0 0.25em; line-height: 1; border-radius: 0.35em;\">\n",
       "    In conclusion, drivers should not able to work a vehicle while using their cell phone. Drivers who uses their phones while operating a vehicle and are likely to have an accident then those who don't.             \n",
       "    <span style=\"font-size: 0.8em; font-weight: bold; line-height: 1; border-radius: 0.35em; vertical-align: middle; margin-left: 0.5rem\">Concluding Statement</span>\n",
       "</mark>\n",
       "</div></span>"
      ],
      "text/plain": [
       "<IPython.core.display.HTML object>"
      ]
     },
     "metadata": {},
     "output_type": "display_data"
    }
   ],
   "source": [
    "visualize(train.index[10])"
   ]
  },
  {
   "cell_type": "code",
   "execution_count": 22,
   "id": "007be207",
   "metadata": {
    "execution": {
     "iopub.execute_input": "2022-05-05T10:39:24.724790Z",
     "iopub.status.busy": "2022-05-05T10:39:24.723879Z",
     "iopub.status.idle": "2022-05-05T10:39:24.757995Z",
     "shell.execute_reply": "2022-05-05T10:39:24.758483Z",
     "shell.execute_reply.started": "2022-05-05T03:19:12.304956Z"
    },
    "papermill": {
     "duration": 0.064771,
     "end_time": "2022-05-05T10:39:24.758659",
     "exception": false,
     "start_time": "2022-05-05T10:39:24.693888",
     "status": "completed"
    },
    "tags": []
   },
   "outputs": [
    {
     "data": {
      "text/html": [
       "<span class=\"tex2jax_ignore\"><h2 style=\"margin: 0\">149E8C278863</h2>\n",
       "\n",
       "<div class=\"entities\" style=\"line-height: 2.5; direction: ltr\">\n",
       "<mark class=\"entity\" style=\"background: #2b7ff6; padding: 0.45em 0.6em; margin: 0 0.25em; line-height: 1; border-radius: 0.35em;\">\n",
       "    Going to school and learning can benefit students in a lot of ways. \n",
       "    <span style=\"font-size: 0.8em; font-weight: bold; line-height: 1; border-radius: 0.35em; vertical-align: middle; margin-left: 0.5rem\">Position</span>\n",
       "</mark>\n",
       "\n",
       "<mark class=\"entity\" style=\"background: #80ffb4; padding: 0.45em 0.6em; margin: 0 0.25em; line-height: 1; border-radius: 0.35em;\">\n",
       "    You get to see your friends and be with them while you learn.\n",
       "    <span style=\"font-size: 0.8em; font-weight: bold; line-height: 1; border-radius: 0.35em; vertical-align: middle; margin-left: 0.5rem\">Claim</span>\n",
       "</mark>\n",
       " \n",
       "<mark class=\"entity\" style=\"background: #2adddd; padding: 0.45em 0.6em; margin: 0 0.25em; line-height: 1; border-radius: 0.35em;\">\n",
       "    It's a lot better than being at home and learning from there. Being present in a school is one of many reasons why learning at school is better than learning online or via webcam.\n",
       "    <span style=\"font-size: 0.8em; font-weight: bold; line-height: 1; border-radius: 0.35em; vertical-align: middle; margin-left: 0.5rem\">Evidence</span>\n",
       "</mark>\n",
       " \n",
       "<mark class=\"entity\" style=\"background: #2adddd; padding: 0.45em 0.6em; margin: 0 0.25em; line-height: 1; border-radius: 0.35em;\">\n",
       "    A big part of education is being face to face with your teacher and taking in all the knowledge their providing you. Learning online can be a struggle for some students\n",
       "    <span style=\"font-size: 0.8em; font-weight: bold; line-height: 1; border-radius: 0.35em; vertical-align: middle; margin-left: 0.5rem\">Evidence</span>\n",
       "</mark>\n",
       ".\n",
       "<mark class=\"entity\" style=\"background: #80ffb4; padding: 0.45em 0.6em; margin: 0 0.25em; line-height: 1; border-radius: 0.35em;\">\n",
       "     Having a teacher present and helping you learn in person is something many students benefit from.\n",
       "    <span style=\"font-size: 0.8em; font-weight: bold; line-height: 1; border-radius: 0.35em; vertical-align: middle; margin-left: 0.5rem\">Claim</span>\n",
       "</mark>\n",
       "\n",
       "<mark class=\"entity\" style=\"background: #2adddd; padding: 0.45em 0.6em; margin: 0 0.25em; line-height: 1; border-radius: 0.35em;\">\n",
       "     For example, math is a subject that involves a lot of problem solving and can be very challenging to one learning. You have to workout problems and write things down in order to solve the problem. Some students aren't skilled enough to hear how to solve and then do it themselves. Less skilled students need the teacher in person showing them how to complete the problem rather than telling them how to solve it. That's how it is with all subjects, not just math. Students can benefit way more from a teacher showing them how to do something instead of telling them how to do something.\n",
       "\n",
       "    <span style=\"font-size: 0.8em; font-weight: bold; line-height: 1; border-radius: 0.35em; vertical-align: middle; margin-left: 0.5rem\">Evidence</span>\n",
       "</mark>\n",
       "</br>\n",
       "<mark class=\"entity\" style=\"background: #80ffb4; padding: 0.45em 0.6em; margin: 0 0.25em; line-height: 1; border-radius: 0.35em;\">\n",
       "    A conference over the phone or a webcam and online education can be very tricky. Phones and computers don't always work.\n",
       "    <span style=\"font-size: 0.8em; font-weight: bold; line-height: 1; border-radius: 0.35em; vertical-align: middle; margin-left: 0.5rem\">Claim</span>\n",
       "</mark>\n",
       " \n",
       "<mark class=\"entity\" style=\"background: #2adddd; padding: 0.45em 0.6em; margin: 0 0.25em; line-height: 1; border-radius: 0.35em;\">\n",
       "    At times they can stop working and shut down. If that happens then you won't be able to learn at all. On the other hand, going to an actual school and learning is way easier than that. All it requires is a chalkboard or a white board and a marker and your good to go. Teachers don't have to rely on a computer or phone when their teaching in a classroom. In some cases teachers will you use a computer to show a video or a program for students to learn from. but that doesn't mean they have to stop teaching at that point. Meanwhile, if a student is at home learning or on a conference with a teacher and your phone and computer stops working then you have no other choice then to stop working. It could happen once and have a student miss out on a lot of education. Online education or a video conference isn't a reliable way of learning. However, a student can always rely on going to school and having a teacher ready and prepared to teach.\n",
       "    <span style=\"font-size: 0.8em; font-weight: bold; line-height: 1; border-radius: 0.35em; vertical-align: middle; margin-left: 0.5rem\">Evidence</span>\n",
       "</mark>\n",
       "</br></br>There's visual learners and there's learners who can succeed by hearing\n",
       "<mark class=\"entity\" style=\"background: #80ffb4; padding: 0.45em 0.6em; margin: 0 0.25em; line-height: 1; border-radius: 0.35em;\">\n",
       "    . A visual learner wouldn't be able to learn if they did online education\n",
       "    <span style=\"font-size: 0.8em; font-weight: bold; line-height: 1; border-radius: 0.35em; vertical-align: middle; margin-left: 0.5rem\">Claim</span>\n",
       "</mark>\n",
       ".\n",
       "<mark class=\"entity\" style=\"background: #2adddd; padding: 0.45em 0.6em; margin: 0 0.25em; line-height: 1; border-radius: 0.35em;\">\n",
       "     They would be setup for failure because the school didn't organize the education around the student. Making an option for a student to learn from a video conference or online is a risk schools would have to take. Some students could choose that option but end up failing because they didn't know how well they learn online or from a video conference.\n",
       "    <span style=\"font-size: 0.8em; font-weight: bold; line-height: 1; border-radius: 0.35em; vertical-align: middle; margin-left: 0.5rem\">Evidence</span>\n",
       "</mark>\n",
       " \n",
       "<mark class=\"entity\" style=\"background: #80ffb4; padding: 0.45em 0.6em; margin: 0 0.25em; line-height: 1; border-radius: 0.35em;\">\n",
       "    Another risk with that option is some students might take advantage of it and choose it so they can stay home and not participate.\n",
       "    <span style=\"font-size: 0.8em; font-weight: bold; line-height: 1; border-radius: 0.35em; vertical-align: middle; margin-left: 0.5rem\">Claim</span>\n",
       "</mark>\n",
       " \n",
       "<mark class=\"entity\" style=\"background: #2adddd; padding: 0.45em 0.6em; margin: 0 0.25em; line-height: 1; border-radius: 0.35em;\">\n",
       "    Some students may choose the option of learning online but instead of doing that they could do other things. However, if they go to school then they have no other choice but to learn. They also wouldn't be allowed to do anything but learn because their is a teacher present and can monitor everything they do. Offering those ways of learning as an option is a huge risk. Students could take advantage of it and fail the whole purpose of allowing those options. Schools could get a lot of hate for it if the students use them and don't follow the rules. No school should ever want that happening to them. That's why there are many risks in allowing students to learn through an online or a video conference.\n",
       "\n",
       "    <span style=\"font-size: 0.8em; font-weight: bold; line-height: 1; border-radius: 0.35em; vertical-align: middle; margin-left: 0.5rem\">Evidence</span>\n",
       "</mark>\n",
       "</br>\n",
       "<mark class=\"entity\" style=\"background: #80ffb4; padding: 0.45em 0.6em; margin: 0 0.25em; line-height: 1; border-radius: 0.35em;\">\n",
       "    Going to school and learning is a much safer option than learning online or through a conference.\n",
       "    <span style=\"font-size: 0.8em; font-weight: bold; line-height: 1; border-radius: 0.35em; vertical-align: middle; margin-left: 0.5rem\">Claim</span>\n",
       "</mark>\n",
       " There's a lot more benefits and many great things that come with it. \n",
       "<mark class=\"entity\" style=\"background: #80ffb4; padding: 0.45em 0.6em; margin: 0 0.25em; line-height: 1; border-radius: 0.35em;\">\n",
       "    Students are setup for success by attending school rather than learning online\n",
       "    <span style=\"font-size: 0.8em; font-weight: bold; line-height: 1; border-radius: 0.35em; vertical-align: middle; margin-left: 0.5rem\">Claim</span>\n",
       "</mark>\n",
       ".\n",
       "<mark class=\"entity\" style=\"background: #2adddd; padding: 0.45em 0.6em; margin: 0 0.25em; line-height: 1; border-radius: 0.35em;\">\n",
       "     They also have a higher chance of succeeding.\n",
       "    <span style=\"font-size: 0.8em; font-weight: bold; line-height: 1; border-radius: 0.35em; vertical-align: middle; margin-left: 0.5rem\">Evidence</span>\n",
       "</mark>\n",
       " \n",
       "<mark class=\"entity\" style=\"background: #ff8042; padding: 0.45em 0.6em; margin: 0 0.25em; line-height: 1; border-radius: 0.35em;\">\n",
       "    Some students may do better learning online than others \n",
       "    <span style=\"font-size: 0.8em; font-weight: bold; line-height: 1; border-radius: 0.35em; vertical-align: middle; margin-left: 0.5rem\">Counterclaim</span>\n",
       "</mark>\n",
       "\n",
       "<mark class=\"entity\" style=\"background: #ff0000; padding: 0.45em 0.6em; margin: 0 0.25em; line-height: 1; border-radius: 0.35em;\">\n",
       "    but it's still better going to school and learning.\n",
       "    <span style=\"font-size: 0.8em; font-weight: bold; line-height: 1; border-radius: 0.35em; vertical-align: middle; margin-left: 0.5rem\">Rebuttal</span>\n",
       "</mark>\n",
       " \n",
       "<mark class=\"entity\" style=\"background: #2adddd; padding: 0.45em 0.6em; margin: 0 0.25em; line-height: 1; border-radius: 0.35em;\">\n",
       "    It's also a much safer option\n",
       "    <span style=\"font-size: 0.8em; font-weight: bold; line-height: 1; border-radius: 0.35em; vertical-align: middle; margin-left: 0.5rem\">Evidence</span>\n",
       "</mark>\n",
       ".\n",
       "<mark class=\"entity\" style=\"background: #2adddd; padding: 0.45em 0.6em; margin: 0 0.25em; line-height: 1; border-radius: 0.35em;\">\n",
       "     I know I would do better going to school and learning. I would get distracted by my phone or video games or tv and then I wouldn't get any work done. If I'm at school I know I would get way more work done than I would if I was at home. Teachers are able to help me with my work and also keep off my phone. I often procrastinate while I'm working at home and it's hard to focus in that type of work enviroment. Meanwhile, if I'm at school teachers are there to keep me on track and help me on my path to finishing all of my work. I think I can speak for most students when I say that. We all love doing other things rather working on our work and if we can find any opportunities to get out of doing work then we will. Online education and a video conference are very easy to get out of if your not at school with a teacher watching.\n",
       "\n",
       "    <span style=\"font-size: 0.8em; font-weight: bold; line-height: 1; border-radius: 0.35em; vertical-align: middle; margin-left: 0.5rem\">Evidence</span>\n",
       "</mark>\n",
       "</br>\n",
       "<mark class=\"entity\" style=\"background: #ff8042; padding: 0.45em 0.6em; margin: 0 0.25em; line-height: 1; border-radius: 0.35em;\">\n",
       "    Some might say that if your learning online from home your parents can watch you or supervise. Yes that's true \n",
       "    <span style=\"font-size: 0.8em; font-weight: bold; line-height: 1; border-radius: 0.35em; vertical-align: middle; margin-left: 0.5rem\">Counterclaim</span>\n",
       "</mark>\n",
       "\n",
       "<mark class=\"entity\" style=\"background: #ff0000; padding: 0.45em 0.6em; margin: 0 0.25em; line-height: 1; border-radius: 0.35em;\">\n",
       "    but some students may go to their room and work or say their working when they're really not.\n",
       "    <span style=\"font-size: 0.8em; font-weight: bold; line-height: 1; border-radius: 0.35em; vertical-align: middle; margin-left: 0.5rem\">Rebuttal</span>\n",
       "</mark>\n",
       " \n",
       "<mark class=\"entity\" style=\"background: #2adddd; padding: 0.45em 0.6em; margin: 0 0.25em; line-height: 1; border-radius: 0.35em;\">\n",
       "    For example, one may be doing their work one moment and the next moment their doing something completely different. Once again that's another reason why going to school is a much safer option than learning online.\n",
       "    <span style=\"font-size: 0.8em; font-weight: bold; line-height: 1; border-radius: 0.35em; vertical-align: middle; margin-left: 0.5rem\">Evidence</span>\n",
       "</mark>\n",
       " \n",
       "<mark class=\"entity\" style=\"background: #ff8042; padding: 0.45em 0.6em; margin: 0 0.25em; line-height: 1; border-radius: 0.35em;\">\n",
       "    Even though some students can succeed learning online\n",
       "    <span style=\"font-size: 0.8em; font-weight: bold; line-height: 1; border-radius: 0.35em; vertical-align: middle; margin-left: 0.5rem\">Counterclaim</span>\n",
       "</mark>\n",
       " \n",
       "<mark class=\"entity\" style=\"background: #ff0000; padding: 0.45em 0.6em; margin: 0 0.25em; line-height: 1; border-radius: 0.35em;\">\n",
       "    others can't.\n",
       "    <span style=\"font-size: 0.8em; font-weight: bold; line-height: 1; border-radius: 0.35em; vertical-align: middle; margin-left: 0.5rem\">Rebuttal</span>\n",
       "</mark>\n",
       " \n",
       "<mark class=\"entity\" style=\"background: #80ffb4; padding: 0.45em 0.6em; margin: 0 0.25em; line-height: 1; border-radius: 0.35em;\">\n",
       "    Teachers shouldn't have to waste their time only teaching a couple students in class when others are at home learning.\n",
       "    <span style=\"font-size: 0.8em; font-weight: bold; line-height: 1; border-radius: 0.35em; vertical-align: middle; margin-left: 0.5rem\">Claim</span>\n",
       "</mark>\n",
       " \n",
       "<mark class=\"entity\" style=\"background: d4dd80; padding: 0.45em 0.6em; margin: 0 0.25em; line-height: 1; border-radius: 0.35em;\">\n",
       "    Having to go to school and being face to face with a teacher learning from them can benefit students way more than learning online or through a video conference can.\n",
       "    <span style=\"font-size: 0.8em; font-weight: bold; line-height: 1; border-radius: 0.35em; vertical-align: middle; margin-left: 0.5rem\">Concluding Statement</span>\n",
       "</mark>\n",
       "</div></span>"
      ],
      "text/plain": [
       "<IPython.core.display.HTML object>"
      ]
     },
     "metadata": {},
     "output_type": "display_data"
    }
   ],
   "source": [
    "visualize('149E8C278863')"
   ]
  },
  {
   "cell_type": "markdown",
   "id": "4a5406b8",
   "metadata": {
    "papermill": {
     "duration": 0.02778,
     "end_time": "2022-05-05T10:39:24.814514",
     "exception": false,
     "start_time": "2022-05-05T10:39:24.786734",
     "status": "completed"
    },
    "tags": []
   },
   "source": [
    "submission"
   ]
  },
  {
   "cell_type": "code",
   "execution_count": 23,
   "id": "87eb9227",
   "metadata": {
    "execution": {
     "iopub.execute_input": "2022-05-05T10:39:24.875265Z",
     "iopub.status.busy": "2022-05-05T10:39:24.874288Z",
     "iopub.status.idle": "2022-05-05T10:39:24.889628Z",
     "shell.execute_reply": "2022-05-05T10:39:24.890109Z",
     "shell.execute_reply.started": "2022-05-05T02:15:29.426457Z"
    },
    "papermill": {
     "duration": 0.047839,
     "end_time": "2022-05-05T10:39:24.890265",
     "exception": false,
     "start_time": "2022-05-05T10:39:24.842426",
     "status": "completed"
    },
    "tags": []
   },
   "outputs": [
    {
     "data": {
      "text/html": [
       "<div>\n",
       "<style scoped>\n",
       "    .dataframe tbody tr th:only-of-type {\n",
       "        vertical-align: middle;\n",
       "    }\n",
       "\n",
       "    .dataframe tbody tr th {\n",
       "        vertical-align: top;\n",
       "    }\n",
       "\n",
       "    .dataframe thead th {\n",
       "        text-align: right;\n",
       "    }\n",
       "</style>\n",
       "<table border=\"1\" class=\"dataframe\">\n",
       "  <thead>\n",
       "    <tr style=\"text-align: right;\">\n",
       "      <th></th>\n",
       "      <th>idx</th>\n",
       "      <th>target</th>\n",
       "    </tr>\n",
       "    <tr>\n",
       "      <th>row_id</th>\n",
       "      <th></th>\n",
       "      <th></th>\n",
       "    </tr>\n",
       "  </thead>\n",
       "  <tbody>\n",
       "    <tr>\n",
       "      <th>0</th>\n",
       "      <td>0</td>\n",
       "      <td>1</td>\n",
       "    </tr>\n",
       "    <tr>\n",
       "      <th>1</th>\n",
       "      <td>1</td>\n",
       "      <td>0</td>\n",
       "    </tr>\n",
       "    <tr>\n",
       "      <th>2</th>\n",
       "      <td>2</td>\n",
       "      <td>0</td>\n",
       "    </tr>\n",
       "    <tr>\n",
       "      <th>3</th>\n",
       "      <td>3</td>\n",
       "      <td>1</td>\n",
       "    </tr>\n",
       "    <tr>\n",
       "      <th>4</th>\n",
       "      <td>4</td>\n",
       "      <td>1</td>\n",
       "    </tr>\n",
       "  </tbody>\n",
       "</table>\n",
       "</div>"
      ],
      "text/plain": [
       "        idx  target\n",
       "row_id             \n",
       "0         0       1\n",
       "1         1       0\n",
       "2         2       0\n",
       "3         3       1\n",
       "4         4       1"
      ]
     },
     "execution_count": 23,
     "metadata": {},
     "output_type": "execute_result"
    }
   ],
   "source": [
    "submission=pd.DataFrame(index=pd.Series(name='row_id',dtype='int'),columns=['idx','target'])\n",
    "\n",
    "\n",
    "submission.idx=range(5)\n",
    "submission.target=[1,0,0,1,1]\n",
    "\n",
    "#submission.sort_index(inplace=True)\n",
    "\n",
    "#submission.to_csv(\"submission.csv\",index=idx)\n",
    "\n",
    "submission.head()"
   ]
  }
 ],
 "metadata": {
  "kernelspec": {
   "display_name": "Python 3.8.8 64-bit ('3.8.8')",
   "language": "python",
   "name": "python3"
  },
  "language_info": {
   "codemirror_mode": {
    "name": "ipython",
    "version": 3
   },
   "file_extension": ".py",
   "mimetype": "text/x-python",
   "name": "python",
   "nbconvert_exporter": "python",
   "pygments_lexer": "ipython3",
   "version": "3.8.8"
  },
  "papermill": {
   "default_parameters": {},
   "duration": 49.47683,
   "end_time": "2022-05-05T10:39:28.450766",
   "environment_variables": {},
   "exception": null,
   "input_path": "__notebook__.ipynb",
   "output_path": "__notebook__.ipynb",
   "parameters": {},
   "start_time": "2022-05-05T10:38:38.973936",
   "version": "2.3.3"
  },
  "vscode": {
   "interpreter": {
    "hash": "fd17d5da2af0bcc7eaf390db66240c85bfe1269ac9276cd8dea34bc6e0a4cc76"
   }
  }
 },
 "nbformat": 4,
 "nbformat_minor": 5
}
