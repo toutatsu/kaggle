{
 "cells": [
  {
   "cell_type": "markdown",
   "metadata": {},
   "source": [
    "# feedback-prize-effectiveness"
   ]
  },
  {
   "cell_type": "markdown",
   "metadata": {},
   "source": [
    "## import libraries"
   ]
  },
  {
   "cell_type": "code",
   "execution_count": 4,
   "metadata": {},
   "outputs": [],
   "source": [
    "import numpy as np\n",
    "import matplotlib.pyplot as plt\n",
    "import sys\n",
    "import os\n",
    "\n",
    "import pandas as pd\n",
    "\n",
    "import torch\n",
    "import transformers\n",
    "import datasets\n",
    "\n",
    "import importlib\n",
    "#importlib.reload(load_data)\n"
   ]
  },
  {
   "cell_type": "code",
   "execution_count": 6,
   "metadata": {},
   "outputs": [],
   "source": [
    "is_kaggle=os.getenv('KAGGLE_KERNEL_RUN_TYPE', '')\n",
    "\n",
    "if not is_kaggle:\n",
    "\n",
    "    sys.path.append('../')\n",
    "\n",
    "    from src.utils import config\n",
    "    #from src.utils import logger\n",
    "    from src.data import load_data\n",
    "\n",
    "    from src.models.huggingface_transformers import BERT\n",
    "\n",
    "    from src.training.huggingface_transformers import trainer"
   ]
  },
  {
   "cell_type": "code",
   "execution_count": null,
   "metadata": {},
   "outputs": [],
   "source": [
    "#logger=logger.Logger('test_log')"
   ]
  },
  {
   "cell_type": "code",
   "execution_count": 7,
   "metadata": {},
   "outputs": [],
   "source": [
    "CFG=config.CFG(competition_name='feedback-prize-2021')\n",
    "CFG.debug=False\n",
    "CFG.device = torch.device('cuda:0' if torch.cuda.is_available() else 'cpu')"
   ]
  },
  {
   "cell_type": "code",
   "execution_count": 8,
   "metadata": {},
   "outputs": [
    {
     "data": {
      "text/plain": [
       "'../data/'"
      ]
     },
     "execution_count": 8,
     "metadata": {},
     "output_type": "execute_result"
    }
   ],
   "source": [
    "CFG.data_path"
   ]
  },
  {
   "cell_type": "markdown",
   "metadata": {},
   "source": [
    "## data"
   ]
  },
  {
   "cell_type": "code",
   "execution_count": 13,
   "metadata": {},
   "outputs": [
    {
     "name": "stdout",
     "output_type": "stream",
     "text": [
      "Downloading feedback-prize-2021.zip to ../data/feedback-prize-2021\n"
     ]
    },
    {
     "name": "stderr",
     "output_type": "stream",
     "text": [
      "100%|██████████| 32.4M/32.4M [00:01<00:00, 24.9MB/s]"
     ]
    },
    {
     "name": "stdout",
     "output_type": "stream",
     "text": [
      "\n",
      "None\n"
     ]
    },
    {
     "name": "stderr",
     "output_type": "stream",
     "text": [
      "\n"
     ]
    }
   ],
   "source": [
    "if not CFG.is_kaggle :\n",
    "    load_data.download_data(CFG.data_path+CFG.competition_name+'/',CFG.competition_name)"
   ]
  },
  {
   "cell_type": "code",
   "execution_count": 15,
   "metadata": {},
   "outputs": [],
   "source": [
    "train_csv,sample_submission_csv=load_data.load_data(CFG.data_path+CFG.competition_name+'/',debug=CFG.debug)\n",
    "test_csv=sample_submission_csv.copy()"
   ]
  },
  {
   "cell_type": "code",
   "execution_count": 16,
   "metadata": {},
   "outputs": [
    {
     "data": {
      "text/html": [
       "<div>\n",
       "<style scoped>\n",
       "    .dataframe tbody tr th:only-of-type {\n",
       "        vertical-align: middle;\n",
       "    }\n",
       "\n",
       "    .dataframe tbody tr th {\n",
       "        vertical-align: top;\n",
       "    }\n",
       "\n",
       "    .dataframe thead th {\n",
       "        text-align: right;\n",
       "    }\n",
       "</style>\n",
       "<table border=\"1\" class=\"dataframe\">\n",
       "  <thead>\n",
       "    <tr style=\"text-align: right;\">\n",
       "      <th></th>\n",
       "      <th>id</th>\n",
       "      <th>discourse_id</th>\n",
       "      <th>discourse_start</th>\n",
       "      <th>discourse_end</th>\n",
       "      <th>discourse_text</th>\n",
       "      <th>discourse_type</th>\n",
       "      <th>discourse_type_num</th>\n",
       "      <th>predictionstring</th>\n",
       "    </tr>\n",
       "  </thead>\n",
       "  <tbody>\n",
       "    <tr>\n",
       "      <th>7881</th>\n",
       "      <td>2C27E003116B</td>\n",
       "      <td>1.622648e+12</td>\n",
       "      <td>408.0</td>\n",
       "      <td>529.0</td>\n",
       "      <td>Think of all the money people would save becau...</td>\n",
       "      <td>Claim</td>\n",
       "      <td>Claim 1</td>\n",
       "      <td>71 72 73 74 75 76 77 78 79 80 81 82 83 84 85 8...</td>\n",
       "    </tr>\n",
       "    <tr>\n",
       "      <th>89707</th>\n",
       "      <td>7BEB99575D62</td>\n",
       "      <td>1.615844e+12</td>\n",
       "      <td>135.0</td>\n",
       "      <td>198.0</td>\n",
       "      <td>Popular vote is a more efficent way to vote fo...</td>\n",
       "      <td>Claim</td>\n",
       "      <td>Claim 1</td>\n",
       "      <td>21 22 23 24 25 26 27 28 29 30 31 32</td>\n",
       "    </tr>\n",
       "    <tr>\n",
       "      <th>64633</th>\n",
       "      <td>CE4EFA6441C4</td>\n",
       "      <td>1.614611e+12</td>\n",
       "      <td>935.0</td>\n",
       "      <td>1460.0</td>\n",
       "      <td>or most problems, the town pays people or a bu...</td>\n",
       "      <td>Evidence</td>\n",
       "      <td>Evidence 2</td>\n",
       "      <td>168 169 170 171 172 173 174 175 176 177 178 17...</td>\n",
       "    </tr>\n",
       "    <tr>\n",
       "      <th>132774</th>\n",
       "      <td>0EE6F614F2F0</td>\n",
       "      <td>1.618171e+12</td>\n",
       "      <td>110.0</td>\n",
       "      <td>180.0</td>\n",
       "      <td>Seeking more than one opinion can provide som...</td>\n",
       "      <td>Position</td>\n",
       "      <td>Position 1</td>\n",
       "      <td>20 21 22 23 24 25 26 27 28 29 30</td>\n",
       "    </tr>\n",
       "    <tr>\n",
       "      <th>92682</th>\n",
       "      <td>6E72E9EADF75</td>\n",
       "      <td>1.614702e+12</td>\n",
       "      <td>0.0</td>\n",
       "      <td>326.0</td>\n",
       "      <td>\" What's wrong with the Electoral College?\" To...</td>\n",
       "      <td>Lead</td>\n",
       "      <td>Lead 1</td>\n",
       "      <td>0 1 2 3 4 5 6 7 8 9 10 11 12 13 14 15 16 17 18...</td>\n",
       "    </tr>\n",
       "    <tr>\n",
       "      <th>...</th>\n",
       "      <td>...</td>\n",
       "      <td>...</td>\n",
       "      <td>...</td>\n",
       "      <td>...</td>\n",
       "      <td>...</td>\n",
       "      <td>...</td>\n",
       "      <td>...</td>\n",
       "      <td>...</td>\n",
       "    </tr>\n",
       "    <tr>\n",
       "      <th>13354</th>\n",
       "      <td>96DE1AD15FD2</td>\n",
       "      <td>1.622567e+12</td>\n",
       "      <td>2996.0</td>\n",
       "      <td>4037.0</td>\n",
       "      <td>WEEE-WOO-WEEH-WOO\\n\\n!!! This is the sound of ...</td>\n",
       "      <td>Evidence</td>\n",
       "      <td>Evidence 4</td>\n",
       "      <td>505 506 507 508 509 510 511 512 513 514 515 51...</td>\n",
       "    </tr>\n",
       "    <tr>\n",
       "      <th>32205</th>\n",
       "      <td>D9B3809280F9</td>\n",
       "      <td>1.615924e+12</td>\n",
       "      <td>180.0</td>\n",
       "      <td>238.0</td>\n",
       "      <td>Doing activities that aren't required have man...</td>\n",
       "      <td>Evidence</td>\n",
       "      <td>Evidence 1</td>\n",
       "      <td>27 28 29 30 31 32 33 34</td>\n",
       "    </tr>\n",
       "    <tr>\n",
       "      <th>19805</th>\n",
       "      <td>EF3D0D368ED7</td>\n",
       "      <td>1.618800e+12</td>\n",
       "      <td>663.0</td>\n",
       "      <td>703.0</td>\n",
       "      <td>it provides a challenge to the students.</td>\n",
       "      <td>Claim</td>\n",
       "      <td>Claim 4</td>\n",
       "      <td>112 113 114 115 116 117 118</td>\n",
       "    </tr>\n",
       "    <tr>\n",
       "      <th>117521</th>\n",
       "      <td>631F9CBDFD7A</td>\n",
       "      <td>1.621448e+12</td>\n",
       "      <td>129.0</td>\n",
       "      <td>170.0</td>\n",
       "      <td>some students like work on the computers,</td>\n",
       "      <td>Claim</td>\n",
       "      <td>Claim 2</td>\n",
       "      <td>24 25 26 27 28 29 30</td>\n",
       "    </tr>\n",
       "    <tr>\n",
       "      <th>8520</th>\n",
       "      <td>72B560BE6C3B</td>\n",
       "      <td>1.622466e+12</td>\n",
       "      <td>1217.0</td>\n",
       "      <td>1288.0</td>\n",
       "      <td>however, they don't think about how it can hel...</td>\n",
       "      <td>Rebuttal</td>\n",
       "      <td>Rebuttal 1</td>\n",
       "      <td>198 199 200 201 202 203 204 205 206 207 208 20...</td>\n",
       "    </tr>\n",
       "  </tbody>\n",
       "</table>\n",
       "<p>1443 rows × 8 columns</p>\n",
       "</div>"
      ],
      "text/plain": [
       "                  id  discourse_id  discourse_start  discourse_end  \\\n",
       "7881    2C27E003116B  1.622648e+12            408.0          529.0   \n",
       "89707   7BEB99575D62  1.615844e+12            135.0          198.0   \n",
       "64633   CE4EFA6441C4  1.614611e+12            935.0         1460.0   \n",
       "132774  0EE6F614F2F0  1.618171e+12            110.0          180.0   \n",
       "92682   6E72E9EADF75  1.614702e+12              0.0          326.0   \n",
       "...              ...           ...              ...            ...   \n",
       "13354   96DE1AD15FD2  1.622567e+12           2996.0         4037.0   \n",
       "32205   D9B3809280F9  1.615924e+12            180.0          238.0   \n",
       "19805   EF3D0D368ED7  1.618800e+12            663.0          703.0   \n",
       "117521  631F9CBDFD7A  1.621448e+12            129.0          170.0   \n",
       "8520    72B560BE6C3B  1.622466e+12           1217.0         1288.0   \n",
       "\n",
       "                                           discourse_text discourse_type  \\\n",
       "7881    Think of all the money people would save becau...          Claim   \n",
       "89707   Popular vote is a more efficent way to vote fo...          Claim   \n",
       "64633   or most problems, the town pays people or a bu...       Evidence   \n",
       "132774   Seeking more than one opinion can provide som...       Position   \n",
       "92682   \" What's wrong with the Electoral College?\" To...           Lead   \n",
       "...                                                   ...            ...   \n",
       "13354   WEEE-WOO-WEEH-WOO\\n\\n!!! This is the sound of ...       Evidence   \n",
       "32205   Doing activities that aren't required have man...       Evidence   \n",
       "19805            it provides a challenge to the students.          Claim   \n",
       "117521          some students like work on the computers,          Claim   \n",
       "8520    however, they don't think about how it can hel...       Rebuttal   \n",
       "\n",
       "       discourse_type_num                                   predictionstring  \n",
       "7881              Claim 1  71 72 73 74 75 76 77 78 79 80 81 82 83 84 85 8...  \n",
       "89707             Claim 1                21 22 23 24 25 26 27 28 29 30 31 32  \n",
       "64633          Evidence 2  168 169 170 171 172 173 174 175 176 177 178 17...  \n",
       "132774         Position 1                   20 21 22 23 24 25 26 27 28 29 30  \n",
       "92682              Lead 1  0 1 2 3 4 5 6 7 8 9 10 11 12 13 14 15 16 17 18...  \n",
       "...                   ...                                                ...  \n",
       "13354          Evidence 4  505 506 507 508 509 510 511 512 513 514 515 51...  \n",
       "32205          Evidence 1                            27 28 29 30 31 32 33 34  \n",
       "19805             Claim 4                        112 113 114 115 116 117 118  \n",
       "117521            Claim 2                               24 25 26 27 28 29 30  \n",
       "8520           Rebuttal 1  198 199 200 201 202 203 204 205 206 207 208 20...  \n",
       "\n",
       "[1443 rows x 8 columns]"
      ]
     },
     "execution_count": 16,
     "metadata": {},
     "output_type": "execute_result"
    }
   ],
   "source": [
    "train_csv"
   ]
  },
  {
   "cell_type": "code",
   "execution_count": 17,
   "metadata": {},
   "outputs": [
    {
     "data": {
      "text/html": [
       "<div>\n",
       "<style scoped>\n",
       "    .dataframe tbody tr th:only-of-type {\n",
       "        vertical-align: middle;\n",
       "    }\n",
       "\n",
       "    .dataframe tbody tr th {\n",
       "        vertical-align: top;\n",
       "    }\n",
       "\n",
       "    .dataframe thead th {\n",
       "        text-align: right;\n",
       "    }\n",
       "</style>\n",
       "<table border=\"1\" class=\"dataframe\">\n",
       "  <thead>\n",
       "    <tr style=\"text-align: right;\">\n",
       "      <th></th>\n",
       "      <th>id</th>\n",
       "      <th>class</th>\n",
       "      <th>predictionstring</th>\n",
       "      <th>discourse_text</th>\n",
       "    </tr>\n",
       "  </thead>\n",
       "  <tbody>\n",
       "    <tr>\n",
       "      <th>0</th>\n",
       "      <td>18409261F5C2</td>\n",
       "      <td>NaN</td>\n",
       "      <td>NaN</td>\n",
       "      <td>80% of Americans believe seeking multiple opin...</td>\n",
       "    </tr>\n",
       "    <tr>\n",
       "      <th>1</th>\n",
       "      <td>D46BCB48440A</td>\n",
       "      <td>NaN</td>\n",
       "      <td>NaN</td>\n",
       "      <td>When people ask for advice,they sometimes talk...</td>\n",
       "    </tr>\n",
       "    <tr>\n",
       "      <th>2</th>\n",
       "      <td>0FB0700DAF44</td>\n",
       "      <td>NaN</td>\n",
       "      <td>NaN</td>\n",
       "      <td>During a group project, have you ever asked a ...</td>\n",
       "    </tr>\n",
       "    <tr>\n",
       "      <th>3</th>\n",
       "      <td>D72CB1C11673</td>\n",
       "      <td>NaN</td>\n",
       "      <td>NaN</td>\n",
       "      <td>Making choices in life can be very difficult. ...</td>\n",
       "    </tr>\n",
       "    <tr>\n",
       "      <th>4</th>\n",
       "      <td>DF920E0A7337</td>\n",
       "      <td>NaN</td>\n",
       "      <td>NaN</td>\n",
       "      <td>Have you ever asked more than one person for h...</td>\n",
       "    </tr>\n",
       "  </tbody>\n",
       "</table>\n",
       "</div>"
      ],
      "text/plain": [
       "             id  class  predictionstring  \\\n",
       "0  18409261F5C2    NaN               NaN   \n",
       "1  D46BCB48440A    NaN               NaN   \n",
       "2  0FB0700DAF44    NaN               NaN   \n",
       "3  D72CB1C11673    NaN               NaN   \n",
       "4  DF920E0A7337    NaN               NaN   \n",
       "\n",
       "                                      discourse_text  \n",
       "0  80% of Americans believe seeking multiple opin...  \n",
       "1  When people ask for advice,they sometimes talk...  \n",
       "2  During a group project, have you ever asked a ...  \n",
       "3  Making choices in life can be very difficult. ...  \n",
       "4  Have you ever asked more than one person for h...  "
      ]
     },
     "execution_count": 17,
     "metadata": {},
     "output_type": "execute_result"
    }
   ],
   "source": [
    "test_csv['discourse_text']=[open(CFG.data_path+'feedback-prize-2021/test/'+id+'.txt', 'r', encoding='UTF-8').read() for id in test_csv.id]\n",
    "test_csv"
   ]
  },
  {
   "cell_type": "markdown",
   "metadata": {},
   "source": [
    "## feature"
   ]
  },
  {
   "cell_type": "code",
   "execution_count": 18,
   "metadata": {},
   "outputs": [
    {
     "data": {
      "application/json": {
       "ascii": false,
       "bar_format": null,
       "colour": null,
       "elapsed": 0.029604673385620117,
       "initial": 0,
       "n": 0,
       "ncols": null,
       "nrows": null,
       "postfix": null,
       "prefix": "Downloading",
       "rate": null,
       "total": 231508,
       "unit": "B",
       "unit_divisor": 1000,
       "unit_scale": true
      },
      "application/vnd.jupyter.widget-view+json": {
       "model_id": "d76c64f6498d49139dab35a7bfb12b2a",
       "version_major": 2,
       "version_minor": 0
      },
      "text/plain": [
       "Downloading:   0%|          | 0.00/232k [00:00<?, ?B/s]"
      ]
     },
     "metadata": {},
     "output_type": "display_data"
    },
    {
     "data": {
      "application/json": {
       "ascii": false,
       "bar_format": null,
       "colour": null,
       "elapsed": 0.027877092361450195,
       "initial": 0,
       "n": 0,
       "ncols": null,
       "nrows": null,
       "postfix": null,
       "prefix": "Downloading",
       "rate": null,
       "total": 28,
       "unit": "B",
       "unit_divisor": 1000,
       "unit_scale": true
      },
      "application/vnd.jupyter.widget-view+json": {
       "model_id": "1e9764c08d434d819bb5679cd0424491",
       "version_major": 2,
       "version_minor": 0
      },
      "text/plain": [
       "Downloading:   0%|          | 0.00/28.0 [00:00<?, ?B/s]"
      ]
     },
     "metadata": {},
     "output_type": "display_data"
    },
    {
     "data": {
      "application/json": {
       "ascii": false,
       "bar_format": null,
       "colour": null,
       "elapsed": 0.028309106826782227,
       "initial": 0,
       "n": 0,
       "ncols": null,
       "nrows": null,
       "postfix": null,
       "prefix": "Downloading",
       "rate": null,
       "total": 570,
       "unit": "B",
       "unit_divisor": 1000,
       "unit_scale": true
      },
      "application/vnd.jupyter.widget-view+json": {
       "model_id": "d5d53224727c4b6fa9a744e46d0de3ee",
       "version_major": 2,
       "version_minor": 0
      },
      "text/plain": [
       "Downloading:   0%|          | 0.00/570 [00:00<?, ?B/s]"
      ]
     },
     "metadata": {},
     "output_type": "display_data"
    },
    {
     "data": {
      "application/json": {
       "ascii": false,
       "bar_format": null,
       "colour": null,
       "elapsed": 0.02793264389038086,
       "initial": 0,
       "n": 0,
       "ncols": null,
       "nrows": null,
       "postfix": null,
       "prefix": "Downloading",
       "rate": null,
       "total": 440473133,
       "unit": "B",
       "unit_divisor": 1000,
       "unit_scale": true
      },
      "application/vnd.jupyter.widget-view+json": {
       "model_id": "0b5922f8e4204696b6d0bdd3d4fdbae5",
       "version_major": 2,
       "version_minor": 0
      },
      "text/plain": [
       "Downloading:   0%|          | 0.00/440M [00:00<?, ?B/s]"
      ]
     },
     "metadata": {},
     "output_type": "display_data"
    },
    {
     "name": "stderr",
     "output_type": "stream",
     "text": [
      "Some weights of the model checkpoint at bert-base-uncased were not used when initializing BertForSequenceClassification: ['cls.predictions.transform.LayerNorm.bias', 'cls.seq_relationship.bias', 'cls.predictions.bias', 'cls.predictions.decoder.weight', 'cls.predictions.transform.dense.weight', 'cls.predictions.transform.dense.bias', 'cls.predictions.transform.LayerNorm.weight', 'cls.seq_relationship.weight']\n",
      "- This IS expected if you are initializing BertForSequenceClassification from the checkpoint of a model trained on another task or with another architecture (e.g. initializing a BertForSequenceClassification model from a BertForPreTraining model).\n",
      "- This IS NOT expected if you are initializing BertForSequenceClassification from the checkpoint of a model that you expect to be exactly identical (initializing a BertForSequenceClassification model from a BertForSequenceClassification model).\n",
      "Some weights of BertForSequenceClassification were not initialized from the model checkpoint at bert-base-uncased and are newly initialized: ['classifier.weight', 'classifier.bias']\n",
      "You should probably TRAIN this model on a down-stream task to be able to use it for predictions and inference.\n"
     ]
    }
   ],
   "source": [
    "model_name='BERT'\n",
    "\n",
    "training=True\n",
    "\n",
    "if training:\n",
    "    pretrained_model='bert-base-uncased'\n",
    "    #pretrained_model=CFG.output_path+''\n",
    "else :\n",
    "    pretrained_model=CFG.weights_path+model_name+'/'\n",
    "    \n",
    "\n",
    "model=BERT.transformers_BERT(pretrained_path=pretrained_model,device=CFG.device)"
   ]
  },
  {
   "cell_type": "code",
   "execution_count": 19,
   "metadata": {},
   "outputs": [],
   "source": [
    "train_csv['input'] = train_csv.discourse_text\n",
    "test_csv['input'] = test_csv.discourse_text"
   ]
  },
  {
   "cell_type": "code",
   "execution_count": 20,
   "metadata": {},
   "outputs": [],
   "source": [
    "train_csv['label']=train_csv['discourse_type']\n",
    "train_csv = train_csv.replace(\n",
    "    {\n",
    "        \"label\":\n",
    "        {\n",
    "            'Lead': 0,\n",
    "            'Position': 1,\n",
    "            'Evidence': 2,\n",
    "            'Claim': 3,\n",
    "            'Concluding Statement': 4,\n",
    "            'Counterclaim': 5,\n",
    "            'Rebuttal': 6\n",
    "        }\n",
    "    }\n",
    ")\n",
    "\n",
    "#train_csv = train_csv.rename(columns = {\"discourse_effectiveness\": \"label\"})"
   ]
  },
  {
   "cell_type": "code",
   "execution_count": 21,
   "metadata": {},
   "outputs": [
    {
     "data": {
      "text/html": [
       "<div>\n",
       "<style scoped>\n",
       "    .dataframe tbody tr th:only-of-type {\n",
       "        vertical-align: middle;\n",
       "    }\n",
       "\n",
       "    .dataframe tbody tr th {\n",
       "        vertical-align: top;\n",
       "    }\n",
       "\n",
       "    .dataframe thead th {\n",
       "        text-align: right;\n",
       "    }\n",
       "</style>\n",
       "<table border=\"1\" class=\"dataframe\">\n",
       "  <thead>\n",
       "    <tr style=\"text-align: right;\">\n",
       "      <th></th>\n",
       "      <th>id</th>\n",
       "      <th>discourse_id</th>\n",
       "      <th>discourse_start</th>\n",
       "      <th>discourse_end</th>\n",
       "      <th>discourse_text</th>\n",
       "      <th>discourse_type</th>\n",
       "      <th>discourse_type_num</th>\n",
       "      <th>predictionstring</th>\n",
       "      <th>input</th>\n",
       "      <th>label</th>\n",
       "    </tr>\n",
       "  </thead>\n",
       "  <tbody>\n",
       "    <tr>\n",
       "      <th>7881</th>\n",
       "      <td>2C27E003116B</td>\n",
       "      <td>1.622648e+12</td>\n",
       "      <td>408.0</td>\n",
       "      <td>529.0</td>\n",
       "      <td>Think of all the money people would save becau...</td>\n",
       "      <td>Claim</td>\n",
       "      <td>Claim 1</td>\n",
       "      <td>71 72 73 74 75 76 77 78 79 80 81 82 83 84 85 8...</td>\n",
       "      <td>Think of all the money people would save becau...</td>\n",
       "      <td>3</td>\n",
       "    </tr>\n",
       "    <tr>\n",
       "      <th>89707</th>\n",
       "      <td>7BEB99575D62</td>\n",
       "      <td>1.615844e+12</td>\n",
       "      <td>135.0</td>\n",
       "      <td>198.0</td>\n",
       "      <td>Popular vote is a more efficent way to vote fo...</td>\n",
       "      <td>Claim</td>\n",
       "      <td>Claim 1</td>\n",
       "      <td>21 22 23 24 25 26 27 28 29 30 31 32</td>\n",
       "      <td>Popular vote is a more efficent way to vote fo...</td>\n",
       "      <td>3</td>\n",
       "    </tr>\n",
       "    <tr>\n",
       "      <th>64633</th>\n",
       "      <td>CE4EFA6441C4</td>\n",
       "      <td>1.614611e+12</td>\n",
       "      <td>935.0</td>\n",
       "      <td>1460.0</td>\n",
       "      <td>or most problems, the town pays people or a bu...</td>\n",
       "      <td>Evidence</td>\n",
       "      <td>Evidence 2</td>\n",
       "      <td>168 169 170 171 172 173 174 175 176 177 178 17...</td>\n",
       "      <td>or most problems, the town pays people or a bu...</td>\n",
       "      <td>2</td>\n",
       "    </tr>\n",
       "    <tr>\n",
       "      <th>132774</th>\n",
       "      <td>0EE6F614F2F0</td>\n",
       "      <td>1.618171e+12</td>\n",
       "      <td>110.0</td>\n",
       "      <td>180.0</td>\n",
       "      <td>Seeking more than one opinion can provide som...</td>\n",
       "      <td>Position</td>\n",
       "      <td>Position 1</td>\n",
       "      <td>20 21 22 23 24 25 26 27 28 29 30</td>\n",
       "      <td>Seeking more than one opinion can provide som...</td>\n",
       "      <td>1</td>\n",
       "    </tr>\n",
       "    <tr>\n",
       "      <th>92682</th>\n",
       "      <td>6E72E9EADF75</td>\n",
       "      <td>1.614702e+12</td>\n",
       "      <td>0.0</td>\n",
       "      <td>326.0</td>\n",
       "      <td>\" What's wrong with the Electoral College?\" To...</td>\n",
       "      <td>Lead</td>\n",
       "      <td>Lead 1</td>\n",
       "      <td>0 1 2 3 4 5 6 7 8 9 10 11 12 13 14 15 16 17 18...</td>\n",
       "      <td>\" What's wrong with the Electoral College?\" To...</td>\n",
       "      <td>0</td>\n",
       "    </tr>\n",
       "    <tr>\n",
       "      <th>...</th>\n",
       "      <td>...</td>\n",
       "      <td>...</td>\n",
       "      <td>...</td>\n",
       "      <td>...</td>\n",
       "      <td>...</td>\n",
       "      <td>...</td>\n",
       "      <td>...</td>\n",
       "      <td>...</td>\n",
       "      <td>...</td>\n",
       "      <td>...</td>\n",
       "    </tr>\n",
       "    <tr>\n",
       "      <th>13354</th>\n",
       "      <td>96DE1AD15FD2</td>\n",
       "      <td>1.622567e+12</td>\n",
       "      <td>2996.0</td>\n",
       "      <td>4037.0</td>\n",
       "      <td>WEEE-WOO-WEEH-WOO\\n\\n!!! This is the sound of ...</td>\n",
       "      <td>Evidence</td>\n",
       "      <td>Evidence 4</td>\n",
       "      <td>505 506 507 508 509 510 511 512 513 514 515 51...</td>\n",
       "      <td>WEEE-WOO-WEEH-WOO\\n\\n!!! This is the sound of ...</td>\n",
       "      <td>2</td>\n",
       "    </tr>\n",
       "    <tr>\n",
       "      <th>32205</th>\n",
       "      <td>D9B3809280F9</td>\n",
       "      <td>1.615924e+12</td>\n",
       "      <td>180.0</td>\n",
       "      <td>238.0</td>\n",
       "      <td>Doing activities that aren't required have man...</td>\n",
       "      <td>Evidence</td>\n",
       "      <td>Evidence 1</td>\n",
       "      <td>27 28 29 30 31 32 33 34</td>\n",
       "      <td>Doing activities that aren't required have man...</td>\n",
       "      <td>2</td>\n",
       "    </tr>\n",
       "    <tr>\n",
       "      <th>19805</th>\n",
       "      <td>EF3D0D368ED7</td>\n",
       "      <td>1.618800e+12</td>\n",
       "      <td>663.0</td>\n",
       "      <td>703.0</td>\n",
       "      <td>it provides a challenge to the students.</td>\n",
       "      <td>Claim</td>\n",
       "      <td>Claim 4</td>\n",
       "      <td>112 113 114 115 116 117 118</td>\n",
       "      <td>it provides a challenge to the students.</td>\n",
       "      <td>3</td>\n",
       "    </tr>\n",
       "    <tr>\n",
       "      <th>117521</th>\n",
       "      <td>631F9CBDFD7A</td>\n",
       "      <td>1.621448e+12</td>\n",
       "      <td>129.0</td>\n",
       "      <td>170.0</td>\n",
       "      <td>some students like work on the computers,</td>\n",
       "      <td>Claim</td>\n",
       "      <td>Claim 2</td>\n",
       "      <td>24 25 26 27 28 29 30</td>\n",
       "      <td>some students like work on the computers,</td>\n",
       "      <td>3</td>\n",
       "    </tr>\n",
       "    <tr>\n",
       "      <th>8520</th>\n",
       "      <td>72B560BE6C3B</td>\n",
       "      <td>1.622466e+12</td>\n",
       "      <td>1217.0</td>\n",
       "      <td>1288.0</td>\n",
       "      <td>however, they don't think about how it can hel...</td>\n",
       "      <td>Rebuttal</td>\n",
       "      <td>Rebuttal 1</td>\n",
       "      <td>198 199 200 201 202 203 204 205 206 207 208 20...</td>\n",
       "      <td>however, they don't think about how it can hel...</td>\n",
       "      <td>6</td>\n",
       "    </tr>\n",
       "  </tbody>\n",
       "</table>\n",
       "<p>1443 rows × 10 columns</p>\n",
       "</div>"
      ],
      "text/plain": [
       "                  id  discourse_id  discourse_start  discourse_end  \\\n",
       "7881    2C27E003116B  1.622648e+12            408.0          529.0   \n",
       "89707   7BEB99575D62  1.615844e+12            135.0          198.0   \n",
       "64633   CE4EFA6441C4  1.614611e+12            935.0         1460.0   \n",
       "132774  0EE6F614F2F0  1.618171e+12            110.0          180.0   \n",
       "92682   6E72E9EADF75  1.614702e+12              0.0          326.0   \n",
       "...              ...           ...              ...            ...   \n",
       "13354   96DE1AD15FD2  1.622567e+12           2996.0         4037.0   \n",
       "32205   D9B3809280F9  1.615924e+12            180.0          238.0   \n",
       "19805   EF3D0D368ED7  1.618800e+12            663.0          703.0   \n",
       "117521  631F9CBDFD7A  1.621448e+12            129.0          170.0   \n",
       "8520    72B560BE6C3B  1.622466e+12           1217.0         1288.0   \n",
       "\n",
       "                                           discourse_text discourse_type  \\\n",
       "7881    Think of all the money people would save becau...          Claim   \n",
       "89707   Popular vote is a more efficent way to vote fo...          Claim   \n",
       "64633   or most problems, the town pays people or a bu...       Evidence   \n",
       "132774   Seeking more than one opinion can provide som...       Position   \n",
       "92682   \" What's wrong with the Electoral College?\" To...           Lead   \n",
       "...                                                   ...            ...   \n",
       "13354   WEEE-WOO-WEEH-WOO\\n\\n!!! This is the sound of ...       Evidence   \n",
       "32205   Doing activities that aren't required have man...       Evidence   \n",
       "19805            it provides a challenge to the students.          Claim   \n",
       "117521          some students like work on the computers,          Claim   \n",
       "8520    however, they don't think about how it can hel...       Rebuttal   \n",
       "\n",
       "       discourse_type_num                                   predictionstring  \\\n",
       "7881              Claim 1  71 72 73 74 75 76 77 78 79 80 81 82 83 84 85 8...   \n",
       "89707             Claim 1                21 22 23 24 25 26 27 28 29 30 31 32   \n",
       "64633          Evidence 2  168 169 170 171 172 173 174 175 176 177 178 17...   \n",
       "132774         Position 1                   20 21 22 23 24 25 26 27 28 29 30   \n",
       "92682              Lead 1  0 1 2 3 4 5 6 7 8 9 10 11 12 13 14 15 16 17 18...   \n",
       "...                   ...                                                ...   \n",
       "13354          Evidence 4  505 506 507 508 509 510 511 512 513 514 515 51...   \n",
       "32205          Evidence 1                            27 28 29 30 31 32 33 34   \n",
       "19805             Claim 4                        112 113 114 115 116 117 118   \n",
       "117521            Claim 2                               24 25 26 27 28 29 30   \n",
       "8520           Rebuttal 1  198 199 200 201 202 203 204 205 206 207 208 20...   \n",
       "\n",
       "                                                    input  label  \n",
       "7881    Think of all the money people would save becau...      3  \n",
       "89707   Popular vote is a more efficent way to vote fo...      3  \n",
       "64633   or most problems, the town pays people or a bu...      2  \n",
       "132774   Seeking more than one opinion can provide som...      1  \n",
       "92682   \" What's wrong with the Electoral College?\" To...      0  \n",
       "...                                                   ...    ...  \n",
       "13354   WEEE-WOO-WEEH-WOO\\n\\n!!! This is the sound of ...      2  \n",
       "32205   Doing activities that aren't required have man...      2  \n",
       "19805            it provides a challenge to the students.      3  \n",
       "117521          some students like work on the computers,      3  \n",
       "8520    however, they don't think about how it can hel...      6  \n",
       "\n",
       "[1443 rows x 10 columns]"
      ]
     },
     "execution_count": 21,
     "metadata": {},
     "output_type": "execute_result"
    }
   ],
   "source": [
    "train_csv"
   ]
  },
  {
   "cell_type": "markdown",
   "metadata": {},
   "source": [
    "### train val split"
   ]
  },
  {
   "cell_type": "code",
   "execution_count": 22,
   "metadata": {},
   "outputs": [],
   "source": [
    "essay_ids={'train':None,'val':None}\n",
    "essay_ids['train'],essay_ids['val']=load_data.split(train_csv.id.unique())"
   ]
  },
  {
   "cell_type": "code",
   "execution_count": 23,
   "metadata": {},
   "outputs": [],
   "source": [
    "train_csv['train_val']=train_csv.id.isin(essay_ids['train']).replace({True: 'train',False: 'val'})"
   ]
  },
  {
   "cell_type": "code",
   "execution_count": 24,
   "metadata": {},
   "outputs": [],
   "source": [
    "df={'train':None,'val':None,'test':None}\n",
    "df['train']=train_csv[train_csv['train_val']=='train']\n",
    "df['val']=train_csv[train_csv['train_val']=='val']\n",
    "df['test']=test_csv"
   ]
  },
  {
   "cell_type": "markdown",
   "metadata": {},
   "source": [
    "## training"
   ]
  },
  {
   "cell_type": "code",
   "execution_count": 25,
   "metadata": {},
   "outputs": [],
   "source": [
    "dataset={'train':None,'val':None,'test':None}\n",
    "\n",
    "dataset['train'] = datasets.Dataset.from_pandas(df['train'])\n",
    "dataset['val'] = datasets.Dataset.from_pandas(df['val'])\n",
    "dataset['test'] = datasets.Dataset.from_pandas(df['test'])"
   ]
  },
  {
   "cell_type": "code",
   "execution_count": 26,
   "metadata": {},
   "outputs": [
    {
     "data": {
      "text/plain": [
       "Index(['id', 'discourse_id', 'discourse_start', 'discourse_end',\n",
       "       'discourse_text', 'discourse_type', 'discourse_type_num',\n",
       "       'predictionstring', 'input', 'label', 'train_val'],\n",
       "      dtype='object')"
      ]
     },
     "execution_count": 26,
     "metadata": {},
     "output_type": "execute_result"
    }
   ],
   "source": [
    "df['val'].keys()"
   ]
  },
  {
   "cell_type": "code",
   "execution_count": 27,
   "metadata": {},
   "outputs": [
    {
     "data": {
      "text/plain": [
       "{'train': Dataset({\n",
       "     features: ['id', 'discourse_id', 'discourse_start', 'discourse_end', 'discourse_text', 'discourse_type', 'discourse_type_num', 'predictionstring', 'input', 'label', 'train_val', '__index_level_0__'],\n",
       "     num_rows: 1149\n",
       " }),\n",
       " 'val': Dataset({\n",
       "     features: ['id', 'discourse_id', 'discourse_start', 'discourse_end', 'discourse_text', 'discourse_type', 'discourse_type_num', 'predictionstring', 'input', 'label', 'train_val', '__index_level_0__'],\n",
       "     num_rows: 294\n",
       " }),\n",
       " 'test': Dataset({\n",
       "     features: ['id', 'class', 'predictionstring', 'discourse_text', 'input'],\n",
       "     num_rows: 5\n",
       " })}"
      ]
     },
     "execution_count": 27,
     "metadata": {},
     "output_type": "execute_result"
    }
   ],
   "source": [
    "dataset"
   ]
  },
  {
   "cell_type": "code",
   "execution_count": 28,
   "metadata": {},
   "outputs": [
    {
     "data": {
      "text/plain": [
       "{'id': '2C27E003116B',\n",
       " 'discourse_id': 1622648395409.0,\n",
       " 'discourse_start': 408.0,\n",
       " 'discourse_end': 529.0,\n",
       " 'discourse_text': \"Think of all the money people would save because they wouldn't have to spend so much on gas and maintence of their cars. \",\n",
       " 'discourse_type': 'Claim',\n",
       " 'discourse_type_num': 'Claim 1',\n",
       " 'predictionstring': '71 72 73 74 75 76 77 78 79 80 81 82 83 84 85 86 87 88 89 90 91 92 93',\n",
       " 'input': \"Think of all the money people would save because they wouldn't have to spend so much on gas and maintence of their cars. \",\n",
       " 'label': 3,\n",
       " 'train_val': 'train',\n",
       " '__index_level_0__': 7881}"
      ]
     },
     "execution_count": 28,
     "metadata": {},
     "output_type": "execute_result"
    }
   ],
   "source": [
    "dataset['train'][0]"
   ]
  },
  {
   "cell_type": "code",
   "execution_count": 29,
   "metadata": {},
   "outputs": [
    {
     "data": {
      "text/plain": [
       "{'input_ids': [101, 2228, 1997, 2035, 1996, 2769, 2111, 2052, 3828, 2138, 2027, 2876, 1005, 1056, 2031, 2000, 5247, 2061, 2172, 2006, 3806, 1998, 2364, 6528, 3401, 1997, 2037, 3765, 1012, 102, 0, 0, 0, 0, 0, 0, 0, 0, 0, 0, 0, 0, 0, 0, 0, 0, 0, 0, 0, 0, 0, 0, 0, 0, 0, 0, 0, 0, 0, 0, 0, 0, 0, 0, 0, 0, 0, 0, 0, 0, 0, 0, 0, 0, 0, 0, 0, 0, 0, 0, 0, 0, 0, 0, 0, 0, 0, 0, 0, 0, 0, 0, 0, 0, 0, 0, 0, 0, 0, 0, 0, 0, 0, 0, 0, 0, 0, 0, 0, 0, 0, 0, 0, 0, 0, 0, 0, 0, 0, 0, 0, 0, 0, 0, 0, 0, 0, 0, 0, 0, 0, 0, 0, 0, 0, 0, 0, 0, 0, 0, 0, 0, 0, 0, 0, 0, 0, 0, 0, 0, 0, 0, 0, 0, 0, 0, 0, 0, 0, 0, 0, 0, 0, 0, 0, 0, 0, 0, 0, 0, 0, 0, 0, 0, 0, 0, 0, 0, 0, 0, 0, 0, 0, 0, 0, 0, 0, 0, 0, 0, 0, 0, 0, 0, 0, 0, 0, 0, 0, 0, 0, 0, 0, 0, 0, 0, 0, 0, 0, 0, 0, 0, 0, 0, 0, 0, 0, 0, 0, 0, 0, 0, 0, 0, 0, 0, 0, 0, 0, 0, 0, 0, 0, 0, 0, 0, 0, 0, 0, 0, 0, 0, 0, 0, 0, 0, 0, 0, 0, 0, 0, 0, 0, 0, 0, 0, 0, 0, 0, 0, 0, 0, 0, 0, 0, 0, 0, 0, 0, 0, 0, 0, 0, 0, 0, 0, 0, 0, 0, 0, 0, 0, 0, 0, 0, 0, 0, 0, 0, 0, 0, 0, 0, 0, 0, 0, 0, 0, 0, 0, 0, 0, 0, 0, 0, 0, 0, 0, 0, 0, 0, 0, 0, 0, 0, 0, 0, 0, 0, 0, 0, 0, 0, 0, 0, 0, 0, 0, 0, 0, 0, 0, 0, 0, 0, 0, 0, 0, 0, 0, 0, 0, 0, 0, 0, 0, 0, 0, 0, 0, 0, 0, 0, 0, 0, 0, 0, 0, 0, 0, 0, 0, 0, 0, 0, 0, 0, 0, 0, 0, 0, 0, 0, 0, 0, 0, 0, 0, 0, 0, 0, 0, 0, 0, 0, 0, 0, 0, 0, 0, 0, 0, 0, 0, 0, 0, 0, 0, 0, 0, 0, 0, 0, 0, 0, 0, 0, 0, 0, 0, 0, 0, 0, 0, 0, 0, 0, 0, 0, 0, 0, 0, 0, 0, 0, 0, 0, 0, 0, 0, 0, 0, 0, 0, 0, 0, 0, 0, 0, 0, 0, 0, 0, 0, 0, 0, 0, 0, 0, 0, 0, 0, 0, 0, 0, 0, 0, 0, 0, 0, 0, 0, 0, 0, 0, 0, 0, 0, 0, 0, 0, 0, 0, 0, 0, 0, 0, 0, 0, 0, 0, 0, 0, 0, 0, 0, 0, 0, 0, 0, 0, 0, 0, 0, 0, 0, 0, 0, 0, 0, 0, 0, 0, 0, 0, 0, 0, 0, 0, 0, 0, 0], 'token_type_ids': [0, 0, 0, 0, 0, 0, 0, 0, 0, 0, 0, 0, 0, 0, 0, 0, 0, 0, 0, 0, 0, 0, 0, 0, 0, 0, 0, 0, 0, 0, 0, 0, 0, 0, 0, 0, 0, 0, 0, 0, 0, 0, 0, 0, 0, 0, 0, 0, 0, 0, 0, 0, 0, 0, 0, 0, 0, 0, 0, 0, 0, 0, 0, 0, 0, 0, 0, 0, 0, 0, 0, 0, 0, 0, 0, 0, 0, 0, 0, 0, 0, 0, 0, 0, 0, 0, 0, 0, 0, 0, 0, 0, 0, 0, 0, 0, 0, 0, 0, 0, 0, 0, 0, 0, 0, 0, 0, 0, 0, 0, 0, 0, 0, 0, 0, 0, 0, 0, 0, 0, 0, 0, 0, 0, 0, 0, 0, 0, 0, 0, 0, 0, 0, 0, 0, 0, 0, 0, 0, 0, 0, 0, 0, 0, 0, 0, 0, 0, 0, 0, 0, 0, 0, 0, 0, 0, 0, 0, 0, 0, 0, 0, 0, 0, 0, 0, 0, 0, 0, 0, 0, 0, 0, 0, 0, 0, 0, 0, 0, 0, 0, 0, 0, 0, 0, 0, 0, 0, 0, 0, 0, 0, 0, 0, 0, 0, 0, 0, 0, 0, 0, 0, 0, 0, 0, 0, 0, 0, 0, 0, 0, 0, 0, 0, 0, 0, 0, 0, 0, 0, 0, 0, 0, 0, 0, 0, 0, 0, 0, 0, 0, 0, 0, 0, 0, 0, 0, 0, 0, 0, 0, 0, 0, 0, 0, 0, 0, 0, 0, 0, 0, 0, 0, 0, 0, 0, 0, 0, 0, 0, 0, 0, 0, 0, 0, 0, 0, 0, 0, 0, 0, 0, 0, 0, 0, 0, 0, 0, 0, 0, 0, 0, 0, 0, 0, 0, 0, 0, 0, 0, 0, 0, 0, 0, 0, 0, 0, 0, 0, 0, 0, 0, 0, 0, 0, 0, 0, 0, 0, 0, 0, 0, 0, 0, 0, 0, 0, 0, 0, 0, 0, 0, 0, 0, 0, 0, 0, 0, 0, 0, 0, 0, 0, 0, 0, 0, 0, 0, 0, 0, 0, 0, 0, 0, 0, 0, 0, 0, 0, 0, 0, 0, 0, 0, 0, 0, 0, 0, 0, 0, 0, 0, 0, 0, 0, 0, 0, 0, 0, 0, 0, 0, 0, 0, 0, 0, 0, 0, 0, 0, 0, 0, 0, 0, 0, 0, 0, 0, 0, 0, 0, 0, 0, 0, 0, 0, 0, 0, 0, 0, 0, 0, 0, 0, 0, 0, 0, 0, 0, 0, 0, 0, 0, 0, 0, 0, 0, 0, 0, 0, 0, 0, 0, 0, 0, 0, 0, 0, 0, 0, 0, 0, 0, 0, 0, 0, 0, 0, 0, 0, 0, 0, 0, 0, 0, 0, 0, 0, 0, 0, 0, 0, 0, 0, 0, 0, 0, 0, 0, 0, 0, 0, 0, 0, 0, 0, 0, 0, 0, 0, 0, 0, 0, 0, 0, 0, 0, 0, 0, 0, 0, 0, 0, 0, 0, 0, 0, 0, 0, 0, 0, 0, 0, 0, 0, 0, 0, 0, 0, 0, 0, 0, 0, 0, 0, 0, 0, 0, 0, 0, 0, 0], 'attention_mask': [1, 1, 1, 1, 1, 1, 1, 1, 1, 1, 1, 1, 1, 1, 1, 1, 1, 1, 1, 1, 1, 1, 1, 1, 1, 1, 1, 1, 1, 1, 0, 0, 0, 0, 0, 0, 0, 0, 0, 0, 0, 0, 0, 0, 0, 0, 0, 0, 0, 0, 0, 0, 0, 0, 0, 0, 0, 0, 0, 0, 0, 0, 0, 0, 0, 0, 0, 0, 0, 0, 0, 0, 0, 0, 0, 0, 0, 0, 0, 0, 0, 0, 0, 0, 0, 0, 0, 0, 0, 0, 0, 0, 0, 0, 0, 0, 0, 0, 0, 0, 0, 0, 0, 0, 0, 0, 0, 0, 0, 0, 0, 0, 0, 0, 0, 0, 0, 0, 0, 0, 0, 0, 0, 0, 0, 0, 0, 0, 0, 0, 0, 0, 0, 0, 0, 0, 0, 0, 0, 0, 0, 0, 0, 0, 0, 0, 0, 0, 0, 0, 0, 0, 0, 0, 0, 0, 0, 0, 0, 0, 0, 0, 0, 0, 0, 0, 0, 0, 0, 0, 0, 0, 0, 0, 0, 0, 0, 0, 0, 0, 0, 0, 0, 0, 0, 0, 0, 0, 0, 0, 0, 0, 0, 0, 0, 0, 0, 0, 0, 0, 0, 0, 0, 0, 0, 0, 0, 0, 0, 0, 0, 0, 0, 0, 0, 0, 0, 0, 0, 0, 0, 0, 0, 0, 0, 0, 0, 0, 0, 0, 0, 0, 0, 0, 0, 0, 0, 0, 0, 0, 0, 0, 0, 0, 0, 0, 0, 0, 0, 0, 0, 0, 0, 0, 0, 0, 0, 0, 0, 0, 0, 0, 0, 0, 0, 0, 0, 0, 0, 0, 0, 0, 0, 0, 0, 0, 0, 0, 0, 0, 0, 0, 0, 0, 0, 0, 0, 0, 0, 0, 0, 0, 0, 0, 0, 0, 0, 0, 0, 0, 0, 0, 0, 0, 0, 0, 0, 0, 0, 0, 0, 0, 0, 0, 0, 0, 0, 0, 0, 0, 0, 0, 0, 0, 0, 0, 0, 0, 0, 0, 0, 0, 0, 0, 0, 0, 0, 0, 0, 0, 0, 0, 0, 0, 0, 0, 0, 0, 0, 0, 0, 0, 0, 0, 0, 0, 0, 0, 0, 0, 0, 0, 0, 0, 0, 0, 0, 0, 0, 0, 0, 0, 0, 0, 0, 0, 0, 0, 0, 0, 0, 0, 0, 0, 0, 0, 0, 0, 0, 0, 0, 0, 0, 0, 0, 0, 0, 0, 0, 0, 0, 0, 0, 0, 0, 0, 0, 0, 0, 0, 0, 0, 0, 0, 0, 0, 0, 0, 0, 0, 0, 0, 0, 0, 0, 0, 0, 0, 0, 0, 0, 0, 0, 0, 0, 0, 0, 0, 0, 0, 0, 0, 0, 0, 0, 0, 0, 0, 0, 0, 0, 0, 0, 0, 0, 0, 0, 0, 0, 0, 0, 0, 0, 0, 0, 0, 0, 0, 0, 0, 0, 0, 0, 0, 0, 0, 0, 0, 0, 0, 0, 0, 0, 0, 0, 0, 0, 0, 0, 0, 0, 0, 0, 0, 0, 0, 0, 0, 0, 0, 0, 0, 0, 0, 0, 0, 0, 0, 0, 0, 0, 0]}"
      ]
     },
     "execution_count": 29,
     "metadata": {},
     "output_type": "execute_result"
    }
   ],
   "source": [
    "model.tokenizer(dataset['train'][0][\"input\"], max_length=512, truncation=True, padding=\"max_length\")"
   ]
  },
  {
   "cell_type": "code",
   "execution_count": 30,
   "metadata": {},
   "outputs": [
    {
     "data": {
      "text/plain": [
       "Dataset({\n",
       "    features: ['id', 'discourse_id', 'discourse_start', 'discourse_end', 'discourse_text', 'discourse_type', 'discourse_type_num', 'predictionstring', 'input', 'label', 'train_val', '__index_level_0__'],\n",
       "    num_rows: 1149\n",
       "})"
      ]
     },
     "execution_count": 30,
     "metadata": {},
     "output_type": "execute_result"
    }
   ],
   "source": [
    "dataset['train']"
   ]
  },
  {
   "cell_type": "code",
   "execution_count": 31,
   "metadata": {},
   "outputs": [
    {
     "data": {
      "application/json": {
       "ascii": false,
       "bar_format": null,
       "colour": null,
       "elapsed": 0.01619100570678711,
       "initial": 0,
       "n": 0,
       "ncols": null,
       "nrows": null,
       "postfix": null,
       "prefix": "",
       "rate": null,
       "total": 2,
       "unit": "ba",
       "unit_divisor": 1000,
       "unit_scale": false
      },
      "application/vnd.jupyter.widget-view+json": {
       "model_id": "3cbd7beeb56b4067a8ab9f74d620f08b",
       "version_major": 2,
       "version_minor": 0
      },
      "text/plain": [
       "  0%|          | 0/2 [00:00<?, ?ba/s]"
      ]
     },
     "metadata": {},
     "output_type": "display_data"
    },
    {
     "data": {
      "application/json": {
       "ascii": false,
       "bar_format": null,
       "colour": null,
       "elapsed": 0.015059947967529297,
       "initial": 0,
       "n": 0,
       "ncols": null,
       "nrows": null,
       "postfix": null,
       "prefix": "",
       "rate": null,
       "total": 1,
       "unit": "ba",
       "unit_divisor": 1000,
       "unit_scale": false
      },
      "application/vnd.jupyter.widget-view+json": {
       "model_id": "4edfcb6461454baeb819d1c11d2d802c",
       "version_major": 2,
       "version_minor": 0
      },
      "text/plain": [
       "  0%|          | 0/1 [00:00<?, ?ba/s]"
      ]
     },
     "metadata": {},
     "output_type": "display_data"
    },
    {
     "data": {
      "application/json": {
       "ascii": false,
       "bar_format": null,
       "colour": null,
       "elapsed": 0.01625204086303711,
       "initial": 0,
       "n": 0,
       "ncols": null,
       "nrows": null,
       "postfix": null,
       "prefix": "",
       "rate": null,
       "total": 1,
       "unit": "ba",
       "unit_divisor": 1000,
       "unit_scale": false
      },
      "application/vnd.jupyter.widget-view+json": {
       "model_id": "b5599d820eb14d24830f19081054e7a9",
       "version_major": 2,
       "version_minor": 0
      },
      "text/plain": [
       "  0%|          | 0/1 [00:00<?, ?ba/s]"
      ]
     },
     "metadata": {},
     "output_type": "display_data"
    }
   ],
   "source": [
    "def f(x):return model.tokenizer(x['input'],truncation=True)\n",
    "\n",
    "dataset['train']=dataset['train'].map(\n",
    "    f,\n",
    "    batched=True,\n",
    "    remove_columns=(\n",
    "        'id',\n",
    "        'discourse_id',\n",
    "        'discourse_start',\n",
    "        'discourse_end',\n",
    "        'discourse_text',\n",
    "        'discourse_type',\n",
    "        'discourse_type_num',\n",
    "        'predictionstring',\n",
    "        'input',\n",
    "        #'label',\n",
    "        'train_val',\n",
    "        '__index_level_0__'\n",
    "    )\n",
    ")\n",
    "dataset['val']=dataset['val'].map(\n",
    "    f,\n",
    "    batched=True,\n",
    "    remove_columns=(\n",
    "        'id',\n",
    "        'discourse_id',\n",
    "        'discourse_start',\n",
    "        'discourse_end',\n",
    "        'discourse_text',\n",
    "        'discourse_type',\n",
    "        'discourse_type_num',\n",
    "        'predictionstring',\n",
    "        'input',\n",
    "        #'label',\n",
    "        'train_val',\n",
    "        '__index_level_0__'\n",
    "    )\n",
    ")\n",
    "dataset['test']=dataset['test'].map(\n",
    "    f,\n",
    "    batched=True,\n",
    "    remove_columns=(\n",
    "        'id',\n",
    "\n",
    "        'class',\n",
    "        'predictionstring',\n",
    "\n",
    "\n",
    "        # 'discourse_id',\n",
    "        # 'essay_id',\n",
    "        # 'discourse_text',\n",
    "        # 'discourse_type',\n",
    "        # #'discourse_effectiveness',\n",
    "        # 'input',\n",
    "        #'__index_level_0__',#\n",
    "    )\n",
    ")"
   ]
  },
  {
   "cell_type": "code",
   "execution_count": 32,
   "metadata": {},
   "outputs": [
    {
     "data": {
      "text/plain": [
       "{'train': Dataset({\n",
       "     features: ['label', 'input_ids', 'token_type_ids', 'attention_mask'],\n",
       "     num_rows: 1149\n",
       " }),\n",
       " 'val': Dataset({\n",
       "     features: ['label', 'input_ids', 'token_type_ids', 'attention_mask'],\n",
       "     num_rows: 294\n",
       " }),\n",
       " 'test': Dataset({\n",
       "     features: ['discourse_text', 'input', 'input_ids', 'token_type_ids', 'attention_mask'],\n",
       "     num_rows: 5\n",
       " })}"
      ]
     },
     "execution_count": 32,
     "metadata": {},
     "output_type": "execute_result"
    }
   ],
   "source": [
    "dataset"
   ]
  },
  {
   "cell_type": "code",
   "execution_count": 33,
   "metadata": {},
   "outputs": [],
   "source": [
    "datasetdict=datasets.DatasetDict({\n",
    "    \"train\":dataset['train'],\n",
    "    \"val\": dataset['val'],\n",
    "})"
   ]
  },
  {
   "cell_type": "code",
   "execution_count": 34,
   "metadata": {},
   "outputs": [],
   "source": [
    "trainer_ = trainer.transformers_get_trainer(CFG.output_path+model_name+'/',model.model,model.tokenizer,datasetdict)"
   ]
  },
  {
   "cell_type": "code",
   "execution_count": 35,
   "metadata": {},
   "outputs": [
    {
     "name": "stderr",
     "output_type": "stream",
     "text": [
      "/opt/conda/lib/python3.8/site-packages/transformers/optimization.py:306: FutureWarning: This implementation of AdamW is deprecated and will be removed in a future version. Use the PyTorch implementation torch.optim.AdamW instead, or set `no_deprecation_warning=True` to disable this warning\n",
      "  warnings.warn(\n",
      "***** Running training *****\n",
      "  Num examples = 1149\n",
      "  Num Epochs = 10\n",
      "  Instantaneous batch size per device = 8\n",
      "  Total train batch size (w. parallel, distributed & accumulation) = 16\n",
      "  Gradient Accumulation steps = 1\n",
      "  Total optimization steps = 720\n",
      "/opt/conda/lib/python3.8/site-packages/torch/nn/parallel/_functions.py:68: UserWarning: Was asked to gather along dimension 0, but all input tensors were scalars; will instead unsqueeze and return a vector.\n",
      "  warnings.warn('Was asked to gather along dimension 0, but all '\n"
     ]
    },
    {
     "data": {
      "text/html": [
       "\n",
       "    <div>\n",
       "      \n",
       "      <progress value='720' max='720' style='width:300px; height:20px; vertical-align: middle;'></progress>\n",
       "      [720/720 03:57, Epoch 10/10]\n",
       "    </div>\n",
       "    <table border=\"1\" class=\"dataframe\">\n",
       "  <thead>\n",
       " <tr style=\"text-align: left;\">\n",
       "      <th>Epoch</th>\n",
       "      <th>Training Loss</th>\n",
       "      <th>Validation Loss</th>\n",
       "      <th>Log loss</th>\n",
       "    </tr>\n",
       "  </thead>\n",
       "  <tbody>\n",
       "    <tr>\n",
       "      <td>1</td>\n",
       "      <td>1.736300</td>\n",
       "      <td>1.592460</td>\n",
       "      <td>1.592459</td>\n",
       "    </tr>\n",
       "    <tr>\n",
       "      <td>2</td>\n",
       "      <td>1.462800</td>\n",
       "      <td>1.374953</td>\n",
       "      <td>1.374953</td>\n",
       "    </tr>\n",
       "    <tr>\n",
       "      <td>3</td>\n",
       "      <td>1.280700</td>\n",
       "      <td>1.305242</td>\n",
       "      <td>1.305242</td>\n",
       "    </tr>\n",
       "    <tr>\n",
       "      <td>4</td>\n",
       "      <td>1.151800</td>\n",
       "      <td>1.226415</td>\n",
       "      <td>1.226415</td>\n",
       "    </tr>\n",
       "    <tr>\n",
       "      <td>5</td>\n",
       "      <td>1.032000</td>\n",
       "      <td>1.194439</td>\n",
       "      <td>1.194439</td>\n",
       "    </tr>\n",
       "    <tr>\n",
       "      <td>6</td>\n",
       "      <td>0.938700</td>\n",
       "      <td>1.163647</td>\n",
       "      <td>1.163647</td>\n",
       "    </tr>\n",
       "    <tr>\n",
       "      <td>7</td>\n",
       "      <td>0.863000</td>\n",
       "      <td>1.153612</td>\n",
       "      <td>1.153612</td>\n",
       "    </tr>\n",
       "    <tr>\n",
       "      <td>8</td>\n",
       "      <td>0.809000</td>\n",
       "      <td>1.145020</td>\n",
       "      <td>1.145021</td>\n",
       "    </tr>\n",
       "    <tr>\n",
       "      <td>9</td>\n",
       "      <td>0.787600</td>\n",
       "      <td>1.136656</td>\n",
       "      <td>1.136656</td>\n",
       "    </tr>\n",
       "    <tr>\n",
       "      <td>10</td>\n",
       "      <td>0.771700</td>\n",
       "      <td>1.136476</td>\n",
       "      <td>1.136476</td>\n",
       "    </tr>\n",
       "  </tbody>\n",
       "</table><p>"
      ],
      "text/plain": [
       "<IPython.core.display.HTML object>"
      ]
     },
     "metadata": {},
     "output_type": "display_data"
    },
    {
     "name": "stderr",
     "output_type": "stream",
     "text": [
      "***** Running Evaluation *****\n",
      "  Num examples = 294\n",
      "  Batch size = 32\n",
      "/root/workspace/feedback-prize-2021/notebooks/../src/training/huggingface_transformers/trainer.py:19: UserWarning: Implicit dimension choice for softmax has been deprecated. Change the call to include dim=X as an argument.\n",
      "  torch.nn.functional.softmax(\n",
      "Saving model checkpoint to ../output/BERT/checkpoint-72\n",
      "Configuration saved in ../output/BERT/checkpoint-72/config.json\n",
      "Model weights saved in ../output/BERT/checkpoint-72/pytorch_model.bin\n",
      "tokenizer config file saved in ../output/BERT/checkpoint-72/tokenizer_config.json\n",
      "Special tokens file saved in ../output/BERT/checkpoint-72/special_tokens_map.json\n",
      "/opt/conda/lib/python3.8/site-packages/torch/nn/parallel/_functions.py:68: UserWarning: Was asked to gather along dimension 0, but all input tensors were scalars; will instead unsqueeze and return a vector.\n",
      "  warnings.warn('Was asked to gather along dimension 0, but all '\n",
      "***** Running Evaluation *****\n",
      "  Num examples = 294\n",
      "  Batch size = 32\n",
      "/root/workspace/feedback-prize-2021/notebooks/../src/training/huggingface_transformers/trainer.py:19: UserWarning: Implicit dimension choice for softmax has been deprecated. Change the call to include dim=X as an argument.\n",
      "  torch.nn.functional.softmax(\n",
      "Saving model checkpoint to ../output/BERT/checkpoint-144\n",
      "Configuration saved in ../output/BERT/checkpoint-144/config.json\n",
      "Model weights saved in ../output/BERT/checkpoint-144/pytorch_model.bin\n",
      "tokenizer config file saved in ../output/BERT/checkpoint-144/tokenizer_config.json\n",
      "Special tokens file saved in ../output/BERT/checkpoint-144/special_tokens_map.json\n",
      "/opt/conda/lib/python3.8/site-packages/torch/nn/parallel/_functions.py:68: UserWarning: Was asked to gather along dimension 0, but all input tensors were scalars; will instead unsqueeze and return a vector.\n",
      "  warnings.warn('Was asked to gather along dimension 0, but all '\n",
      "***** Running Evaluation *****\n",
      "  Num examples = 294\n",
      "  Batch size = 32\n",
      "/root/workspace/feedback-prize-2021/notebooks/../src/training/huggingface_transformers/trainer.py:19: UserWarning: Implicit dimension choice for softmax has been deprecated. Change the call to include dim=X as an argument.\n",
      "  torch.nn.functional.softmax(\n",
      "Saving model checkpoint to ../output/BERT/checkpoint-216\n",
      "Configuration saved in ../output/BERT/checkpoint-216/config.json\n",
      "Model weights saved in ../output/BERT/checkpoint-216/pytorch_model.bin\n",
      "tokenizer config file saved in ../output/BERT/checkpoint-216/tokenizer_config.json\n",
      "Special tokens file saved in ../output/BERT/checkpoint-216/special_tokens_map.json\n",
      "Deleting older checkpoint [../output/BERT/checkpoint-72] due to args.save_total_limit\n",
      "/opt/conda/lib/python3.8/site-packages/torch/nn/parallel/_functions.py:68: UserWarning: Was asked to gather along dimension 0, but all input tensors were scalars; will instead unsqueeze and return a vector.\n",
      "  warnings.warn('Was asked to gather along dimension 0, but all '\n",
      "***** Running Evaluation *****\n",
      "  Num examples = 294\n",
      "  Batch size = 32\n",
      "/root/workspace/feedback-prize-2021/notebooks/../src/training/huggingface_transformers/trainer.py:19: UserWarning: Implicit dimension choice for softmax has been deprecated. Change the call to include dim=X as an argument.\n",
      "  torch.nn.functional.softmax(\n",
      "Saving model checkpoint to ../output/BERT/checkpoint-288\n",
      "Configuration saved in ../output/BERT/checkpoint-288/config.json\n",
      "Model weights saved in ../output/BERT/checkpoint-288/pytorch_model.bin\n",
      "tokenizer config file saved in ../output/BERT/checkpoint-288/tokenizer_config.json\n",
      "Special tokens file saved in ../output/BERT/checkpoint-288/special_tokens_map.json\n",
      "Deleting older checkpoint [../output/BERT/checkpoint-144] due to args.save_total_limit\n",
      "/opt/conda/lib/python3.8/site-packages/torch/nn/parallel/_functions.py:68: UserWarning: Was asked to gather along dimension 0, but all input tensors were scalars; will instead unsqueeze and return a vector.\n",
      "  warnings.warn('Was asked to gather along dimension 0, but all '\n",
      "***** Running Evaluation *****\n",
      "  Num examples = 294\n",
      "  Batch size = 32\n",
      "/root/workspace/feedback-prize-2021/notebooks/../src/training/huggingface_transformers/trainer.py:19: UserWarning: Implicit dimension choice for softmax has been deprecated. Change the call to include dim=X as an argument.\n",
      "  torch.nn.functional.softmax(\n",
      "Saving model checkpoint to ../output/BERT/checkpoint-360\n",
      "Configuration saved in ../output/BERT/checkpoint-360/config.json\n",
      "Model weights saved in ../output/BERT/checkpoint-360/pytorch_model.bin\n",
      "tokenizer config file saved in ../output/BERT/checkpoint-360/tokenizer_config.json\n",
      "Special tokens file saved in ../output/BERT/checkpoint-360/special_tokens_map.json\n",
      "Deleting older checkpoint [../output/BERT/checkpoint-216] due to args.save_total_limit\n",
      "/opt/conda/lib/python3.8/site-packages/torch/nn/parallel/_functions.py:68: UserWarning: Was asked to gather along dimension 0, but all input tensors were scalars; will instead unsqueeze and return a vector.\n",
      "  warnings.warn('Was asked to gather along dimension 0, but all '\n",
      "***** Running Evaluation *****\n",
      "  Num examples = 294\n",
      "  Batch size = 32\n",
      "/root/workspace/feedback-prize-2021/notebooks/../src/training/huggingface_transformers/trainer.py:19: UserWarning: Implicit dimension choice for softmax has been deprecated. Change the call to include dim=X as an argument.\n",
      "  torch.nn.functional.softmax(\n",
      "Saving model checkpoint to ../output/BERT/checkpoint-432\n",
      "Configuration saved in ../output/BERT/checkpoint-432/config.json\n",
      "Model weights saved in ../output/BERT/checkpoint-432/pytorch_model.bin\n",
      "tokenizer config file saved in ../output/BERT/checkpoint-432/tokenizer_config.json\n",
      "Special tokens file saved in ../output/BERT/checkpoint-432/special_tokens_map.json\n",
      "Deleting older checkpoint [../output/BERT/checkpoint-288] due to args.save_total_limit\n",
      "/opt/conda/lib/python3.8/site-packages/torch/nn/parallel/_functions.py:68: UserWarning: Was asked to gather along dimension 0, but all input tensors were scalars; will instead unsqueeze and return a vector.\n",
      "  warnings.warn('Was asked to gather along dimension 0, but all '\n",
      "***** Running Evaluation *****\n",
      "  Num examples = 294\n",
      "  Batch size = 32\n",
      "/root/workspace/feedback-prize-2021/notebooks/../src/training/huggingface_transformers/trainer.py:19: UserWarning: Implicit dimension choice for softmax has been deprecated. Change the call to include dim=X as an argument.\n",
      "  torch.nn.functional.softmax(\n",
      "Saving model checkpoint to ../output/BERT/checkpoint-504\n",
      "Configuration saved in ../output/BERT/checkpoint-504/config.json\n",
      "Model weights saved in ../output/BERT/checkpoint-504/pytorch_model.bin\n",
      "tokenizer config file saved in ../output/BERT/checkpoint-504/tokenizer_config.json\n",
      "Special tokens file saved in ../output/BERT/checkpoint-504/special_tokens_map.json\n",
      "Deleting older checkpoint [../output/BERT/checkpoint-360] due to args.save_total_limit\n",
      "/opt/conda/lib/python3.8/site-packages/torch/nn/parallel/_functions.py:68: UserWarning: Was asked to gather along dimension 0, but all input tensors were scalars; will instead unsqueeze and return a vector.\n",
      "  warnings.warn('Was asked to gather along dimension 0, but all '\n",
      "***** Running Evaluation *****\n",
      "  Num examples = 294\n",
      "  Batch size = 32\n",
      "/root/workspace/feedback-prize-2021/notebooks/../src/training/huggingface_transformers/trainer.py:19: UserWarning: Implicit dimension choice for softmax has been deprecated. Change the call to include dim=X as an argument.\n",
      "  torch.nn.functional.softmax(\n",
      "Saving model checkpoint to ../output/BERT/checkpoint-576\n",
      "Configuration saved in ../output/BERT/checkpoint-576/config.json\n",
      "Model weights saved in ../output/BERT/checkpoint-576/pytorch_model.bin\n",
      "tokenizer config file saved in ../output/BERT/checkpoint-576/tokenizer_config.json\n",
      "Special tokens file saved in ../output/BERT/checkpoint-576/special_tokens_map.json\n",
      "Deleting older checkpoint [../output/BERT/checkpoint-432] due to args.save_total_limit\n",
      "/opt/conda/lib/python3.8/site-packages/torch/nn/parallel/_functions.py:68: UserWarning: Was asked to gather along dimension 0, but all input tensors were scalars; will instead unsqueeze and return a vector.\n",
      "  warnings.warn('Was asked to gather along dimension 0, but all '\n",
      "***** Running Evaluation *****\n",
      "  Num examples = 294\n",
      "  Batch size = 32\n",
      "/root/workspace/feedback-prize-2021/notebooks/../src/training/huggingface_transformers/trainer.py:19: UserWarning: Implicit dimension choice for softmax has been deprecated. Change the call to include dim=X as an argument.\n",
      "  torch.nn.functional.softmax(\n",
      "Saving model checkpoint to ../output/BERT/checkpoint-648\n",
      "Configuration saved in ../output/BERT/checkpoint-648/config.json\n",
      "Model weights saved in ../output/BERT/checkpoint-648/pytorch_model.bin\n",
      "tokenizer config file saved in ../output/BERT/checkpoint-648/tokenizer_config.json\n",
      "Special tokens file saved in ../output/BERT/checkpoint-648/special_tokens_map.json\n",
      "Deleting older checkpoint [../output/BERT/checkpoint-504] due to args.save_total_limit\n",
      "/opt/conda/lib/python3.8/site-packages/torch/nn/parallel/_functions.py:68: UserWarning: Was asked to gather along dimension 0, but all input tensors were scalars; will instead unsqueeze and return a vector.\n",
      "  warnings.warn('Was asked to gather along dimension 0, but all '\n",
      "***** Running Evaluation *****\n",
      "  Num examples = 294\n",
      "  Batch size = 32\n",
      "/root/workspace/feedback-prize-2021/notebooks/../src/training/huggingface_transformers/trainer.py:19: UserWarning: Implicit dimension choice for softmax has been deprecated. Change the call to include dim=X as an argument.\n",
      "  torch.nn.functional.softmax(\n",
      "Saving model checkpoint to ../output/BERT/checkpoint-720\n",
      "Configuration saved in ../output/BERT/checkpoint-720/config.json\n",
      "Model weights saved in ../output/BERT/checkpoint-720/pytorch_model.bin\n",
      "tokenizer config file saved in ../output/BERT/checkpoint-720/tokenizer_config.json\n",
      "Special tokens file saved in ../output/BERT/checkpoint-720/special_tokens_map.json\n",
      "Deleting older checkpoint [../output/BERT/checkpoint-576] due to args.save_total_limit\n",
      "\n",
      "\n",
      "Training completed. Do not forget to share your model on huggingface.co/models =)\n",
      "\n",
      "\n",
      "Loading best model from ../output/BERT/checkpoint-720 (score: 1.1364762783050537).\n"
     ]
    }
   ],
   "source": [
    "if training:\n",
    "    trainer_.train()\n",
    "    #trainer.save_model(output_dir=CFG.output_path+model_name+'/')"
   ]
  },
  {
   "cell_type": "code",
   "execution_count": 36,
   "metadata": {},
   "outputs": [
    {
     "data": {
      "text/plain": [
       "[{'loss': 1.7363, 'learning_rate': 8e-06, 'epoch': 1.0, 'step': 72},\n",
       " {'eval_loss': 1.5924595594406128,\n",
       "  'eval_log loss': 1.5924594899018605,\n",
       "  'eval_runtime': 1.8175,\n",
       "  'eval_samples_per_second': 161.764,\n",
       "  'eval_steps_per_second': 5.502,\n",
       "  'epoch': 1.0,\n",
       "  'step': 72},\n",
       " {'loss': 1.4628,\n",
       "  'learning_rate': 7.758770483143633e-06,\n",
       "  'epoch': 2.0,\n",
       "  'step': 144},\n",
       " {'eval_loss': 1.374953031539917,\n",
       "  'eval_log loss': 1.3749530398521295,\n",
       "  'eval_runtime': 1.8154,\n",
       "  'eval_samples_per_second': 161.95,\n",
       "  'eval_steps_per_second': 5.509,\n",
       "  'epoch': 2.0,\n",
       "  'step': 144},\n",
       " {'loss': 1.2807,\n",
       "  'learning_rate': 7.064177772475912e-06,\n",
       "  'epoch': 3.0,\n",
       "  'step': 216},\n",
       " {'eval_loss': 1.3052420616149902,\n",
       "  'eval_log loss': 1.3052419665313901,\n",
       "  'eval_runtime': 1.8506,\n",
       "  'eval_samples_per_second': 158.869,\n",
       "  'eval_steps_per_second': 5.404,\n",
       "  'epoch': 3.0,\n",
       "  'step': 216},\n",
       " {'loss': 1.1518, 'learning_rate': 6e-06, 'epoch': 4.0, 'step': 288},\n",
       " {'eval_loss': 1.2264149188995361,\n",
       "  'eval_log loss': 1.226414846421099,\n",
       "  'eval_runtime': 1.8406,\n",
       "  'eval_samples_per_second': 159.728,\n",
       "  'eval_steps_per_second': 5.433,\n",
       "  'epoch': 4.0,\n",
       "  'step': 288},\n",
       " {'loss': 1.032,\n",
       "  'learning_rate': 4.694592710667722e-06,\n",
       "  'epoch': 5.0,\n",
       "  'step': 360},\n",
       " {'eval_loss': 1.1944389343261719,\n",
       "  'eval_log loss': 1.194438795350036,\n",
       "  'eval_runtime': 1.9224,\n",
       "  'eval_samples_per_second': 152.935,\n",
       "  'eval_steps_per_second': 5.202,\n",
       "  'epoch': 5.0,\n",
       "  'step': 360},\n",
       " {'loss': 0.9387,\n",
       "  'learning_rate': 3.3054072893322785e-06,\n",
       "  'epoch': 6.0,\n",
       "  'step': 432},\n",
       " {'eval_loss': 1.1636470556259155,\n",
       "  'eval_log loss': 1.163647054156073,\n",
       "  'eval_runtime': 2.0043,\n",
       "  'eval_samples_per_second': 146.684,\n",
       "  'eval_steps_per_second': 4.989,\n",
       "  'epoch': 6.0,\n",
       "  'step': 432},\n",
       " {'loss': 0.863,\n",
       "  'learning_rate': 2.0000000000000008e-06,\n",
       "  'epoch': 7.0,\n",
       "  'step': 504},\n",
       " {'eval_loss': 1.1536121368408203,\n",
       "  'eval_log loss': 1.1536121480673753,\n",
       "  'eval_runtime': 1.9238,\n",
       "  'eval_samples_per_second': 152.822,\n",
       "  'eval_steps_per_second': 5.198,\n",
       "  'epoch': 7.0,\n",
       "  'step': 504},\n",
       " {'loss': 0.809,\n",
       "  'learning_rate': 9.358222275240884e-07,\n",
       "  'epoch': 8.0,\n",
       "  'step': 576},\n",
       " {'eval_loss': 1.1450204849243164,\n",
       "  'eval_log loss': 1.1450205706566774,\n",
       "  'eval_runtime': 1.9319,\n",
       "  'eval_samples_per_second': 152.181,\n",
       "  'eval_steps_per_second': 5.176,\n",
       "  'epoch': 8.0,\n",
       "  'step': 576},\n",
       " {'loss': 0.7876,\n",
       "  'learning_rate': 2.412295168563667e-07,\n",
       "  'epoch': 9.0,\n",
       "  'step': 648},\n",
       " {'eval_loss': 1.1366558074951172,\n",
       "  'eval_log loss': 1.1366558763749746,\n",
       "  'eval_runtime': 1.9394,\n",
       "  'eval_samples_per_second': 151.597,\n",
       "  'eval_steps_per_second': 5.156,\n",
       "  'epoch': 9.0,\n",
       "  'step': 648},\n",
       " {'loss': 0.7717, 'learning_rate': 0.0, 'epoch': 10.0, 'step': 720},\n",
       " {'eval_loss': 1.1364762783050537,\n",
       "  'eval_log loss': 1.1364762894302405,\n",
       "  'eval_runtime': 1.9173,\n",
       "  'eval_samples_per_second': 153.337,\n",
       "  'eval_steps_per_second': 5.216,\n",
       "  'epoch': 10.0,\n",
       "  'step': 720},\n",
       " {'train_runtime': 239.6822,\n",
       "  'train_samples_per_second': 47.938,\n",
       "  'train_steps_per_second': 3.004,\n",
       "  'total_flos': 1106176756298400.0,\n",
       "  'train_loss': 1.0833494345347086,\n",
       "  'epoch': 10.0,\n",
       "  'step': 720}]"
      ]
     },
     "execution_count": 36,
     "metadata": {},
     "output_type": "execute_result"
    }
   ],
   "source": [
    "trainer_.state.log_history"
   ]
  },
  {
   "cell_type": "code",
   "execution_count": 38,
   "metadata": {},
   "outputs": [
    {
     "data": {
      "text/plain": [
       "[]"
      ]
     },
     "execution_count": 38,
     "metadata": {},
     "output_type": "execute_result"
    },
    {
     "data": {
      "image/png": "[encoded data removed]",
      "text/plain": [
       "<Figure size 864x576 with 1 Axes>"
      ]
     },
     "metadata": {
      "needs_background": "light"
     },
     "output_type": "display_data"
    }
   ],
   "source": [
    "plt.figure(figsize=(12, 8))\n",
    "\n",
    "plt.plot(\n",
    "    [x['epoch'] for x in trainer_.state.log_history if 'loss' in x.keys()],\n",
    "    [x['loss'] for x in trainer_.state.log_history if 'loss' in x.keys()],\n",
    "    label='train',\n",
    ")\n",
    "\n",
    "plt.plot(\n",
    "    [x['epoch'] for x in trainer_.state.log_history if 'eval_loss' in x.keys()],\n",
    "    [x['eval_loss'] for x in trainer_.state.log_history if 'eval_loss' in x.keys()],\n",
    "    label='val'\n",
    ")\n",
    "\n",
    "plt.legend()\n",
    "plt.plot()"
   ]
  },
  {
   "cell_type": "markdown",
   "metadata": {},
   "source": [
    "## prediction"
   ]
  },
  {
   "cell_type": "code",
   "execution_count": null,
   "metadata": {},
   "outputs": [
    {
     "name": "stderr",
     "output_type": "stream",
     "text": [
      "***** Running Prediction *****\n",
      "  Num examples: Unknown\n",
      "  Batch size = 16\n"
     ]
    },
    {
     "ename": "TypeError",
     "evalue": "object of type 'NoneType' has no len()",
     "output_type": "error",
     "traceback": [
      "\u001b[0;31m---------------------------------------------------------------------------\u001b[0m",
      "\u001b[0;31mTypeError\u001b[0m                                 Traceback (most recent call last)",
      "Cell \u001b[0;32mIn [60], line 1\u001b[0m\n\u001b[0;32m----> 1\u001b[0m preds\u001b[38;5;241m=\u001b[39mtorch\u001b[38;5;241m.\u001b[39mTensor(\u001b[43mtrainer_\u001b[49m\u001b[38;5;241;43m.\u001b[39;49m\u001b[43mpredict\u001b[49m\u001b[43m(\u001b[49m\u001b[43mdataset\u001b[49m\u001b[43m[\u001b[49m\u001b[38;5;124;43m'\u001b[39;49m\u001b[38;5;124;43mtest\u001b[39;49m\u001b[38;5;124;43m'\u001b[39;49m\u001b[43m]\u001b[49m\u001b[43m)\u001b[49m\u001b[38;5;241m.\u001b[39mpredictions)\n\u001b[1;32m      2\u001b[0m preds \u001b[38;5;241m=\u001b[39m torch\u001b[38;5;241m.\u001b[39mnn\u001b[38;5;241m.\u001b[39mfunctional\u001b[38;5;241m.\u001b[39msoftmax(preds,dim\u001b[38;5;241m=\u001b[39m\u001b[38;5;241m1\u001b[39m)\u001b[38;5;241m.\u001b[39mnumpy()\u001b[38;5;241m.\u001b[39mastype(\u001b[38;5;28mfloat\u001b[39m)\n\u001b[1;32m      3\u001b[0m preds\n",
      "File \u001b[0;32m/opt/conda/lib/python3.8/site-packages/transformers/trainer.py:2832\u001b[0m, in \u001b[0;36mTrainer.predict\u001b[0;34m(self, test_dataset, ignore_keys, metric_key_prefix)\u001b[0m\n\u001b[1;32m   2829\u001b[0m start_time \u001b[39m=\u001b[39m time\u001b[39m.\u001b[39mtime()\n\u001b[1;32m   2831\u001b[0m eval_loop \u001b[39m=\u001b[39m \u001b[39mself\u001b[39m\u001b[39m.\u001b[39mprediction_loop \u001b[39mif\u001b[39;00m \u001b[39mself\u001b[39m\u001b[39m.\u001b[39margs\u001b[39m.\u001b[39muse_legacy_prediction_loop \u001b[39melse\u001b[39;00m \u001b[39mself\u001b[39m\u001b[39m.\u001b[39mevaluation_loop\n\u001b[0;32m-> 2832\u001b[0m output \u001b[39m=\u001b[39m eval_loop(\n\u001b[1;32m   2833\u001b[0m     test_dataloader, description\u001b[39m=\u001b[39;49m\u001b[39m\"\u001b[39;49m\u001b[39mPrediction\u001b[39;49m\u001b[39m\"\u001b[39;49m, ignore_keys\u001b[39m=\u001b[39;49mignore_keys, metric_key_prefix\u001b[39m=\u001b[39;49mmetric_key_prefix\n\u001b[1;32m   2834\u001b[0m )\n\u001b[1;32m   2835\u001b[0m total_batch_size \u001b[39m=\u001b[39m \u001b[39mself\u001b[39m\u001b[39m.\u001b[39margs\u001b[39m.\u001b[39meval_batch_size \u001b[39m*\u001b[39m \u001b[39mself\u001b[39m\u001b[39m.\u001b[39margs\u001b[39m.\u001b[39mworld_size\n\u001b[1;32m   2836\u001b[0m output\u001b[39m.\u001b[39mmetrics\u001b[39m.\u001b[39mupdate(\n\u001b[1;32m   2837\u001b[0m     speed_metrics(\n\u001b[1;32m   2838\u001b[0m         metric_key_prefix,\n\u001b[0;32m   (...)\u001b[0m\n\u001b[1;32m   2842\u001b[0m     )\n\u001b[1;32m   2843\u001b[0m )\n",
      "File \u001b[0;32m/opt/conda/lib/python3.8/site-packages/transformers/trainer.py:2926\u001b[0m, in \u001b[0;36mTrainer.evaluation_loop\u001b[0;34m(self, dataloader, description, prediction_loss_only, ignore_keys, metric_key_prefix)\u001b[0m\n\u001b[1;32m   2924\u001b[0m observed_num_examples \u001b[39m=\u001b[39m \u001b[39m0\u001b[39m\n\u001b[1;32m   2925\u001b[0m \u001b[39m# Main evaluation loop\u001b[39;00m\n\u001b[0;32m-> 2926\u001b[0m \u001b[39mfor\u001b[39;00m step, inputs \u001b[39min\u001b[39;00m \u001b[39menumerate\u001b[39m(dataloader):\n\u001b[1;32m   2927\u001b[0m     \u001b[39m# Update the observed num examples\u001b[39;00m\n\u001b[1;32m   2928\u001b[0m     observed_batch_size \u001b[39m=\u001b[39m find_batch_size(inputs)\n\u001b[1;32m   2929\u001b[0m     \u001b[39mif\u001b[39;00m observed_batch_size \u001b[39mis\u001b[39;00m \u001b[39mnot\u001b[39;00m \u001b[39mNone\u001b[39;00m:\n",
      "File \u001b[0;32m/opt/conda/lib/python3.8/site-packages/torch/utils/data/dataloader.py:530\u001b[0m, in \u001b[0;36m_BaseDataLoaderIter.__next__\u001b[0;34m(self)\u001b[0m\n\u001b[1;32m    528\u001b[0m \u001b[39mif\u001b[39;00m \u001b[39mself\u001b[39m\u001b[39m.\u001b[39m_sampler_iter \u001b[39mis\u001b[39;00m \u001b[39mNone\u001b[39;00m:\n\u001b[1;32m    529\u001b[0m     \u001b[39mself\u001b[39m\u001b[39m.\u001b[39m_reset()\n\u001b[0;32m--> 530\u001b[0m data \u001b[39m=\u001b[39m \u001b[39mself\u001b[39;49m\u001b[39m.\u001b[39;49m_next_data()\n\u001b[1;32m    531\u001b[0m \u001b[39mself\u001b[39m\u001b[39m.\u001b[39m_num_yielded \u001b[39m+\u001b[39m\u001b[39m=\u001b[39m \u001b[39m1\u001b[39m\n\u001b[1;32m    532\u001b[0m \u001b[39mif\u001b[39;00m \u001b[39mself\u001b[39m\u001b[39m.\u001b[39m_dataset_kind \u001b[39m==\u001b[39m _DatasetKind\u001b[39m.\u001b[39mIterable \u001b[39mand\u001b[39;00m \\\n\u001b[1;32m    533\u001b[0m         \u001b[39mself\u001b[39m\u001b[39m.\u001b[39m_IterableDataset_len_called \u001b[39mis\u001b[39;00m \u001b[39mnot\u001b[39;00m \u001b[39mNone\u001b[39;00m \u001b[39mand\u001b[39;00m \\\n\u001b[1;32m    534\u001b[0m         \u001b[39mself\u001b[39m\u001b[39m.\u001b[39m_num_yielded \u001b[39m>\u001b[39m \u001b[39mself\u001b[39m\u001b[39m.\u001b[39m_IterableDataset_len_called:\n",
      "File \u001b[0;32m/opt/conda/lib/python3.8/site-packages/torch/utils/data/dataloader.py:569\u001b[0m, in \u001b[0;36m_SingleProcessDataLoaderIter._next_data\u001b[0;34m(self)\u001b[0m\n\u001b[1;32m    568\u001b[0m \u001b[39mdef\u001b[39;00m \u001b[39m_next_data\u001b[39m(\u001b[39mself\u001b[39m):\n\u001b[0;32m--> 569\u001b[0m     index \u001b[39m=\u001b[39m \u001b[39mself\u001b[39;49m\u001b[39m.\u001b[39;49m_next_index()  \u001b[39m# may raise StopIteration\u001b[39;00m\n\u001b[1;32m    570\u001b[0m     data \u001b[39m=\u001b[39m \u001b[39mself\u001b[39m\u001b[39m.\u001b[39m_dataset_fetcher\u001b[39m.\u001b[39mfetch(index)  \u001b[39m# may raise StopIteration\u001b[39;00m\n\u001b[1;32m    571\u001b[0m     \u001b[39mif\u001b[39;00m \u001b[39mself\u001b[39m\u001b[39m.\u001b[39m_pin_memory:\n",
      "File \u001b[0;32m/opt/conda/lib/python3.8/site-packages/torch/utils/data/dataloader.py:521\u001b[0m, in \u001b[0;36m_BaseDataLoaderIter._next_index\u001b[0;34m(self)\u001b[0m\n\u001b[1;32m    520\u001b[0m \u001b[39mdef\u001b[39;00m \u001b[39m_next_index\u001b[39m(\u001b[39mself\u001b[39m):\n\u001b[0;32m--> 521\u001b[0m     \u001b[39mreturn\u001b[39;00m \u001b[39mnext\u001b[39;49m(\u001b[39mself\u001b[39;49m\u001b[39m.\u001b[39;49m_sampler_iter)\n",
      "File \u001b[0;32m/opt/conda/lib/python3.8/site-packages/torch/utils/data/sampler.py:226\u001b[0m, in \u001b[0;36mBatchSampler.__iter__\u001b[0;34m(self)\u001b[0m\n\u001b[1;32m    224\u001b[0m \u001b[39mdef\u001b[39;00m \u001b[39m__iter__\u001b[39m(\u001b[39mself\u001b[39m) \u001b[39m-\u001b[39m\u001b[39m>\u001b[39m Iterator[List[\u001b[39mint\u001b[39m]]:\n\u001b[1;32m    225\u001b[0m     batch \u001b[39m=\u001b[39m []\n\u001b[0;32m--> 226\u001b[0m     \u001b[39mfor\u001b[39;00m idx \u001b[39min\u001b[39;00m \u001b[39mself\u001b[39m\u001b[39m.\u001b[39msampler:\n\u001b[1;32m    227\u001b[0m         batch\u001b[39m.\u001b[39mappend(idx)\n\u001b[1;32m    228\u001b[0m         \u001b[39mif\u001b[39;00m \u001b[39mlen\u001b[39m(batch) \u001b[39m==\u001b[39m \u001b[39mself\u001b[39m\u001b[39m.\u001b[39mbatch_size:\n",
      "File \u001b[0;32m/opt/conda/lib/python3.8/site-packages/torch/utils/data/sampler.py:66\u001b[0m, in \u001b[0;36mSequentialSampler.__iter__\u001b[0;34m(self)\u001b[0m\n\u001b[1;32m     65\u001b[0m \u001b[39mdef\u001b[39;00m \u001b[39m__iter__\u001b[39m(\u001b[39mself\u001b[39m) \u001b[39m-\u001b[39m\u001b[39m>\u001b[39m Iterator[\u001b[39mint\u001b[39m]:\n\u001b[0;32m---> 66\u001b[0m     \u001b[39mreturn\u001b[39;00m \u001b[39miter\u001b[39m(\u001b[39mrange\u001b[39m(\u001b[39mlen\u001b[39;49m(\u001b[39mself\u001b[39;49m\u001b[39m.\u001b[39;49mdata_source)))\n",
      "\u001b[0;31mTypeError\u001b[0m: object of type 'NoneType' has no len()"
     ]
    }
   ],
   "source": [
    "# preds=torch.Tensor(trainer_.predict(dataset['test']).predictions)\n",
    "# preds = torch.nn.functional.softmax(preds,dim=1).numpy().astype(float)\n",
    "# preds"
   ]
  },
  {
   "cell_type": "code",
   "execution_count": null,
   "metadata": {},
   "outputs": [
    {
     "data": {
      "text/html": [
       "<div>\n",
       "<style scoped>\n",
       "    .dataframe tbody tr th:only-of-type {\n",
       "        vertical-align: middle;\n",
       "    }\n",
       "\n",
       "    .dataframe tbody tr th {\n",
       "        vertical-align: top;\n",
       "    }\n",
       "\n",
       "    .dataframe thead th {\n",
       "        text-align: right;\n",
       "    }\n",
       "</style>\n",
       "<table border=\"1\" class=\"dataframe\">\n",
       "  <thead>\n",
       "    <tr style=\"text-align: right;\">\n",
       "      <th></th>\n",
       "      <th>discourse_id</th>\n",
       "      <th>Ineffective</th>\n",
       "      <th>Adequate</th>\n",
       "      <th>Effective</th>\n",
       "    </tr>\n",
       "  </thead>\n",
       "  <tbody>\n",
       "    <tr>\n",
       "      <th>0</th>\n",
       "      <td>a261b6e14276</td>\n",
       "      <td>0.033611</td>\n",
       "      <td>0.329639</td>\n",
       "      <td>0.636750</td>\n",
       "    </tr>\n",
       "    <tr>\n",
       "      <th>1</th>\n",
       "      <td>5a88900e7dc1</td>\n",
       "      <td>0.055210</td>\n",
       "      <td>0.625507</td>\n",
       "      <td>0.319282</td>\n",
       "    </tr>\n",
       "    <tr>\n",
       "      <th>2</th>\n",
       "      <td>9790d835736b</td>\n",
       "      <td>0.048238</td>\n",
       "      <td>0.689413</td>\n",
       "      <td>0.262349</td>\n",
       "    </tr>\n",
       "    <tr>\n",
       "      <th>3</th>\n",
       "      <td>75ce6d68b67b</td>\n",
       "      <td>0.057263</td>\n",
       "      <td>0.735350</td>\n",
       "      <td>0.207387</td>\n",
       "    </tr>\n",
       "    <tr>\n",
       "      <th>4</th>\n",
       "      <td>93578d946723</td>\n",
       "      <td>0.037477</td>\n",
       "      <td>0.598508</td>\n",
       "      <td>0.364015</td>\n",
       "    </tr>\n",
       "    <tr>\n",
       "      <th>5</th>\n",
       "      <td>2e214524dbe3</td>\n",
       "      <td>0.025827</td>\n",
       "      <td>0.255187</td>\n",
       "      <td>0.718986</td>\n",
       "    </tr>\n",
       "    <tr>\n",
       "      <th>6</th>\n",
       "      <td>84812fc2ab9f</td>\n",
       "      <td>0.043882</td>\n",
       "      <td>0.361060</td>\n",
       "      <td>0.595058</td>\n",
       "    </tr>\n",
       "    <tr>\n",
       "      <th>7</th>\n",
       "      <td>c668ff840720</td>\n",
       "      <td>0.068903</td>\n",
       "      <td>0.722844</td>\n",
       "      <td>0.208253</td>\n",
       "    </tr>\n",
       "    <tr>\n",
       "      <th>8</th>\n",
       "      <td>739a6d00f44a</td>\n",
       "      <td>0.104266</td>\n",
       "      <td>0.599784</td>\n",
       "      <td>0.295950</td>\n",
       "    </tr>\n",
       "    <tr>\n",
       "      <th>9</th>\n",
       "      <td>bcfae2c9a244</td>\n",
       "      <td>0.035709</td>\n",
       "      <td>0.382357</td>\n",
       "      <td>0.581935</td>\n",
       "    </tr>\n",
       "  </tbody>\n",
       "</table>\n",
       "</div>"
      ],
      "text/plain": [
       "   discourse_id  Ineffective  Adequate  Effective\n",
       "0  a261b6e14276     0.033611  0.329639   0.636750\n",
       "1  5a88900e7dc1     0.055210  0.625507   0.319282\n",
       "2  9790d835736b     0.048238  0.689413   0.262349\n",
       "3  75ce6d68b67b     0.057263  0.735350   0.207387\n",
       "4  93578d946723     0.037477  0.598508   0.364015\n",
       "5  2e214524dbe3     0.025827  0.255187   0.718986\n",
       "6  84812fc2ab9f     0.043882  0.361060   0.595058\n",
       "7  c668ff840720     0.068903  0.722844   0.208253\n",
       "8  739a6d00f44a     0.104266  0.599784   0.295950\n",
       "9  bcfae2c9a244     0.035709  0.382357   0.581935"
      ]
     },
     "execution_count": 29,
     "metadata": {},
     "output_type": "execute_result"
    }
   ],
   "source": [
    "# submission=sample_submission_csv.copy()\n",
    "# submission['Ineffective'] = preds[:,0]\n",
    "# submission['Adequate'] = preds[:,1]\n",
    "# submission['Effective'] = preds[:,2]\n",
    "# submission"
   ]
  },
  {
   "cell_type": "code",
   "execution_count": null,
   "metadata": {},
   "outputs": [],
   "source": [
    "# submission.to_csv('submission.csv',index=False)"
   ]
  },
  {
   "cell_type": "code",
   "execution_count": null,
   "metadata": {},
   "outputs": [],
   "source": [
    "#sample_submission_csv.to_csv('submission.csv',index=False)"
   ]
  }
 ],
 "metadata": {
  "kernelspec": {
   "display_name": "Python 3.8.12 ('base')",
   "language": "python",
   "name": "python3"
  },
  "language_info": {
   "codemirror_mode": {
    "name": "ipython",
    "version": 3
   },
   "file_extension": ".py",
   "mimetype": "text/x-python",
   "name": "python",
   "nbconvert_exporter": "python",
   "pygments_lexer": "ipython3",
   "version": "3.8.12"
  },
  "orig_nbformat": 4,
  "vscode": {
   "interpreter": {
    "hash": "d4d1e4263499bec80672ea0156c357c1ee493ec2b1c70f0acce89fc37c4a6abe"
   }
  }
 },
 "nbformat": 4,
 "nbformat_minor": 2
}
