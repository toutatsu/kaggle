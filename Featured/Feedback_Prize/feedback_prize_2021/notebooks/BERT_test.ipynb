{
 "cells": [
  {
   "cell_type": "markdown",
   "metadata": {},
   "source": [
    "# feedback-prize-effectiveness"
   ]
  },
  {
   "cell_type": "markdown",
   "metadata": {},
   "source": [
    "## import libraries"
   ]
  },
  {
   "cell_type": "code",
   "execution_count": 1,
   "metadata": {},
   "outputs": [],
   "source": [
    "import numpy as np\n",
    "import matplotlib.pyplot as plt\n",
    "import sys\n",
    "import os\n",
    "\n",
    "import pandas as pd\n",
    "\n",
    "import torch\n",
    "import transformers\n",
    "import datasets\n",
    "\n",
    "import importlib\n",
    "#importlib.reload(load_data)\n"
   ]
  },
  {
   "cell_type": "code",
   "execution_count": 2,
   "metadata": {},
   "outputs": [],
   "source": [
    "is_kaggle=os.getenv('KAGGLE_KERNEL_RUN_TYPE', '')\n",
    "\n",
    "if not is_kaggle:\n",
    "\n",
    "    sys.path.append('../')\n",
    "\n",
    "    from src.utils import config\n",
    "    #from src.utils import logger\n",
    "    from src.data import load_data\n",
    "\n",
    "    from src.models.huggingface_transformers import BERT\n",
    "\n",
    "    from src.training.huggingface_transformers import trainer"
   ]
  },
  {
   "cell_type": "code",
   "execution_count": 3,
   "metadata": {},
   "outputs": [],
   "source": [
    "#logger=logger.Logger('test_log')"
   ]
  },
  {
   "cell_type": "code",
   "execution_count": 4,
   "metadata": {},
   "outputs": [],
   "source": [
    "CFG=config.CFG(competition_name='feedback-prize-2021')\n",
    "CFG.debug=True\n",
    "CFG.device = torch.device('cuda:0' if torch.cuda.is_available() else 'cpu')"
   ]
  },
  {
   "cell_type": "markdown",
   "metadata": {},
   "source": []
  },
  {
   "cell_type": "code",
   "execution_count": 5,
   "metadata": {},
   "outputs": [
    {
     "data": {
      "text/plain": [
       "'../data/'"
      ]
     },
     "execution_count": 5,
     "metadata": {},
     "output_type": "execute_result"
    }
   ],
   "source": [
    "CFG.data_path"
   ]
  },
  {
   "cell_type": "markdown",
   "metadata": {},
   "source": [
    "## data"
   ]
  },
  {
   "cell_type": "code",
   "execution_count": 6,
   "metadata": {},
   "outputs": [],
   "source": [
    "if not CFG.is_kaggle and False:\n",
    "    load_data.download_data(CFG.data_path+CFG.competition_name+'/',CFG.competition_name)"
   ]
  },
  {
   "cell_type": "code",
   "execution_count": 7,
   "metadata": {},
   "outputs": [],
   "source": [
    "train_csv,sample_submission_csv=load_data.load_data(CFG.data_path+CFG.competition_name+'/',debug=CFG.debug)\n",
    "test_csv=sample_submission_csv.copy()"
   ]
  },
  {
   "cell_type": "code",
   "execution_count": 8,
   "metadata": {},
   "outputs": [
    {
     "data": {
      "text/html": [
       "<div>\n",
       "<style scoped>\n",
       "    .dataframe tbody tr th:only-of-type {\n",
       "        vertical-align: middle;\n",
       "    }\n",
       "\n",
       "    .dataframe tbody tr th {\n",
       "        vertical-align: top;\n",
       "    }\n",
       "\n",
       "    .dataframe thead th {\n",
       "        text-align: right;\n",
       "    }\n",
       "</style>\n",
       "<table border=\"1\" class=\"dataframe\">\n",
       "  <thead>\n",
       "    <tr style=\"text-align: right;\">\n",
       "      <th></th>\n",
       "      <th>id</th>\n",
       "      <th>discourse_id</th>\n",
       "      <th>discourse_start</th>\n",
       "      <th>discourse_end</th>\n",
       "      <th>discourse_text</th>\n",
       "      <th>discourse_type</th>\n",
       "      <th>discourse_type_num</th>\n",
       "      <th>predictionstring</th>\n",
       "    </tr>\n",
       "  </thead>\n",
       "  <tbody>\n",
       "    <tr>\n",
       "      <th>7881</th>\n",
       "      <td>2C27E003116B</td>\n",
       "      <td>1.622648e+12</td>\n",
       "      <td>408.0</td>\n",
       "      <td>529.0</td>\n",
       "      <td>Think of all the money people would save becau...</td>\n",
       "      <td>Claim</td>\n",
       "      <td>Claim 1</td>\n",
       "      <td>71 72 73 74 75 76 77 78 79 80 81 82 83 84 85 8...</td>\n",
       "    </tr>\n",
       "    <tr>\n",
       "      <th>89707</th>\n",
       "      <td>7BEB99575D62</td>\n",
       "      <td>1.615844e+12</td>\n",
       "      <td>135.0</td>\n",
       "      <td>198.0</td>\n",
       "      <td>Popular vote is a more efficent way to vote fo...</td>\n",
       "      <td>Claim</td>\n",
       "      <td>Claim 1</td>\n",
       "      <td>21 22 23 24 25 26 27 28 29 30 31 32</td>\n",
       "    </tr>\n",
       "    <tr>\n",
       "      <th>64633</th>\n",
       "      <td>CE4EFA6441C4</td>\n",
       "      <td>1.614611e+12</td>\n",
       "      <td>935.0</td>\n",
       "      <td>1460.0</td>\n",
       "      <td>or most problems, the town pays people or a bu...</td>\n",
       "      <td>Evidence</td>\n",
       "      <td>Evidence 2</td>\n",
       "      <td>168 169 170 171 172 173 174 175 176 177 178 17...</td>\n",
       "    </tr>\n",
       "    <tr>\n",
       "      <th>132774</th>\n",
       "      <td>0EE6F614F2F0</td>\n",
       "      <td>1.618171e+12</td>\n",
       "      <td>110.0</td>\n",
       "      <td>180.0</td>\n",
       "      <td>Seeking more than one opinion can provide som...</td>\n",
       "      <td>Position</td>\n",
       "      <td>Position 1</td>\n",
       "      <td>20 21 22 23 24 25 26 27 28 29 30</td>\n",
       "    </tr>\n",
       "    <tr>\n",
       "      <th>92682</th>\n",
       "      <td>6E72E9EADF75</td>\n",
       "      <td>1.614702e+12</td>\n",
       "      <td>0.0</td>\n",
       "      <td>326.0</td>\n",
       "      <td>\" What's wrong with the Electoral College?\" To...</td>\n",
       "      <td>Lead</td>\n",
       "      <td>Lead 1</td>\n",
       "      <td>0 1 2 3 4 5 6 7 8 9 10 11 12 13 14 15 16 17 18...</td>\n",
       "    </tr>\n",
       "    <tr>\n",
       "      <th>...</th>\n",
       "      <td>...</td>\n",
       "      <td>...</td>\n",
       "      <td>...</td>\n",
       "      <td>...</td>\n",
       "      <td>...</td>\n",
       "      <td>...</td>\n",
       "      <td>...</td>\n",
       "      <td>...</td>\n",
       "    </tr>\n",
       "    <tr>\n",
       "      <th>13354</th>\n",
       "      <td>96DE1AD15FD2</td>\n",
       "      <td>1.622567e+12</td>\n",
       "      <td>2996.0</td>\n",
       "      <td>4037.0</td>\n",
       "      <td>WEEE-WOO-WEEH-WOO\\n\\n!!! This is the sound of ...</td>\n",
       "      <td>Evidence</td>\n",
       "      <td>Evidence 4</td>\n",
       "      <td>505 506 507 508 509 510 511 512 513 514 515 51...</td>\n",
       "    </tr>\n",
       "    <tr>\n",
       "      <th>32205</th>\n",
       "      <td>D9B3809280F9</td>\n",
       "      <td>1.615924e+12</td>\n",
       "      <td>180.0</td>\n",
       "      <td>238.0</td>\n",
       "      <td>Doing activities that aren't required have man...</td>\n",
       "      <td>Evidence</td>\n",
       "      <td>Evidence 1</td>\n",
       "      <td>27 28 29 30 31 32 33 34</td>\n",
       "    </tr>\n",
       "    <tr>\n",
       "      <th>19805</th>\n",
       "      <td>EF3D0D368ED7</td>\n",
       "      <td>1.618800e+12</td>\n",
       "      <td>663.0</td>\n",
       "      <td>703.0</td>\n",
       "      <td>it provides a challenge to the students.</td>\n",
       "      <td>Claim</td>\n",
       "      <td>Claim 4</td>\n",
       "      <td>112 113 114 115 116 117 118</td>\n",
       "    </tr>\n",
       "    <tr>\n",
       "      <th>117521</th>\n",
       "      <td>631F9CBDFD7A</td>\n",
       "      <td>1.621448e+12</td>\n",
       "      <td>129.0</td>\n",
       "      <td>170.0</td>\n",
       "      <td>some students like work on the computers,</td>\n",
       "      <td>Claim</td>\n",
       "      <td>Claim 2</td>\n",
       "      <td>24 25 26 27 28 29 30</td>\n",
       "    </tr>\n",
       "    <tr>\n",
       "      <th>8520</th>\n",
       "      <td>72B560BE6C3B</td>\n",
       "      <td>1.622466e+12</td>\n",
       "      <td>1217.0</td>\n",
       "      <td>1288.0</td>\n",
       "      <td>however, they don't think about how it can hel...</td>\n",
       "      <td>Rebuttal</td>\n",
       "      <td>Rebuttal 1</td>\n",
       "      <td>198 199 200 201 202 203 204 205 206 207 208 20...</td>\n",
       "    </tr>\n",
       "  </tbody>\n",
       "</table>\n",
       "<p>1443 rows × 8 columns</p>\n",
       "</div>"
      ],
      "text/plain": [
       "                  id  discourse_id  discourse_start  discourse_end  \\\n",
       "7881    2C27E003116B  1.622648e+12            408.0          529.0   \n",
       "89707   7BEB99575D62  1.615844e+12            135.0          198.0   \n",
       "64633   CE4EFA6441C4  1.614611e+12            935.0         1460.0   \n",
       "132774  0EE6F614F2F0  1.618171e+12            110.0          180.0   \n",
       "92682   6E72E9EADF75  1.614702e+12              0.0          326.0   \n",
       "...              ...           ...              ...            ...   \n",
       "13354   96DE1AD15FD2  1.622567e+12           2996.0         4037.0   \n",
       "32205   D9B3809280F9  1.615924e+12            180.0          238.0   \n",
       "19805   EF3D0D368ED7  1.618800e+12            663.0          703.0   \n",
       "117521  631F9CBDFD7A  1.621448e+12            129.0          170.0   \n",
       "8520    72B560BE6C3B  1.622466e+12           1217.0         1288.0   \n",
       "\n",
       "                                           discourse_text discourse_type  \\\n",
       "7881    Think of all the money people would save becau...          Claim   \n",
       "89707   Popular vote is a more efficent way to vote fo...          Claim   \n",
       "64633   or most problems, the town pays people or a bu...       Evidence   \n",
       "132774   Seeking more than one opinion can provide som...       Position   \n",
       "92682   \" What's wrong with the Electoral College?\" To...           Lead   \n",
       "...                                                   ...            ...   \n",
       "13354   WEEE-WOO-WEEH-WOO\\n\\n!!! This is the sound of ...       Evidence   \n",
       "32205   Doing activities that aren't required have man...       Evidence   \n",
       "19805            it provides a challenge to the students.          Claim   \n",
       "117521          some students like work on the computers,          Claim   \n",
       "8520    however, they don't think about how it can hel...       Rebuttal   \n",
       "\n",
       "       discourse_type_num                                   predictionstring  \n",
       "7881              Claim 1  71 72 73 74 75 76 77 78 79 80 81 82 83 84 85 8...  \n",
       "89707             Claim 1                21 22 23 24 25 26 27 28 29 30 31 32  \n",
       "64633          Evidence 2  168 169 170 171 172 173 174 175 176 177 178 17...  \n",
       "132774         Position 1                   20 21 22 23 24 25 26 27 28 29 30  \n",
       "92682              Lead 1  0 1 2 3 4 5 6 7 8 9 10 11 12 13 14 15 16 17 18...  \n",
       "...                   ...                                                ...  \n",
       "13354          Evidence 4  505 506 507 508 509 510 511 512 513 514 515 51...  \n",
       "32205          Evidence 1                            27 28 29 30 31 32 33 34  \n",
       "19805             Claim 4                        112 113 114 115 116 117 118  \n",
       "117521            Claim 2                               24 25 26 27 28 29 30  \n",
       "8520           Rebuttal 1  198 199 200 201 202 203 204 205 206 207 208 20...  \n",
       "\n",
       "[1443 rows x 8 columns]"
      ]
     },
     "execution_count": 8,
     "metadata": {},
     "output_type": "execute_result"
    }
   ],
   "source": [
    "train_csv"
   ]
  },
  {
   "cell_type": "code",
   "execution_count": 9,
   "metadata": {},
   "outputs": [
    {
     "data": {
      "text/html": [
       "<div>\n",
       "<style scoped>\n",
       "    .dataframe tbody tr th:only-of-type {\n",
       "        vertical-align: middle;\n",
       "    }\n",
       "\n",
       "    .dataframe tbody tr th {\n",
       "        vertical-align: top;\n",
       "    }\n",
       "\n",
       "    .dataframe thead th {\n",
       "        text-align: right;\n",
       "    }\n",
       "</style>\n",
       "<table border=\"1\" class=\"dataframe\">\n",
       "  <thead>\n",
       "    <tr style=\"text-align: right;\">\n",
       "      <th></th>\n",
       "      <th>id</th>\n",
       "      <th>class</th>\n",
       "      <th>predictionstring</th>\n",
       "      <th>discourse_text</th>\n",
       "    </tr>\n",
       "  </thead>\n",
       "  <tbody>\n",
       "    <tr>\n",
       "      <th>0</th>\n",
       "      <td>18409261F5C2</td>\n",
       "      <td>NaN</td>\n",
       "      <td>NaN</td>\n",
       "      <td>80% of Americans believe seeking multiple opin...</td>\n",
       "    </tr>\n",
       "    <tr>\n",
       "      <th>1</th>\n",
       "      <td>D46BCB48440A</td>\n",
       "      <td>NaN</td>\n",
       "      <td>NaN</td>\n",
       "      <td>When people ask for advice,they sometimes talk...</td>\n",
       "    </tr>\n",
       "    <tr>\n",
       "      <th>2</th>\n",
       "      <td>0FB0700DAF44</td>\n",
       "      <td>NaN</td>\n",
       "      <td>NaN</td>\n",
       "      <td>During a group project, have you ever asked a ...</td>\n",
       "    </tr>\n",
       "    <tr>\n",
       "      <th>3</th>\n",
       "      <td>D72CB1C11673</td>\n",
       "      <td>NaN</td>\n",
       "      <td>NaN</td>\n",
       "      <td>Making choices in life can be very difficult. ...</td>\n",
       "    </tr>\n",
       "    <tr>\n",
       "      <th>4</th>\n",
       "      <td>DF920E0A7337</td>\n",
       "      <td>NaN</td>\n",
       "      <td>NaN</td>\n",
       "      <td>Have you ever asked more than one person for h...</td>\n",
       "    </tr>\n",
       "  </tbody>\n",
       "</table>\n",
       "</div>"
      ],
      "text/plain": [
       "             id  class  predictionstring  \\\n",
       "0  18409261F5C2    NaN               NaN   \n",
       "1  D46BCB48440A    NaN               NaN   \n",
       "2  0FB0700DAF44    NaN               NaN   \n",
       "3  D72CB1C11673    NaN               NaN   \n",
       "4  DF920E0A7337    NaN               NaN   \n",
       "\n",
       "                                      discourse_text  \n",
       "0  80% of Americans believe seeking multiple opin...  \n",
       "1  When people ask for advice,they sometimes talk...  \n",
       "2  During a group project, have you ever asked a ...  \n",
       "3  Making choices in life can be very difficult. ...  \n",
       "4  Have you ever asked more than one person for h...  "
      ]
     },
     "execution_count": 9,
     "metadata": {},
     "output_type": "execute_result"
    }
   ],
   "source": [
    "def read_text(id):\n",
    "    return open(id+'.txt', 'r', encoding='UTF-8').read()\n",
    "\n",
    "\n",
    "test_csv['discourse_text']=[open(CFG.data_path+'feedback-prize-2021/test/'+id+'.txt', 'r', encoding='UTF-8').read() for id in test_csv.id]\n",
    "test_csv"
   ]
  },
  {
   "cell_type": "markdown",
   "metadata": {},
   "source": [
    "## feature"
   ]
  },
  {
   "cell_type": "code",
   "execution_count": 10,
   "metadata": {},
   "outputs": [
    {
     "name": "stderr",
     "output_type": "stream",
     "text": [
      "Some weights of the model checkpoint at bert-base-uncased were not used when initializing BertForSequenceClassification: ['cls.predictions.transform.LayerNorm.bias', 'cls.predictions.decoder.weight', 'cls.seq_relationship.weight', 'cls.seq_relationship.bias', 'cls.predictions.transform.dense.weight', 'cls.predictions.transform.LayerNorm.weight', 'cls.predictions.transform.dense.bias', 'cls.predictions.bias']\n",
      "- This IS expected if you are initializing BertForSequenceClassification from the checkpoint of a model trained on another task or with another architecture (e.g. initializing a BertForSequenceClassification model from a BertForPreTraining model).\n",
      "- This IS NOT expected if you are initializing BertForSequenceClassification from the checkpoint of a model that you expect to be exactly identical (initializing a BertForSequenceClassification model from a BertForSequenceClassification model).\n",
      "Some weights of BertForSequenceClassification were not initialized from the model checkpoint at bert-base-uncased and are newly initialized: ['classifier.bias', 'classifier.weight']\n",
      "You should probably TRAIN this model on a down-stream task to be able to use it for predictions and inference.\n"
     ]
    }
   ],
   "source": [
    "model_name='BERT'\n",
    "\n",
    "training=True\n",
    "\n",
    "if training:\n",
    "    pretrained_model='bert-base-uncased'\n",
    "    #pretrained_model=CFG.output_path+''\n",
    "else :\n",
    "    pretrained_model=CFG.weights_path+model_name+'/'\n",
    "    \n",
    "\n",
    "model=BERT.transformers_BERT(pretrained_path=pretrained_model,device=CFG.device)"
   ]
  },
  {
   "cell_type": "code",
   "execution_count": 11,
   "metadata": {},
   "outputs": [],
   "source": [
    "train_csv['input'] = train_csv.discourse_text\n",
    "test_csv['input'] = test_csv.discourse_text"
   ]
  },
  {
   "cell_type": "code",
   "execution_count": 12,
   "metadata": {},
   "outputs": [],
   "source": [
    "train_csv['label']=train_csv['discourse_type']\n",
    "train_csv = train_csv.replace(\n",
    "    {\n",
    "        \"label\":\n",
    "        {\n",
    "            'Lead': 0,\n",
    "            'Position': 1,\n",
    "            'Evidence': 2,\n",
    "            'Claim': 3,\n",
    "            'Concluding Statement': 4,\n",
    "            'Counterclaim': 5,\n",
    "            'Rebuttal': 6\n",
    "        }\n",
    "    }\n",
    ")\n",
    "\n",
    "#train_csv = train_csv.rename(columns = {\"discourse_effectiveness\": \"label\"})"
   ]
  },
  {
   "cell_type": "code",
   "execution_count": 13,
   "metadata": {},
   "outputs": [
    {
     "data": {
      "text/html": [
       "<div>\n",
       "<style scoped>\n",
       "    .dataframe tbody tr th:only-of-type {\n",
       "        vertical-align: middle;\n",
       "    }\n",
       "\n",
       "    .dataframe tbody tr th {\n",
       "        vertical-align: top;\n",
       "    }\n",
       "\n",
       "    .dataframe thead th {\n",
       "        text-align: right;\n",
       "    }\n",
       "</style>\n",
       "<table border=\"1\" class=\"dataframe\">\n",
       "  <thead>\n",
       "    <tr style=\"text-align: right;\">\n",
       "      <th></th>\n",
       "      <th>id</th>\n",
       "      <th>discourse_id</th>\n",
       "      <th>discourse_start</th>\n",
       "      <th>discourse_end</th>\n",
       "      <th>discourse_text</th>\n",
       "      <th>discourse_type</th>\n",
       "      <th>discourse_type_num</th>\n",
       "      <th>predictionstring</th>\n",
       "      <th>input</th>\n",
       "      <th>label</th>\n",
       "    </tr>\n",
       "  </thead>\n",
       "  <tbody>\n",
       "    <tr>\n",
       "      <th>7881</th>\n",
       "      <td>2C27E003116B</td>\n",
       "      <td>1.622648e+12</td>\n",
       "      <td>408.0</td>\n",
       "      <td>529.0</td>\n",
       "      <td>Think of all the money people would save becau...</td>\n",
       "      <td>Claim</td>\n",
       "      <td>Claim 1</td>\n",
       "      <td>71 72 73 74 75 76 77 78 79 80 81 82 83 84 85 8...</td>\n",
       "      <td>Think of all the money people would save becau...</td>\n",
       "      <td>3</td>\n",
       "    </tr>\n",
       "    <tr>\n",
       "      <th>89707</th>\n",
       "      <td>7BEB99575D62</td>\n",
       "      <td>1.615844e+12</td>\n",
       "      <td>135.0</td>\n",
       "      <td>198.0</td>\n",
       "      <td>Popular vote is a more efficent way to vote fo...</td>\n",
       "      <td>Claim</td>\n",
       "      <td>Claim 1</td>\n",
       "      <td>21 22 23 24 25 26 27 28 29 30 31 32</td>\n",
       "      <td>Popular vote is a more efficent way to vote fo...</td>\n",
       "      <td>3</td>\n",
       "    </tr>\n",
       "    <tr>\n",
       "      <th>64633</th>\n",
       "      <td>CE4EFA6441C4</td>\n",
       "      <td>1.614611e+12</td>\n",
       "      <td>935.0</td>\n",
       "      <td>1460.0</td>\n",
       "      <td>or most problems, the town pays people or a bu...</td>\n",
       "      <td>Evidence</td>\n",
       "      <td>Evidence 2</td>\n",
       "      <td>168 169 170 171 172 173 174 175 176 177 178 17...</td>\n",
       "      <td>or most problems, the town pays people or a bu...</td>\n",
       "      <td>2</td>\n",
       "    </tr>\n",
       "    <tr>\n",
       "      <th>132774</th>\n",
       "      <td>0EE6F614F2F0</td>\n",
       "      <td>1.618171e+12</td>\n",
       "      <td>110.0</td>\n",
       "      <td>180.0</td>\n",
       "      <td>Seeking more than one opinion can provide som...</td>\n",
       "      <td>Position</td>\n",
       "      <td>Position 1</td>\n",
       "      <td>20 21 22 23 24 25 26 27 28 29 30</td>\n",
       "      <td>Seeking more than one opinion can provide som...</td>\n",
       "      <td>1</td>\n",
       "    </tr>\n",
       "    <tr>\n",
       "      <th>92682</th>\n",
       "      <td>6E72E9EADF75</td>\n",
       "      <td>1.614702e+12</td>\n",
       "      <td>0.0</td>\n",
       "      <td>326.0</td>\n",
       "      <td>\" What's wrong with the Electoral College?\" To...</td>\n",
       "      <td>Lead</td>\n",
       "      <td>Lead 1</td>\n",
       "      <td>0 1 2 3 4 5 6 7 8 9 10 11 12 13 14 15 16 17 18...</td>\n",
       "      <td>\" What's wrong with the Electoral College?\" To...</td>\n",
       "      <td>0</td>\n",
       "    </tr>\n",
       "    <tr>\n",
       "      <th>...</th>\n",
       "      <td>...</td>\n",
       "      <td>...</td>\n",
       "      <td>...</td>\n",
       "      <td>...</td>\n",
       "      <td>...</td>\n",
       "      <td>...</td>\n",
       "      <td>...</td>\n",
       "      <td>...</td>\n",
       "      <td>...</td>\n",
       "      <td>...</td>\n",
       "    </tr>\n",
       "    <tr>\n",
       "      <th>13354</th>\n",
       "      <td>96DE1AD15FD2</td>\n",
       "      <td>1.622567e+12</td>\n",
       "      <td>2996.0</td>\n",
       "      <td>4037.0</td>\n",
       "      <td>WEEE-WOO-WEEH-WOO\\n\\n!!! This is the sound of ...</td>\n",
       "      <td>Evidence</td>\n",
       "      <td>Evidence 4</td>\n",
       "      <td>505 506 507 508 509 510 511 512 513 514 515 51...</td>\n",
       "      <td>WEEE-WOO-WEEH-WOO\\n\\n!!! This is the sound of ...</td>\n",
       "      <td>2</td>\n",
       "    </tr>\n",
       "    <tr>\n",
       "      <th>32205</th>\n",
       "      <td>D9B3809280F9</td>\n",
       "      <td>1.615924e+12</td>\n",
       "      <td>180.0</td>\n",
       "      <td>238.0</td>\n",
       "      <td>Doing activities that aren't required have man...</td>\n",
       "      <td>Evidence</td>\n",
       "      <td>Evidence 1</td>\n",
       "      <td>27 28 29 30 31 32 33 34</td>\n",
       "      <td>Doing activities that aren't required have man...</td>\n",
       "      <td>2</td>\n",
       "    </tr>\n",
       "    <tr>\n",
       "      <th>19805</th>\n",
       "      <td>EF3D0D368ED7</td>\n",
       "      <td>1.618800e+12</td>\n",
       "      <td>663.0</td>\n",
       "      <td>703.0</td>\n",
       "      <td>it provides a challenge to the students.</td>\n",
       "      <td>Claim</td>\n",
       "      <td>Claim 4</td>\n",
       "      <td>112 113 114 115 116 117 118</td>\n",
       "      <td>it provides a challenge to the students.</td>\n",
       "      <td>3</td>\n",
       "    </tr>\n",
       "    <tr>\n",
       "      <th>117521</th>\n",
       "      <td>631F9CBDFD7A</td>\n",
       "      <td>1.621448e+12</td>\n",
       "      <td>129.0</td>\n",
       "      <td>170.0</td>\n",
       "      <td>some students like work on the computers,</td>\n",
       "      <td>Claim</td>\n",
       "      <td>Claim 2</td>\n",
       "      <td>24 25 26 27 28 29 30</td>\n",
       "      <td>some students like work on the computers,</td>\n",
       "      <td>3</td>\n",
       "    </tr>\n",
       "    <tr>\n",
       "      <th>8520</th>\n",
       "      <td>72B560BE6C3B</td>\n",
       "      <td>1.622466e+12</td>\n",
       "      <td>1217.0</td>\n",
       "      <td>1288.0</td>\n",
       "      <td>however, they don't think about how it can hel...</td>\n",
       "      <td>Rebuttal</td>\n",
       "      <td>Rebuttal 1</td>\n",
       "      <td>198 199 200 201 202 203 204 205 206 207 208 20...</td>\n",
       "      <td>however, they don't think about how it can hel...</td>\n",
       "      <td>6</td>\n",
       "    </tr>\n",
       "  </tbody>\n",
       "</table>\n",
       "<p>1443 rows × 10 columns</p>\n",
       "</div>"
      ],
      "text/plain": [
       "                  id  discourse_id  discourse_start  discourse_end  \\\n",
       "7881    2C27E003116B  1.622648e+12            408.0          529.0   \n",
       "89707   7BEB99575D62  1.615844e+12            135.0          198.0   \n",
       "64633   CE4EFA6441C4  1.614611e+12            935.0         1460.0   \n",
       "132774  0EE6F614F2F0  1.618171e+12            110.0          180.0   \n",
       "92682   6E72E9EADF75  1.614702e+12              0.0          326.0   \n",
       "...              ...           ...              ...            ...   \n",
       "13354   96DE1AD15FD2  1.622567e+12           2996.0         4037.0   \n",
       "32205   D9B3809280F9  1.615924e+12            180.0          238.0   \n",
       "19805   EF3D0D368ED7  1.618800e+12            663.0          703.0   \n",
       "117521  631F9CBDFD7A  1.621448e+12            129.0          170.0   \n",
       "8520    72B560BE6C3B  1.622466e+12           1217.0         1288.0   \n",
       "\n",
       "                                           discourse_text discourse_type  \\\n",
       "7881    Think of all the money people would save becau...          Claim   \n",
       "89707   Popular vote is a more efficent way to vote fo...          Claim   \n",
       "64633   or most problems, the town pays people or a bu...       Evidence   \n",
       "132774   Seeking more than one opinion can provide som...       Position   \n",
       "92682   \" What's wrong with the Electoral College?\" To...           Lead   \n",
       "...                                                   ...            ...   \n",
       "13354   WEEE-WOO-WEEH-WOO\\n\\n!!! This is the sound of ...       Evidence   \n",
       "32205   Doing activities that aren't required have man...       Evidence   \n",
       "19805            it provides a challenge to the students.          Claim   \n",
       "117521          some students like work on the computers,          Claim   \n",
       "8520    however, they don't think about how it can hel...       Rebuttal   \n",
       "\n",
       "       discourse_type_num                                   predictionstring  \\\n",
       "7881              Claim 1  71 72 73 74 75 76 77 78 79 80 81 82 83 84 85 8...   \n",
       "89707             Claim 1                21 22 23 24 25 26 27 28 29 30 31 32   \n",
       "64633          Evidence 2  168 169 170 171 172 173 174 175 176 177 178 17...   \n",
       "132774         Position 1                   20 21 22 23 24 25 26 27 28 29 30   \n",
       "92682              Lead 1  0 1 2 3 4 5 6 7 8 9 10 11 12 13 14 15 16 17 18...   \n",
       "...                   ...                                                ...   \n",
       "13354          Evidence 4  505 506 507 508 509 510 511 512 513 514 515 51...   \n",
       "32205          Evidence 1                            27 28 29 30 31 32 33 34   \n",
       "19805             Claim 4                        112 113 114 115 116 117 118   \n",
       "117521            Claim 2                               24 25 26 27 28 29 30   \n",
       "8520           Rebuttal 1  198 199 200 201 202 203 204 205 206 207 208 20...   \n",
       "\n",
       "                                                    input  label  \n",
       "7881    Think of all the money people would save becau...      3  \n",
       "89707   Popular vote is a more efficent way to vote fo...      3  \n",
       "64633   or most problems, the town pays people or a bu...      2  \n",
       "132774   Seeking more than one opinion can provide som...      1  \n",
       "92682   \" What's wrong with the Electoral College?\" To...      0  \n",
       "...                                                   ...    ...  \n",
       "13354   WEEE-WOO-WEEH-WOO\\n\\n!!! This is the sound of ...      2  \n",
       "32205   Doing activities that aren't required have man...      2  \n",
       "19805            it provides a challenge to the students.      3  \n",
       "117521          some students like work on the computers,      3  \n",
       "8520    however, they don't think about how it can hel...      6  \n",
       "\n",
       "[1443 rows x 10 columns]"
      ]
     },
     "execution_count": 13,
     "metadata": {},
     "output_type": "execute_result"
    }
   ],
   "source": [
    "train_csv"
   ]
  },
  {
   "cell_type": "markdown",
   "metadata": {},
   "source": [
    "### train val split"
   ]
  },
  {
   "cell_type": "code",
   "execution_count": 14,
   "metadata": {},
   "outputs": [],
   "source": [
    "essay_ids={'train':None,'val':None}\n",
    "essay_ids['train'],essay_ids['val']=load_data.split(train_csv.id.unique())"
   ]
  },
  {
   "cell_type": "code",
   "execution_count": 15,
   "metadata": {},
   "outputs": [],
   "source": [
    "train_csv['train_val']=train_csv.id.isin(essay_ids['train']).replace({True: 'train',False: 'val'})"
   ]
  },
  {
   "cell_type": "code",
   "execution_count": 16,
   "metadata": {},
   "outputs": [],
   "source": [
    "df={'train':None,'val':None,'test':None}\n",
    "df['train']=train_csv[train_csv['train_val']=='train']\n",
    "df['val']=train_csv[train_csv['train_val']=='val']\n",
    "df['test']=test_csv"
   ]
  },
  {
   "cell_type": "markdown",
   "metadata": {},
   "source": [
    "## training"
   ]
  },
  {
   "cell_type": "code",
   "execution_count": 17,
   "metadata": {},
   "outputs": [],
   "source": [
    "dataset={'train':None,'val':None,'test':None}\n",
    "\n",
    "dataset['train'] = datasets.Dataset.from_pandas(df['train'])\n",
    "dataset['val'] = datasets.Dataset.from_pandas(df['val'])\n",
    "dataset['test'] = datasets.Dataset.from_pandas(df['test'])"
   ]
  },
  {
   "cell_type": "code",
   "execution_count": 18,
   "metadata": {},
   "outputs": [
    {
     "data": {
      "text/plain": [
       "Index(['id', 'discourse_id', 'discourse_start', 'discourse_end',\n",
       "       'discourse_text', 'discourse_type', 'discourse_type_num',\n",
       "       'predictionstring', 'input', 'label', 'train_val'],\n",
       "      dtype='object')"
      ]
     },
     "execution_count": 18,
     "metadata": {},
     "output_type": "execute_result"
    }
   ],
   "source": [
    "df['val'].keys()"
   ]
  },
  {
   "cell_type": "code",
   "execution_count": 19,
   "metadata": {},
   "outputs": [
    {
     "data": {
      "text/plain": [
       "{'train': Dataset({\n",
       "     features: ['id', 'discourse_id', 'discourse_start', 'discourse_end', 'discourse_text', 'discourse_type', 'discourse_type_num', 'predictionstring', 'input', 'label', 'train_val', '__index_level_0__'],\n",
       "     num_rows: 1149\n",
       " }),\n",
       " 'val': Dataset({\n",
       "     features: ['id', 'discourse_id', 'discourse_start', 'discourse_end', 'discourse_text', 'discourse_type', 'discourse_type_num', 'predictionstring', 'input', 'label', 'train_val', '__index_level_0__'],\n",
       "     num_rows: 294\n",
       " }),\n",
       " 'test': Dataset({\n",
       "     features: ['id', 'class', 'predictionstring', 'discourse_text', 'input'],\n",
       "     num_rows: 5\n",
       " })}"
      ]
     },
     "execution_count": 19,
     "metadata": {},
     "output_type": "execute_result"
    }
   ],
   "source": [
    "dataset"
   ]
  },
  {
   "cell_type": "code",
   "execution_count": 20,
   "metadata": {},
   "outputs": [
    {
     "data": {
      "text/plain": [
       "{'id': '2C27E003116B',\n",
       " 'discourse_id': 1622648395409.0,\n",
       " 'discourse_start': 408.0,\n",
       " 'discourse_end': 529.0,\n",
       " 'discourse_text': \"Think of all the money people would save because they wouldn't have to spend so much on gas and maintence of their cars. \",\n",
       " 'discourse_type': 'Claim',\n",
       " 'discourse_type_num': 'Claim 1',\n",
       " 'predictionstring': '71 72 73 74 75 76 77 78 79 80 81 82 83 84 85 86 87 88 89 90 91 92 93',\n",
       " 'input': \"Think of all the money people would save because they wouldn't have to spend so much on gas and maintence of their cars. \",\n",
       " 'label': 3,\n",
       " 'train_val': 'train',\n",
       " '__index_level_0__': 7881}"
      ]
     },
     "execution_count": 20,
     "metadata": {},
     "output_type": "execute_result"
    }
   ],
   "source": [
    "dataset['train'][0]"
   ]
  },
  {
   "cell_type": "code",
   "execution_count": 21,
   "metadata": {},
   "outputs": [
    {
     "data": {
      "text/plain": [
       "{'input_ids': [101, 2228, 1997, 2035, 1996, 2769, 2111, 2052, 3828, 2138, 2027, 2876, 1005, 1056, 2031, 2000, 5247, 2061, 2172, 2006, 3806, 1998, 2364, 6528, 3401, 1997, 2037, 3765, 1012, 102, 0, 0, 0, 0, 0, 0, 0, 0, 0, 0, 0, 0, 0, 0, 0, 0, 0, 0, 0, 0, 0, 0, 0, 0, 0, 0, 0, 0, 0, 0, 0, 0, 0, 0, 0, 0, 0, 0, 0, 0, 0, 0, 0, 0, 0, 0, 0, 0, 0, 0, 0, 0, 0, 0, 0, 0, 0, 0, 0, 0, 0, 0, 0, 0, 0, 0, 0, 0, 0, 0, 0, 0, 0, 0, 0, 0, 0, 0, 0, 0, 0, 0, 0, 0, 0, 0, 0, 0, 0, 0, 0, 0, 0, 0, 0, 0, 0, 0, 0, 0, 0, 0, 0, 0, 0, 0, 0, 0, 0, 0, 0, 0, 0, 0, 0, 0, 0, 0, 0, 0, 0, 0, 0, 0, 0, 0, 0, 0, 0, 0, 0, 0, 0, 0, 0, 0, 0, 0, 0, 0, 0, 0, 0, 0, 0, 0, 0, 0, 0, 0, 0, 0, 0, 0, 0, 0, 0, 0, 0, 0, 0, 0, 0, 0, 0, 0, 0, 0, 0, 0, 0, 0, 0, 0, 0, 0, 0, 0, 0, 0, 0, 0, 0, 0, 0, 0, 0, 0, 0, 0, 0, 0, 0, 0, 0, 0, 0, 0, 0, 0, 0, 0, 0, 0, 0, 0, 0, 0, 0, 0, 0, 0, 0, 0, 0, 0, 0, 0, 0, 0, 0, 0, 0, 0, 0, 0, 0, 0, 0, 0, 0, 0, 0, 0, 0, 0, 0, 0, 0, 0, 0, 0, 0, 0, 0, 0, 0, 0, 0, 0, 0, 0, 0, 0, 0, 0, 0, 0, 0, 0, 0, 0, 0, 0, 0, 0, 0, 0, 0, 0, 0, 0, 0, 0, 0, 0, 0, 0, 0, 0, 0, 0, 0, 0, 0, 0, 0, 0, 0, 0, 0, 0, 0, 0, 0, 0, 0, 0, 0, 0, 0, 0, 0, 0, 0, 0, 0, 0, 0, 0, 0, 0, 0, 0, 0, 0, 0, 0, 0, 0, 0, 0, 0, 0, 0, 0, 0, 0, 0, 0, 0, 0, 0, 0, 0, 0, 0, 0, 0, 0, 0, 0, 0, 0, 0, 0, 0, 0, 0, 0, 0, 0, 0, 0, 0, 0, 0, 0, 0, 0, 0, 0, 0, 0, 0, 0, 0, 0, 0, 0, 0, 0, 0, 0, 0, 0, 0, 0, 0, 0, 0, 0, 0, 0, 0, 0, 0, 0, 0, 0, 0, 0, 0, 0, 0, 0, 0, 0, 0, 0, 0, 0, 0, 0, 0, 0, 0, 0, 0, 0, 0, 0, 0, 0, 0, 0, 0, 0, 0, 0, 0, 0, 0, 0, 0, 0, 0, 0, 0, 0, 0, 0, 0, 0, 0, 0, 0, 0, 0, 0, 0, 0, 0, 0, 0, 0, 0, 0, 0, 0, 0, 0, 0, 0, 0, 0, 0, 0, 0, 0, 0, 0, 0, 0, 0, 0, 0, 0, 0, 0, 0, 0, 0, 0, 0, 0, 0, 0, 0, 0, 0, 0], 'token_type_ids': [0, 0, 0, 0, 0, 0, 0, 0, 0, 0, 0, 0, 0, 0, 0, 0, 0, 0, 0, 0, 0, 0, 0, 0, 0, 0, 0, 0, 0, 0, 0, 0, 0, 0, 0, 0, 0, 0, 0, 0, 0, 0, 0, 0, 0, 0, 0, 0, 0, 0, 0, 0, 0, 0, 0, 0, 0, 0, 0, 0, 0, 0, 0, 0, 0, 0, 0, 0, 0, 0, 0, 0, 0, 0, 0, 0, 0, 0, 0, 0, 0, 0, 0, 0, 0, 0, 0, 0, 0, 0, 0, 0, 0, 0, 0, 0, 0, 0, 0, 0, 0, 0, 0, 0, 0, 0, 0, 0, 0, 0, 0, 0, 0, 0, 0, 0, 0, 0, 0, 0, 0, 0, 0, 0, 0, 0, 0, 0, 0, 0, 0, 0, 0, 0, 0, 0, 0, 0, 0, 0, 0, 0, 0, 0, 0, 0, 0, 0, 0, 0, 0, 0, 0, 0, 0, 0, 0, 0, 0, 0, 0, 0, 0, 0, 0, 0, 0, 0, 0, 0, 0, 0, 0, 0, 0, 0, 0, 0, 0, 0, 0, 0, 0, 0, 0, 0, 0, 0, 0, 0, 0, 0, 0, 0, 0, 0, 0, 0, 0, 0, 0, 0, 0, 0, 0, 0, 0, 0, 0, 0, 0, 0, 0, 0, 0, 0, 0, 0, 0, 0, 0, 0, 0, 0, 0, 0, 0, 0, 0, 0, 0, 0, 0, 0, 0, 0, 0, 0, 0, 0, 0, 0, 0, 0, 0, 0, 0, 0, 0, 0, 0, 0, 0, 0, 0, 0, 0, 0, 0, 0, 0, 0, 0, 0, 0, 0, 0, 0, 0, 0, 0, 0, 0, 0, 0, 0, 0, 0, 0, 0, 0, 0, 0, 0, 0, 0, 0, 0, 0, 0, 0, 0, 0, 0, 0, 0, 0, 0, 0, 0, 0, 0, 0, 0, 0, 0, 0, 0, 0, 0, 0, 0, 0, 0, 0, 0, 0, 0, 0, 0, 0, 0, 0, 0, 0, 0, 0, 0, 0, 0, 0, 0, 0, 0, 0, 0, 0, 0, 0, 0, 0, 0, 0, 0, 0, 0, 0, 0, 0, 0, 0, 0, 0, 0, 0, 0, 0, 0, 0, 0, 0, 0, 0, 0, 0, 0, 0, 0, 0, 0, 0, 0, 0, 0, 0, 0, 0, 0, 0, 0, 0, 0, 0, 0, 0, 0, 0, 0, 0, 0, 0, 0, 0, 0, 0, 0, 0, 0, 0, 0, 0, 0, 0, 0, 0, 0, 0, 0, 0, 0, 0, 0, 0, 0, 0, 0, 0, 0, 0, 0, 0, 0, 0, 0, 0, 0, 0, 0, 0, 0, 0, 0, 0, 0, 0, 0, 0, 0, 0, 0, 0, 0, 0, 0, 0, 0, 0, 0, 0, 0, 0, 0, 0, 0, 0, 0, 0, 0, 0, 0, 0, 0, 0, 0, 0, 0, 0, 0, 0, 0, 0, 0, 0, 0, 0, 0, 0, 0, 0, 0, 0, 0, 0, 0, 0, 0, 0, 0, 0, 0, 0, 0, 0, 0, 0, 0, 0, 0, 0, 0, 0, 0, 0, 0, 0, 0, 0, 0, 0, 0, 0, 0], 'attention_mask': [1, 1, 1, 1, 1, 1, 1, 1, 1, 1, 1, 1, 1, 1, 1, 1, 1, 1, 1, 1, 1, 1, 1, 1, 1, 1, 1, 1, 1, 1, 0, 0, 0, 0, 0, 0, 0, 0, 0, 0, 0, 0, 0, 0, 0, 0, 0, 0, 0, 0, 0, 0, 0, 0, 0, 0, 0, 0, 0, 0, 0, 0, 0, 0, 0, 0, 0, 0, 0, 0, 0, 0, 0, 0, 0, 0, 0, 0, 0, 0, 0, 0, 0, 0, 0, 0, 0, 0, 0, 0, 0, 0, 0, 0, 0, 0, 0, 0, 0, 0, 0, 0, 0, 0, 0, 0, 0, 0, 0, 0, 0, 0, 0, 0, 0, 0, 0, 0, 0, 0, 0, 0, 0, 0, 0, 0, 0, 0, 0, 0, 0, 0, 0, 0, 0, 0, 0, 0, 0, 0, 0, 0, 0, 0, 0, 0, 0, 0, 0, 0, 0, 0, 0, 0, 0, 0, 0, 0, 0, 0, 0, 0, 0, 0, 0, 0, 0, 0, 0, 0, 0, 0, 0, 0, 0, 0, 0, 0, 0, 0, 0, 0, 0, 0, 0, 0, 0, 0, 0, 0, 0, 0, 0, 0, 0, 0, 0, 0, 0, 0, 0, 0, 0, 0, 0, 0, 0, 0, 0, 0, 0, 0, 0, 0, 0, 0, 0, 0, 0, 0, 0, 0, 0, 0, 0, 0, 0, 0, 0, 0, 0, 0, 0, 0, 0, 0, 0, 0, 0, 0, 0, 0, 0, 0, 0, 0, 0, 0, 0, 0, 0, 0, 0, 0, 0, 0, 0, 0, 0, 0, 0, 0, 0, 0, 0, 0, 0, 0, 0, 0, 0, 0, 0, 0, 0, 0, 0, 0, 0, 0, 0, 0, 0, 0, 0, 0, 0, 0, 0, 0, 0, 0, 0, 0, 0, 0, 0, 0, 0, 0, 0, 0, 0, 0, 0, 0, 0, 0, 0, 0, 0, 0, 0, 0, 0, 0, 0, 0, 0, 0, 0, 0, 0, 0, 0, 0, 0, 0, 0, 0, 0, 0, 0, 0, 0, 0, 0, 0, 0, 0, 0, 0, 0, 0, 0, 0, 0, 0, 0, 0, 0, 0, 0, 0, 0, 0, 0, 0, 0, 0, 0, 0, 0, 0, 0, 0, 0, 0, 0, 0, 0, 0, 0, 0, 0, 0, 0, 0, 0, 0, 0, 0, 0, 0, 0, 0, 0, 0, 0, 0, 0, 0, 0, 0, 0, 0, 0, 0, 0, 0, 0, 0, 0, 0, 0, 0, 0, 0, 0, 0, 0, 0, 0, 0, 0, 0, 0, 0, 0, 0, 0, 0, 0, 0, 0, 0, 0, 0, 0, 0, 0, 0, 0, 0, 0, 0, 0, 0, 0, 0, 0, 0, 0, 0, 0, 0, 0, 0, 0, 0, 0, 0, 0, 0, 0, 0, 0, 0, 0, 0, 0, 0, 0, 0, 0, 0, 0, 0, 0, 0, 0, 0, 0, 0, 0, 0, 0, 0, 0, 0, 0, 0, 0, 0, 0, 0, 0, 0, 0, 0, 0, 0, 0, 0, 0, 0, 0, 0, 0, 0, 0, 0, 0, 0, 0, 0, 0, 0, 0, 0, 0, 0]}"
      ]
     },
     "execution_count": 21,
     "metadata": {},
     "output_type": "execute_result"
    }
   ],
   "source": [
    "model.tokenizer(dataset['train'][0][\"input\"], max_length=512, truncation=True, padding=\"max_length\")"
   ]
  },
  {
   "cell_type": "code",
   "execution_count": 22,
   "metadata": {},
   "outputs": [
    {
     "data": {
      "text/plain": [
       "Dataset({\n",
       "    features: ['id', 'discourse_id', 'discourse_start', 'discourse_end', 'discourse_text', 'discourse_type', 'discourse_type_num', 'predictionstring', 'input', 'label', 'train_val', '__index_level_0__'],\n",
       "    num_rows: 1149\n",
       "})"
      ]
     },
     "execution_count": 22,
     "metadata": {},
     "output_type": "execute_result"
    }
   ],
   "source": [
    "dataset['train']"
   ]
  },
  {
   "cell_type": "code",
   "execution_count": 23,
   "metadata": {},
   "outputs": [
    {
     "data": {
      "application/json": {
       "ascii": false,
       "bar_format": null,
       "colour": null,
       "elapsed": 0.0137939453125,
       "initial": 0,
       "n": 0,
       "ncols": null,
       "nrows": null,
       "postfix": null,
       "prefix": "",
       "rate": null,
       "total": 2,
       "unit": "ba",
       "unit_divisor": 1000,
       "unit_scale": false
      },
      "application/vnd.jupyter.widget-view+json": {
       "model_id": "113a260a25874000a3f00ae913526841",
       "version_major": 2,
       "version_minor": 0
      },
      "text/plain": [
       "  0%|          | 0/2 [00:00<?, ?ba/s]"
      ]
     },
     "metadata": {},
     "output_type": "display_data"
    },
    {
     "data": {
      "application/json": {
       "ascii": false,
       "bar_format": null,
       "colour": null,
       "elapsed": 0.013005495071411133,
       "initial": 0,
       "n": 0,
       "ncols": null,
       "nrows": null,
       "postfix": null,
       "prefix": "",
       "rate": null,
       "total": 1,
       "unit": "ba",
       "unit_divisor": 1000,
       "unit_scale": false
      },
      "application/vnd.jupyter.widget-view+json": {
       "model_id": "7a06e0105a0f48f6871599e02ed8f48f",
       "version_major": 2,
       "version_minor": 0
      },
      "text/plain": [
       "  0%|          | 0/1 [00:00<?, ?ba/s]"
      ]
     },
     "metadata": {},
     "output_type": "display_data"
    },
    {
     "data": {
      "application/json": {
       "ascii": false,
       "bar_format": null,
       "colour": null,
       "elapsed": 0.014533281326293945,
       "initial": 0,
       "n": 0,
       "ncols": null,
       "nrows": null,
       "postfix": null,
       "prefix": "",
       "rate": null,
       "total": 1,
       "unit": "ba",
       "unit_divisor": 1000,
       "unit_scale": false
      },
      "application/vnd.jupyter.widget-view+json": {
       "model_id": "cf8d1342741f436a952c221547448973",
       "version_major": 2,
       "version_minor": 0
      },
      "text/plain": [
       "  0%|          | 0/1 [00:00<?, ?ba/s]"
      ]
     },
     "metadata": {},
     "output_type": "display_data"
    }
   ],
   "source": [
    "def f(x):return model.tokenizer(x['input'],truncation=True)\n",
    "\n",
    "dataset['train']=dataset['train'].map(\n",
    "    f,\n",
    "    batched=True,\n",
    "    remove_columns=(\n",
    "        'id',\n",
    "        'discourse_id',\n",
    "        'discourse_start',\n",
    "        'discourse_end',\n",
    "        'discourse_text',\n",
    "        'discourse_type',\n",
    "        'discourse_type_num',\n",
    "        'predictionstring',\n",
    "        'input',\n",
    "        #'label',\n",
    "        'train_val',\n",
    "        '__index_level_0__'\n",
    "    )\n",
    ")\n",
    "dataset['val']=dataset['val'].map(\n",
    "    f,\n",
    "    batched=True,\n",
    "    remove_columns=(\n",
    "        'id',\n",
    "        'discourse_id',\n",
    "        'discourse_start',\n",
    "        'discourse_end',\n",
    "        'discourse_text',\n",
    "        'discourse_type',\n",
    "        'discourse_type_num',\n",
    "        'predictionstring',\n",
    "        'input',\n",
    "        #'label',\n",
    "        'train_val',\n",
    "        '__index_level_0__'\n",
    "    )\n",
    ")\n",
    "dataset['test']=dataset['test'].map(\n",
    "    f,\n",
    "    batched=True,\n",
    "    remove_columns=(\n",
    "        'id',\n",
    "\n",
    "        'class',\n",
    "        'predictionstring',\n",
    "\n",
    "\n",
    "        # 'discourse_id',\n",
    "        # 'essay_id',\n",
    "        # 'discourse_text',\n",
    "        # 'discourse_type',\n",
    "        # #'discourse_effectiveness',\n",
    "        # 'input',\n",
    "        #'__index_level_0__',#\n",
    "    )\n",
    ")"
   ]
  },
  {
   "cell_type": "code",
   "execution_count": 24,
   "metadata": {},
   "outputs": [
    {
     "data": {
      "text/plain": [
       "{'train': Dataset({\n",
       "     features: ['label', 'input_ids', 'token_type_ids', 'attention_mask'],\n",
       "     num_rows: 1149\n",
       " }),\n",
       " 'val': Dataset({\n",
       "     features: ['label', 'input_ids', 'token_type_ids', 'attention_mask'],\n",
       "     num_rows: 294\n",
       " }),\n",
       " 'test': Dataset({\n",
       "     features: ['discourse_text', 'input', 'input_ids', 'token_type_ids', 'attention_mask'],\n",
       "     num_rows: 5\n",
       " })}"
      ]
     },
     "execution_count": 24,
     "metadata": {},
     "output_type": "execute_result"
    }
   ],
   "source": [
    "dataset"
   ]
  },
  {
   "cell_type": "code",
   "execution_count": 25,
   "metadata": {},
   "outputs": [],
   "source": [
    "datasetdict=datasets.DatasetDict({\n",
    "    \"train\":dataset['train'],\n",
    "    \"val\": dataset['val'],\n",
    "})"
   ]
  },
  {
   "cell_type": "code",
   "execution_count": 26,
   "metadata": {},
   "outputs": [],
   "source": [
    "trainer_ = trainer.transformers_get_trainer(CFG.output_path+model_name+'/',model.model,model.tokenizer,datasetdict)"
   ]
  },
  {
   "cell_type": "code",
   "execution_count": 27,
   "metadata": {},
   "outputs": [
    {
     "data": {
      "text/html": [
       "<div>\n",
       "<style scoped>\n",
       "    .dataframe tbody tr th:only-of-type {\n",
       "        vertical-align: middle;\n",
       "    }\n",
       "\n",
       "    .dataframe tbody tr th {\n",
       "        vertical-align: top;\n",
       "    }\n",
       "\n",
       "    .dataframe thead th {\n",
       "        text-align: right;\n",
       "    }\n",
       "</style>\n",
       "<table border=\"1\" class=\"dataframe\">\n",
       "  <thead>\n",
       "    <tr style=\"text-align: right;\">\n",
       "      <th></th>\n",
       "      <th>id</th>\n",
       "      <th>class</th>\n",
       "      <th>predictionstring</th>\n",
       "    </tr>\n",
       "  </thead>\n",
       "  <tbody>\n",
       "    <tr>\n",
       "      <th>0</th>\n",
       "      <td>18409261F5C2</td>\n",
       "      <td>NaN</td>\n",
       "      <td>NaN</td>\n",
       "    </tr>\n",
       "    <tr>\n",
       "      <th>1</th>\n",
       "      <td>D46BCB48440A</td>\n",
       "      <td>NaN</td>\n",
       "      <td>NaN</td>\n",
       "    </tr>\n",
       "    <tr>\n",
       "      <th>2</th>\n",
       "      <td>0FB0700DAF44</td>\n",
       "      <td>NaN</td>\n",
       "      <td>NaN</td>\n",
       "    </tr>\n",
       "    <tr>\n",
       "      <th>3</th>\n",
       "      <td>D72CB1C11673</td>\n",
       "      <td>NaN</td>\n",
       "      <td>NaN</td>\n",
       "    </tr>\n",
       "    <tr>\n",
       "      <th>4</th>\n",
       "      <td>DF920E0A7337</td>\n",
       "      <td>NaN</td>\n",
       "      <td>NaN</td>\n",
       "    </tr>\n",
       "  </tbody>\n",
       "</table>\n",
       "</div>"
      ],
      "text/plain": [
       "             id  class  predictionstring\n",
       "0  18409261F5C2    NaN               NaN\n",
       "1  D46BCB48440A    NaN               NaN\n",
       "2  0FB0700DAF44    NaN               NaN\n",
       "3  D72CB1C11673    NaN               NaN\n",
       "4  DF920E0A7337    NaN               NaN"
      ]
     },
     "execution_count": 27,
     "metadata": {},
     "output_type": "execute_result"
    }
   ],
   "source": [
    "sample_submission_csv"
   ]
  },
  {
   "cell_type": "code",
   "execution_count": 28,
   "metadata": {},
   "outputs": [],
   "source": [
    "# if training:\n",
    "#     trainer_.train()\n",
    "#     #trainer.save_model(output_dir=CFG.output_path+model_name+'/')"
   ]
  },
  {
   "cell_type": "code",
   "execution_count": 29,
   "metadata": {},
   "outputs": [
    {
     "data": {
      "text/plain": [
       "[]"
      ]
     },
     "execution_count": 29,
     "metadata": {},
     "output_type": "execute_result"
    }
   ],
   "source": [
    "trainer_.state.log_history"
   ]
  },
  {
   "cell_type": "code",
   "execution_count": 30,
   "metadata": {},
   "outputs": [
    {
     "ename": "AttributeError",
     "evalue": "module 'src.training.huggingface_transformers.trainer' has no attribute 'state'",
     "output_type": "error",
     "traceback": [
      "\u001b[0;31m---------------------------------------------------------------------------\u001b[0m",
      "\u001b[0;31mAttributeError\u001b[0m                            Traceback (most recent call last)",
      "Cell \u001b[0;32mIn [30], line 4\u001b[0m\n\u001b[1;32m      1\u001b[0m plt\u001b[38;5;241m.\u001b[39mfigure(figsize\u001b[38;5;241m=\u001b[39m(\u001b[38;5;241m12\u001b[39m, \u001b[38;5;241m8\u001b[39m))\n\u001b[1;32m      3\u001b[0m plt\u001b[38;5;241m.\u001b[39mplot(\n\u001b[0;32m----> 4\u001b[0m     [x[\u001b[38;5;124m'\u001b[39m\u001b[38;5;124mepoch\u001b[39m\u001b[38;5;124m'\u001b[39m] \u001b[38;5;28;01mfor\u001b[39;00m x \u001b[38;5;129;01min\u001b[39;00m \u001b[43mtrainer\u001b[49m\u001b[38;5;241;43m.\u001b[39;49m\u001b[43mstate\u001b[49m\u001b[38;5;241m.\u001b[39mlog_history \u001b[38;5;28;01mif\u001b[39;00m \u001b[38;5;124m'\u001b[39m\u001b[38;5;124mloss\u001b[39m\u001b[38;5;124m'\u001b[39m \u001b[38;5;129;01min\u001b[39;00m x\u001b[38;5;241m.\u001b[39mkeys()],\n\u001b[1;32m      5\u001b[0m     [x[\u001b[38;5;124m'\u001b[39m\u001b[38;5;124mloss\u001b[39m\u001b[38;5;124m'\u001b[39m] \u001b[38;5;28;01mfor\u001b[39;00m x \u001b[38;5;129;01min\u001b[39;00m trainer\u001b[38;5;241m.\u001b[39mstate\u001b[38;5;241m.\u001b[39mlog_history \u001b[38;5;28;01mif\u001b[39;00m \u001b[38;5;124m'\u001b[39m\u001b[38;5;124mloss\u001b[39m\u001b[38;5;124m'\u001b[39m \u001b[38;5;129;01min\u001b[39;00m x\u001b[38;5;241m.\u001b[39mkeys()],\n\u001b[1;32m      6\u001b[0m     label\u001b[38;5;241m=\u001b[39m\u001b[38;5;124m'\u001b[39m\u001b[38;5;124mtrain\u001b[39m\u001b[38;5;124m'\u001b[39m,\n\u001b[1;32m      7\u001b[0m )\n\u001b[1;32m      9\u001b[0m plt\u001b[38;5;241m.\u001b[39mplot(\n\u001b[1;32m     10\u001b[0m     [x[\u001b[38;5;124m'\u001b[39m\u001b[38;5;124mepoch\u001b[39m\u001b[38;5;124m'\u001b[39m] \u001b[38;5;28;01mfor\u001b[39;00m x \u001b[38;5;129;01min\u001b[39;00m trainer\u001b[38;5;241m.\u001b[39mstate\u001b[38;5;241m.\u001b[39mlog_history \u001b[38;5;28;01mif\u001b[39;00m \u001b[38;5;124m'\u001b[39m\u001b[38;5;124meval_loss\u001b[39m\u001b[38;5;124m'\u001b[39m \u001b[38;5;129;01min\u001b[39;00m x\u001b[38;5;241m.\u001b[39mkeys()],\n\u001b[1;32m     11\u001b[0m     [x[\u001b[38;5;124m'\u001b[39m\u001b[38;5;124meval_loss\u001b[39m\u001b[38;5;124m'\u001b[39m] \u001b[38;5;28;01mfor\u001b[39;00m x \u001b[38;5;129;01min\u001b[39;00m trainer\u001b[38;5;241m.\u001b[39mstate\u001b[38;5;241m.\u001b[39mlog_history \u001b[38;5;28;01mif\u001b[39;00m \u001b[38;5;124m'\u001b[39m\u001b[38;5;124meval_loss\u001b[39m\u001b[38;5;124m'\u001b[39m \u001b[38;5;129;01min\u001b[39;00m x\u001b[38;5;241m.\u001b[39mkeys()],\n\u001b[1;32m     12\u001b[0m     label\u001b[38;5;241m=\u001b[39m\u001b[38;5;124m'\u001b[39m\u001b[38;5;124mval\u001b[39m\u001b[38;5;124m'\u001b[39m\n\u001b[1;32m     13\u001b[0m )\n\u001b[1;32m     15\u001b[0m plt\u001b[38;5;241m.\u001b[39mlegend()\n",
      "\u001b[0;31mAttributeError\u001b[0m: module 'src.training.huggingface_transformers.trainer' has no attribute 'state'"
     ]
    },
    {
     "data": {
      "text/plain": [
       "<Figure size 1200x800 with 0 Axes>"
      ]
     },
     "metadata": {},
     "output_type": "display_data"
    }
   ],
   "source": [
    "plt.figure(figsize=(12, 8))\n",
    "\n",
    "plt.plot(\n",
    "    [x['epoch'] for x in trainer.state.log_history if 'loss' in x.keys()],\n",
    "    [x['loss'] for x in trainer.state.log_history if 'loss' in x.keys()],\n",
    "    label='train',\n",
    ")\n",
    "\n",
    "plt.plot(\n",
    "    [x['epoch'] for x in trainer.state.log_history if 'eval_loss' in x.keys()],\n",
    "    [x['eval_loss'] for x in trainer.state.log_history if 'eval_loss' in x.keys()],\n",
    "    label='val'\n",
    ")\n",
    "\n",
    "plt.legend()\n",
    "plt.plot()"
   ]
  },
  {
   "cell_type": "markdown",
   "metadata": {},
   "source": [
    "## prediction"
   ]
  },
  {
   "cell_type": "code",
   "execution_count": 31,
   "metadata": {},
   "outputs": [
    {
     "name": "stderr",
     "output_type": "stream",
     "text": [
      "The following columns in the test set don't have a corresponding argument in `BertForSequenceClassification.forward` and have been ignored: input, discourse_text. If input, discourse_text are not expected by `BertForSequenceClassification.forward`,  you can safely ignore this message.\n",
      "***** Running Prediction *****\n",
      "  Num examples = 5\n",
      "  Batch size = 16\n"
     ]
    },
    {
     "data": {
      "text/html": [],
      "text/plain": [
       "<IPython.core.display.HTML object>"
      ]
     },
     "metadata": {},
     "output_type": "display_data"
    },
    {
     "data": {
      "text/plain": [
       "array([[0.09854908, 0.14351796, 0.11967682, 0.12495659, 0.12589213,\n",
       "        0.20855036, 0.178857  ],\n",
       "       [0.09962402, 0.12288944, 0.14622545, 0.14479694, 0.13668892,\n",
       "        0.17065075, 0.17912441],\n",
       "       [0.10862057, 0.13041863, 0.12118528, 0.14272843, 0.13341598,\n",
       "        0.18698916, 0.17664199],\n",
       "       [0.08562282, 0.10805856, 0.12470321, 0.15914267, 0.14635409,\n",
       "        0.19452745, 0.18159114],\n",
       "       [0.07306363, 0.09698282, 0.14212671, 0.18924233, 0.15371372,\n",
       "        0.17525487, 0.16961591]])"
      ]
     },
     "execution_count": 31,
     "metadata": {},
     "output_type": "execute_result"
    }
   ],
   "source": [
    "preds=torch.Tensor(trainer_.predict(dataset['test']).predictions)\n",
    "preds = torch.nn.functional.softmax(preds,dim=1).numpy().astype(float)\n",
    "preds"
   ]
  },
  {
   "cell_type": "code",
   "execution_count": 32,
   "metadata": {},
   "outputs": [
    {
     "data": {
      "text/html": [
       "<div>\n",
       "<style scoped>\n",
       "    .dataframe tbody tr th:only-of-type {\n",
       "        vertical-align: middle;\n",
       "    }\n",
       "\n",
       "    .dataframe tbody tr th {\n",
       "        vertical-align: top;\n",
       "    }\n",
       "\n",
       "    .dataframe thead th {\n",
       "        text-align: right;\n",
       "    }\n",
       "</style>\n",
       "<table border=\"1\" class=\"dataframe\">\n",
       "  <thead>\n",
       "    <tr style=\"text-align: right;\">\n",
       "      <th></th>\n",
       "      <th>id</th>\n",
       "      <th>class</th>\n",
       "      <th>predictionstring</th>\n",
       "      <th>Ineffective</th>\n",
       "      <th>Adequate</th>\n",
       "      <th>Effective</th>\n",
       "    </tr>\n",
       "  </thead>\n",
       "  <tbody>\n",
       "    <tr>\n",
       "      <th>0</th>\n",
       "      <td>18409261F5C2</td>\n",
       "      <td>NaN</td>\n",
       "      <td>NaN</td>\n",
       "      <td>0.098549</td>\n",
       "      <td>0.143518</td>\n",
       "      <td>0.119677</td>\n",
       "    </tr>\n",
       "    <tr>\n",
       "      <th>1</th>\n",
       "      <td>D46BCB48440A</td>\n",
       "      <td>NaN</td>\n",
       "      <td>NaN</td>\n",
       "      <td>0.099624</td>\n",
       "      <td>0.122889</td>\n",
       "      <td>0.146225</td>\n",
       "    </tr>\n",
       "    <tr>\n",
       "      <th>2</th>\n",
       "      <td>0FB0700DAF44</td>\n",
       "      <td>NaN</td>\n",
       "      <td>NaN</td>\n",
       "      <td>0.108621</td>\n",
       "      <td>0.130419</td>\n",
       "      <td>0.121185</td>\n",
       "    </tr>\n",
       "    <tr>\n",
       "      <th>3</th>\n",
       "      <td>D72CB1C11673</td>\n",
       "      <td>NaN</td>\n",
       "      <td>NaN</td>\n",
       "      <td>0.085623</td>\n",
       "      <td>0.108059</td>\n",
       "      <td>0.124703</td>\n",
       "    </tr>\n",
       "    <tr>\n",
       "      <th>4</th>\n",
       "      <td>DF920E0A7337</td>\n",
       "      <td>NaN</td>\n",
       "      <td>NaN</td>\n",
       "      <td>0.073064</td>\n",
       "      <td>0.096983</td>\n",
       "      <td>0.142127</td>\n",
       "    </tr>\n",
       "  </tbody>\n",
       "</table>\n",
       "</div>"
      ],
      "text/plain": [
       "             id  class  predictionstring  Ineffective  Adequate  Effective\n",
       "0  18409261F5C2    NaN               NaN     0.098549  0.143518   0.119677\n",
       "1  D46BCB48440A    NaN               NaN     0.099624  0.122889   0.146225\n",
       "2  0FB0700DAF44    NaN               NaN     0.108621  0.130419   0.121185\n",
       "3  D72CB1C11673    NaN               NaN     0.085623  0.108059   0.124703\n",
       "4  DF920E0A7337    NaN               NaN     0.073064  0.096983   0.142127"
      ]
     },
     "execution_count": 32,
     "metadata": {},
     "output_type": "execute_result"
    }
   ],
   "source": [
    "submission=sample_submission_csv.copy()\n",
    "submission['Ineffective'] = preds[:,0]\n",
    "submission['Adequate'] = preds[:,1]\n",
    "submission['Effective'] = preds[:,2]\n",
    "submission"
   ]
  },
  {
   "cell_type": "code",
   "execution_count": null,
   "metadata": {},
   "outputs": [],
   "source": [
    "submission.to_csv('submission.csv',index=False)"
   ]
  },
  {
   "cell_type": "code",
   "execution_count": null,
   "metadata": {},
   "outputs": [],
   "source": [
    "#sample_submission_csv.to_csv('submission.csv',index=False)"
   ]
  }
 ],
 "metadata": {
  "kernelspec": {
   "display_name": "Python 3.8.12 ('base')",
   "language": "python",
   "name": "python3"
  },
  "language_info": {
   "codemirror_mode": {
    "name": "ipython",
    "version": 3
   },
   "file_extension": ".py",
   "mimetype": "text/x-python",
   "name": "python",
   "nbconvert_exporter": "python",
   "pygments_lexer": "ipython3",
   "version": "3.8.12"
  },
  "orig_nbformat": 4,
  "vscode": {
   "interpreter": {
    "hash": "d4d1e4263499bec80672ea0156c357c1ee493ec2b1c70f0acce89fc37c4a6abe"
   }
  }
 },
 "nbformat": 4,
 "nbformat_minor": 2
}
