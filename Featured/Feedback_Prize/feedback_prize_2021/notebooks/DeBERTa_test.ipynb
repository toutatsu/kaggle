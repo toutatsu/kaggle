{
 "cells": [
  {
   "cell_type": "markdown",
   "metadata": {},
   "source": [
    "# feedback-prize-effectiveness"
   ]
  },
  {
   "cell_type": "markdown",
   "metadata": {},
   "source": [
    "## import libraries"
   ]
  },
  {
   "cell_type": "code",
   "execution_count": 1,
   "metadata": {},
   "outputs": [],
   "source": [
    "import numpy as np\n",
    "import matplotlib.pyplot as plt\n",
    "import sys\n",
    "import os\n",
    "\n",
    "import pandas as pd\n",
    "\n",
    "import torch\n",
    "import transformers\n",
    "import datasets\n",
    "\n",
    "import importlib\n",
    "#importlib.reload(load_data)\n"
   ]
  },
  {
   "cell_type": "code",
   "execution_count": 2,
   "metadata": {},
   "outputs": [],
   "source": [
    "is_kaggle=os.getenv('KAGGLE_KERNEL_RUN_TYPE', '')\n",
    "\n",
    "if not is_kaggle:\n",
    "\n",
    "    sys.path.append('../')\n",
    "\n",
    "    from src.utils import config\n",
    "    #from src.utils import logger\n",
    "    from src.data import load_data\n",
    "\n",
    "    from src.models.huggingface_transformers import BERT\n",
    "\n",
    "    from src.training.huggingface_transformers import trainer"
   ]
  },
  {
   "cell_type": "code",
   "execution_count": 3,
   "metadata": {},
   "outputs": [],
   "source": [
    "#logger=logger.Logger('test_log')"
   ]
  },
  {
   "cell_type": "code",
   "execution_count": 4,
   "metadata": {},
   "outputs": [],
   "source": [
    "CFG=config.CFG(competition_name='feedback-prize-2021')\n",
    "CFG.debug=True\n",
    "CFG.device = torch.device('cuda:0' if torch.cuda.is_available() else 'cpu')"
   ]
  },
  {
   "cell_type": "markdown",
   "metadata": {},
   "source": []
  },
  {
   "cell_type": "code",
   "execution_count": 5,
   "metadata": {},
   "outputs": [
    {
     "data": {
      "text/plain": [
       "'../data/'"
      ]
     },
     "execution_count": 5,
     "metadata": {},
     "output_type": "execute_result"
    }
   ],
   "source": [
    "CFG.data_path"
   ]
  },
  {
   "cell_type": "markdown",
   "metadata": {},
   "source": [
    "## data"
   ]
  },
  {
   "cell_type": "code",
   "execution_count": 10,
   "metadata": {},
   "outputs": [
    {
     "name": "stdout",
     "output_type": "stream",
     "text": [
      "Downloading feedback-prize-2021.zip to ../data/feedback-prize-2021\n"
     ]
    },
    {
     "name": "stderr",
     "output_type": "stream",
     "text": [
      "100%|██████████| 32.4M/32.4M [00:02<00:00, 15.6MB/s]\n"
     ]
    },
    {
     "name": "stdout",
     "output_type": "stream",
     "text": [
      "\n",
      "None\n"
     ]
    }
   ],
   "source": [
    "if not CFG.is_kaggle:\n",
    "    load_data.download_data(CFG.data_path+CFG.competition_name+'/',CFG.competition_name)"
   ]
  },
  {
   "cell_type": "code",
   "execution_count": 11,
   "metadata": {},
   "outputs": [],
   "source": [
    "train_csv,sample_submission_csv=load_data.load_data(CFG.data_path+CFG.competition_name+'/',debug=CFG.debug)\n",
    "test_csv=sample_submission_csv.copy()"
   ]
  },
  {
   "cell_type": "code",
   "execution_count": 12,
   "metadata": {},
   "outputs": [
    {
     "data": {
      "text/html": [
       "<div>\n",
       "<style scoped>\n",
       "    .dataframe tbody tr th:only-of-type {\n",
       "        vertical-align: middle;\n",
       "    }\n",
       "\n",
       "    .dataframe tbody tr th {\n",
       "        vertical-align: top;\n",
       "    }\n",
       "\n",
       "    .dataframe thead th {\n",
       "        text-align: right;\n",
       "    }\n",
       "</style>\n",
       "<table border=\"1\" class=\"dataframe\">\n",
       "  <thead>\n",
       "    <tr style=\"text-align: right;\">\n",
       "      <th></th>\n",
       "      <th>id</th>\n",
       "      <th>discourse_id</th>\n",
       "      <th>discourse_start</th>\n",
       "      <th>discourse_end</th>\n",
       "      <th>discourse_text</th>\n",
       "      <th>discourse_type</th>\n",
       "      <th>discourse_type_num</th>\n",
       "      <th>predictionstring</th>\n",
       "    </tr>\n",
       "  </thead>\n",
       "  <tbody>\n",
       "    <tr>\n",
       "      <th>7881</th>\n",
       "      <td>2C27E003116B</td>\n",
       "      <td>1.622648e+12</td>\n",
       "      <td>408.0</td>\n",
       "      <td>529.0</td>\n",
       "      <td>Think of all the money people would save becau...</td>\n",
       "      <td>Claim</td>\n",
       "      <td>Claim 1</td>\n",
       "      <td>71 72 73 74 75 76 77 78 79 80 81 82 83 84 85 8...</td>\n",
       "    </tr>\n",
       "    <tr>\n",
       "      <th>89707</th>\n",
       "      <td>7BEB99575D62</td>\n",
       "      <td>1.615844e+12</td>\n",
       "      <td>135.0</td>\n",
       "      <td>198.0</td>\n",
       "      <td>Popular vote is a more efficent way to vote fo...</td>\n",
       "      <td>Claim</td>\n",
       "      <td>Claim 1</td>\n",
       "      <td>21 22 23 24 25 26 27 28 29 30 31 32</td>\n",
       "    </tr>\n",
       "    <tr>\n",
       "      <th>64633</th>\n",
       "      <td>CE4EFA6441C4</td>\n",
       "      <td>1.614611e+12</td>\n",
       "      <td>935.0</td>\n",
       "      <td>1460.0</td>\n",
       "      <td>or most problems, the town pays people or a bu...</td>\n",
       "      <td>Evidence</td>\n",
       "      <td>Evidence 2</td>\n",
       "      <td>168 169 170 171 172 173 174 175 176 177 178 17...</td>\n",
       "    </tr>\n",
       "    <tr>\n",
       "      <th>132774</th>\n",
       "      <td>0EE6F614F2F0</td>\n",
       "      <td>1.618171e+12</td>\n",
       "      <td>110.0</td>\n",
       "      <td>180.0</td>\n",
       "      <td>Seeking more than one opinion can provide som...</td>\n",
       "      <td>Position</td>\n",
       "      <td>Position 1</td>\n",
       "      <td>20 21 22 23 24 25 26 27 28 29 30</td>\n",
       "    </tr>\n",
       "    <tr>\n",
       "      <th>92682</th>\n",
       "      <td>6E72E9EADF75</td>\n",
       "      <td>1.614702e+12</td>\n",
       "      <td>0.0</td>\n",
       "      <td>326.0</td>\n",
       "      <td>\" What's wrong with the Electoral College?\" To...</td>\n",
       "      <td>Lead</td>\n",
       "      <td>Lead 1</td>\n",
       "      <td>0 1 2 3 4 5 6 7 8 9 10 11 12 13 14 15 16 17 18...</td>\n",
       "    </tr>\n",
       "    <tr>\n",
       "      <th>...</th>\n",
       "      <td>...</td>\n",
       "      <td>...</td>\n",
       "      <td>...</td>\n",
       "      <td>...</td>\n",
       "      <td>...</td>\n",
       "      <td>...</td>\n",
       "      <td>...</td>\n",
       "      <td>...</td>\n",
       "    </tr>\n",
       "    <tr>\n",
       "      <th>13354</th>\n",
       "      <td>96DE1AD15FD2</td>\n",
       "      <td>1.622567e+12</td>\n",
       "      <td>2996.0</td>\n",
       "      <td>4037.0</td>\n",
       "      <td>WEEE-WOO-WEEH-WOO\\n\\n!!! This is the sound of ...</td>\n",
       "      <td>Evidence</td>\n",
       "      <td>Evidence 4</td>\n",
       "      <td>505 506 507 508 509 510 511 512 513 514 515 51...</td>\n",
       "    </tr>\n",
       "    <tr>\n",
       "      <th>32205</th>\n",
       "      <td>D9B3809280F9</td>\n",
       "      <td>1.615924e+12</td>\n",
       "      <td>180.0</td>\n",
       "      <td>238.0</td>\n",
       "      <td>Doing activities that aren't required have man...</td>\n",
       "      <td>Evidence</td>\n",
       "      <td>Evidence 1</td>\n",
       "      <td>27 28 29 30 31 32 33 34</td>\n",
       "    </tr>\n",
       "    <tr>\n",
       "      <th>19805</th>\n",
       "      <td>EF3D0D368ED7</td>\n",
       "      <td>1.618800e+12</td>\n",
       "      <td>663.0</td>\n",
       "      <td>703.0</td>\n",
       "      <td>it provides a challenge to the students.</td>\n",
       "      <td>Claim</td>\n",
       "      <td>Claim 4</td>\n",
       "      <td>112 113 114 115 116 117 118</td>\n",
       "    </tr>\n",
       "    <tr>\n",
       "      <th>117521</th>\n",
       "      <td>631F9CBDFD7A</td>\n",
       "      <td>1.621448e+12</td>\n",
       "      <td>129.0</td>\n",
       "      <td>170.0</td>\n",
       "      <td>some students like work on the computers,</td>\n",
       "      <td>Claim</td>\n",
       "      <td>Claim 2</td>\n",
       "      <td>24 25 26 27 28 29 30</td>\n",
       "    </tr>\n",
       "    <tr>\n",
       "      <th>8520</th>\n",
       "      <td>72B560BE6C3B</td>\n",
       "      <td>1.622466e+12</td>\n",
       "      <td>1217.0</td>\n",
       "      <td>1288.0</td>\n",
       "      <td>however, they don't think about how it can hel...</td>\n",
       "      <td>Rebuttal</td>\n",
       "      <td>Rebuttal 1</td>\n",
       "      <td>198 199 200 201 202 203 204 205 206 207 208 20...</td>\n",
       "    </tr>\n",
       "  </tbody>\n",
       "</table>\n",
       "<p>1443 rows × 8 columns</p>\n",
       "</div>"
      ],
      "text/plain": [
       "                  id  discourse_id  discourse_start  discourse_end  \\\n",
       "7881    2C27E003116B  1.622648e+12            408.0          529.0   \n",
       "89707   7BEB99575D62  1.615844e+12            135.0          198.0   \n",
       "64633   CE4EFA6441C4  1.614611e+12            935.0         1460.0   \n",
       "132774  0EE6F614F2F0  1.618171e+12            110.0          180.0   \n",
       "92682   6E72E9EADF75  1.614702e+12              0.0          326.0   \n",
       "...              ...           ...              ...            ...   \n",
       "13354   96DE1AD15FD2  1.622567e+12           2996.0         4037.0   \n",
       "32205   D9B3809280F9  1.615924e+12            180.0          238.0   \n",
       "19805   EF3D0D368ED7  1.618800e+12            663.0          703.0   \n",
       "117521  631F9CBDFD7A  1.621448e+12            129.0          170.0   \n",
       "8520    72B560BE6C3B  1.622466e+12           1217.0         1288.0   \n",
       "\n",
       "                                           discourse_text discourse_type  \\\n",
       "7881    Think of all the money people would save becau...          Claim   \n",
       "89707   Popular vote is a more efficent way to vote fo...          Claim   \n",
       "64633   or most problems, the town pays people or a bu...       Evidence   \n",
       "132774   Seeking more than one opinion can provide som...       Position   \n",
       "92682   \" What's wrong with the Electoral College?\" To...           Lead   \n",
       "...                                                   ...            ...   \n",
       "13354   WEEE-WOO-WEEH-WOO\\n\\n!!! This is the sound of ...       Evidence   \n",
       "32205   Doing activities that aren't required have man...       Evidence   \n",
       "19805            it provides a challenge to the students.          Claim   \n",
       "117521          some students like work on the computers,          Claim   \n",
       "8520    however, they don't think about how it can hel...       Rebuttal   \n",
       "\n",
       "       discourse_type_num                                   predictionstring  \n",
       "7881              Claim 1  71 72 73 74 75 76 77 78 79 80 81 82 83 84 85 8...  \n",
       "89707             Claim 1                21 22 23 24 25 26 27 28 29 30 31 32  \n",
       "64633          Evidence 2  168 169 170 171 172 173 174 175 176 177 178 17...  \n",
       "132774         Position 1                   20 21 22 23 24 25 26 27 28 29 30  \n",
       "92682              Lead 1  0 1 2 3 4 5 6 7 8 9 10 11 12 13 14 15 16 17 18...  \n",
       "...                   ...                                                ...  \n",
       "13354          Evidence 4  505 506 507 508 509 510 511 512 513 514 515 51...  \n",
       "32205          Evidence 1                            27 28 29 30 31 32 33 34  \n",
       "19805             Claim 4                        112 113 114 115 116 117 118  \n",
       "117521            Claim 2                               24 25 26 27 28 29 30  \n",
       "8520           Rebuttal 1  198 199 200 201 202 203 204 205 206 207 208 20...  \n",
       "\n",
       "[1443 rows x 8 columns]"
      ]
     },
     "execution_count": 12,
     "metadata": {},
     "output_type": "execute_result"
    }
   ],
   "source": [
    "train_csv"
   ]
  },
  {
   "cell_type": "code",
   "execution_count": 13,
   "metadata": {},
   "outputs": [
    {
     "data": {
      "text/html": [
       "<div>\n",
       "<style scoped>\n",
       "    .dataframe tbody tr th:only-of-type {\n",
       "        vertical-align: middle;\n",
       "    }\n",
       "\n",
       "    .dataframe tbody tr th {\n",
       "        vertical-align: top;\n",
       "    }\n",
       "\n",
       "    .dataframe thead th {\n",
       "        text-align: right;\n",
       "    }\n",
       "</style>\n",
       "<table border=\"1\" class=\"dataframe\">\n",
       "  <thead>\n",
       "    <tr style=\"text-align: right;\">\n",
       "      <th></th>\n",
       "      <th>id</th>\n",
       "      <th>class</th>\n",
       "      <th>predictionstring</th>\n",
       "      <th>discourse_text</th>\n",
       "    </tr>\n",
       "  </thead>\n",
       "  <tbody>\n",
       "    <tr>\n",
       "      <th>0</th>\n",
       "      <td>18409261F5C2</td>\n",
       "      <td>NaN</td>\n",
       "      <td>NaN</td>\n",
       "      <td>80% of Americans believe seeking multiple opin...</td>\n",
       "    </tr>\n",
       "    <tr>\n",
       "      <th>1</th>\n",
       "      <td>D46BCB48440A</td>\n",
       "      <td>NaN</td>\n",
       "      <td>NaN</td>\n",
       "      <td>When people ask for advice,they sometimes talk...</td>\n",
       "    </tr>\n",
       "    <tr>\n",
       "      <th>2</th>\n",
       "      <td>0FB0700DAF44</td>\n",
       "      <td>NaN</td>\n",
       "      <td>NaN</td>\n",
       "      <td>During a group project, have you ever asked a ...</td>\n",
       "    </tr>\n",
       "    <tr>\n",
       "      <th>3</th>\n",
       "      <td>D72CB1C11673</td>\n",
       "      <td>NaN</td>\n",
       "      <td>NaN</td>\n",
       "      <td>Making choices in life can be very difficult. ...</td>\n",
       "    </tr>\n",
       "    <tr>\n",
       "      <th>4</th>\n",
       "      <td>DF920E0A7337</td>\n",
       "      <td>NaN</td>\n",
       "      <td>NaN</td>\n",
       "      <td>Have you ever asked more than one person for h...</td>\n",
       "    </tr>\n",
       "  </tbody>\n",
       "</table>\n",
       "</div>"
      ],
      "text/plain": [
       "             id  class  predictionstring  \\\n",
       "0  18409261F5C2    NaN               NaN   \n",
       "1  D46BCB48440A    NaN               NaN   \n",
       "2  0FB0700DAF44    NaN               NaN   \n",
       "3  D72CB1C11673    NaN               NaN   \n",
       "4  DF920E0A7337    NaN               NaN   \n",
       "\n",
       "                                      discourse_text  \n",
       "0  80% of Americans believe seeking multiple opin...  \n",
       "1  When people ask for advice,they sometimes talk...  \n",
       "2  During a group project, have you ever asked a ...  \n",
       "3  Making choices in life can be very difficult. ...  \n",
       "4  Have you ever asked more than one person for h...  "
      ]
     },
     "execution_count": 13,
     "metadata": {},
     "output_type": "execute_result"
    }
   ],
   "source": [
    "def read_text(id):\n",
    "    return open(id+'.txt', 'r', encoding='UTF-8').read()\n",
    "\n",
    "\n",
    "test_csv['discourse_text']=[open(CFG.data_path+'feedback-prize-2021/test/'+id+'.txt', 'r', encoding='UTF-8').read() for id in test_csv.id]\n",
    "test_csv"
   ]
  },
  {
   "cell_type": "markdown",
   "metadata": {},
   "source": [
    "## feature"
   ]
  },
  {
   "cell_type": "code",
   "execution_count": 16,
   "metadata": {},
   "outputs": [
    {
     "data": {
      "application/json": {
       "ascii": false,
       "bar_format": null,
       "colour": null,
       "elapsed": 0.0179898738861084,
       "initial": 0,
       "n": 0,
       "ncols": null,
       "nrows": null,
       "postfix": null,
       "prefix": "Downloading",
       "rate": null,
       "total": 898825,
       "unit": "B",
       "unit_divisor": 1000,
       "unit_scale": true
      },
      "application/vnd.jupyter.widget-view+json": {
       "model_id": "d55daf3175344e5d9a9fc7eafa911582",
       "version_major": 2,
       "version_minor": 0
      },
      "text/plain": [
       "Downloading:   0%|          | 0.00/899k [00:00<?, ?B/s]"
      ]
     },
     "metadata": {},
     "output_type": "display_data"
    },
    {
     "data": {
      "application/json": {
       "ascii": false,
       "bar_format": null,
       "colour": null,
       "elapsed": 0.02813410758972168,
       "initial": 0,
       "n": 0,
       "ncols": null,
       "nrows": null,
       "postfix": null,
       "prefix": "Downloading",
       "rate": null,
       "total": 456318,
       "unit": "B",
       "unit_divisor": 1000,
       "unit_scale": true
      },
      "application/vnd.jupyter.widget-view+json": {
       "model_id": "d4d008d709ed4ca4b45a78b9a134ad60",
       "version_major": 2,
       "version_minor": 0
      },
      "text/plain": [
       "Downloading:   0%|          | 0.00/456k [00:00<?, ?B/s]"
      ]
     },
     "metadata": {},
     "output_type": "display_data"
    },
    {
     "data": {
      "application/json": {
       "ascii": false,
       "bar_format": null,
       "colour": null,
       "elapsed": 0.030265331268310547,
       "initial": 0,
       "n": 0,
       "ncols": null,
       "nrows": null,
       "postfix": null,
       "prefix": "Downloading",
       "rate": null,
       "total": 558614189,
       "unit": "B",
       "unit_divisor": 1000,
       "unit_scale": true
      },
      "application/vnd.jupyter.widget-view+json": {
       "model_id": "926e06f8455346c3ab4e75c54ddc2c28",
       "version_major": 2,
       "version_minor": 0
      },
      "text/plain": [
       "Downloading:   0%|          | 0.00/559M [00:00<?, ?B/s]"
      ]
     },
     "metadata": {},
     "output_type": "display_data"
    },
    {
     "name": "stderr",
     "output_type": "stream",
     "text": [
      "Some weights of the model checkpoint at microsoft/deberta-base were not used when initializing DebertaForSequenceClassification: ['lm_predictions.lm_head.LayerNorm.weight', 'lm_predictions.lm_head.bias', 'lm_predictions.lm_head.dense.bias', 'lm_predictions.lm_head.dense.weight', 'lm_predictions.lm_head.LayerNorm.bias']\n",
      "- This IS expected if you are initializing DebertaForSequenceClassification from the checkpoint of a model trained on another task or with another architecture (e.g. initializing a BertForSequenceClassification model from a BertForPreTraining model).\n",
      "- This IS NOT expected if you are initializing DebertaForSequenceClassification from the checkpoint of a model that you expect to be exactly identical (initializing a BertForSequenceClassification model from a BertForSequenceClassification model).\n",
      "Some weights of DebertaForSequenceClassification were not initialized from the model checkpoint at microsoft/deberta-base and are newly initialized: ['pooler.dense.weight', 'classifier.weight', 'classifier.bias', 'pooler.dense.bias']\n",
      "You should probably TRAIN this model on a down-stream task to be able to use it for predictions and inference.\n"
     ]
    }
   ],
   "source": [
    "model_name='DeBERTa'\n",
    "\n",
    "training=True\n",
    "\n",
    "if training:\n",
    "    pretrained_model='microsoft/deberta-base'\n",
    "    #pretrained_model=CFG.output_path+''\n",
    "else :\n",
    "    pretrained_model=CFG.weights_path+model_name+'/'\n",
    "    \n",
    "\n",
    "model=BERT.transformers_DeBERTa(pretrained_path=pretrained_model,device=CFG.device)"
   ]
  },
  {
   "cell_type": "code",
   "execution_count": 17,
   "metadata": {},
   "outputs": [],
   "source": [
    "train_csv['input'] = train_csv.discourse_text\n",
    "test_csv['input'] = test_csv.discourse_text"
   ]
  },
  {
   "cell_type": "code",
   "execution_count": 18,
   "metadata": {},
   "outputs": [],
   "source": [
    "train_csv['label']=train_csv['discourse_type']\n",
    "train_csv = train_csv.replace(\n",
    "    {\n",
    "        \"label\":\n",
    "        {\n",
    "            'Lead': 0,\n",
    "            'Position': 1,\n",
    "            'Evidence': 2,\n",
    "            'Claim': 3,\n",
    "            'Concluding Statement': 4,\n",
    "            'Counterclaim': 5,\n",
    "            'Rebuttal': 6\n",
    "        }\n",
    "    }\n",
    ")\n",
    "\n",
    "#train_csv = train_csv.rename(columns = {\"discourse_effectiveness\": \"label\"})"
   ]
  },
  {
   "cell_type": "code",
   "execution_count": 19,
   "metadata": {},
   "outputs": [
    {
     "data": {
      "text/html": [
       "<div>\n",
       "<style scoped>\n",
       "    .dataframe tbody tr th:only-of-type {\n",
       "        vertical-align: middle;\n",
       "    }\n",
       "\n",
       "    .dataframe tbody tr th {\n",
       "        vertical-align: top;\n",
       "    }\n",
       "\n",
       "    .dataframe thead th {\n",
       "        text-align: right;\n",
       "    }\n",
       "</style>\n",
       "<table border=\"1\" class=\"dataframe\">\n",
       "  <thead>\n",
       "    <tr style=\"text-align: right;\">\n",
       "      <th></th>\n",
       "      <th>id</th>\n",
       "      <th>discourse_id</th>\n",
       "      <th>discourse_start</th>\n",
       "      <th>discourse_end</th>\n",
       "      <th>discourse_text</th>\n",
       "      <th>discourse_type</th>\n",
       "      <th>discourse_type_num</th>\n",
       "      <th>predictionstring</th>\n",
       "      <th>input</th>\n",
       "      <th>label</th>\n",
       "    </tr>\n",
       "  </thead>\n",
       "  <tbody>\n",
       "    <tr>\n",
       "      <th>7881</th>\n",
       "      <td>2C27E003116B</td>\n",
       "      <td>1.622648e+12</td>\n",
       "      <td>408.0</td>\n",
       "      <td>529.0</td>\n",
       "      <td>Think of all the money people would save becau...</td>\n",
       "      <td>Claim</td>\n",
       "      <td>Claim 1</td>\n",
       "      <td>71 72 73 74 75 76 77 78 79 80 81 82 83 84 85 8...</td>\n",
       "      <td>Think of all the money people would save becau...</td>\n",
       "      <td>3</td>\n",
       "    </tr>\n",
       "    <tr>\n",
       "      <th>89707</th>\n",
       "      <td>7BEB99575D62</td>\n",
       "      <td>1.615844e+12</td>\n",
       "      <td>135.0</td>\n",
       "      <td>198.0</td>\n",
       "      <td>Popular vote is a more efficent way to vote fo...</td>\n",
       "      <td>Claim</td>\n",
       "      <td>Claim 1</td>\n",
       "      <td>21 22 23 24 25 26 27 28 29 30 31 32</td>\n",
       "      <td>Popular vote is a more efficent way to vote fo...</td>\n",
       "      <td>3</td>\n",
       "    </tr>\n",
       "    <tr>\n",
       "      <th>64633</th>\n",
       "      <td>CE4EFA6441C4</td>\n",
       "      <td>1.614611e+12</td>\n",
       "      <td>935.0</td>\n",
       "      <td>1460.0</td>\n",
       "      <td>or most problems, the town pays people or a bu...</td>\n",
       "      <td>Evidence</td>\n",
       "      <td>Evidence 2</td>\n",
       "      <td>168 169 170 171 172 173 174 175 176 177 178 17...</td>\n",
       "      <td>or most problems, the town pays people or a bu...</td>\n",
       "      <td>2</td>\n",
       "    </tr>\n",
       "    <tr>\n",
       "      <th>132774</th>\n",
       "      <td>0EE6F614F2F0</td>\n",
       "      <td>1.618171e+12</td>\n",
       "      <td>110.0</td>\n",
       "      <td>180.0</td>\n",
       "      <td>Seeking more than one opinion can provide som...</td>\n",
       "      <td>Position</td>\n",
       "      <td>Position 1</td>\n",
       "      <td>20 21 22 23 24 25 26 27 28 29 30</td>\n",
       "      <td>Seeking more than one opinion can provide som...</td>\n",
       "      <td>1</td>\n",
       "    </tr>\n",
       "    <tr>\n",
       "      <th>92682</th>\n",
       "      <td>6E72E9EADF75</td>\n",
       "      <td>1.614702e+12</td>\n",
       "      <td>0.0</td>\n",
       "      <td>326.0</td>\n",
       "      <td>\" What's wrong with the Electoral College?\" To...</td>\n",
       "      <td>Lead</td>\n",
       "      <td>Lead 1</td>\n",
       "      <td>0 1 2 3 4 5 6 7 8 9 10 11 12 13 14 15 16 17 18...</td>\n",
       "      <td>\" What's wrong with the Electoral College?\" To...</td>\n",
       "      <td>0</td>\n",
       "    </tr>\n",
       "    <tr>\n",
       "      <th>...</th>\n",
       "      <td>...</td>\n",
       "      <td>...</td>\n",
       "      <td>...</td>\n",
       "      <td>...</td>\n",
       "      <td>...</td>\n",
       "      <td>...</td>\n",
       "      <td>...</td>\n",
       "      <td>...</td>\n",
       "      <td>...</td>\n",
       "      <td>...</td>\n",
       "    </tr>\n",
       "    <tr>\n",
       "      <th>13354</th>\n",
       "      <td>96DE1AD15FD2</td>\n",
       "      <td>1.622567e+12</td>\n",
       "      <td>2996.0</td>\n",
       "      <td>4037.0</td>\n",
       "      <td>WEEE-WOO-WEEH-WOO\\n\\n!!! This is the sound of ...</td>\n",
       "      <td>Evidence</td>\n",
       "      <td>Evidence 4</td>\n",
       "      <td>505 506 507 508 509 510 511 512 513 514 515 51...</td>\n",
       "      <td>WEEE-WOO-WEEH-WOO\\n\\n!!! This is the sound of ...</td>\n",
       "      <td>2</td>\n",
       "    </tr>\n",
       "    <tr>\n",
       "      <th>32205</th>\n",
       "      <td>D9B3809280F9</td>\n",
       "      <td>1.615924e+12</td>\n",
       "      <td>180.0</td>\n",
       "      <td>238.0</td>\n",
       "      <td>Doing activities that aren't required have man...</td>\n",
       "      <td>Evidence</td>\n",
       "      <td>Evidence 1</td>\n",
       "      <td>27 28 29 30 31 32 33 34</td>\n",
       "      <td>Doing activities that aren't required have man...</td>\n",
       "      <td>2</td>\n",
       "    </tr>\n",
       "    <tr>\n",
       "      <th>19805</th>\n",
       "      <td>EF3D0D368ED7</td>\n",
       "      <td>1.618800e+12</td>\n",
       "      <td>663.0</td>\n",
       "      <td>703.0</td>\n",
       "      <td>it provides a challenge to the students.</td>\n",
       "      <td>Claim</td>\n",
       "      <td>Claim 4</td>\n",
       "      <td>112 113 114 115 116 117 118</td>\n",
       "      <td>it provides a challenge to the students.</td>\n",
       "      <td>3</td>\n",
       "    </tr>\n",
       "    <tr>\n",
       "      <th>117521</th>\n",
       "      <td>631F9CBDFD7A</td>\n",
       "      <td>1.621448e+12</td>\n",
       "      <td>129.0</td>\n",
       "      <td>170.0</td>\n",
       "      <td>some students like work on the computers,</td>\n",
       "      <td>Claim</td>\n",
       "      <td>Claim 2</td>\n",
       "      <td>24 25 26 27 28 29 30</td>\n",
       "      <td>some students like work on the computers,</td>\n",
       "      <td>3</td>\n",
       "    </tr>\n",
       "    <tr>\n",
       "      <th>8520</th>\n",
       "      <td>72B560BE6C3B</td>\n",
       "      <td>1.622466e+12</td>\n",
       "      <td>1217.0</td>\n",
       "      <td>1288.0</td>\n",
       "      <td>however, they don't think about how it can hel...</td>\n",
       "      <td>Rebuttal</td>\n",
       "      <td>Rebuttal 1</td>\n",
       "      <td>198 199 200 201 202 203 204 205 206 207 208 20...</td>\n",
       "      <td>however, they don't think about how it can hel...</td>\n",
       "      <td>6</td>\n",
       "    </tr>\n",
       "  </tbody>\n",
       "</table>\n",
       "<p>1443 rows × 10 columns</p>\n",
       "</div>"
      ],
      "text/plain": [
       "                  id  discourse_id  discourse_start  discourse_end  \\\n",
       "7881    2C27E003116B  1.622648e+12            408.0          529.0   \n",
       "89707   7BEB99575D62  1.615844e+12            135.0          198.0   \n",
       "64633   CE4EFA6441C4  1.614611e+12            935.0         1460.0   \n",
       "132774  0EE6F614F2F0  1.618171e+12            110.0          180.0   \n",
       "92682   6E72E9EADF75  1.614702e+12              0.0          326.0   \n",
       "...              ...           ...              ...            ...   \n",
       "13354   96DE1AD15FD2  1.622567e+12           2996.0         4037.0   \n",
       "32205   D9B3809280F9  1.615924e+12            180.0          238.0   \n",
       "19805   EF3D0D368ED7  1.618800e+12            663.0          703.0   \n",
       "117521  631F9CBDFD7A  1.621448e+12            129.0          170.0   \n",
       "8520    72B560BE6C3B  1.622466e+12           1217.0         1288.0   \n",
       "\n",
       "                                           discourse_text discourse_type  \\\n",
       "7881    Think of all the money people would save becau...          Claim   \n",
       "89707   Popular vote is a more efficent way to vote fo...          Claim   \n",
       "64633   or most problems, the town pays people or a bu...       Evidence   \n",
       "132774   Seeking more than one opinion can provide som...       Position   \n",
       "92682   \" What's wrong with the Electoral College?\" To...           Lead   \n",
       "...                                                   ...            ...   \n",
       "13354   WEEE-WOO-WEEH-WOO\\n\\n!!! This is the sound of ...       Evidence   \n",
       "32205   Doing activities that aren't required have man...       Evidence   \n",
       "19805            it provides a challenge to the students.          Claim   \n",
       "117521          some students like work on the computers,          Claim   \n",
       "8520    however, they don't think about how it can hel...       Rebuttal   \n",
       "\n",
       "       discourse_type_num                                   predictionstring  \\\n",
       "7881              Claim 1  71 72 73 74 75 76 77 78 79 80 81 82 83 84 85 8...   \n",
       "89707             Claim 1                21 22 23 24 25 26 27 28 29 30 31 32   \n",
       "64633          Evidence 2  168 169 170 171 172 173 174 175 176 177 178 17...   \n",
       "132774         Position 1                   20 21 22 23 24 25 26 27 28 29 30   \n",
       "92682              Lead 1  0 1 2 3 4 5 6 7 8 9 10 11 12 13 14 15 16 17 18...   \n",
       "...                   ...                                                ...   \n",
       "13354          Evidence 4  505 506 507 508 509 510 511 512 513 514 515 51...   \n",
       "32205          Evidence 1                            27 28 29 30 31 32 33 34   \n",
       "19805             Claim 4                        112 113 114 115 116 117 118   \n",
       "117521            Claim 2                               24 25 26 27 28 29 30   \n",
       "8520           Rebuttal 1  198 199 200 201 202 203 204 205 206 207 208 20...   \n",
       "\n",
       "                                                    input  label  \n",
       "7881    Think of all the money people would save becau...      3  \n",
       "89707   Popular vote is a more efficent way to vote fo...      3  \n",
       "64633   or most problems, the town pays people or a bu...      2  \n",
       "132774   Seeking more than one opinion can provide som...      1  \n",
       "92682   \" What's wrong with the Electoral College?\" To...      0  \n",
       "...                                                   ...    ...  \n",
       "13354   WEEE-WOO-WEEH-WOO\\n\\n!!! This is the sound of ...      2  \n",
       "32205   Doing activities that aren't required have man...      2  \n",
       "19805            it provides a challenge to the students.      3  \n",
       "117521          some students like work on the computers,      3  \n",
       "8520    however, they don't think about how it can hel...      6  \n",
       "\n",
       "[1443 rows x 10 columns]"
      ]
     },
     "execution_count": 19,
     "metadata": {},
     "output_type": "execute_result"
    }
   ],
   "source": [
    "train_csv"
   ]
  },
  {
   "cell_type": "markdown",
   "metadata": {},
   "source": [
    "### train val split"
   ]
  },
  {
   "cell_type": "code",
   "execution_count": 20,
   "metadata": {},
   "outputs": [],
   "source": [
    "essay_ids={'train':None,'val':None}\n",
    "essay_ids['train'],essay_ids['val']=load_data.split(train_csv.id.unique())"
   ]
  },
  {
   "cell_type": "code",
   "execution_count": 21,
   "metadata": {},
   "outputs": [],
   "source": [
    "train_csv['train_val']=train_csv.id.isin(essay_ids['train']).replace({True: 'train',False: 'val'})"
   ]
  },
  {
   "cell_type": "code",
   "execution_count": 22,
   "metadata": {},
   "outputs": [],
   "source": [
    "df={'train':None,'val':None,'test':None}\n",
    "df['train']=train_csv[train_csv['train_val']=='train']\n",
    "df['val']=train_csv[train_csv['train_val']=='val']\n",
    "df['test']=test_csv"
   ]
  },
  {
   "cell_type": "markdown",
   "metadata": {},
   "source": [
    "## training"
   ]
  },
  {
   "cell_type": "code",
   "execution_count": 23,
   "metadata": {},
   "outputs": [],
   "source": [
    "dataset={'train':None,'val':None,'test':None}\n",
    "\n",
    "dataset['train'] = datasets.Dataset.from_pandas(df['train'])\n",
    "dataset['val'] = datasets.Dataset.from_pandas(df['val'])\n",
    "dataset['test'] = datasets.Dataset.from_pandas(df['test'])"
   ]
  },
  {
   "cell_type": "code",
   "execution_count": 24,
   "metadata": {},
   "outputs": [
    {
     "data": {
      "text/plain": [
       "Index(['id', 'discourse_id', 'discourse_start', 'discourse_end',\n",
       "       'discourse_text', 'discourse_type', 'discourse_type_num',\n",
       "       'predictionstring', 'input', 'label', 'train_val'],\n",
       "      dtype='object')"
      ]
     },
     "execution_count": 24,
     "metadata": {},
     "output_type": "execute_result"
    }
   ],
   "source": [
    "df['val'].keys()"
   ]
  },
  {
   "cell_type": "code",
   "execution_count": 25,
   "metadata": {},
   "outputs": [
    {
     "data": {
      "text/plain": [
       "{'train': Dataset({\n",
       "     features: ['id', 'discourse_id', 'discourse_start', 'discourse_end', 'discourse_text', 'discourse_type', 'discourse_type_num', 'predictionstring', 'input', 'label', 'train_val', '__index_level_0__'],\n",
       "     num_rows: 1149\n",
       " }),\n",
       " 'val': Dataset({\n",
       "     features: ['id', 'discourse_id', 'discourse_start', 'discourse_end', 'discourse_text', 'discourse_type', 'discourse_type_num', 'predictionstring', 'input', 'label', 'train_val', '__index_level_0__'],\n",
       "     num_rows: 294\n",
       " }),\n",
       " 'test': Dataset({\n",
       "     features: ['id', 'class', 'predictionstring', 'discourse_text', 'input'],\n",
       "     num_rows: 5\n",
       " })}"
      ]
     },
     "execution_count": 25,
     "metadata": {},
     "output_type": "execute_result"
    }
   ],
   "source": [
    "dataset"
   ]
  },
  {
   "cell_type": "code",
   "execution_count": 26,
   "metadata": {},
   "outputs": [
    {
     "data": {
      "text/plain": [
       "{'id': '2C27E003116B',\n",
       " 'discourse_id': 1622648395409.0,\n",
       " 'discourse_start': 408.0,\n",
       " 'discourse_end': 529.0,\n",
       " 'discourse_text': \"Think of all the money people would save because they wouldn't have to spend so much on gas and maintence of their cars. \",\n",
       " 'discourse_type': 'Claim',\n",
       " 'discourse_type_num': 'Claim 1',\n",
       " 'predictionstring': '71 72 73 74 75 76 77 78 79 80 81 82 83 84 85 86 87 88 89 90 91 92 93',\n",
       " 'input': \"Think of all the money people would save because they wouldn't have to spend so much on gas and maintence of their cars. \",\n",
       " 'label': 3,\n",
       " 'train_val': 'train',\n",
       " '__index_level_0__': 7881}"
      ]
     },
     "execution_count": 26,
     "metadata": {},
     "output_type": "execute_result"
    }
   ],
   "source": [
    "dataset['train'][0]"
   ]
  },
  {
   "cell_type": "code",
   "execution_count": 27,
   "metadata": {},
   "outputs": [
    {
     "data": {
      "text/plain": [
       "{'input_ids': [1, 26644, 9, 70, 5, 418, 82, 74, 1871, 142, 51, 1979, 75, 33, 7, 1930, 98, 203, 15, 1123, 8, 1049, 90, 4086, 9, 49, 1677, 4, 1437, 2, 0, 0, 0, 0, 0, 0, 0, 0, 0, 0, 0, 0, 0, 0, 0, 0, 0, 0, 0, 0, 0, 0, 0, 0, 0, 0, 0, 0, 0, 0, 0, 0, 0, 0, 0, 0, 0, 0, 0, 0, 0, 0, 0, 0, 0, 0, 0, 0, 0, 0, 0, 0, 0, 0, 0, 0, 0, 0, 0, 0, 0, 0, 0, 0, 0, 0, 0, 0, 0, 0, 0, 0, 0, 0, 0, 0, 0, 0, 0, 0, 0, 0, 0, 0, 0, 0, 0, 0, 0, 0, 0, 0, 0, 0, 0, 0, 0, 0, 0, 0, 0, 0, 0, 0, 0, 0, 0, 0, 0, 0, 0, 0, 0, 0, 0, 0, 0, 0, 0, 0, 0, 0, 0, 0, 0, 0, 0, 0, 0, 0, 0, 0, 0, 0, 0, 0, 0, 0, 0, 0, 0, 0, 0, 0, 0, 0, 0, 0, 0, 0, 0, 0, 0, 0, 0, 0, 0, 0, 0, 0, 0, 0, 0, 0, 0, 0, 0, 0, 0, 0, 0, 0, 0, 0, 0, 0, 0, 0, 0, 0, 0, 0, 0, 0, 0, 0, 0, 0, 0, 0, 0, 0, 0, 0, 0, 0, 0, 0, 0, 0, 0, 0, 0, 0, 0, 0, 0, 0, 0, 0, 0, 0, 0, 0, 0, 0, 0, 0, 0, 0, 0, 0, 0, 0, 0, 0, 0, 0, 0, 0, 0, 0, 0, 0, 0, 0, 0, 0, 0, 0, 0, 0, 0, 0, 0, 0, 0, 0, 0, 0, 0, 0, 0, 0, 0, 0, 0, 0, 0, 0, 0, 0, 0, 0, 0, 0, 0, 0, 0, 0, 0, 0, 0, 0, 0, 0, 0, 0, 0, 0, 0, 0, 0, 0, 0, 0, 0, 0, 0, 0, 0, 0, 0, 0, 0, 0, 0, 0, 0, 0, 0, 0, 0, 0, 0, 0, 0, 0, 0, 0, 0, 0, 0, 0, 0, 0, 0, 0, 0, 0, 0, 0, 0, 0, 0, 0, 0, 0, 0, 0, 0, 0, 0, 0, 0, 0, 0, 0, 0, 0, 0, 0, 0, 0, 0, 0, 0, 0, 0, 0, 0, 0, 0, 0, 0, 0, 0, 0, 0, 0, 0, 0, 0, 0, 0, 0, 0, 0, 0, 0, 0, 0, 0, 0, 0, 0, 0, 0, 0, 0, 0, 0, 0, 0, 0, 0, 0, 0, 0, 0, 0, 0, 0, 0, 0, 0, 0, 0, 0, 0, 0, 0, 0, 0, 0, 0, 0, 0, 0, 0, 0, 0, 0, 0, 0, 0, 0, 0, 0, 0, 0, 0, 0, 0, 0, 0, 0, 0, 0, 0, 0, 0, 0, 0, 0, 0, 0, 0, 0, 0, 0, 0, 0, 0, 0, 0, 0, 0, 0, 0, 0, 0, 0, 0, 0, 0, 0, 0, 0, 0, 0, 0, 0, 0, 0, 0, 0, 0, 0, 0, 0, 0, 0, 0, 0, 0, 0, 0, 0, 0, 0, 0], 'token_type_ids': [0, 0, 0, 0, 0, 0, 0, 0, 0, 0, 0, 0, 0, 0, 0, 0, 0, 0, 0, 0, 0, 0, 0, 0, 0, 0, 0, 0, 0, 0, 0, 0, 0, 0, 0, 0, 0, 0, 0, 0, 0, 0, 0, 0, 0, 0, 0, 0, 0, 0, 0, 0, 0, 0, 0, 0, 0, 0, 0, 0, 0, 0, 0, 0, 0, 0, 0, 0, 0, 0, 0, 0, 0, 0, 0, 0, 0, 0, 0, 0, 0, 0, 0, 0, 0, 0, 0, 0, 0, 0, 0, 0, 0, 0, 0, 0, 0, 0, 0, 0, 0, 0, 0, 0, 0, 0, 0, 0, 0, 0, 0, 0, 0, 0, 0, 0, 0, 0, 0, 0, 0, 0, 0, 0, 0, 0, 0, 0, 0, 0, 0, 0, 0, 0, 0, 0, 0, 0, 0, 0, 0, 0, 0, 0, 0, 0, 0, 0, 0, 0, 0, 0, 0, 0, 0, 0, 0, 0, 0, 0, 0, 0, 0, 0, 0, 0, 0, 0, 0, 0, 0, 0, 0, 0, 0, 0, 0, 0, 0, 0, 0, 0, 0, 0, 0, 0, 0, 0, 0, 0, 0, 0, 0, 0, 0, 0, 0, 0, 0, 0, 0, 0, 0, 0, 0, 0, 0, 0, 0, 0, 0, 0, 0, 0, 0, 0, 0, 0, 0, 0, 0, 0, 0, 0, 0, 0, 0, 0, 0, 0, 0, 0, 0, 0, 0, 0, 0, 0, 0, 0, 0, 0, 0, 0, 0, 0, 0, 0, 0, 0, 0, 0, 0, 0, 0, 0, 0, 0, 0, 0, 0, 0, 0, 0, 0, 0, 0, 0, 0, 0, 0, 0, 0, 0, 0, 0, 0, 0, 0, 0, 0, 0, 0, 0, 0, 0, 0, 0, 0, 0, 0, 0, 0, 0, 0, 0, 0, 0, 0, 0, 0, 0, 0, 0, 0, 0, 0, 0, 0, 0, 0, 0, 0, 0, 0, 0, 0, 0, 0, 0, 0, 0, 0, 0, 0, 0, 0, 0, 0, 0, 0, 0, 0, 0, 0, 0, 0, 0, 0, 0, 0, 0, 0, 0, 0, 0, 0, 0, 0, 0, 0, 0, 0, 0, 0, 0, 0, 0, 0, 0, 0, 0, 0, 0, 0, 0, 0, 0, 0, 0, 0, 0, 0, 0, 0, 0, 0, 0, 0, 0, 0, 0, 0, 0, 0, 0, 0, 0, 0, 0, 0, 0, 0, 0, 0, 0, 0, 0, 0, 0, 0, 0, 0, 0, 0, 0, 0, 0, 0, 0, 0, 0, 0, 0, 0, 0, 0, 0, 0, 0, 0, 0, 0, 0, 0, 0, 0, 0, 0, 0, 0, 0, 0, 0, 0, 0, 0, 0, 0, 0, 0, 0, 0, 0, 0, 0, 0, 0, 0, 0, 0, 0, 0, 0, 0, 0, 0, 0, 0, 0, 0, 0, 0, 0, 0, 0, 0, 0, 0, 0, 0, 0, 0, 0, 0, 0, 0, 0, 0, 0, 0, 0, 0, 0, 0, 0, 0, 0, 0, 0, 0, 0, 0, 0, 0, 0, 0, 0, 0, 0, 0, 0, 0, 0, 0, 0, 0, 0, 0, 0, 0, 0], 'attention_mask': [1, 1, 1, 1, 1, 1, 1, 1, 1, 1, 1, 1, 1, 1, 1, 1, 1, 1, 1, 1, 1, 1, 1, 1, 1, 1, 1, 1, 1, 1, 0, 0, 0, 0, 0, 0, 0, 0, 0, 0, 0, 0, 0, 0, 0, 0, 0, 0, 0, 0, 0, 0, 0, 0, 0, 0, 0, 0, 0, 0, 0, 0, 0, 0, 0, 0, 0, 0, 0, 0, 0, 0, 0, 0, 0, 0, 0, 0, 0, 0, 0, 0, 0, 0, 0, 0, 0, 0, 0, 0, 0, 0, 0, 0, 0, 0, 0, 0, 0, 0, 0, 0, 0, 0, 0, 0, 0, 0, 0, 0, 0, 0, 0, 0, 0, 0, 0, 0, 0, 0, 0, 0, 0, 0, 0, 0, 0, 0, 0, 0, 0, 0, 0, 0, 0, 0, 0, 0, 0, 0, 0, 0, 0, 0, 0, 0, 0, 0, 0, 0, 0, 0, 0, 0, 0, 0, 0, 0, 0, 0, 0, 0, 0, 0, 0, 0, 0, 0, 0, 0, 0, 0, 0, 0, 0, 0, 0, 0, 0, 0, 0, 0, 0, 0, 0, 0, 0, 0, 0, 0, 0, 0, 0, 0, 0, 0, 0, 0, 0, 0, 0, 0, 0, 0, 0, 0, 0, 0, 0, 0, 0, 0, 0, 0, 0, 0, 0, 0, 0, 0, 0, 0, 0, 0, 0, 0, 0, 0, 0, 0, 0, 0, 0, 0, 0, 0, 0, 0, 0, 0, 0, 0, 0, 0, 0, 0, 0, 0, 0, 0, 0, 0, 0, 0, 0, 0, 0, 0, 0, 0, 0, 0, 0, 0, 0, 0, 0, 0, 0, 0, 0, 0, 0, 0, 0, 0, 0, 0, 0, 0, 0, 0, 0, 0, 0, 0, 0, 0, 0, 0, 0, 0, 0, 0, 0, 0, 0, 0, 0, 0, 0, 0, 0, 0, 0, 0, 0, 0, 0, 0, 0, 0, 0, 0, 0, 0, 0, 0, 0, 0, 0, 0, 0, 0, 0, 0, 0, 0, 0, 0, 0, 0, 0, 0, 0, 0, 0, 0, 0, 0, 0, 0, 0, 0, 0, 0, 0, 0, 0, 0, 0, 0, 0, 0, 0, 0, 0, 0, 0, 0, 0, 0, 0, 0, 0, 0, 0, 0, 0, 0, 0, 0, 0, 0, 0, 0, 0, 0, 0, 0, 0, 0, 0, 0, 0, 0, 0, 0, 0, 0, 0, 0, 0, 0, 0, 0, 0, 0, 0, 0, 0, 0, 0, 0, 0, 0, 0, 0, 0, 0, 0, 0, 0, 0, 0, 0, 0, 0, 0, 0, 0, 0, 0, 0, 0, 0, 0, 0, 0, 0, 0, 0, 0, 0, 0, 0, 0, 0, 0, 0, 0, 0, 0, 0, 0, 0, 0, 0, 0, 0, 0, 0, 0, 0, 0, 0, 0, 0, 0, 0, 0, 0, 0, 0, 0, 0, 0, 0, 0, 0, 0, 0, 0, 0, 0, 0, 0, 0, 0, 0, 0, 0, 0, 0, 0, 0, 0, 0, 0, 0, 0, 0, 0, 0, 0, 0, 0, 0, 0, 0, 0, 0, 0, 0, 0, 0, 0, 0, 0, 0, 0, 0]}"
      ]
     },
     "execution_count": 27,
     "metadata": {},
     "output_type": "execute_result"
    }
   ],
   "source": [
    "model.tokenizer(dataset['train'][0][\"input\"], max_length=512, truncation=True, padding=\"max_length\")"
   ]
  },
  {
   "cell_type": "code",
   "execution_count": 28,
   "metadata": {},
   "outputs": [
    {
     "data": {
      "text/plain": [
       "Dataset({\n",
       "    features: ['id', 'discourse_id', 'discourse_start', 'discourse_end', 'discourse_text', 'discourse_type', 'discourse_type_num', 'predictionstring', 'input', 'label', 'train_val', '__index_level_0__'],\n",
       "    num_rows: 1149\n",
       "})"
      ]
     },
     "execution_count": 28,
     "metadata": {},
     "output_type": "execute_result"
    }
   ],
   "source": [
    "dataset['train']"
   ]
  },
  {
   "cell_type": "code",
   "execution_count": 29,
   "metadata": {},
   "outputs": [
    {
     "data": {
      "application/json": {
       "ascii": false,
       "bar_format": null,
       "colour": null,
       "elapsed": 0.011424064636230469,
       "initial": 0,
       "n": 0,
       "ncols": null,
       "nrows": null,
       "postfix": null,
       "prefix": "",
       "rate": null,
       "total": 2,
       "unit": "ba",
       "unit_divisor": 1000,
       "unit_scale": false
      },
      "application/vnd.jupyter.widget-view+json": {
       "model_id": "e228e6e973a6406b91a1c53fda8a30b9",
       "version_major": 2,
       "version_minor": 0
      },
      "text/plain": [
       "  0%|          | 0/2 [00:00<?, ?ba/s]"
      ]
     },
     "metadata": {},
     "output_type": "display_data"
    },
    {
     "data": {
      "application/json": {
       "ascii": false,
       "bar_format": null,
       "colour": null,
       "elapsed": 0.011566400527954102,
       "initial": 0,
       "n": 0,
       "ncols": null,
       "nrows": null,
       "postfix": null,
       "prefix": "",
       "rate": null,
       "total": 1,
       "unit": "ba",
       "unit_divisor": 1000,
       "unit_scale": false
      },
      "application/vnd.jupyter.widget-view+json": {
       "model_id": "c63ad6f63ff14ed59059ac4ead0181c1",
       "version_major": 2,
       "version_minor": 0
      },
      "text/plain": [
       "  0%|          | 0/1 [00:00<?, ?ba/s]"
      ]
     },
     "metadata": {},
     "output_type": "display_data"
    },
    {
     "data": {
      "application/json": {
       "ascii": false,
       "bar_format": null,
       "colour": null,
       "elapsed": 0.011633634567260742,
       "initial": 0,
       "n": 0,
       "ncols": null,
       "nrows": null,
       "postfix": null,
       "prefix": "",
       "rate": null,
       "total": 1,
       "unit": "ba",
       "unit_divisor": 1000,
       "unit_scale": false
      },
      "application/vnd.jupyter.widget-view+json": {
       "model_id": "37886b1aed8d4977928de26c04e71278",
       "version_major": 2,
       "version_minor": 0
      },
      "text/plain": [
       "  0%|          | 0/1 [00:00<?, ?ba/s]"
      ]
     },
     "metadata": {},
     "output_type": "display_data"
    }
   ],
   "source": [
    "def f(x):return model.tokenizer(x['input'],truncation=True)\n",
    "\n",
    "dataset['train']=dataset['train'].map(\n",
    "    f,\n",
    "    batched=True,\n",
    "    remove_columns=(\n",
    "        'id',\n",
    "        'discourse_id',\n",
    "        'discourse_start',\n",
    "        'discourse_end',\n",
    "        'discourse_text',\n",
    "        'discourse_type',\n",
    "        'discourse_type_num',\n",
    "        'predictionstring',\n",
    "        'input',\n",
    "        #'label',\n",
    "        'train_val',\n",
    "        '__index_level_0__'\n",
    "    )\n",
    ")\n",
    "dataset['val']=dataset['val'].map(\n",
    "    f,\n",
    "    batched=True,\n",
    "    remove_columns=(\n",
    "        'id',\n",
    "        'discourse_id',\n",
    "        'discourse_start',\n",
    "        'discourse_end',\n",
    "        'discourse_text',\n",
    "        'discourse_type',\n",
    "        'discourse_type_num',\n",
    "        'predictionstring',\n",
    "        'input',\n",
    "        #'label',\n",
    "        'train_val',\n",
    "        '__index_level_0__'\n",
    "    )\n",
    ")\n",
    "dataset['test']=dataset['test'].map(\n",
    "    f,\n",
    "    batched=True,\n",
    "    remove_columns=(\n",
    "        'id',\n",
    "\n",
    "        'class',\n",
    "        'predictionstring',\n",
    "\n",
    "\n",
    "        # 'discourse_id',\n",
    "        # 'essay_id',\n",
    "        # 'discourse_text',\n",
    "        # 'discourse_type',\n",
    "        # #'discourse_effectiveness',\n",
    "        # 'input',\n",
    "        #'__index_level_0__',#\n",
    "    )\n",
    ")"
   ]
  },
  {
   "cell_type": "code",
   "execution_count": 30,
   "metadata": {},
   "outputs": [
    {
     "data": {
      "text/plain": [
       "{'train': Dataset({\n",
       "     features: ['label', 'input_ids', 'token_type_ids', 'attention_mask'],\n",
       "     num_rows: 1149\n",
       " }),\n",
       " 'val': Dataset({\n",
       "     features: ['label', 'input_ids', 'token_type_ids', 'attention_mask'],\n",
       "     num_rows: 294\n",
       " }),\n",
       " 'test': Dataset({\n",
       "     features: ['discourse_text', 'input', 'input_ids', 'token_type_ids', 'attention_mask'],\n",
       "     num_rows: 5\n",
       " })}"
      ]
     },
     "execution_count": 30,
     "metadata": {},
     "output_type": "execute_result"
    }
   ],
   "source": [
    "dataset"
   ]
  },
  {
   "cell_type": "code",
   "execution_count": 31,
   "metadata": {},
   "outputs": [],
   "source": [
    "datasetdict=datasets.DatasetDict({\n",
    "    \"train\":dataset['train'],\n",
    "    \"val\": dataset['val'],\n",
    "})"
   ]
  },
  {
   "cell_type": "code",
   "execution_count": 32,
   "metadata": {},
   "outputs": [],
   "source": [
    "trainer_ = trainer.transformers_get_trainer(CFG.output_path+model_name+'/',model.model,model.tokenizer,datasetdict)"
   ]
  },
  {
   "cell_type": "code",
   "execution_count": 33,
   "metadata": {},
   "outputs": [
    {
     "name": "stderr",
     "output_type": "stream",
     "text": [
      "/opt/conda/lib/python3.8/site-packages/transformers/optimization.py:306: FutureWarning: This implementation of AdamW is deprecated and will be removed in a future version. Use the PyTorch implementation torch.optim.AdamW instead, or set `no_deprecation_warning=True` to disable this warning\n",
      "  warnings.warn(\n",
      "***** Running training *****\n",
      "  Num examples = 1149\n",
      "  Num Epochs = 10\n",
      "  Instantaneous batch size per device = 8\n",
      "  Total train batch size (w. parallel, distributed & accumulation) = 8\n",
      "  Gradient Accumulation steps = 1\n",
      "  Total optimization steps = 1440\n",
      "/opt/conda/lib/python3.8/site-packages/transformers/models/deberta/modeling_deberta.py:679: UserWarning: To copy construct from a tensor, it is recommended to use sourceTensor.clone().detach() or sourceTensor.clone().detach().requires_grad_(True), rather than torch.tensor(sourceTensor).\n",
      "  query_layer = query_layer / torch.tensor(scale, dtype=query_layer.dtype)\n",
      "/opt/conda/lib/python3.8/site-packages/transformers/models/deberta/modeling_deberta.py:745: UserWarning: To copy construct from a tensor, it is recommended to use sourceTensor.clone().detach() or sourceTensor.clone().detach().requires_grad_(True), rather than torch.tensor(sourceTensor).\n",
      "  p2c_att = torch.matmul(key_layer, torch.tensor(pos_query_layer.transpose(-1, -2), dtype=key_layer.dtype))\n"
     ]
    },
    {
     "data": {
      "text/html": [
       "\n",
       "    <div>\n",
       "      \n",
       "      <progress value='1440' max='1440' style='width:300px; height:20px; vertical-align: middle;'></progress>\n",
       "      [1440/1440 37:01, Epoch 10/10]\n",
       "    </div>\n",
       "    <table border=\"1\" class=\"dataframe\">\n",
       "  <thead>\n",
       " <tr style=\"text-align: left;\">\n",
       "      <th>Epoch</th>\n",
       "      <th>Training Loss</th>\n",
       "      <th>Validation Loss</th>\n",
       "      <th>Log loss</th>\n",
       "    </tr>\n",
       "  </thead>\n",
       "  <tbody>\n",
       "    <tr>\n",
       "      <td>1</td>\n",
       "      <td>1.666100</td>\n",
       "      <td>1.296108</td>\n",
       "      <td>1.296108</td>\n",
       "    </tr>\n",
       "    <tr>\n",
       "      <td>2</td>\n",
       "      <td>1.177000</td>\n",
       "      <td>1.125905</td>\n",
       "      <td>1.125904</td>\n",
       "    </tr>\n",
       "    <tr>\n",
       "      <td>3</td>\n",
       "      <td>0.915000</td>\n",
       "      <td>1.029611</td>\n",
       "      <td>1.029611</td>\n",
       "    </tr>\n",
       "    <tr>\n",
       "      <td>4</td>\n",
       "      <td>0.696800</td>\n",
       "      <td>1.067145</td>\n",
       "      <td>1.067146</td>\n",
       "    </tr>\n",
       "    <tr>\n",
       "      <td>5</td>\n",
       "      <td>0.494700</td>\n",
       "      <td>1.081071</td>\n",
       "      <td>1.081071</td>\n",
       "    </tr>\n",
       "    <tr>\n",
       "      <td>6</td>\n",
       "      <td>0.354100</td>\n",
       "      <td>1.143419</td>\n",
       "      <td>1.143419</td>\n",
       "    </tr>\n",
       "    <tr>\n",
       "      <td>7</td>\n",
       "      <td>0.279600</td>\n",
       "      <td>1.226876</td>\n",
       "      <td>1.226876</td>\n",
       "    </tr>\n",
       "    <tr>\n",
       "      <td>8</td>\n",
       "      <td>0.220000</td>\n",
       "      <td>1.251159</td>\n",
       "      <td>1.251159</td>\n",
       "    </tr>\n",
       "    <tr>\n",
       "      <td>9</td>\n",
       "      <td>0.197800</td>\n",
       "      <td>1.271323</td>\n",
       "      <td>1.271323</td>\n",
       "    </tr>\n",
       "    <tr>\n",
       "      <td>10</td>\n",
       "      <td>0.177500</td>\n",
       "      <td>1.279663</td>\n",
       "      <td>1.279664</td>\n",
       "    </tr>\n",
       "  </tbody>\n",
       "</table><p>"
      ],
      "text/plain": [
       "<IPython.core.display.HTML object>"
      ]
     },
     "metadata": {},
     "output_type": "display_data"
    },
    {
     "name": "stderr",
     "output_type": "stream",
     "text": [
      "***** Running Evaluation *****\n",
      "  Num examples = 294\n",
      "  Batch size = 16\n",
      "/root/workspace/feedback-prize-2021/notebooks/../src/training/huggingface_transformers/trainer.py:19: UserWarning: Implicit dimension choice for softmax has been deprecated. Change the call to include dim=X as an argument.\n",
      "  torch.nn.functional.softmax(\n",
      "Saving model checkpoint to ../output/DeBERTa/checkpoint-144\n",
      "Configuration saved in ../output/DeBERTa/checkpoint-144/config.json\n",
      "Model weights saved in ../output/DeBERTa/checkpoint-144/pytorch_model.bin\n",
      "tokenizer config file saved in ../output/DeBERTa/checkpoint-144/tokenizer_config.json\n",
      "Special tokens file saved in ../output/DeBERTa/checkpoint-144/special_tokens_map.json\n",
      "/opt/conda/lib/python3.8/site-packages/transformers/models/deberta/modeling_deberta.py:679: UserWarning: To copy construct from a tensor, it is recommended to use sourceTensor.clone().detach() or sourceTensor.clone().detach().requires_grad_(True), rather than torch.tensor(sourceTensor).\n",
      "  query_layer = query_layer / torch.tensor(scale, dtype=query_layer.dtype)\n",
      "/opt/conda/lib/python3.8/site-packages/transformers/models/deberta/modeling_deberta.py:745: UserWarning: To copy construct from a tensor, it is recommended to use sourceTensor.clone().detach() or sourceTensor.clone().detach().requires_grad_(True), rather than torch.tensor(sourceTensor).\n",
      "  p2c_att = torch.matmul(key_layer, torch.tensor(pos_query_layer.transpose(-1, -2), dtype=key_layer.dtype))\n",
      "***** Running Evaluation *****\n",
      "  Num examples = 294\n",
      "  Batch size = 16\n",
      "/root/workspace/feedback-prize-2021/notebooks/../src/training/huggingface_transformers/trainer.py:19: UserWarning: Implicit dimension choice for softmax has been deprecated. Change the call to include dim=X as an argument.\n",
      "  torch.nn.functional.softmax(\n",
      "Saving model checkpoint to ../output/DeBERTa/checkpoint-288\n",
      "Configuration saved in ../output/DeBERTa/checkpoint-288/config.json\n",
      "Model weights saved in ../output/DeBERTa/checkpoint-288/pytorch_model.bin\n",
      "tokenizer config file saved in ../output/DeBERTa/checkpoint-288/tokenizer_config.json\n",
      "Special tokens file saved in ../output/DeBERTa/checkpoint-288/special_tokens_map.json\n",
      "/opt/conda/lib/python3.8/site-packages/transformers/models/deberta/modeling_deberta.py:679: UserWarning: To copy construct from a tensor, it is recommended to use sourceTensor.clone().detach() or sourceTensor.clone().detach().requires_grad_(True), rather than torch.tensor(sourceTensor).\n",
      "  query_layer = query_layer / torch.tensor(scale, dtype=query_layer.dtype)\n",
      "/opt/conda/lib/python3.8/site-packages/transformers/models/deberta/modeling_deberta.py:745: UserWarning: To copy construct from a tensor, it is recommended to use sourceTensor.clone().detach() or sourceTensor.clone().detach().requires_grad_(True), rather than torch.tensor(sourceTensor).\n",
      "  p2c_att = torch.matmul(key_layer, torch.tensor(pos_query_layer.transpose(-1, -2), dtype=key_layer.dtype))\n",
      "***** Running Evaluation *****\n",
      "  Num examples = 294\n",
      "  Batch size = 16\n",
      "/root/workspace/feedback-prize-2021/notebooks/../src/training/huggingface_transformers/trainer.py:19: UserWarning: Implicit dimension choice for softmax has been deprecated. Change the call to include dim=X as an argument.\n",
      "  torch.nn.functional.softmax(\n",
      "Saving model checkpoint to ../output/DeBERTa/checkpoint-432\n",
      "Configuration saved in ../output/DeBERTa/checkpoint-432/config.json\n",
      "Model weights saved in ../output/DeBERTa/checkpoint-432/pytorch_model.bin\n",
      "tokenizer config file saved in ../output/DeBERTa/checkpoint-432/tokenizer_config.json\n",
      "Special tokens file saved in ../output/DeBERTa/checkpoint-432/special_tokens_map.json\n",
      "Deleting older checkpoint [../output/DeBERTa/checkpoint-144] due to args.save_total_limit\n",
      "/opt/conda/lib/python3.8/site-packages/transformers/models/deberta/modeling_deberta.py:679: UserWarning: To copy construct from a tensor, it is recommended to use sourceTensor.clone().detach() or sourceTensor.clone().detach().requires_grad_(True), rather than torch.tensor(sourceTensor).\n",
      "  query_layer = query_layer / torch.tensor(scale, dtype=query_layer.dtype)\n",
      "/opt/conda/lib/python3.8/site-packages/transformers/models/deberta/modeling_deberta.py:745: UserWarning: To copy construct from a tensor, it is recommended to use sourceTensor.clone().detach() or sourceTensor.clone().detach().requires_grad_(True), rather than torch.tensor(sourceTensor).\n",
      "  p2c_att = torch.matmul(key_layer, torch.tensor(pos_query_layer.transpose(-1, -2), dtype=key_layer.dtype))\n",
      "***** Running Evaluation *****\n",
      "  Num examples = 294\n",
      "  Batch size = 16\n",
      "/root/workspace/feedback-prize-2021/notebooks/../src/training/huggingface_transformers/trainer.py:19: UserWarning: Implicit dimension choice for softmax has been deprecated. Change the call to include dim=X as an argument.\n",
      "  torch.nn.functional.softmax(\n",
      "Saving model checkpoint to ../output/DeBERTa/checkpoint-576\n",
      "Configuration saved in ../output/DeBERTa/checkpoint-576/config.json\n",
      "Model weights saved in ../output/DeBERTa/checkpoint-576/pytorch_model.bin\n",
      "tokenizer config file saved in ../output/DeBERTa/checkpoint-576/tokenizer_config.json\n",
      "Special tokens file saved in ../output/DeBERTa/checkpoint-576/special_tokens_map.json\n",
      "Deleting older checkpoint [../output/DeBERTa/checkpoint-288] due to args.save_total_limit\n",
      "/opt/conda/lib/python3.8/site-packages/transformers/models/deberta/modeling_deberta.py:679: UserWarning: To copy construct from a tensor, it is recommended to use sourceTensor.clone().detach() or sourceTensor.clone().detach().requires_grad_(True), rather than torch.tensor(sourceTensor).\n",
      "  query_layer = query_layer / torch.tensor(scale, dtype=query_layer.dtype)\n",
      "/opt/conda/lib/python3.8/site-packages/transformers/models/deberta/modeling_deberta.py:745: UserWarning: To copy construct from a tensor, it is recommended to use sourceTensor.clone().detach() or sourceTensor.clone().detach().requires_grad_(True), rather than torch.tensor(sourceTensor).\n",
      "  p2c_att = torch.matmul(key_layer, torch.tensor(pos_query_layer.transpose(-1, -2), dtype=key_layer.dtype))\n",
      "***** Running Evaluation *****\n",
      "  Num examples = 294\n",
      "  Batch size = 16\n",
      "/root/workspace/feedback-prize-2021/notebooks/../src/training/huggingface_transformers/trainer.py:19: UserWarning: Implicit dimension choice for softmax has been deprecated. Change the call to include dim=X as an argument.\n",
      "  torch.nn.functional.softmax(\n",
      "Saving model checkpoint to ../output/DeBERTa/checkpoint-720\n",
      "Configuration saved in ../output/DeBERTa/checkpoint-720/config.json\n",
      "Model weights saved in ../output/DeBERTa/checkpoint-720/pytorch_model.bin\n",
      "tokenizer config file saved in ../output/DeBERTa/checkpoint-720/tokenizer_config.json\n",
      "Special tokens file saved in ../output/DeBERTa/checkpoint-720/special_tokens_map.json\n",
      "Deleting older checkpoint [../output/DeBERTa/checkpoint-576] due to args.save_total_limit\n",
      "/opt/conda/lib/python3.8/site-packages/transformers/models/deberta/modeling_deberta.py:679: UserWarning: To copy construct from a tensor, it is recommended to use sourceTensor.clone().detach() or sourceTensor.clone().detach().requires_grad_(True), rather than torch.tensor(sourceTensor).\n",
      "  query_layer = query_layer / torch.tensor(scale, dtype=query_layer.dtype)\n",
      "/opt/conda/lib/python3.8/site-packages/transformers/models/deberta/modeling_deberta.py:745: UserWarning: To copy construct from a tensor, it is recommended to use sourceTensor.clone().detach() or sourceTensor.clone().detach().requires_grad_(True), rather than torch.tensor(sourceTensor).\n",
      "  p2c_att = torch.matmul(key_layer, torch.tensor(pos_query_layer.transpose(-1, -2), dtype=key_layer.dtype))\n",
      "***** Running Evaluation *****\n",
      "  Num examples = 294\n",
      "  Batch size = 16\n",
      "/root/workspace/feedback-prize-2021/notebooks/../src/training/huggingface_transformers/trainer.py:19: UserWarning: Implicit dimension choice for softmax has been deprecated. Change the call to include dim=X as an argument.\n",
      "  torch.nn.functional.softmax(\n",
      "Saving model checkpoint to ../output/DeBERTa/checkpoint-864\n",
      "Configuration saved in ../output/DeBERTa/checkpoint-864/config.json\n",
      "Model weights saved in ../output/DeBERTa/checkpoint-864/pytorch_model.bin\n",
      "tokenizer config file saved in ../output/DeBERTa/checkpoint-864/tokenizer_config.json\n",
      "Special tokens file saved in ../output/DeBERTa/checkpoint-864/special_tokens_map.json\n",
      "Deleting older checkpoint [../output/DeBERTa/checkpoint-720] due to args.save_total_limit\n",
      "/opt/conda/lib/python3.8/site-packages/transformers/models/deberta/modeling_deberta.py:679: UserWarning: To copy construct from a tensor, it is recommended to use sourceTensor.clone().detach() or sourceTensor.clone().detach().requires_grad_(True), rather than torch.tensor(sourceTensor).\n",
      "  query_layer = query_layer / torch.tensor(scale, dtype=query_layer.dtype)\n",
      "/opt/conda/lib/python3.8/site-packages/transformers/models/deberta/modeling_deberta.py:745: UserWarning: To copy construct from a tensor, it is recommended to use sourceTensor.clone().detach() or sourceTensor.clone().detach().requires_grad_(True), rather than torch.tensor(sourceTensor).\n",
      "  p2c_att = torch.matmul(key_layer, torch.tensor(pos_query_layer.transpose(-1, -2), dtype=key_layer.dtype))\n",
      "***** Running Evaluation *****\n",
      "  Num examples = 294\n",
      "  Batch size = 16\n",
      "/root/workspace/feedback-prize-2021/notebooks/../src/training/huggingface_transformers/trainer.py:19: UserWarning: Implicit dimension choice for softmax has been deprecated. Change the call to include dim=X as an argument.\n",
      "  torch.nn.functional.softmax(\n",
      "Saving model checkpoint to ../output/DeBERTa/checkpoint-1008\n",
      "Configuration saved in ../output/DeBERTa/checkpoint-1008/config.json\n",
      "Model weights saved in ../output/DeBERTa/checkpoint-1008/pytorch_model.bin\n",
      "tokenizer config file saved in ../output/DeBERTa/checkpoint-1008/tokenizer_config.json\n",
      "Special tokens file saved in ../output/DeBERTa/checkpoint-1008/special_tokens_map.json\n",
      "Deleting older checkpoint [../output/DeBERTa/checkpoint-864] due to args.save_total_limit\n",
      "/opt/conda/lib/python3.8/site-packages/transformers/models/deberta/modeling_deberta.py:679: UserWarning: To copy construct from a tensor, it is recommended to use sourceTensor.clone().detach() or sourceTensor.clone().detach().requires_grad_(True), rather than torch.tensor(sourceTensor).\n",
      "  query_layer = query_layer / torch.tensor(scale, dtype=query_layer.dtype)\n",
      "/opt/conda/lib/python3.8/site-packages/transformers/models/deberta/modeling_deberta.py:745: UserWarning: To copy construct from a tensor, it is recommended to use sourceTensor.clone().detach() or sourceTensor.clone().detach().requires_grad_(True), rather than torch.tensor(sourceTensor).\n",
      "  p2c_att = torch.matmul(key_layer, torch.tensor(pos_query_layer.transpose(-1, -2), dtype=key_layer.dtype))\n",
      "***** Running Evaluation *****\n",
      "  Num examples = 294\n",
      "  Batch size = 16\n",
      "/root/workspace/feedback-prize-2021/notebooks/../src/training/huggingface_transformers/trainer.py:19: UserWarning: Implicit dimension choice for softmax has been deprecated. Change the call to include dim=X as an argument.\n",
      "  torch.nn.functional.softmax(\n",
      "Saving model checkpoint to ../output/DeBERTa/checkpoint-1152\n",
      "Configuration saved in ../output/DeBERTa/checkpoint-1152/config.json\n",
      "Model weights saved in ../output/DeBERTa/checkpoint-1152/pytorch_model.bin\n",
      "tokenizer config file saved in ../output/DeBERTa/checkpoint-1152/tokenizer_config.json\n",
      "Special tokens file saved in ../output/DeBERTa/checkpoint-1152/special_tokens_map.json\n",
      "Deleting older checkpoint [../output/DeBERTa/checkpoint-1008] due to args.save_total_limit\n",
      "/opt/conda/lib/python3.8/site-packages/transformers/models/deberta/modeling_deberta.py:679: UserWarning: To copy construct from a tensor, it is recommended to use sourceTensor.clone().detach() or sourceTensor.clone().detach().requires_grad_(True), rather than torch.tensor(sourceTensor).\n",
      "  query_layer = query_layer / torch.tensor(scale, dtype=query_layer.dtype)\n",
      "/opt/conda/lib/python3.8/site-packages/transformers/models/deberta/modeling_deberta.py:745: UserWarning: To copy construct from a tensor, it is recommended to use sourceTensor.clone().detach() or sourceTensor.clone().detach().requires_grad_(True), rather than torch.tensor(sourceTensor).\n",
      "  p2c_att = torch.matmul(key_layer, torch.tensor(pos_query_layer.transpose(-1, -2), dtype=key_layer.dtype))\n",
      "***** Running Evaluation *****\n",
      "  Num examples = 294\n",
      "  Batch size = 16\n",
      "/root/workspace/feedback-prize-2021/notebooks/../src/training/huggingface_transformers/trainer.py:19: UserWarning: Implicit dimension choice for softmax has been deprecated. Change the call to include dim=X as an argument.\n",
      "  torch.nn.functional.softmax(\n",
      "Saving model checkpoint to ../output/DeBERTa/checkpoint-1296\n",
      "Configuration saved in ../output/DeBERTa/checkpoint-1296/config.json\n",
      "Model weights saved in ../output/DeBERTa/checkpoint-1296/pytorch_model.bin\n",
      "tokenizer config file saved in ../output/DeBERTa/checkpoint-1296/tokenizer_config.json\n",
      "Special tokens file saved in ../output/DeBERTa/checkpoint-1296/special_tokens_map.json\n",
      "Deleting older checkpoint [../output/DeBERTa/checkpoint-1152] due to args.save_total_limit\n",
      "/opt/conda/lib/python3.8/site-packages/transformers/models/deberta/modeling_deberta.py:679: UserWarning: To copy construct from a tensor, it is recommended to use sourceTensor.clone().detach() or sourceTensor.clone().detach().requires_grad_(True), rather than torch.tensor(sourceTensor).\n",
      "  query_layer = query_layer / torch.tensor(scale, dtype=query_layer.dtype)\n",
      "/opt/conda/lib/python3.8/site-packages/transformers/models/deberta/modeling_deberta.py:745: UserWarning: To copy construct from a tensor, it is recommended to use sourceTensor.clone().detach() or sourceTensor.clone().detach().requires_grad_(True), rather than torch.tensor(sourceTensor).\n",
      "  p2c_att = torch.matmul(key_layer, torch.tensor(pos_query_layer.transpose(-1, -2), dtype=key_layer.dtype))\n",
      "***** Running Evaluation *****\n",
      "  Num examples = 294\n",
      "  Batch size = 16\n",
      "/root/workspace/feedback-prize-2021/notebooks/../src/training/huggingface_transformers/trainer.py:19: UserWarning: Implicit dimension choice for softmax has been deprecated. Change the call to include dim=X as an argument.\n",
      "  torch.nn.functional.softmax(\n",
      "Saving model checkpoint to ../output/DeBERTa/checkpoint-1440\n",
      "Configuration saved in ../output/DeBERTa/checkpoint-1440/config.json\n",
      "Model weights saved in ../output/DeBERTa/checkpoint-1440/pytorch_model.bin\n",
      "tokenizer config file saved in ../output/DeBERTa/checkpoint-1440/tokenizer_config.json\n",
      "Special tokens file saved in ../output/DeBERTa/checkpoint-1440/special_tokens_map.json\n",
      "Deleting older checkpoint [../output/DeBERTa/checkpoint-1296] due to args.save_total_limit\n",
      "\n",
      "\n",
      "Training completed. Do not forget to share your model on huggingface.co/models =)\n",
      "\n",
      "\n",
      "Loading best model from ../output/DeBERTa/checkpoint-432 (score: 1.0296114683151245).\n"
     ]
    }
   ],
   "source": [
    "if training:\n",
    "    trainer_.train()\n",
    "    #trainer.save_model(output_dir=CFG.output_path+model_name+'/')"
   ]
  },
  {
   "cell_type": "code",
   "execution_count": 34,
   "metadata": {},
   "outputs": [
    {
     "data": {
      "text/plain": [
       "[{'loss': 1.6661, 'learning_rate': 8e-06, 'epoch': 1.0, 'step': 144},\n",
       " {'eval_loss': 1.2961077690124512,\n",
       "  'eval_log loss': 1.2961078595344713,\n",
       "  'eval_runtime': 18.3261,\n",
       "  'eval_samples_per_second': 16.043,\n",
       "  'eval_steps_per_second': 1.037,\n",
       "  'epoch': 1.0,\n",
       "  'step': 144},\n",
       " {'loss': 1.177,\n",
       "  'learning_rate': 7.758770483143633e-06,\n",
       "  'epoch': 2.0,\n",
       "  'step': 288},\n",
       " {'eval_loss': 1.1259045600891113,\n",
       "  'eval_log loss': 1.125904454209772,\n",
       "  'eval_runtime': 21.3815,\n",
       "  'eval_samples_per_second': 13.75,\n",
       "  'eval_steps_per_second': 0.889,\n",
       "  'epoch': 2.0,\n",
       "  'step': 288},\n",
       " {'loss': 0.915,\n",
       "  'learning_rate': 7.064177772475912e-06,\n",
       "  'epoch': 3.0,\n",
       "  'step': 432},\n",
       " {'eval_loss': 1.0296114683151245,\n",
       "  'eval_log loss': 1.0296113337105026,\n",
       "  'eval_runtime': 21.2031,\n",
       "  'eval_samples_per_second': 13.866,\n",
       "  'eval_steps_per_second': 0.896,\n",
       "  'epoch': 3.0,\n",
       "  'step': 432},\n",
       " {'loss': 0.6968, 'learning_rate': 6e-06, 'epoch': 4.0, 'step': 576},\n",
       " {'eval_loss': 1.0671454668045044,\n",
       "  'eval_log loss': 1.067145571511771,\n",
       "  'eval_runtime': 20.415,\n",
       "  'eval_samples_per_second': 14.401,\n",
       "  'eval_steps_per_second': 0.931,\n",
       "  'epoch': 4.0,\n",
       "  'step': 576},\n",
       " {'loss': 0.4947,\n",
       "  'learning_rate': 4.694592710667722e-06,\n",
       "  'epoch': 5.0,\n",
       "  'step': 720},\n",
       " {'eval_loss': 1.0810712575912476,\n",
       "  'eval_log loss': 1.0810713489495574,\n",
       "  'eval_runtime': 21.4167,\n",
       "  'eval_samples_per_second': 13.728,\n",
       "  'eval_steps_per_second': 0.887,\n",
       "  'epoch': 5.0,\n",
       "  'step': 720},\n",
       " {'loss': 0.3541,\n",
       "  'learning_rate': 3.3054072893322785e-06,\n",
       "  'epoch': 6.0,\n",
       "  'step': 864},\n",
       " {'eval_loss': 1.1434191465377808,\n",
       "  'eval_log loss': 1.1434192082774983,\n",
       "  'eval_runtime': 21.1786,\n",
       "  'eval_samples_per_second': 13.882,\n",
       "  'eval_steps_per_second': 0.897,\n",
       "  'epoch': 6.0,\n",
       "  'step': 864},\n",
       " {'loss': 0.2796,\n",
       "  'learning_rate': 2.0000000000000008e-06,\n",
       "  'epoch': 7.0,\n",
       "  'step': 1008},\n",
       " {'eval_loss': 1.226876139640808,\n",
       "  'eval_log loss': 1.2268761669849457,\n",
       "  'eval_runtime': 21.2719,\n",
       "  'eval_samples_per_second': 13.821,\n",
       "  'eval_steps_per_second': 0.893,\n",
       "  'epoch': 7.0,\n",
       "  'step': 1008},\n",
       " {'loss': 0.22,\n",
       "  'learning_rate': 9.358222275240884e-07,\n",
       "  'epoch': 8.0,\n",
       "  'step': 1152},\n",
       " {'eval_loss': 1.2511589527130127,\n",
       "  'eval_log loss': 1.2511590223547173,\n",
       "  'eval_runtime': 21.0717,\n",
       "  'eval_samples_per_second': 13.952,\n",
       "  'eval_steps_per_second': 0.902,\n",
       "  'epoch': 8.0,\n",
       "  'step': 1152},\n",
       " {'loss': 0.1978,\n",
       "  'learning_rate': 2.412295168563667e-07,\n",
       "  'epoch': 9.0,\n",
       "  'step': 1296},\n",
       " {'eval_loss': 1.2713226079940796,\n",
       "  'eval_log loss': 1.271322544508924,\n",
       "  'eval_runtime': 21.2764,\n",
       "  'eval_samples_per_second': 13.818,\n",
       "  'eval_steps_per_second': 0.893,\n",
       "  'epoch': 9.0,\n",
       "  'step': 1296},\n",
       " {'loss': 0.1775, 'learning_rate': 0.0, 'epoch': 10.0, 'step': 1440},\n",
       " {'eval_loss': 1.2796634435653687,\n",
       "  'eval_log loss': 1.2796635954232165,\n",
       "  'eval_runtime': 21.3801,\n",
       "  'eval_samples_per_second': 13.751,\n",
       "  'eval_steps_per_second': 0.889,\n",
       "  'epoch': 10.0,\n",
       "  'step': 1440},\n",
       " {'train_runtime': 2222.6567,\n",
       "  'train_samples_per_second': 5.169,\n",
       "  'train_steps_per_second': 0.648,\n",
       "  'total_flos': 1010600188902468.0,\n",
       "  'train_loss': 0.6178530242707995,\n",
       "  'epoch': 10.0,\n",
       "  'step': 1440}]"
      ]
     },
     "execution_count": 34,
     "metadata": {},
     "output_type": "execute_result"
    }
   ],
   "source": [
    "trainer_.state.log_history"
   ]
  },
  {
   "cell_type": "code",
   "execution_count": 36,
   "metadata": {},
   "outputs": [
    {
     "data": {
      "text/plain": [
       "[]"
      ]
     },
     "execution_count": 36,
     "metadata": {},
     "output_type": "execute_result"
    },
    {
     "data": {
      "image/png": "[encoded data removed]",
      "text/plain": [
       "<Figure size 864x576 with 1 Axes>"
      ]
     },
     "metadata": {
      "needs_background": "light"
     },
     "output_type": "display_data"
    }
   ],
   "source": [
    "plt.figure(figsize=(12, 8))\n",
    "\n",
    "plt.plot(\n",
    "    [x['epoch'] for x in trainer_.state.log_history if 'loss' in x.keys()],\n",
    "    [x['loss'] for x in trainer_.state.log_history if 'loss' in x.keys()],\n",
    "    label='train',\n",
    ")\n",
    "\n",
    "plt.plot(\n",
    "    [x['epoch'] for x in trainer_.state.log_history if 'eval_loss' in x.keys()],\n",
    "    [x['eval_loss'] for x in trainer_.state.log_history if 'eval_loss' in x.keys()],\n",
    "    label='val'\n",
    ")\n",
    "\n",
    "plt.legend()\n",
    "plt.plot()"
   ]
  },
  {
   "cell_type": "markdown",
   "metadata": {},
   "source": [
    "## prediction"
   ]
  },
  {
   "cell_type": "code",
   "execution_count": 37,
   "metadata": {},
   "outputs": [
    {
     "name": "stderr",
     "output_type": "stream",
     "text": [
      "The following columns in the test set don't have a corresponding argument in `DebertaForSequenceClassification.forward` and have been ignored: discourse_text, input. If discourse_text, input are not expected by `DebertaForSequenceClassification.forward`,  you can safely ignore this message.\n",
      "***** Running Prediction *****\n",
      "  Num examples = 5\n",
      "  Batch size = 16\n",
      "/opt/conda/lib/python3.8/site-packages/transformers/models/deberta/modeling_deberta.py:679: UserWarning: To copy construct from a tensor, it is recommended to use sourceTensor.clone().detach() or sourceTensor.clone().detach().requires_grad_(True), rather than torch.tensor(sourceTensor).\n",
      "  query_layer = query_layer / torch.tensor(scale, dtype=query_layer.dtype)\n",
      "/opt/conda/lib/python3.8/site-packages/transformers/models/deberta/modeling_deberta.py:745: UserWarning: To copy construct from a tensor, it is recommended to use sourceTensor.clone().detach() or sourceTensor.clone().detach().requires_grad_(True), rather than torch.tensor(sourceTensor).\n",
      "  p2c_att = torch.matmul(key_layer, torch.tensor(pos_query_layer.transpose(-1, -2), dtype=key_layer.dtype))\n"
     ]
    },
    {
     "data": {
      "text/html": [],
      "text/plain": [
       "<IPython.core.display.HTML object>"
      ]
     },
     "metadata": {},
     "output_type": "display_data"
    },
    {
     "data": {
      "text/plain": [
       "array([[0.03169258, 0.00422838, 0.91698837, 0.00583825, 0.03216906,\n",
       "        0.00458477, 0.00449866],\n",
       "       [0.02291378, 0.00330952, 0.93971241, 0.00468771, 0.0217476 ,\n",
       "        0.00398985, 0.003639  ],\n",
       "       [0.02292178, 0.00393902, 0.93586761, 0.00780658, 0.0194021 ,\n",
       "        0.00539116, 0.0046718 ],\n",
       "       [0.0284797 , 0.00315936, 0.93337345, 0.00512708, 0.02218245,\n",
       "        0.00409177, 0.00358621],\n",
       "       [0.06574715, 0.00497753, 0.86591464, 0.00853617, 0.04312422,\n",
       "        0.00603074, 0.00566956]])"
      ]
     },
     "execution_count": 37,
     "metadata": {},
     "output_type": "execute_result"
    }
   ],
   "source": [
    "preds=torch.Tensor(trainer_.predict(dataset['test']).predictions)\n",
    "preds = torch.nn.functional.softmax(preds,dim=1).numpy().astype(float)\n",
    "preds"
   ]
  },
  {
   "cell_type": "code",
   "execution_count": 38,
   "metadata": {},
   "outputs": [
    {
     "data": {
      "text/html": [
       "<div>\n",
       "<style scoped>\n",
       "    .dataframe tbody tr th:only-of-type {\n",
       "        vertical-align: middle;\n",
       "    }\n",
       "\n",
       "    .dataframe tbody tr th {\n",
       "        vertical-align: top;\n",
       "    }\n",
       "\n",
       "    .dataframe thead th {\n",
       "        text-align: right;\n",
       "    }\n",
       "</style>\n",
       "<table border=\"1\" class=\"dataframe\">\n",
       "  <thead>\n",
       "    <tr style=\"text-align: right;\">\n",
       "      <th></th>\n",
       "      <th>id</th>\n",
       "      <th>class</th>\n",
       "      <th>predictionstring</th>\n",
       "      <th>Ineffective</th>\n",
       "      <th>Adequate</th>\n",
       "      <th>Effective</th>\n",
       "    </tr>\n",
       "  </thead>\n",
       "  <tbody>\n",
       "    <tr>\n",
       "      <th>0</th>\n",
       "      <td>18409261F5C2</td>\n",
       "      <td>NaN</td>\n",
       "      <td>NaN</td>\n",
       "      <td>0.031693</td>\n",
       "      <td>0.004228</td>\n",
       "      <td>0.916988</td>\n",
       "    </tr>\n",
       "    <tr>\n",
       "      <th>1</th>\n",
       "      <td>D46BCB48440A</td>\n",
       "      <td>NaN</td>\n",
       "      <td>NaN</td>\n",
       "      <td>0.022914</td>\n",
       "      <td>0.003310</td>\n",
       "      <td>0.939712</td>\n",
       "    </tr>\n",
       "    <tr>\n",
       "      <th>2</th>\n",
       "      <td>0FB0700DAF44</td>\n",
       "      <td>NaN</td>\n",
       "      <td>NaN</td>\n",
       "      <td>0.022922</td>\n",
       "      <td>0.003939</td>\n",
       "      <td>0.935868</td>\n",
       "    </tr>\n",
       "    <tr>\n",
       "      <th>3</th>\n",
       "      <td>D72CB1C11673</td>\n",
       "      <td>NaN</td>\n",
       "      <td>NaN</td>\n",
       "      <td>0.028480</td>\n",
       "      <td>0.003159</td>\n",
       "      <td>0.933373</td>\n",
       "    </tr>\n",
       "    <tr>\n",
       "      <th>4</th>\n",
       "      <td>DF920E0A7337</td>\n",
       "      <td>NaN</td>\n",
       "      <td>NaN</td>\n",
       "      <td>0.065747</td>\n",
       "      <td>0.004978</td>\n",
       "      <td>0.865915</td>\n",
       "    </tr>\n",
       "  </tbody>\n",
       "</table>\n",
       "</div>"
      ],
      "text/plain": [
       "             id  class  predictionstring  Ineffective  Adequate  Effective\n",
       "0  18409261F5C2    NaN               NaN     0.031693  0.004228   0.916988\n",
       "1  D46BCB48440A    NaN               NaN     0.022914  0.003310   0.939712\n",
       "2  0FB0700DAF44    NaN               NaN     0.022922  0.003939   0.935868\n",
       "3  D72CB1C11673    NaN               NaN     0.028480  0.003159   0.933373\n",
       "4  DF920E0A7337    NaN               NaN     0.065747  0.004978   0.865915"
      ]
     },
     "execution_count": 38,
     "metadata": {},
     "output_type": "execute_result"
    }
   ],
   "source": [
    "submission=sample_submission_csv.copy()\n",
    "submission['Ineffective'] = preds[:,0]\n",
    "submission['Adequate'] = preds[:,1]\n",
    "submission['Effective'] = preds[:,2]\n",
    "submission"
   ]
  },
  {
   "cell_type": "code",
   "execution_count": null,
   "metadata": {},
   "outputs": [],
   "source": [
    "submission.to_csv('submission.csv',index=False)"
   ]
  },
  {
   "cell_type": "code",
   "execution_count": null,
   "metadata": {},
   "outputs": [],
   "source": [
    "#sample_submission_csv.to_csv('submission.csv',index=False)"
   ]
  }
 ],
 "metadata": {
  "kernelspec": {
   "display_name": "Python 3.8.12 ('base')",
   "language": "python",
   "name": "python3"
  },
  "language_info": {
   "codemirror_mode": {
    "name": "ipython",
    "version": 3
   },
   "file_extension": ".py",
   "mimetype": "text/x-python",
   "name": "python",
   "nbconvert_exporter": "python",
   "pygments_lexer": "ipython3",
   "version": "3.8.12"
  },
  "orig_nbformat": 4,
  "vscode": {
   "interpreter": {
    "hash": "d4d1e4263499bec80672ea0156c357c1ee493ec2b1c70f0acce89fc37c4a6abe"
   }
  }
 },
 "nbformat": 4,
 "nbformat_minor": 2
}
