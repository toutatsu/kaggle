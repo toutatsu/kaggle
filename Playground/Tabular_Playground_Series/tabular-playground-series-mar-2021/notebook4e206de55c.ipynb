{
 "cells": [
  {
   "cell_type": "markdown",
   "metadata": {
    "papermill": {
     "duration": 0.017695,
     "end_time": "2022-03-04T08:24:35.641679",
     "exception": false,
     "start_time": "2022-03-04T08:24:35.623984",
     "status": "completed"
    },
    "tags": []
   },
   "source": [
    "<h1>template notebook</h1>"
   ]
  },
  {
   "cell_type": "markdown",
   "metadata": {
    "papermill": {
     "duration": 0.017176,
     "end_time": "2022-03-04T08:24:35.675940",
     "exception": false,
     "start_time": "2022-03-04T08:24:35.658764",
     "status": "completed"
    },
    "tags": []
   },
   "source": [
    "import libraries"
   ]
  },
  {
   "cell_type": "code",
   "execution_count": 1,
   "metadata": {
    "execution": {
     "iopub.execute_input": "2022-03-04T08:24:35.714702Z",
     "iopub.status.busy": "2022-03-04T08:24:35.714015Z",
     "iopub.status.idle": "2022-03-04T08:24:35.717188Z",
     "shell.execute_reply": "2022-03-04T08:24:35.716686Z"
    },
    "papermill": {
     "duration": 0.024463,
     "end_time": "2022-03-04T08:24:35.717361",
     "exception": false,
     "start_time": "2022-03-04T08:24:35.692898",
     "status": "completed"
    },
    "tags": []
   },
   "outputs": [],
   "source": [
    "import numpy as np #https://numpy.org/\n",
    "import pandas as pd #https://pandas.pydata.org/\n",
    "import matplotlib.pyplot as plt #https://matplotlib.org/stable/api/_as_gen/matplotlib.pyplot.html"
   ]
  },
  {
   "cell_type": "markdown",
   "metadata": {
    "papermill": {
     "duration": 0.016644,
     "end_time": "2022-03-04T08:24:35.750982",
     "exception": false,
     "start_time": "2022-03-04T08:24:35.734338",
     "status": "completed"
    },
    "tags": []
   },
   "source": [
    "CFG"
   ]
  },
  {
   "cell_type": "code",
   "execution_count": 2,
   "metadata": {
    "execution": {
     "iopub.execute_input": "2022-03-04T08:24:35.788625Z",
     "iopub.status.busy": "2022-03-04T08:24:35.787900Z",
     "iopub.status.idle": "2022-03-04T08:24:35.790911Z",
     "shell.execute_reply": "2022-03-04T08:24:35.790379Z"
    },
    "papermill": {
     "duration": 0.023085,
     "end_time": "2022-03-04T08:24:35.791014",
     "exception": false,
     "start_time": "2022-03-04T08:24:35.767929",
     "status": "completed"
    },
    "tags": []
   },
   "outputs": [],
   "source": [
    "class CFG():\n",
    "    input_path=\"../input/tabular-playground-series-mar-2021/\"\n",
    "    debug=False\n",
    "\n",
    "    seed=42\n"
   ]
  },
  {
   "cell_type": "code",
   "execution_count": 3,
   "metadata": {
    "execution": {
     "iopub.execute_input": "2022-03-04T08:24:35.831758Z",
     "iopub.status.busy": "2022-03-04T08:24:35.831072Z",
     "iopub.status.idle": "2022-03-04T08:24:35.834106Z",
     "shell.execute_reply": "2022-03-04T08:24:35.833664Z"
    },
    "papermill": {
     "duration": 0.025079,
     "end_time": "2022-03-04T08:24:35.834228",
     "exception": false,
     "start_time": "2022-03-04T08:24:35.809149",
     "status": "completed"
    },
    "tags": []
   },
   "outputs": [],
   "source": [
    "target_columns=['target']\n",
    "def feature_columns(df):\n",
    "    return df.drop(columns=target_columns).columns\n",
    "def numerical_columns(df):\n",
    "    return df[feature_columns(df)].select_dtypes(include=['int64','float64']).columns\n",
    "def categorical_columns(df):\n",
    "    return df[feature_columns(df)].select_dtypes(exclude=['int64','float64']).columns"
   ]
  },
  {
   "cell_type": "code",
   "execution_count": 4,
   "metadata": {
    "execution": {
     "iopub.execute_input": "2022-03-04T08:24:35.874063Z",
     "iopub.status.busy": "2022-03-04T08:24:35.873351Z",
     "iopub.status.idle": "2022-03-04T08:24:35.876834Z",
     "shell.execute_reply": "2022-03-04T08:24:35.876344Z"
    },
    "papermill": {
     "duration": 0.025215,
     "end_time": "2022-03-04T08:24:35.876949",
     "exception": false,
     "start_time": "2022-03-04T08:24:35.851734",
     "status": "completed"
    },
    "tags": []
   },
   "outputs": [],
   "source": [
    "class Color:\n",
    "    BLACK     = '\\033[30m'\n",
    "    RED       = '\\033[31m'\n",
    "    GREEN     = '\\033[32m'\n",
    "    YELLOW    = '\\033[33m'\n",
    "    BLUE      = '\\033[34m'\n",
    "    PURPLE    = '\\033[35m'\n",
    "    CYAN      = '\\033[36m'\n",
    "    WHITE     = '\\033[37m'\n",
    "    END       = '\\033[0m'\n",
    "    BOLD      = '\\038[1m'\n",
    "    UNDERLINE = '\\033[4m'\n",
    "    INVISIBLE = '\\033[08m'\n",
    "    REVERCE   = '\\033[07m'"
   ]
  },
  {
   "cell_type": "markdown",
   "metadata": {
    "papermill": {
     "duration": 0.017232,
     "end_time": "2022-03-04T08:24:35.912188",
     "exception": false,
     "start_time": "2022-03-04T08:24:35.894956",
     "status": "completed"
    },
    "tags": []
   },
   "source": [
    "utility functions"
   ]
  },
  {
   "cell_type": "code",
   "execution_count": 5,
   "metadata": {
    "execution": {
     "iopub.execute_input": "2022-03-04T08:24:35.954841Z",
     "iopub.status.busy": "2022-03-04T08:24:35.954161Z",
     "iopub.status.idle": "2022-03-04T08:24:37.567039Z",
     "shell.execute_reply": "2022-03-04T08:24:37.566246Z"
    },
    "papermill": {
     "duration": 1.637505,
     "end_time": "2022-03-04T08:24:37.567171",
     "exception": false,
     "start_time": "2022-03-04T08:24:35.929666",
     "status": "completed"
    },
    "tags": []
   },
   "outputs": [],
   "source": [
    "def what_is(obj):\n",
    "    print(\"type:\",type(obj))\n",
    "    print(\"-\"*40+\"help\"+\"-\"*40)\n",
    "    print(help(obj))\n",
    "    print(\"-\"*40+\"dir\"+\"-\"*40)\n",
    "    print(dir(obj))\n",
    "\n",
    "\n",
    "import pandas_profiling\n",
    "def simple_eda(df):\n",
    "    \"\"\"\n",
    "    simple_eda\n",
    "    \"\"\"\n",
    "    print(\"-\"*40+\"EDA\"+\"-\"*40)\n",
    "    print(\"type:\",type(df))\n",
    "    print(\"-\"*40+\"head\"+\"-\"*40)\n",
    "    display(df.head())\n",
    "    print(\"-\"*40+\"describe\"+\"-\"*40)\n",
    "    display(df.describe())\n",
    "    print(\"-\"*40+\"info\"+\"-\"*40)\n",
    "    print(df.info())\n",
    "\n",
    "    #display(df.profile_report())"
   ]
  },
  {
   "cell_type": "markdown",
   "metadata": {
    "papermill": {
     "duration": 0.016872,
     "end_time": "2022-03-04T08:24:37.601764",
     "exception": false,
     "start_time": "2022-03-04T08:24:37.584892",
     "status": "completed"
    },
    "tags": []
   },
   "source": [
    "read data"
   ]
  },
  {
   "cell_type": "code",
   "execution_count": 6,
   "metadata": {
    "execution": {
     "iopub.execute_input": "2022-03-04T08:24:37.642323Z",
     "iopub.status.busy": "2022-03-04T08:24:37.641797Z",
     "iopub.status.idle": "2022-03-04T08:24:41.627840Z",
     "shell.execute_reply": "2022-03-04T08:24:41.627301Z"
    },
    "papermill": {
     "duration": 4.009025,
     "end_time": "2022-03-04T08:24:41.627996",
     "exception": false,
     "start_time": "2022-03-04T08:24:37.618971",
     "status": "completed"
    },
    "tags": []
   },
   "outputs": [],
   "source": [
    "train=pd.read_csv(CFG.input_path+\"train.csv\",index_col='id')\n",
    "test=pd.read_csv(CFG.input_path+\"test.csv\",index_col='id')\n",
    "sample_submission=pd.read_csv(CFG.input_path+\"sample_submission.csv\",index_col='id')\n",
    "\n",
    "if CFG.debug:\n",
    "    train=train[:len(train)//100]\n",
    "\n",
    "\n",
    "df=pd.concat([train,test])"
   ]
  },
  {
   "cell_type": "markdown",
   "metadata": {
    "papermill": {
     "duration": 0.019351,
     "end_time": "2022-03-04T08:24:41.666560",
     "exception": false,
     "start_time": "2022-03-04T08:24:41.647209",
     "status": "completed"
    },
    "tags": []
   },
   "source": [
    "simple_eda"
   ]
  },
  {
   "cell_type": "code",
   "execution_count": 7,
   "metadata": {
    "execution": {
     "iopub.execute_input": "2022-03-04T08:24:41.720971Z",
     "iopub.status.busy": "2022-03-04T08:24:41.720344Z",
     "iopub.status.idle": "2022-03-04T08:24:42.407725Z",
     "shell.execute_reply": "2022-03-04T08:24:42.408140Z"
    },
    "papermill": {
     "duration": 0.723471,
     "end_time": "2022-03-04T08:24:42.408300",
     "exception": false,
     "start_time": "2022-03-04T08:24:41.684829",
     "status": "completed"
    },
    "tags": []
   },
   "outputs": [
    {
     "name": "stdout",
     "output_type": "stream",
     "text": [
      "----------------------------------------EDA----------------------------------------\n",
      "type: <class 'pandas.core.frame.DataFrame'>\n",
      "----------------------------------------head----------------------------------------\n"
     ]
    },
    {
     "data": {
      "text/html": [
       "<div>\n",
       "<style scoped>\n",
       "    .dataframe tbody tr th:only-of-type {\n",
       "        vertical-align: middle;\n",
       "    }\n",
       "\n",
       "    .dataframe tbody tr th {\n",
       "        vertical-align: top;\n",
       "    }\n",
       "\n",
       "    .dataframe thead th {\n",
       "        text-align: right;\n",
       "    }\n",
       "</style>\n",
       "<table border=\"1\" class=\"dataframe\">\n",
       "  <thead>\n",
       "    <tr style=\"text-align: right;\">\n",
       "      <th></th>\n",
       "      <th>cat0</th>\n",
       "      <th>cat1</th>\n",
       "      <th>cat2</th>\n",
       "      <th>cat3</th>\n",
       "      <th>cat4</th>\n",
       "      <th>cat5</th>\n",
       "      <th>cat6</th>\n",
       "      <th>cat7</th>\n",
       "      <th>cat8</th>\n",
       "      <th>cat9</th>\n",
       "      <th>...</th>\n",
       "      <th>cont2</th>\n",
       "      <th>cont3</th>\n",
       "      <th>cont4</th>\n",
       "      <th>cont5</th>\n",
       "      <th>cont6</th>\n",
       "      <th>cont7</th>\n",
       "      <th>cont8</th>\n",
       "      <th>cont9</th>\n",
       "      <th>cont10</th>\n",
       "      <th>target</th>\n",
       "    </tr>\n",
       "    <tr>\n",
       "      <th>id</th>\n",
       "      <th></th>\n",
       "      <th></th>\n",
       "      <th></th>\n",
       "      <th></th>\n",
       "      <th></th>\n",
       "      <th></th>\n",
       "      <th></th>\n",
       "      <th></th>\n",
       "      <th></th>\n",
       "      <th></th>\n",
       "      <th></th>\n",
       "      <th></th>\n",
       "      <th></th>\n",
       "      <th></th>\n",
       "      <th></th>\n",
       "      <th></th>\n",
       "      <th></th>\n",
       "      <th></th>\n",
       "      <th></th>\n",
       "      <th></th>\n",
       "      <th></th>\n",
       "    </tr>\n",
       "  </thead>\n",
       "  <tbody>\n",
       "    <tr>\n",
       "      <th>0</th>\n",
       "      <td>A</td>\n",
       "      <td>I</td>\n",
       "      <td>A</td>\n",
       "      <td>B</td>\n",
       "      <td>B</td>\n",
       "      <td>BI</td>\n",
       "      <td>A</td>\n",
       "      <td>S</td>\n",
       "      <td>Q</td>\n",
       "      <td>A</td>\n",
       "      <td>...</td>\n",
       "      <td>0.759439</td>\n",
       "      <td>0.795549</td>\n",
       "      <td>0.681917</td>\n",
       "      <td>0.621672</td>\n",
       "      <td>0.592184</td>\n",
       "      <td>0.791921</td>\n",
       "      <td>0.815254</td>\n",
       "      <td>0.965006</td>\n",
       "      <td>0.665915</td>\n",
       "      <td>0</td>\n",
       "    </tr>\n",
       "    <tr>\n",
       "      <th>1</th>\n",
       "      <td>A</td>\n",
       "      <td>I</td>\n",
       "      <td>A</td>\n",
       "      <td>A</td>\n",
       "      <td>E</td>\n",
       "      <td>BI</td>\n",
       "      <td>K</td>\n",
       "      <td>W</td>\n",
       "      <td>AD</td>\n",
       "      <td>F</td>\n",
       "      <td>...</td>\n",
       "      <td>0.386385</td>\n",
       "      <td>0.541366</td>\n",
       "      <td>0.388982</td>\n",
       "      <td>0.357778</td>\n",
       "      <td>0.600044</td>\n",
       "      <td>0.408701</td>\n",
       "      <td>0.399353</td>\n",
       "      <td>0.927406</td>\n",
       "      <td>0.493729</td>\n",
       "      <td>0</td>\n",
       "    </tr>\n",
       "    <tr>\n",
       "      <th>2</th>\n",
       "      <td>A</td>\n",
       "      <td>K</td>\n",
       "      <td>A</td>\n",
       "      <td>A</td>\n",
       "      <td>E</td>\n",
       "      <td>BI</td>\n",
       "      <td>A</td>\n",
       "      <td>E</td>\n",
       "      <td>BM</td>\n",
       "      <td>L</td>\n",
       "      <td>...</td>\n",
       "      <td>0.343255</td>\n",
       "      <td>0.616352</td>\n",
       "      <td>0.793687</td>\n",
       "      <td>0.552877</td>\n",
       "      <td>0.352113</td>\n",
       "      <td>0.388835</td>\n",
       "      <td>0.412303</td>\n",
       "      <td>0.292696</td>\n",
       "      <td>0.549452</td>\n",
       "      <td>0</td>\n",
       "    </tr>\n",
       "    <tr>\n",
       "      <th>3</th>\n",
       "      <td>A</td>\n",
       "      <td>K</td>\n",
       "      <td>A</td>\n",
       "      <td>C</td>\n",
       "      <td>E</td>\n",
       "      <td>BI</td>\n",
       "      <td>A</td>\n",
       "      <td>Y</td>\n",
       "      <td>AD</td>\n",
       "      <td>F</td>\n",
       "      <td>...</td>\n",
       "      <td>0.831147</td>\n",
       "      <td>0.807807</td>\n",
       "      <td>0.800032</td>\n",
       "      <td>0.619147</td>\n",
       "      <td>0.221789</td>\n",
       "      <td>0.897617</td>\n",
       "      <td>0.633669</td>\n",
       "      <td>0.760318</td>\n",
       "      <td>0.934242</td>\n",
       "      <td>0</td>\n",
       "    </tr>\n",
       "    <tr>\n",
       "      <th>4</th>\n",
       "      <td>A</td>\n",
       "      <td>I</td>\n",
       "      <td>G</td>\n",
       "      <td>B</td>\n",
       "      <td>E</td>\n",
       "      <td>BI</td>\n",
       "      <td>C</td>\n",
       "      <td>G</td>\n",
       "      <td>Q</td>\n",
       "      <td>A</td>\n",
       "      <td>...</td>\n",
       "      <td>0.338818</td>\n",
       "      <td>0.277308</td>\n",
       "      <td>0.610578</td>\n",
       "      <td>0.128291</td>\n",
       "      <td>0.578764</td>\n",
       "      <td>0.279167</td>\n",
       "      <td>0.351103</td>\n",
       "      <td>0.357084</td>\n",
       "      <td>0.328960</td>\n",
       "      <td>1</td>\n",
       "    </tr>\n",
       "  </tbody>\n",
       "</table>\n",
       "<p>5 rows × 31 columns</p>\n",
       "</div>"
      ],
      "text/plain": [
       "   cat0 cat1 cat2 cat3 cat4 cat5 cat6 cat7 cat8 cat9  ...     cont2     cont3  \\\n",
       "id                                                    ...                       \n",
       "0     A    I    A    B    B   BI    A    S    Q    A  ...  0.759439  0.795549   \n",
       "1     A    I    A    A    E   BI    K    W   AD    F  ...  0.386385  0.541366   \n",
       "2     A    K    A    A    E   BI    A    E   BM    L  ...  0.343255  0.616352   \n",
       "3     A    K    A    C    E   BI    A    Y   AD    F  ...  0.831147  0.807807   \n",
       "4     A    I    G    B    E   BI    C    G    Q    A  ...  0.338818  0.277308   \n",
       "\n",
       "       cont4     cont5     cont6     cont7     cont8     cont9    cont10  \\\n",
       "id                                                                         \n",
       "0   0.681917  0.621672  0.592184  0.791921  0.815254  0.965006  0.665915   \n",
       "1   0.388982  0.357778  0.600044  0.408701  0.399353  0.927406  0.493729   \n",
       "2   0.793687  0.552877  0.352113  0.388835  0.412303  0.292696  0.549452   \n",
       "3   0.800032  0.619147  0.221789  0.897617  0.633669  0.760318  0.934242   \n",
       "4   0.610578  0.128291  0.578764  0.279167  0.351103  0.357084  0.328960   \n",
       "\n",
       "    target  \n",
       "id          \n",
       "0        0  \n",
       "1        0  \n",
       "2        0  \n",
       "3        0  \n",
       "4        1  \n",
       "\n",
       "[5 rows x 31 columns]"
      ]
     },
     "metadata": {},
     "output_type": "display_data"
    },
    {
     "name": "stdout",
     "output_type": "stream",
     "text": [
      "----------------------------------------describe----------------------------------------\n"
     ]
    },
    {
     "data": {
      "text/html": [
       "<div>\n",
       "<style scoped>\n",
       "    .dataframe tbody tr th:only-of-type {\n",
       "        vertical-align: middle;\n",
       "    }\n",
       "\n",
       "    .dataframe tbody tr th {\n",
       "        vertical-align: top;\n",
       "    }\n",
       "\n",
       "    .dataframe thead th {\n",
       "        text-align: right;\n",
       "    }\n",
       "</style>\n",
       "<table border=\"1\" class=\"dataframe\">\n",
       "  <thead>\n",
       "    <tr style=\"text-align: right;\">\n",
       "      <th></th>\n",
       "      <th>cont0</th>\n",
       "      <th>cont1</th>\n",
       "      <th>cont2</th>\n",
       "      <th>cont3</th>\n",
       "      <th>cont4</th>\n",
       "      <th>cont5</th>\n",
       "      <th>cont6</th>\n",
       "      <th>cont7</th>\n",
       "      <th>cont8</th>\n",
       "      <th>cont9</th>\n",
       "      <th>cont10</th>\n",
       "      <th>target</th>\n",
       "    </tr>\n",
       "  </thead>\n",
       "  <tbody>\n",
       "    <tr>\n",
       "      <th>count</th>\n",
       "      <td>300000.000000</td>\n",
       "      <td>300000.000000</td>\n",
       "      <td>300000.000000</td>\n",
       "      <td>300000.000000</td>\n",
       "      <td>300000.000000</td>\n",
       "      <td>300000.000000</td>\n",
       "      <td>300000.000000</td>\n",
       "      <td>300000.000000</td>\n",
       "      <td>300000.000000</td>\n",
       "      <td>300000.000000</td>\n",
       "      <td>300000.000000</td>\n",
       "      <td>300000.000000</td>\n",
       "    </tr>\n",
       "    <tr>\n",
       "      <th>mean</th>\n",
       "      <td>0.504749</td>\n",
       "      <td>0.494073</td>\n",
       "      <td>0.516632</td>\n",
       "      <td>0.474235</td>\n",
       "      <td>0.504848</td>\n",
       "      <td>0.502257</td>\n",
       "      <td>0.488229</td>\n",
       "      <td>0.501739</td>\n",
       "      <td>0.488074</td>\n",
       "      <td>0.469496</td>\n",
       "      <td>0.508230</td>\n",
       "      <td>0.264870</td>\n",
       "    </tr>\n",
       "    <tr>\n",
       "      <th>std</th>\n",
       "      <td>0.206788</td>\n",
       "      <td>0.213037</td>\n",
       "      <td>0.214851</td>\n",
       "      <td>0.216636</td>\n",
       "      <td>0.227474</td>\n",
       "      <td>0.241243</td>\n",
       "      <td>0.211335</td>\n",
       "      <td>0.203496</td>\n",
       "      <td>0.179048</td>\n",
       "      <td>0.194516</td>\n",
       "      <td>0.203393</td>\n",
       "      <td>0.441265</td>\n",
       "    </tr>\n",
       "    <tr>\n",
       "      <th>min</th>\n",
       "      <td>-0.049562</td>\n",
       "      <td>0.084480</td>\n",
       "      <td>0.094493</td>\n",
       "      <td>-0.045316</td>\n",
       "      <td>0.168071</td>\n",
       "      <td>-0.036379</td>\n",
       "      <td>0.005199</td>\n",
       "      <td>0.090901</td>\n",
       "      <td>0.024139</td>\n",
       "      <td>0.214866</td>\n",
       "      <td>0.097789</td>\n",
       "      <td>0.000000</td>\n",
       "    </tr>\n",
       "    <tr>\n",
       "      <th>25%</th>\n",
       "      <td>0.344985</td>\n",
       "      <td>0.317363</td>\n",
       "      <td>0.326047</td>\n",
       "      <td>0.292249</td>\n",
       "      <td>0.279303</td>\n",
       "      <td>0.276442</td>\n",
       "      <td>0.323914</td>\n",
       "      <td>0.353054</td>\n",
       "      <td>0.358915</td>\n",
       "      <td>0.309934</td>\n",
       "      <td>0.368312</td>\n",
       "      <td>0.000000</td>\n",
       "    </tr>\n",
       "    <tr>\n",
       "      <th>50%</th>\n",
       "      <td>0.479650</td>\n",
       "      <td>0.463170</td>\n",
       "      <td>0.471247</td>\n",
       "      <td>0.387564</td>\n",
       "      <td>0.479858</td>\n",
       "      <td>0.554768</td>\n",
       "      <td>0.518089</td>\n",
       "      <td>0.435404</td>\n",
       "      <td>0.410908</td>\n",
       "      <td>0.407477</td>\n",
       "      <td>0.446576</td>\n",
       "      <td>0.000000</td>\n",
       "    </tr>\n",
       "    <tr>\n",
       "      <th>75%</th>\n",
       "      <td>0.637657</td>\n",
       "      <td>0.693992</td>\n",
       "      <td>0.704625</td>\n",
       "      <td>0.644950</td>\n",
       "      <td>0.725779</td>\n",
       "      <td>0.735225</td>\n",
       "      <td>0.608537</td>\n",
       "      <td>0.642023</td>\n",
       "      <td>0.612725</td>\n",
       "      <td>0.586793</td>\n",
       "      <td>0.581957</td>\n",
       "      <td>1.000000</td>\n",
       "    </tr>\n",
       "    <tr>\n",
       "      <th>max</th>\n",
       "      <td>1.004559</td>\n",
       "      <td>1.009958</td>\n",
       "      <td>1.016600</td>\n",
       "      <td>0.952187</td>\n",
       "      <td>0.858578</td>\n",
       "      <td>0.853022</td>\n",
       "      <td>0.966553</td>\n",
       "      <td>1.035818</td>\n",
       "      <td>1.055885</td>\n",
       "      <td>1.005652</td>\n",
       "      <td>1.011331</td>\n",
       "      <td>1.000000</td>\n",
       "    </tr>\n",
       "  </tbody>\n",
       "</table>\n",
       "</div>"
      ],
      "text/plain": [
       "               cont0          cont1          cont2          cont3  \\\n",
       "count  300000.000000  300000.000000  300000.000000  300000.000000   \n",
       "mean        0.504749       0.494073       0.516632       0.474235   \n",
       "std         0.206788       0.213037       0.214851       0.216636   \n",
       "min        -0.049562       0.084480       0.094493      -0.045316   \n",
       "25%         0.344985       0.317363       0.326047       0.292249   \n",
       "50%         0.479650       0.463170       0.471247       0.387564   \n",
       "75%         0.637657       0.693992       0.704625       0.644950   \n",
       "max         1.004559       1.009958       1.016600       0.952187   \n",
       "\n",
       "               cont4          cont5          cont6          cont7  \\\n",
       "count  300000.000000  300000.000000  300000.000000  300000.000000   \n",
       "mean        0.504848       0.502257       0.488229       0.501739   \n",
       "std         0.227474       0.241243       0.211335       0.203496   \n",
       "min         0.168071      -0.036379       0.005199       0.090901   \n",
       "25%         0.279303       0.276442       0.323914       0.353054   \n",
       "50%         0.479858       0.554768       0.518089       0.435404   \n",
       "75%         0.725779       0.735225       0.608537       0.642023   \n",
       "max         0.858578       0.853022       0.966553       1.035818   \n",
       "\n",
       "               cont8          cont9         cont10         target  \n",
       "count  300000.000000  300000.000000  300000.000000  300000.000000  \n",
       "mean        0.488074       0.469496       0.508230       0.264870  \n",
       "std         0.179048       0.194516       0.203393       0.441265  \n",
       "min         0.024139       0.214866       0.097789       0.000000  \n",
       "25%         0.358915       0.309934       0.368312       0.000000  \n",
       "50%         0.410908       0.407477       0.446576       0.000000  \n",
       "75%         0.612725       0.586793       0.581957       1.000000  \n",
       "max         1.055885       1.005652       1.011331       1.000000  "
      ]
     },
     "metadata": {},
     "output_type": "display_data"
    },
    {
     "name": "stdout",
     "output_type": "stream",
     "text": [
      "----------------------------------------info----------------------------------------\n",
      "<class 'pandas.core.frame.DataFrame'>\n",
      "Int64Index: 300000 entries, 0 to 499999\n",
      "Data columns (total 31 columns):\n",
      " #   Column  Non-Null Count   Dtype  \n",
      "---  ------  --------------   -----  \n",
      " 0   cat0    300000 non-null  object \n",
      " 1   cat1    300000 non-null  object \n",
      " 2   cat2    300000 non-null  object \n",
      " 3   cat3    300000 non-null  object \n",
      " 4   cat4    300000 non-null  object \n",
      " 5   cat5    300000 non-null  object \n",
      " 6   cat6    300000 non-null  object \n",
      " 7   cat7    300000 non-null  object \n",
      " 8   cat8    300000 non-null  object \n",
      " 9   cat9    300000 non-null  object \n",
      " 10  cat10   300000 non-null  object \n",
      " 11  cat11   300000 non-null  object \n",
      " 12  cat12   300000 non-null  object \n",
      " 13  cat13   300000 non-null  object \n",
      " 14  cat14   300000 non-null  object \n",
      " 15  cat15   300000 non-null  object \n",
      " 16  cat16   300000 non-null  object \n",
      " 17  cat17   300000 non-null  object \n",
      " 18  cat18   300000 non-null  object \n",
      " 19  cont0   300000 non-null  float64\n",
      " 20  cont1   300000 non-null  float64\n",
      " 21  cont2   300000 non-null  float64\n",
      " 22  cont3   300000 non-null  float64\n",
      " 23  cont4   300000 non-null  float64\n",
      " 24  cont5   300000 non-null  float64\n",
      " 25  cont6   300000 non-null  float64\n",
      " 26  cont7   300000 non-null  float64\n",
      " 27  cont8   300000 non-null  float64\n",
      " 28  cont9   300000 non-null  float64\n",
      " 29  cont10  300000 non-null  float64\n",
      " 30  target  300000 non-null  int64  \n",
      "dtypes: float64(11), int64(1), object(19)\n",
      "memory usage: 73.2+ MB\n",
      "None\n"
     ]
    }
   ],
   "source": [
    "simple_eda(train)"
   ]
  },
  {
   "cell_type": "markdown",
   "metadata": {
    "papermill": {
     "duration": 0.019022,
     "end_time": "2022-03-04T08:24:42.447589",
     "exception": false,
     "start_time": "2022-03-04T08:24:42.428567",
     "status": "completed"
    },
    "tags": []
   },
   "source": [
    "data cleaning"
   ]
  },
  {
   "cell_type": "code",
   "execution_count": 8,
   "metadata": {
    "execution": {
     "iopub.execute_input": "2022-03-04T08:24:42.495815Z",
     "iopub.status.busy": "2022-03-04T08:24:42.494664Z",
     "iopub.status.idle": "2022-03-04T08:24:43.512867Z",
     "shell.execute_reply": "2022-03-04T08:24:43.512330Z"
    },
    "papermill": {
     "duration": 1.04618,
     "end_time": "2022-03-04T08:24:43.513040",
     "exception": false,
     "start_time": "2022-03-04T08:24:42.466860",
     "status": "completed"
    },
    "tags": []
   },
   "outputs": [],
   "source": [
    "df['cat1'] = df['cat1'].apply(lambda x: x if x in ['I', 'F', 'K', 'L','H'] else 'Z')\n",
    "df['cat2'] = df['cat2'].apply(lambda x: x if x in ['A', 'C', 'D', 'G','Q'] else 'Z')\n",
    "df['cat3'] = df['cat3'].apply(lambda x: x if x in ['A', 'B', 'C', 'D','E'] else 'Z')\n",
    "df['cat4'] = df['cat4'].apply(lambda x: x if x in ['E', 'F', 'G', 'D','H'] else 'Z')\n",
    "df['cat5'] = df['cat5'].apply(lambda x: x if x in ['BI', 'AB', 'BU', 'K','G'] else 'Z')\n",
    "df['cat6'] = df['cat6'].apply(lambda x: x if x in ['A', 'C', 'E', 'G','I'] else 'Z')\n",
    "df['cat7'] = df['cat7'].apply(lambda x: x if x in ['AH', 'E', 'AS', 'AN','J'] else 'Z')\n",
    "\n",
    "# df['cont6*cont0'] = df['cont6'] * df['cont0']\n",
    "# df['cont6*cont3'] = df['cont6'] * df['cont3']\n",
    "# df['cont6*cont7'] = df['cont6'] * df['cont7']\n",
    "# df['cont6*cont10'] = df['cont6'] * df['cont10']\n",
    "df=df.drop(columns=['cont0','cont4','cont7','cont9','cont10'])\n",
    "\n"
   ]
  },
  {
   "cell_type": "code",
   "execution_count": 9,
   "metadata": {
    "execution": {
     "iopub.execute_input": "2022-03-04T08:24:43.560693Z",
     "iopub.status.busy": "2022-03-04T08:24:43.559992Z",
     "iopub.status.idle": "2022-03-04T08:24:44.986937Z",
     "shell.execute_reply": "2022-03-04T08:24:44.987435Z"
    },
    "papermill": {
     "duration": 1.452526,
     "end_time": "2022-03-04T08:24:44.987637",
     "exception": false,
     "start_time": "2022-03-04T08:24:43.535111",
     "status": "completed"
    },
    "tags": []
   },
   "outputs": [
    {
     "name": "stdout",
     "output_type": "stream",
     "text": [
      "               0         1         2\n",
      "0       0.607247  0.091752 -0.080963\n",
      "1      -0.220798  0.019826  0.014116\n",
      "2      -0.205211  0.087878 -0.230587\n",
      "3       0.443588  0.316285 -0.224563\n",
      "4      -0.424061  0.027114  0.299719\n",
      "...          ...       ...       ...\n",
      "499995 -0.145427 -0.204953 -0.079476\n",
      "499996  0.146939  0.238371 -0.180566\n",
      "499997  0.498105 -0.221329  0.359037\n",
      "499998  0.409121 -0.091433  0.075248\n",
      "499999 -0.164825 -0.061882 -0.143437\n",
      "\n",
      "[500000 rows x 3 columns]\n"
     ]
    }
   ],
   "source": [
    "from sklearn.decomposition import PCA\n",
    "pca = PCA(n_components=3)\n",
    "pca.fit(df[numerical_columns(df)])\n",
    "\n",
    "# print(\"--- explained_variance_ratio_ ---\")\n",
    "# print(pca.explained_variance_ratio_)\n",
    "# print(\"--- components ---\")\n",
    "# print(pca.components_)\n",
    "# print(\"--- mean ---\")\n",
    "# print(pca.mean_)\n",
    "# print(\"--- covariance ---\")\n",
    "# print(pca.get_covariance())\n",
    "\n",
    "result = pca.transform(df[numerical_columns])\n",
    "result=pd.DataFrame(result)\n",
    "print(result)\n"
   ]
  },
  {
   "cell_type": "code",
   "execution_count": 10,
   "metadata": {
    "execution": {
     "iopub.execute_input": "2022-03-04T08:24:45.032314Z",
     "iopub.status.busy": "2022-03-04T08:24:45.031804Z",
     "iopub.status.idle": "2022-03-04T08:24:45.035459Z",
     "shell.execute_reply": "2022-03-04T08:24:45.035031Z"
    },
    "papermill": {
     "duration": 0.027086,
     "end_time": "2022-03-04T08:24:45.035615",
     "exception": false,
     "start_time": "2022-03-04T08:24:45.008529",
     "status": "completed"
    },
    "tags": []
   },
   "outputs": [],
   "source": [
    "# color = df.target[:len(train)].map({0:'b', 1:'r'})\n",
    "# result.plot.scatter(x=1,y=2,c=color)"
   ]
  },
  {
   "cell_type": "code",
   "execution_count": 11,
   "metadata": {
    "execution": {
     "iopub.execute_input": "2022-03-04T08:24:45.078979Z",
     "iopub.status.busy": "2022-03-04T08:24:45.078435Z",
     "iopub.status.idle": "2022-03-04T08:24:45.081942Z",
     "shell.execute_reply": "2022-03-04T08:24:45.081503Z"
    },
    "papermill": {
     "duration": 0.026316,
     "end_time": "2022-03-04T08:24:45.082052",
     "exception": false,
     "start_time": "2022-03-04T08:24:45.055736",
     "status": "completed"
    },
    "tags": []
   },
   "outputs": [],
   "source": [
    "# df=df.drop(columns=numerical_columns(df))\n",
    "# df=pd.concat([df,result],axis=1)"
   ]
  },
  {
   "cell_type": "code",
   "execution_count": 12,
   "metadata": {
    "execution": {
     "iopub.execute_input": "2022-03-04T08:24:45.146555Z",
     "iopub.status.busy": "2022-03-04T08:24:45.145748Z",
     "iopub.status.idle": "2022-03-04T08:24:45.150004Z",
     "shell.execute_reply": "2022-03-04T08:24:45.149405Z"
    },
    "papermill": {
     "duration": 0.047912,
     "end_time": "2022-03-04T08:24:45.150118",
     "exception": false,
     "start_time": "2022-03-04T08:24:45.102206",
     "status": "completed"
    },
    "tags": []
   },
   "outputs": [
    {
     "data": {
      "text/html": [
       "<div>\n",
       "<style scoped>\n",
       "    .dataframe tbody tr th:only-of-type {\n",
       "        vertical-align: middle;\n",
       "    }\n",
       "\n",
       "    .dataframe tbody tr th {\n",
       "        vertical-align: top;\n",
       "    }\n",
       "\n",
       "    .dataframe thead th {\n",
       "        text-align: right;\n",
       "    }\n",
       "</style>\n",
       "<table border=\"1\" class=\"dataframe\">\n",
       "  <thead>\n",
       "    <tr style=\"text-align: right;\">\n",
       "      <th></th>\n",
       "      <th>cat0</th>\n",
       "      <th>cat1</th>\n",
       "      <th>cat2</th>\n",
       "      <th>cat3</th>\n",
       "      <th>cat4</th>\n",
       "      <th>cat5</th>\n",
       "      <th>cat6</th>\n",
       "      <th>cat7</th>\n",
       "      <th>cat8</th>\n",
       "      <th>cat9</th>\n",
       "      <th>...</th>\n",
       "      <th>cat16</th>\n",
       "      <th>cat17</th>\n",
       "      <th>cat18</th>\n",
       "      <th>cont1</th>\n",
       "      <th>cont2</th>\n",
       "      <th>cont3</th>\n",
       "      <th>cont5</th>\n",
       "      <th>cont6</th>\n",
       "      <th>cont8</th>\n",
       "      <th>target</th>\n",
       "    </tr>\n",
       "    <tr>\n",
       "      <th>id</th>\n",
       "      <th></th>\n",
       "      <th></th>\n",
       "      <th></th>\n",
       "      <th></th>\n",
       "      <th></th>\n",
       "      <th></th>\n",
       "      <th></th>\n",
       "      <th></th>\n",
       "      <th></th>\n",
       "      <th></th>\n",
       "      <th></th>\n",
       "      <th></th>\n",
       "      <th></th>\n",
       "      <th></th>\n",
       "      <th></th>\n",
       "      <th></th>\n",
       "      <th></th>\n",
       "      <th></th>\n",
       "      <th></th>\n",
       "      <th></th>\n",
       "      <th></th>\n",
       "    </tr>\n",
       "  </thead>\n",
       "  <tbody>\n",
       "    <tr>\n",
       "      <th>0</th>\n",
       "      <td>A</td>\n",
       "      <td>I</td>\n",
       "      <td>A</td>\n",
       "      <td>B</td>\n",
       "      <td>Z</td>\n",
       "      <td>BI</td>\n",
       "      <td>A</td>\n",
       "      <td>Z</td>\n",
       "      <td>Q</td>\n",
       "      <td>A</td>\n",
       "      <td>...</td>\n",
       "      <td>D</td>\n",
       "      <td>D</td>\n",
       "      <td>B</td>\n",
       "      <td>0.855349</td>\n",
       "      <td>0.759439</td>\n",
       "      <td>0.795549</td>\n",
       "      <td>0.621672</td>\n",
       "      <td>0.592184</td>\n",
       "      <td>0.815254</td>\n",
       "      <td>0.0</td>\n",
       "    </tr>\n",
       "    <tr>\n",
       "      <th>1</th>\n",
       "      <td>A</td>\n",
       "      <td>I</td>\n",
       "      <td>A</td>\n",
       "      <td>A</td>\n",
       "      <td>E</td>\n",
       "      <td>BI</td>\n",
       "      <td>Z</td>\n",
       "      <td>Z</td>\n",
       "      <td>AD</td>\n",
       "      <td>F</td>\n",
       "      <td>...</td>\n",
       "      <td>B</td>\n",
       "      <td>D</td>\n",
       "      <td>B</td>\n",
       "      <td>0.328929</td>\n",
       "      <td>0.386385</td>\n",
       "      <td>0.541366</td>\n",
       "      <td>0.357778</td>\n",
       "      <td>0.600044</td>\n",
       "      <td>0.399353</td>\n",
       "      <td>0.0</td>\n",
       "    </tr>\n",
       "    <tr>\n",
       "      <th>2</th>\n",
       "      <td>A</td>\n",
       "      <td>K</td>\n",
       "      <td>A</td>\n",
       "      <td>A</td>\n",
       "      <td>E</td>\n",
       "      <td>BI</td>\n",
       "      <td>A</td>\n",
       "      <td>E</td>\n",
       "      <td>BM</td>\n",
       "      <td>L</td>\n",
       "      <td>...</td>\n",
       "      <td>D</td>\n",
       "      <td>D</td>\n",
       "      <td>B</td>\n",
       "      <td>0.322749</td>\n",
       "      <td>0.343255</td>\n",
       "      <td>0.616352</td>\n",
       "      <td>0.552877</td>\n",
       "      <td>0.352113</td>\n",
       "      <td>0.412303</td>\n",
       "      <td>0.0</td>\n",
       "    </tr>\n",
       "    <tr>\n",
       "      <th>3</th>\n",
       "      <td>A</td>\n",
       "      <td>K</td>\n",
       "      <td>A</td>\n",
       "      <td>C</td>\n",
       "      <td>E</td>\n",
       "      <td>BI</td>\n",
       "      <td>A</td>\n",
       "      <td>Z</td>\n",
       "      <td>AD</td>\n",
       "      <td>F</td>\n",
       "      <td>...</td>\n",
       "      <td>D</td>\n",
       "      <td>D</td>\n",
       "      <td>B</td>\n",
       "      <td>0.707663</td>\n",
       "      <td>0.831147</td>\n",
       "      <td>0.807807</td>\n",
       "      <td>0.619147</td>\n",
       "      <td>0.221789</td>\n",
       "      <td>0.633669</td>\n",
       "      <td>0.0</td>\n",
       "    </tr>\n",
       "    <tr>\n",
       "      <th>4</th>\n",
       "      <td>A</td>\n",
       "      <td>I</td>\n",
       "      <td>G</td>\n",
       "      <td>B</td>\n",
       "      <td>E</td>\n",
       "      <td>BI</td>\n",
       "      <td>C</td>\n",
       "      <td>Z</td>\n",
       "      <td>Q</td>\n",
       "      <td>A</td>\n",
       "      <td>...</td>\n",
       "      <td>B</td>\n",
       "      <td>D</td>\n",
       "      <td>B</td>\n",
       "      <td>0.274514</td>\n",
       "      <td>0.338818</td>\n",
       "      <td>0.277308</td>\n",
       "      <td>0.128291</td>\n",
       "      <td>0.578764</td>\n",
       "      <td>0.351103</td>\n",
       "      <td>1.0</td>\n",
       "    </tr>\n",
       "  </tbody>\n",
       "</table>\n",
       "<p>5 rows × 26 columns</p>\n",
       "</div>"
      ],
      "text/plain": [
       "   cat0 cat1 cat2 cat3 cat4 cat5 cat6 cat7 cat8 cat9  ... cat16 cat17 cat18  \\\n",
       "id                                                    ...                     \n",
       "0     A    I    A    B    Z   BI    A    Z    Q    A  ...     D     D     B   \n",
       "1     A    I    A    A    E   BI    Z    Z   AD    F  ...     B     D     B   \n",
       "2     A    K    A    A    E   BI    A    E   BM    L  ...     D     D     B   \n",
       "3     A    K    A    C    E   BI    A    Z   AD    F  ...     D     D     B   \n",
       "4     A    I    G    B    E   BI    C    Z    Q    A  ...     B     D     B   \n",
       "\n",
       "       cont1     cont2     cont3     cont5     cont6     cont8  target  \n",
       "id                                                                      \n",
       "0   0.855349  0.759439  0.795549  0.621672  0.592184  0.815254     0.0  \n",
       "1   0.328929  0.386385  0.541366  0.357778  0.600044  0.399353     0.0  \n",
       "2   0.322749  0.343255  0.616352  0.552877  0.352113  0.412303     0.0  \n",
       "3   0.707663  0.831147  0.807807  0.619147  0.221789  0.633669     0.0  \n",
       "4   0.274514  0.338818  0.277308  0.128291  0.578764  0.351103     1.0  \n",
       "\n",
       "[5 rows x 26 columns]"
      ]
     },
     "execution_count": 12,
     "metadata": {},
     "output_type": "execute_result"
    }
   ],
   "source": [
    "df.head()"
   ]
  },
  {
   "cell_type": "code",
   "execution_count": 13,
   "metadata": {
    "execution": {
     "iopub.execute_input": "2022-03-04T08:24:45.256299Z",
     "iopub.status.busy": "2022-03-04T08:24:45.254069Z",
     "iopub.status.idle": "2022-03-04T08:24:45.290374Z",
     "shell.execute_reply": "2022-03-04T08:24:45.289402Z"
    },
    "papermill": {
     "duration": 0.119162,
     "end_time": "2022-03-04T08:24:45.290531",
     "exception": false,
     "start_time": "2022-03-04T08:24:45.171369",
     "status": "completed"
    },
    "tags": []
   },
   "outputs": [],
   "source": [
    "train=df[:len(train)].copy()\n",
    "test=df[len(train):].copy()"
   ]
  },
  {
   "cell_type": "code",
   "execution_count": 14,
   "metadata": {
    "execution": {
     "iopub.execute_input": "2022-03-04T08:24:45.431084Z",
     "iopub.status.busy": "2022-03-04T08:24:45.391842Z",
     "iopub.status.idle": "2022-03-04T08:24:45.452691Z",
     "shell.execute_reply": "2022-03-04T08:24:45.453136Z"
    },
    "papermill": {
     "duration": 0.141146,
     "end_time": "2022-03-04T08:24:45.453287",
     "exception": false,
     "start_time": "2022-03-04T08:24:45.312141",
     "status": "completed"
    },
    "tags": []
   },
   "outputs": [
    {
     "data": {
      "text/plain": [
       "Index(['cont1', 'cont2', 'cont3', 'cont5', 'cont6', 'cont8'], dtype='object')"
      ]
     },
     "execution_count": 14,
     "metadata": {},
     "output_type": "execute_result"
    }
   ],
   "source": [
    "numerical_columns(train)"
   ]
  },
  {
   "cell_type": "markdown",
   "metadata": {
    "papermill": {
     "duration": 0.021318,
     "end_time": "2022-03-04T08:24:45.496028",
     "exception": false,
     "start_time": "2022-03-04T08:24:45.474710",
     "status": "completed"
    },
    "tags": []
   },
   "source": [
    "feature engineering"
   ]
  },
  {
   "cell_type": "code",
   "execution_count": null,
   "metadata": {
    "papermill": {
     "duration": 0.020983,
     "end_time": "2022-03-04T08:24:45.538290",
     "exception": false,
     "start_time": "2022-03-04T08:24:45.517307",
     "status": "completed"
    },
    "tags": []
   },
   "outputs": [],
   "source": [
    "\n"
   ]
  },
  {
   "cell_type": "code",
   "execution_count": 15,
   "metadata": {
    "execution": {
     "iopub.execute_input": "2022-03-04T08:24:45.747336Z",
     "iopub.status.busy": "2022-03-04T08:24:45.675106Z",
     "iopub.status.idle": "2022-03-04T08:24:49.587690Z",
     "shell.execute_reply": "2022-03-04T08:24:49.587157Z"
    },
    "papermill": {
     "duration": 4.028302,
     "end_time": "2022-03-04T08:24:49.587826",
     "exception": false,
     "start_time": "2022-03-04T08:24:45.559524",
     "status": "completed"
    },
    "tags": []
   },
   "outputs": [
    {
     "name": "stdout",
     "output_type": "stream",
     "text": [
      "Index(['cat0', 'cat1', 'cat2', 'cat3', 'cat4', 'cat5', 'cat6', 'cat7', 'cat8',\n",
      "       'cat9', 'cat10', 'cat11', 'cat12', 'cat13', 'cat14', 'cat15', 'cat16',\n",
      "       'cat17', 'cat18'],\n",
      "      dtype='object')\n"
     ]
    }
   ],
   "source": [
    "from sklearn.preprocessing import LabelEncoder\n",
    "\n",
    "print(categorical_columns(df))\n",
    "for col in categorical_columns(df):\n",
    "    le = LabelEncoder()\n",
    "    le.fit(df[col])\n",
    "\n",
    "    train[col]=le.transform(train[col])\n",
    "    test[col]=le.transform(test[col])\n"
   ]
  },
  {
   "cell_type": "markdown",
   "metadata": {
    "papermill": {
     "duration": 0.021577,
     "end_time": "2022-03-04T08:24:49.631986",
     "exception": false,
     "start_time": "2022-03-04T08:24:49.610409",
     "status": "completed"
    },
    "tags": []
   },
   "source": [
    "model"
   ]
  },
  {
   "cell_type": "code",
   "execution_count": 16,
   "metadata": {
    "execution": {
     "iopub.execute_input": "2022-03-04T08:24:49.681472Z",
     "iopub.status.busy": "2022-03-04T08:24:49.680958Z",
     "iopub.status.idle": "2022-03-04T08:24:49.700538Z",
     "shell.execute_reply": "2022-03-04T08:24:49.699655Z"
    },
    "papermill": {
     "duration": 0.047036,
     "end_time": "2022-03-04T08:24:49.700704",
     "exception": false,
     "start_time": "2022-03-04T08:24:49.653668",
     "status": "completed"
    },
    "tags": []
   },
   "outputs": [
    {
     "data": {
      "text/html": [
       "<div>\n",
       "<style scoped>\n",
       "    .dataframe tbody tr th:only-of-type {\n",
       "        vertical-align: middle;\n",
       "    }\n",
       "\n",
       "    .dataframe tbody tr th {\n",
       "        vertical-align: top;\n",
       "    }\n",
       "\n",
       "    .dataframe thead th {\n",
       "        text-align: right;\n",
       "    }\n",
       "</style>\n",
       "<table border=\"1\" class=\"dataframe\">\n",
       "  <thead>\n",
       "    <tr style=\"text-align: right;\">\n",
       "      <th></th>\n",
       "      <th>cat0</th>\n",
       "      <th>cat1</th>\n",
       "      <th>cat2</th>\n",
       "      <th>cat3</th>\n",
       "      <th>cat4</th>\n",
       "      <th>cat5</th>\n",
       "      <th>cat6</th>\n",
       "      <th>cat7</th>\n",
       "      <th>cat8</th>\n",
       "      <th>cat9</th>\n",
       "      <th>...</th>\n",
       "      <th>cat16</th>\n",
       "      <th>cat17</th>\n",
       "      <th>cat18</th>\n",
       "      <th>cont1</th>\n",
       "      <th>cont2</th>\n",
       "      <th>cont3</th>\n",
       "      <th>cont5</th>\n",
       "      <th>cont6</th>\n",
       "      <th>cont8</th>\n",
       "      <th>target</th>\n",
       "    </tr>\n",
       "    <tr>\n",
       "      <th>id</th>\n",
       "      <th></th>\n",
       "      <th></th>\n",
       "      <th></th>\n",
       "      <th></th>\n",
       "      <th></th>\n",
       "      <th></th>\n",
       "      <th></th>\n",
       "      <th></th>\n",
       "      <th></th>\n",
       "      <th></th>\n",
       "      <th></th>\n",
       "      <th></th>\n",
       "      <th></th>\n",
       "      <th></th>\n",
       "      <th></th>\n",
       "      <th></th>\n",
       "      <th></th>\n",
       "      <th></th>\n",
       "      <th></th>\n",
       "      <th></th>\n",
       "      <th></th>\n",
       "    </tr>\n",
       "  </thead>\n",
       "  <tbody>\n",
       "    <tr>\n",
       "      <th>0</th>\n",
       "      <td>0</td>\n",
       "      <td>2</td>\n",
       "      <td>0</td>\n",
       "      <td>1</td>\n",
       "      <td>5</td>\n",
       "      <td>1</td>\n",
       "      <td>0</td>\n",
       "      <td>5</td>\n",
       "      <td>54</td>\n",
       "      <td>0</td>\n",
       "      <td>...</td>\n",
       "      <td>3</td>\n",
       "      <td>3</td>\n",
       "      <td>1</td>\n",
       "      <td>0.855349</td>\n",
       "      <td>0.759439</td>\n",
       "      <td>0.795549</td>\n",
       "      <td>0.621672</td>\n",
       "      <td>0.592184</td>\n",
       "      <td>0.815254</td>\n",
       "      <td>0.0</td>\n",
       "    </tr>\n",
       "    <tr>\n",
       "      <th>1</th>\n",
       "      <td>0</td>\n",
       "      <td>2</td>\n",
       "      <td>0</td>\n",
       "      <td>0</td>\n",
       "      <td>1</td>\n",
       "      <td>1</td>\n",
       "      <td>5</td>\n",
       "      <td>5</td>\n",
       "      <td>3</td>\n",
       "      <td>5</td>\n",
       "      <td>...</td>\n",
       "      <td>1</td>\n",
       "      <td>3</td>\n",
       "      <td>1</td>\n",
       "      <td>0.328929</td>\n",
       "      <td>0.386385</td>\n",
       "      <td>0.541366</td>\n",
       "      <td>0.357778</td>\n",
       "      <td>0.600044</td>\n",
       "      <td>0.399353</td>\n",
       "      <td>0.0</td>\n",
       "    </tr>\n",
       "    <tr>\n",
       "      <th>2</th>\n",
       "      <td>0</td>\n",
       "      <td>3</td>\n",
       "      <td>0</td>\n",
       "      <td>0</td>\n",
       "      <td>1</td>\n",
       "      <td>1</td>\n",
       "      <td>0</td>\n",
       "      <td>3</td>\n",
       "      <td>38</td>\n",
       "      <td>9</td>\n",
       "      <td>...</td>\n",
       "      <td>3</td>\n",
       "      <td>3</td>\n",
       "      <td>1</td>\n",
       "      <td>0.322749</td>\n",
       "      <td>0.343255</td>\n",
       "      <td>0.616352</td>\n",
       "      <td>0.552877</td>\n",
       "      <td>0.352113</td>\n",
       "      <td>0.412303</td>\n",
       "      <td>0.0</td>\n",
       "    </tr>\n",
       "    <tr>\n",
       "      <th>3</th>\n",
       "      <td>0</td>\n",
       "      <td>3</td>\n",
       "      <td>0</td>\n",
       "      <td>2</td>\n",
       "      <td>1</td>\n",
       "      <td>1</td>\n",
       "      <td>0</td>\n",
       "      <td>5</td>\n",
       "      <td>3</td>\n",
       "      <td>5</td>\n",
       "      <td>...</td>\n",
       "      <td>3</td>\n",
       "      <td>3</td>\n",
       "      <td>1</td>\n",
       "      <td>0.707663</td>\n",
       "      <td>0.831147</td>\n",
       "      <td>0.807807</td>\n",
       "      <td>0.619147</td>\n",
       "      <td>0.221789</td>\n",
       "      <td>0.633669</td>\n",
       "      <td>0.0</td>\n",
       "    </tr>\n",
       "    <tr>\n",
       "      <th>4</th>\n",
       "      <td>0</td>\n",
       "      <td>2</td>\n",
       "      <td>3</td>\n",
       "      <td>1</td>\n",
       "      <td>1</td>\n",
       "      <td>1</td>\n",
       "      <td>1</td>\n",
       "      <td>5</td>\n",
       "      <td>54</td>\n",
       "      <td>0</td>\n",
       "      <td>...</td>\n",
       "      <td>1</td>\n",
       "      <td>3</td>\n",
       "      <td>1</td>\n",
       "      <td>0.274514</td>\n",
       "      <td>0.338818</td>\n",
       "      <td>0.277308</td>\n",
       "      <td>0.128291</td>\n",
       "      <td>0.578764</td>\n",
       "      <td>0.351103</td>\n",
       "      <td>1.0</td>\n",
       "    </tr>\n",
       "  </tbody>\n",
       "</table>\n",
       "<p>5 rows × 26 columns</p>\n",
       "</div>"
      ],
      "text/plain": [
       "    cat0  cat1  cat2  cat3  cat4  cat5  cat6  cat7  cat8  cat9  ...  cat16  \\\n",
       "id                                                              ...          \n",
       "0      0     2     0     1     5     1     0     5    54     0  ...      3   \n",
       "1      0     2     0     0     1     1     5     5     3     5  ...      1   \n",
       "2      0     3     0     0     1     1     0     3    38     9  ...      3   \n",
       "3      0     3     0     2     1     1     0     5     3     5  ...      3   \n",
       "4      0     2     3     1     1     1     1     5    54     0  ...      1   \n",
       "\n",
       "    cat17  cat18     cont1     cont2     cont3     cont5     cont6     cont8  \\\n",
       "id                                                                             \n",
       "0       3      1  0.855349  0.759439  0.795549  0.621672  0.592184  0.815254   \n",
       "1       3      1  0.328929  0.386385  0.541366  0.357778  0.600044  0.399353   \n",
       "2       3      1  0.322749  0.343255  0.616352  0.552877  0.352113  0.412303   \n",
       "3       3      1  0.707663  0.831147  0.807807  0.619147  0.221789  0.633669   \n",
       "4       3      1  0.274514  0.338818  0.277308  0.128291  0.578764  0.351103   \n",
       "\n",
       "    target  \n",
       "id          \n",
       "0      0.0  \n",
       "1      0.0  \n",
       "2      0.0  \n",
       "3      0.0  \n",
       "4      1.0  \n",
       "\n",
       "[5 rows x 26 columns]"
      ]
     },
     "execution_count": 16,
     "metadata": {},
     "output_type": "execute_result"
    }
   ],
   "source": [
    "train.head()"
   ]
  },
  {
   "cell_type": "markdown",
   "metadata": {
    "papermill": {
     "duration": 0.023641,
     "end_time": "2022-03-04T08:24:49.747585",
     "exception": false,
     "start_time": "2022-03-04T08:24:49.723944",
     "status": "completed"
    },
    "tags": []
   },
   "source": [
    "eval"
   ]
  },
  {
   "cell_type": "code",
   "execution_count": 17,
   "metadata": {
    "execution": {
     "iopub.execute_input": "2022-03-04T08:24:49.797713Z",
     "iopub.status.busy": "2022-03-04T08:24:49.797167Z",
     "iopub.status.idle": "2022-03-04T08:24:49.801017Z",
     "shell.execute_reply": "2022-03-04T08:24:49.800412Z"
    },
    "papermill": {
     "duration": 0.031271,
     "end_time": "2022-03-04T08:24:49.801134",
     "exception": false,
     "start_time": "2022-03-04T08:24:49.769863",
     "status": "completed"
    },
    "tags": []
   },
   "outputs": [],
   "source": [
    "from sklearn.metrics import roc_curve,auc\n",
    "def get_score(y_pred,y):\n",
    "\n",
    "    fpr, tpr, thresholds = roc_curve(y, y_pred)\n",
    "    score = auc(fpr, tpr)\n",
    "    \n",
    "    # ROC曲線をプロット\n",
    "    plt.plot(fpr, tpr, label='ROC curve (area = %.2f)'%score)\n",
    "    plt.legend()\n",
    "    plt.title('ROC curve')\n",
    "    plt.xlabel('False Positive Rate')\n",
    "    plt.ylabel('True Positive Rate')\n",
    "    plt.grid(True)\n",
    "\n",
    "    return score"
   ]
  },
  {
   "cell_type": "code",
   "execution_count": 18,
   "metadata": {
    "execution": {
     "iopub.execute_input": "2022-03-04T08:24:49.854375Z",
     "iopub.status.busy": "2022-03-04T08:24:49.853803Z",
     "iopub.status.idle": "2022-03-04T08:24:49.856871Z",
     "shell.execute_reply": "2022-03-04T08:24:49.856437Z"
    },
    "papermill": {
     "duration": 0.033387,
     "end_time": "2022-03-04T08:24:49.856981",
     "exception": false,
     "start_time": "2022-03-04T08:24:49.823594",
     "status": "completed"
    },
    "tags": []
   },
   "outputs": [],
   "source": [
    "from sklearn.model_selection import KFold\n",
    "from sklearn.model_selection import cross_val_score\n",
    "\n",
    "# from tqdm.notebook import tqdm #peogress bar\n",
    "\n",
    "def cross_validation(X,y,model,test_X=None,NUM_FOLDS=5):\n",
    "\n",
    "    kf = KFold(n_splits=NUM_FOLDS, shuffle=True,random_state=0)\n",
    "    \n",
    "    scores=[]\n",
    "    test_preds = [0]*len(test_X)\n",
    "        \n",
    "    for fold_cnt, (tr_idx, val_idx) in enumerate(kf.split(X,y)):\n",
    "            \n",
    "        #tqdm(enumerate(kf.split(x, y))):\n",
    "            \n",
    "        print(f\"FOLD:{fold_cnt}\")\n",
    "        #print(tr_idx,val_idx)\n",
    "\n",
    "        tr_x, va_x = X.iloc[tr_idx][:], X.iloc[val_idx][:]\n",
    "        tr_y, va_y = y.iloc[tr_idx][:], y.iloc[val_idx][:]\n",
    "\n",
    "        tr_y=np.ravel(tr_y)#reshape 1d\n",
    "\n",
    "        model.fit(tr_x, tr_y)\n",
    "\n",
    "        #temp_oof = model.predict(va_x)\n",
    "        pre=model.predict(va_x)\n",
    "\n",
    "        #pre=[x>0.5 for x in pre]\n",
    "        score=get_score(pre, va_y)\n",
    "        print(Color.GREEN,score,Color.END,sep='')\n",
    "        scores.append(score)\n",
    "\n",
    "        test_preds += model.predict(test_X)/NUM_FOLDS\n",
    "    \n",
    "    print(\"ave:\",np.average(scores))\n",
    "    #return np.average(scores)\n",
    "    return test_preds"
   ]
  },
  {
   "cell_type": "code",
   "execution_count": 19,
   "metadata": {
    "execution": {
     "iopub.execute_input": "2022-03-04T08:24:49.910627Z",
     "iopub.status.busy": "2022-03-04T08:24:49.910075Z",
     "iopub.status.idle": "2022-03-04T08:47:34.564032Z",
     "shell.execute_reply": "2022-03-04T08:47:34.563593Z"
    },
    "papermill": {
     "duration": 1364.684799,
     "end_time": "2022-03-04T08:47:34.564193",
     "exception": false,
     "start_time": "2022-03-04T08:24:49.879394",
     "status": "completed"
    },
    "tags": []
   },
   "outputs": [
    {
     "name": "stdout",
     "output_type": "stream",
     "text": [
      "FOLD:0\n",
      "\u001b[32m0.8798832740219371\u001b[0m\n",
      "FOLD:1\n",
      "\u001b[32m0.8835020705096547\u001b[0m\n",
      "FOLD:2\n",
      "\u001b[32m0.8808891463605812\u001b[0m\n",
      "FOLD:3\n",
      "\u001b[32m0.8831173374581176\u001b[0m\n",
      "FOLD:4\n",
      "\u001b[32m0.8816648538690455\u001b[0m\n",
      "ave: 0.8818113364438671\n"
     ]
    },
    {
     "data": {
      "image/png": "[encoded data removed]",
      "text/plain": [
       "<Figure size 576x396 with 1 Axes>"
      ]
     },
     "metadata": {},
     "output_type": "display_data"
    }
   ],
   "source": [
    "\n",
    "from xgboost import XGBRegressor\n",
    "\n",
    "\n",
    "xgb_params = {\n",
    "    'booster':'gbtree',\n",
    "    'n_estimators':2000,\n",
    "    'max_depth':4, \n",
    "    'eta':0.008,\n",
    "    'gamma':3.5,\n",
    "    'objective':'reg:squarederror',\n",
    "    'verbosity':0,\n",
    "    'subsample':0.75,\n",
    "    'colsample_bytree':0.35,\n",
    "    'reg_lambda':0.23,\n",
    "    'reg_alpha':0.52,\n",
    "    'scale_pos_weight':1,\n",
    "    #'eval_metric':'auc',\n",
    "    'seed': CFG.seed,\n",
    "    # 'tree_method':'gpu_hist',\n",
    "    # 'gpu_id':0\n",
    "}\n",
    "model=XGBRegressor(**xgb_params)\n",
    "\n",
    "train[target_columns].head()\n",
    "xgb_y_pred=cross_validation(train[feature_columns(train)],train[target_columns],model,test[feature_columns(test)])"
   ]
  },
  {
   "cell_type": "code",
   "execution_count": 20,
   "metadata": {
    "execution": {
     "iopub.execute_input": "2022-03-04T08:47:34.622270Z",
     "iopub.status.busy": "2022-03-04T08:47:34.621567Z",
     "iopub.status.idle": "2022-03-04T08:55:53.659823Z",
     "shell.execute_reply": "2022-03-04T08:55:53.660328Z"
    },
    "papermill": {
     "duration": 499.06987,
     "end_time": "2022-03-04T08:55:53.660487",
     "exception": false,
     "start_time": "2022-03-04T08:47:34.590617",
     "status": "completed"
    },
    "tags": []
   },
   "outputs": [
    {
     "name": "stdout",
     "output_type": "stream",
     "text": [
      "FOLD:0\n",
      "\u001b[32m0.8634624137190579\u001b[0m\n",
      "FOLD:1\n",
      "\u001b[32m0.8673435120446944\u001b[0m\n",
      "FOLD:2\n",
      "\u001b[32m0.8641400945867364\u001b[0m\n",
      "FOLD:3\n",
      "\u001b[32m0.8664299045494768\u001b[0m\n",
      "FOLD:4\n",
      "\u001b[32m0.8648232339822904\u001b[0m\n",
      "ave: 0.8652398317764511\n"
     ]
    },
    {
     "data": {
      "image/png": "[encoded data removed]",
      "text/plain": [
       "<Figure size 576x396 with 1 Axes>"
      ]
     },
     "metadata": {},
     "output_type": "display_data"
    }
   ],
   "source": [
    "from sklearn.ensemble import RandomForestRegressor\n",
    "random_forest_params = {\n",
    "    'n_estimators':100,\n",
    "    #'criterion':'mae',\n",
    "    'max_depth':6,\n",
    "    'min_samples_split':5,\n",
    "\n",
    "}\n",
    "model=RandomForestRegressor(**random_forest_params)\n",
    "rf_y_pred=cross_validation(train[feature_columns],train[target_columns],model,test[feature_columns])"
   ]
  },
  {
   "cell_type": "code",
   "execution_count": 21,
   "metadata": {
    "execution": {
     "iopub.execute_input": "2022-03-04T08:55:53.726926Z",
     "iopub.status.busy": "2022-03-04T08:55:53.726386Z",
     "iopub.status.idle": "2022-03-04T08:56:13.218854Z",
     "shell.execute_reply": "2022-03-04T08:56:13.219248Z"
    },
    "papermill": {
     "duration": 19.528278,
     "end_time": "2022-03-04T08:56:13.219402",
     "exception": false,
     "start_time": "2022-03-04T08:55:53.691124",
     "status": "completed"
    },
    "tags": []
   },
   "outputs": [
    {
     "data": {
      "text/html": [
       "<style type='text/css'>\n",
       ".datatable table.frame { margin-bottom: 0; }\n",
       ".datatable table.frame thead { border-bottom: none; }\n",
       ".datatable table.frame tr.coltypes td {  color: #FFFFFF;  line-height: 6px;  padding: 0 0.5em;}\n",
       ".datatable .bool    { background: #DDDD99; }\n",
       ".datatable .object  { background: #565656; }\n",
       ".datatable .int     { background: #5D9E5D; }\n",
       ".datatable .float   { background: #4040CC; }\n",
       ".datatable .str     { background: #CC4040; }\n",
       ".datatable .row_index {  background: var(--jp-border-color3);  border-right: 1px solid var(--jp-border-color0);  color: var(--jp-ui-font-color3);  font-size: 9px;}\n",
       ".datatable .frame tr.coltypes .row_index {  background: var(--jp-border-color0);}\n",
       ".datatable th:nth-child(2) { padding-left: 12px; }\n",
       ".datatable .hellipsis {  color: var(--jp-cell-editor-border-color);}\n",
       ".datatable .vellipsis {  background: var(--jp-layout-color0);  color: var(--jp-cell-editor-border-color);}\n",
       ".datatable .na {  color: var(--jp-cell-editor-border-color);  font-size: 80%;}\n",
       ".datatable .footer { font-size: 9px; }\n",
       ".datatable .frame_dimensions {  background: var(--jp-border-color3);  border-top: 1px solid var(--jp-border-color0);  color: var(--jp-ui-font-color3);  display: inline-block;  opacity: 0.6;  padding: 1px 10px 1px 5px;}\n",
       "</style>\n"
      ],
      "text/plain": [
       "<IPython.core.display.HTML object>"
      ]
     },
     "metadata": {},
     "output_type": "display_data"
    },
    {
     "name": "stdout",
     "output_type": "stream",
     "text": [
      "FOLD:0\n",
      "\u001b[32m0.8833750029725687\u001b[0m\n",
      "FOLD:1\n",
      "\u001b[32m0.8868926651071903\u001b[0m\n",
      "FOLD:2\n",
      "\u001b[32m0.8839963225303464\u001b[0m\n",
      "FOLD:3\n",
      "\u001b[32m0.8866424142861274\u001b[0m\n",
      "FOLD:4\n",
      "\u001b[32m0.8852707337743878\u001b[0m\n",
      "ave: 0.8852354277341241\n"
     ]
    },
    {
     "data": {
      "image/png": "[encoded data removed]",
      "text/plain": [
       "<Figure size 576x396 with 1 Axes>"
      ]
     },
     "metadata": {},
     "output_type": "display_data"
    }
   ],
   "source": [
    "from lightgbm import LGBMRegressor\n",
    "\n",
    "lgbm_params = {\n",
    "    'booster':'gbtree',\n",
    "    'n_estimators':2000,\n",
    "    'max_depth':100, \n",
    "    'eta':0.08,\n",
    "    'gamma':3.5,\n",
    "    'objective':'reg:squarederror',\n",
    "    'verbosity':0,\n",
    "    'subsample':0.75,\n",
    "    # 'colsample_bytree':0.35,\n",
    "    # 'reg_lambda':0.23,\n",
    "    'reg_alpha':0.52,\n",
    "    'scale_pos_weight':1,\n",
    "    'eval_metric':'auc',\n",
    "    'seed': 42,\n",
    "    'tree_method':'gpu_hist',\n",
    "    'gpu_id':0\n",
    "}\n",
    "model=LGBMRegressor()#(**lgbm_params)\n",
    "lgbm_y_pred=cross_validation(train[feature_columns],train[target_columns],model,test[feature_columns])"
   ]
  },
  {
   "cell_type": "markdown",
   "metadata": {
    "papermill": {
     "duration": 0.034089,
     "end_time": "2022-03-04T08:56:13.288572",
     "exception": false,
     "start_time": "2022-03-04T08:56:13.254483",
     "status": "completed"
    },
    "tags": []
   },
   "source": [
    "optuna"
   ]
  },
  {
   "cell_type": "code",
   "execution_count": 22,
   "metadata": {
    "execution": {
     "iopub.execute_input": "2022-03-04T08:56:13.364719Z",
     "iopub.status.busy": "2022-03-04T08:56:13.363789Z",
     "iopub.status.idle": "2022-03-04T08:56:13.366096Z",
     "shell.execute_reply": "2022-03-04T08:56:13.366478Z"
    },
    "papermill": {
     "duration": 0.042002,
     "end_time": "2022-03-04T08:56:13.366623",
     "exception": false,
     "start_time": "2022-03-04T08:56:13.324621",
     "status": "completed"
    },
    "tags": []
   },
   "outputs": [],
   "source": [
    "# #import optuna\n",
    "\n",
    "# # Define an objective function to be minimized.\n",
    "# def objective(trial):\n",
    "\n",
    "#     # Invoke suggest methods of a Trial object to generate hyperparameters.\n",
    "#     regressor_name = trial.suggest_categorical('classifier', ['xgb', 'RandomForest'])\n",
    "#     if regressor_name == 'xgb':\n",
    "#         n_estimators = trial.suggest_int('n_estimators', 2,20000)\n",
    "#         max_depth = trial.suggest_int('max_depth', 2,10)\n",
    "#         eta = trial.suggest_float('eta', 0.000001,1)\n",
    "#         gamma = trial.suggest_float('gamma', 1,10)\n",
    "#         regressor_obj = XGBRegressor(\n",
    "#             n_estimators=n_estimators,\n",
    "#             max_depth=max_depth,\n",
    "#             eta=eta,\n",
    "#             gamma=gamma,\n",
    "#             #eval_metric='auc',\n",
    "#         )\n",
    "#     else:\n",
    "#         n_estimators = trial.suggest_int('n_estimators', 2, 32)\n",
    "#         regressor_obj = RandomForestRegressor(n_estimators=n_estimators)\n",
    "\n",
    "#     # X, y = sklearn.datasets.load_boston(return_X_y=True)\n",
    "#     # X_train, X_val, y_train, y_val = sklearn.model_selection.train_test_split(X, y, random_state=0)\n",
    "\n",
    "#     # regressor_obj.fit(X_train, y_train)\n",
    "#     # y_pred = regressor_obj.predict(X_val)\n",
    "\n",
    "#     # error = sklearn.metrics.mean_squared_error(y_val, y_pred)\n",
    "\n",
    "#     #return error  # An objective value linked with the Trial object.\n",
    "#     return cross_validation(train[feature_columns],train[target_columns],regressor_obj)\n",
    "\n",
    "# study = optuna.create_study(direction='maximize')  # Create a new study.\n",
    "# study.optimize(objective, n_trials=100)  # Invoke optimization of the objective function."
   ]
  },
  {
   "cell_type": "code",
   "execution_count": 23,
   "metadata": {
    "execution": {
     "iopub.execute_input": "2022-03-04T08:56:13.440993Z",
     "iopub.status.busy": "2022-03-04T08:56:13.440257Z",
     "iopub.status.idle": "2022-03-04T08:56:13.443047Z",
     "shell.execute_reply": "2022-03-04T08:56:13.442598Z"
    },
    "papermill": {
     "duration": 0.040917,
     "end_time": "2022-03-04T08:56:13.443159",
     "exception": false,
     "start_time": "2022-03-04T08:56:13.402242",
     "status": "completed"
    },
    "tags": []
   },
   "outputs": [],
   "source": [
    "# print(study.best_params)\n",
    "# print(study.best_value)"
   ]
  },
  {
   "cell_type": "code",
   "execution_count": 24,
   "metadata": {
    "execution": {
     "iopub.execute_input": "2022-03-04T08:56:13.520388Z",
     "iopub.status.busy": "2022-03-04T08:56:13.519653Z",
     "iopub.status.idle": "2022-03-04T08:56:14.365796Z",
     "shell.execute_reply": "2022-03-04T08:56:14.366185Z"
    },
    "papermill": {
     "duration": 0.887838,
     "end_time": "2022-03-04T08:56:14.366339",
     "exception": false,
     "start_time": "2022-03-04T08:56:13.478501",
     "status": "completed"
    },
    "tags": []
   },
   "outputs": [
    {
     "data": {
      "text/html": [
       "<div>\n",
       "<style scoped>\n",
       "    .dataframe tbody tr th:only-of-type {\n",
       "        vertical-align: middle;\n",
       "    }\n",
       "\n",
       "    .dataframe tbody tr th {\n",
       "        vertical-align: top;\n",
       "    }\n",
       "\n",
       "    .dataframe thead th {\n",
       "        text-align: right;\n",
       "    }\n",
       "</style>\n",
       "<table border=\"1\" class=\"dataframe\">\n",
       "  <thead>\n",
       "    <tr style=\"text-align: right;\">\n",
       "      <th></th>\n",
       "      <th>id</th>\n",
       "      <th>target</th>\n",
       "    </tr>\n",
       "  </thead>\n",
       "  <tbody>\n",
       "    <tr>\n",
       "      <th>0</th>\n",
       "      <td>5</td>\n",
       "      <td>0.104615</td>\n",
       "    </tr>\n",
       "    <tr>\n",
       "      <th>1</th>\n",
       "      <td>6</td>\n",
       "      <td>0.543298</td>\n",
       "    </tr>\n",
       "    <tr>\n",
       "      <th>2</th>\n",
       "      <td>8</td>\n",
       "      <td>0.093882</td>\n",
       "    </tr>\n",
       "    <tr>\n",
       "      <th>3</th>\n",
       "      <td>9</td>\n",
       "      <td>0.132026</td>\n",
       "    </tr>\n",
       "    <tr>\n",
       "      <th>4</th>\n",
       "      <td>11</td>\n",
       "      <td>0.146059</td>\n",
       "    </tr>\n",
       "  </tbody>\n",
       "</table>\n",
       "</div>"
      ],
      "text/plain": [
       "   id    target\n",
       "0   5  0.104615\n",
       "1   6  0.543298\n",
       "2   8  0.093882\n",
       "3   9  0.132026\n",
       "4  11  0.146059"
      ]
     },
     "execution_count": 24,
     "metadata": {},
     "output_type": "execute_result"
    }
   ],
   "source": [
    "submission=pd.DataFrame(columns=['id','target'])\n",
    "\n",
    "submission.id=test.index\n",
    "submission.target=(xgb_y_pred*5+rf_y_pred*2+lgbm_y_pred)/8\n",
    "submission.to_csv(\"submission.csv\",index=False)\n",
    "\n",
    "submission.head()\n"
   ]
  }
 ],
 "metadata": {
  "kernelspec": {
   "display_name": "Python 3",
   "language": "python",
   "name": "python3"
  },
  "language_info": {
   "codemirror_mode": {
    "name": "ipython",
    "version": 3
   },
   "file_extension": ".py",
   "mimetype": "text/x-python",
   "name": "python",
   "nbconvert_exporter": "python",
   "pygments_lexer": "ipython3",
   "version": "3.7.9"
  },
  "papermill": {
   "default_parameters": {},
   "duration": 1904.503759,
   "end_time": "2022-03-04T08:56:15.413961",
   "environment_variables": {},
   "exception": null,
   "input_path": "__notebook__.ipynb",
   "output_path": "__notebook__.ipynb",
   "parameters": {},
   "start_time": "2022-03-04T08:24:30.910202",
   "version": "2.2.2"
  }
 },
 "nbformat": 4,
 "nbformat_minor": 4
}
