{
 "cells": [
  {
   "cell_type": "markdown",
   "id": "6d1b9484",
   "metadata": {
    "papermill": {
     "duration": 0.071001,
     "end_time": "2022-03-01T09:08:43.208252",
     "exception": false,
     "start_time": "2022-03-01T09:08:43.137251",
     "status": "completed"
    },
    "tags": []
   },
   "source": [
    "<h1>template notebook</h1>"
   ]
  },
  {
   "cell_type": "markdown",
   "id": "11ccc6d6",
   "metadata": {
    "papermill": {
     "duration": 0.061014,
     "end_time": "2022-03-01T09:08:43.335807",
     "exception": false,
     "start_time": "2022-03-01T09:08:43.274793",
     "status": "completed"
    },
    "tags": []
   },
   "source": [
    "import libraries"
   ]
  },
  {
   "cell_type": "code",
   "execution_count": 1,
   "id": "2b83c629",
   "metadata": {
    "_kg_hide-input": true,
    "execution": {
     "iopub.execute_input": "2022-03-01T09:08:43.480183Z",
     "iopub.status.busy": "2022-03-01T09:08:43.478967Z",
     "iopub.status.idle": "2022-03-01T09:08:46.731264Z",
     "shell.execute_reply": "2022-03-01T09:08:46.730469Z",
     "shell.execute_reply.started": "2022-03-01T09:01:21.970283Z"
    },
    "papermill": {
     "duration": 3.332998,
     "end_time": "2022-03-01T09:08:46.731438",
     "exception": false,
     "start_time": "2022-03-01T09:08:43.398440",
     "status": "completed"
    },
    "tags": []
   },
   "outputs": [],
   "source": [
    "#defaul libraries\n",
    "#https://docs.python.org/ja/\n",
    "import os\n",
    "import sys\n",
    "import io\n",
    "\n",
    "import math\n",
    "import random\n",
    "import pprint\n",
    "import time\n",
    "import datetime\n",
    "import typing\n",
    "import json\n",
    "import glob\n",
    "import requests\n",
    "import warnings\n",
    "import gc\n",
    "from pprint import pprint\n",
    "import re\n",
    "\n",
    "import numpy as np #https://numpy.org/\n",
    "import pandas as pd #https://pandas.pydata.org/\n",
    "import sklearn #https://scikit-learn.org/stable/\n",
    "\n",
    "import matplotlib.pyplot as plt #https://matplotlib.org/stable/api/_as_gen/matplotlib.pyplot.html\n",
    "%matplotlib inline\n",
    "\n",
    "import seaborn as sns\n",
    "sns.set()\n",
    "\n",
    "from tqdm import tqdm #https://tqdm.github.io/\n",
    "\n",
    "import torch #https://pytorch.org/\n",
    "import transformers #https://huggingface.co/transformers/\n",
    "\n",
    "import torchvision\n",
    "import torchtext"
   ]
  },
  {
   "cell_type": "markdown",
   "id": "109c475d",
   "metadata": {
    "papermill": {
     "duration": 0.034944,
     "end_time": "2022-03-01T09:08:46.802305",
     "exception": false,
     "start_time": "2022-03-01T09:08:46.767361",
     "status": "completed"
    },
    "tags": []
   },
   "source": [
    "CFG"
   ]
  },
  {
   "cell_type": "code",
   "execution_count": 2,
   "id": "0a530a27",
   "metadata": {
    "_kg_hide-input": true,
    "execution": {
     "iopub.execute_input": "2022-03-01T09:08:46.940327Z",
     "iopub.status.busy": "2022-03-01T09:08:46.886053Z",
     "iopub.status.idle": "2022-03-01T09:08:46.950111Z",
     "shell.execute_reply": "2022-03-01T09:08:46.950803Z",
     "shell.execute_reply.started": "2022-03-01T09:01:24.492573Z"
    },
    "papermill": {
     "duration": 0.112328,
     "end_time": "2022-03-01T09:08:46.950992",
     "exception": false,
     "start_time": "2022-03-01T09:08:46.838664",
     "status": "completed"
    },
    "tags": []
   },
   "outputs": [
    {
     "name": "stdout",
     "output_type": "stream",
     "text": [
      "cuda:0\n",
      "0\n",
      "Tesla P100-PCIE-16GB\n"
     ]
    }
   ],
   "source": [
    "class CFG():\n",
    "    \n",
    "    data_path=\"/kaggle/input/digit-recognizer\"\n",
    "    debug=False\n",
    "    seed=0\n",
    "\n",
    "    device = torch.device('cuda:0' if torch.cuda.is_available() else 'cpu')\n",
    "    batch_size=16\n",
    "    epochs=30\n",
    "    learning_rate=0.01\n",
    "    kFold=5\n",
    "    \n",
    "    amp=False\n",
    "\n",
    "\n",
    "    #高速化関連\n",
    "    #https://qiita.com/sugulu_Ogawa_ISID/items/62f5f7adee083d96a587\n",
    "\n",
    "    #GPU 遅くなるらしい↓\n",
    "    torch.backends.cudnn.deterministic = True\n",
    "\n",
    "    #イテレーションごとのnnの順伝搬および誤差関数の 計算手法がある程度一定であれば、torch.backends.cudnn.benchmark = Trueで GPU での計算が高速化\n",
    "    torch.backends.cudnn.benchmark = False\n",
    "\n",
    "\n",
    "def set_seed(seed=0):\n",
    "    random.seed(seed)\n",
    "    os.environ['PYTHONHASHSEED'] = str(seed)\n",
    "    np.random.seed(seed)\n",
    "    #tf.random.set_seed(seed)\n",
    "    torch.manual_seed(seed)\n",
    "    torch.cuda.manual_seed(seed)\n",
    "    torch.cuda.manual_seed_all(seed)\n",
    "\n",
    "set_seed(CFG.seed)\n",
    "\n",
    "print(CFG.device)\n",
    "if torch.cuda.is_available():\n",
    "    print(torch.cuda.current_device())\n",
    "    print(torch.cuda.get_device_name())"
   ]
  },
  {
   "cell_type": "markdown",
   "id": "6290aa42",
   "metadata": {
    "papermill": {
     "duration": 0.035829,
     "end_time": "2022-03-01T09:08:47.023846",
     "exception": false,
     "start_time": "2022-03-01T09:08:46.988017",
     "status": "completed"
    },
    "tags": []
   },
   "source": [
    "color"
   ]
  },
  {
   "cell_type": "code",
   "execution_count": 3,
   "id": "5102d7e1",
   "metadata": {
    "_kg_hide-input": true,
    "execution": {
     "iopub.execute_input": "2022-03-01T09:08:47.107800Z",
     "iopub.status.busy": "2022-03-01T09:08:47.106575Z",
     "iopub.status.idle": "2022-03-01T09:08:47.108681Z",
     "shell.execute_reply": "2022-03-01T09:08:47.109379Z",
     "shell.execute_reply.started": "2022-03-01T09:01:24.575331Z"
    },
    "papermill": {
     "duration": 0.049989,
     "end_time": "2022-03-01T09:08:47.109560",
     "exception": false,
     "start_time": "2022-03-01T09:08:47.059571",
     "status": "completed"
    },
    "tags": []
   },
   "outputs": [],
   "source": [
    "def color(string,fg='DEFAULT',bg='DEFAULT',fg_rgb=None,bg_rgb=None,style='END'):\n",
    "    colors=['BLACK','RED','GREEN','YELLOW','BLUE','PURPLE','CYAN','WHITE','8','DEFAULT']\n",
    "    styles=['END','BOLD','2','3','UNDERLINE','5','6','REVERSE','INVISIBLE','9']\n",
    "\n",
    "    fg=f'\\033[3{colors.index(fg)}m'\n",
    "    bg=f'\\033[4{colors.index(bg)}m'\n",
    "    style=f'\\033[0{styles.index(style)}m'\n",
    "\n",
    "    if fg_rgb:fg=f\"\\033[38;2;{fg_rgb[0]};{fg_rgb[1]};{fg_rgb[2]}m\"\n",
    "    if bg_rgb:bg=f\"\\033[48;2;{bg_rgb[0]};{bg_rgb[1]};{bg_rgb[2]}m\"\n",
    "\n",
    "    return style+fg+bg+str(string)+'\\033[0m'"
   ]
  },
  {
   "cell_type": "code",
   "execution_count": 4,
   "id": "23ce6371",
   "metadata": {
    "execution": {
     "iopub.execute_input": "2022-03-01T09:08:47.194394Z",
     "iopub.status.busy": "2022-03-01T09:08:47.193564Z",
     "iopub.status.idle": "2022-03-01T09:08:54.664658Z",
     "shell.execute_reply": "2022-03-01T09:08:54.663677Z",
     "shell.execute_reply.started": "2022-03-01T09:01:24.597312Z"
    },
    "papermill": {
     "duration": 7.517842,
     "end_time": "2022-03-01T09:08:54.664843",
     "exception": false,
     "start_time": "2022-03-01T09:08:47.147001",
     "status": "completed"
    },
    "tags": []
   },
   "outputs": [],
   "source": [
    "# %%script echo skipping\n",
    "\n",
    "train=pd.read_csv(os.path.join(CFG.data_path,\"train.csv\"))\n",
    "test=pd.read_csv(os.path.join(CFG.data_path,\"test.csv\"))\n",
    "sample_submission=pd.read_csv(os.path.join(CFG.data_path,\"sample_submission.csv\"),index_col='ImageId')\n",
    "\n",
    "if CFG.debug:\n",
    "    #train=train[:len(train)//50]\n",
    "    train=train.sample(frac=0.1)\n",
    "\n",
    "df=pd.concat([train,test])\n",
    "# train=df[:len(train)].copy()\n",
    "# test=df[len(train):].copy()\n",
    "\n",
    "\n",
    "data={'train':None,'val':None,'test':test}\n",
    "\n",
    "from sklearn.model_selection import train_test_split\n",
    "data['train'], data['val'] = sklearn.model_selection.train_test_split(\n",
    "    train,\n",
    "    test_size=0.2,\n",
    "    random_state=CFG.seed, \n",
    "    stratify=train[\"label\"],\n",
    ")\n",
    "data['train']=data['train'].reset_index(drop=True)\n",
    "data['val']=data['val'].reset_index(drop=True)"
   ]
  },
  {
   "cell_type": "code",
   "execution_count": 5,
   "id": "fc5ea15a",
   "metadata": {
    "execution": {
     "iopub.execute_input": "2022-03-01T09:08:54.747388Z",
     "iopub.status.busy": "2022-03-01T09:08:54.746327Z",
     "iopub.status.idle": "2022-03-01T09:08:54.772922Z",
     "shell.execute_reply": "2022-03-01T09:08:54.773482Z",
     "shell.execute_reply.started": "2022-03-01T09:01:30.140437Z"
    },
    "papermill": {
     "duration": 0.072401,
     "end_time": "2022-03-01T09:08:54.773677",
     "exception": false,
     "start_time": "2022-03-01T09:08:54.701276",
     "status": "completed"
    },
    "tags": []
   },
   "outputs": [
    {
     "data": {
      "text/html": [
       "<div>\n",
       "<style scoped>\n",
       "    .dataframe tbody tr th:only-of-type {\n",
       "        vertical-align: middle;\n",
       "    }\n",
       "\n",
       "    .dataframe tbody tr th {\n",
       "        vertical-align: top;\n",
       "    }\n",
       "\n",
       "    .dataframe thead th {\n",
       "        text-align: right;\n",
       "    }\n",
       "</style>\n",
       "<table border=\"1\" class=\"dataframe\">\n",
       "  <thead>\n",
       "    <tr style=\"text-align: right;\">\n",
       "      <th></th>\n",
       "      <th>label</th>\n",
       "      <th>pixel0</th>\n",
       "      <th>pixel1</th>\n",
       "      <th>pixel2</th>\n",
       "      <th>pixel3</th>\n",
       "      <th>pixel4</th>\n",
       "      <th>pixel5</th>\n",
       "      <th>pixel6</th>\n",
       "      <th>pixel7</th>\n",
       "      <th>pixel8</th>\n",
       "      <th>...</th>\n",
       "      <th>pixel774</th>\n",
       "      <th>pixel775</th>\n",
       "      <th>pixel776</th>\n",
       "      <th>pixel777</th>\n",
       "      <th>pixel778</th>\n",
       "      <th>pixel779</th>\n",
       "      <th>pixel780</th>\n",
       "      <th>pixel781</th>\n",
       "      <th>pixel782</th>\n",
       "      <th>pixel783</th>\n",
       "    </tr>\n",
       "  </thead>\n",
       "  <tbody>\n",
       "    <tr>\n",
       "      <th>0</th>\n",
       "      <td>7</td>\n",
       "      <td>0</td>\n",
       "      <td>0</td>\n",
       "      <td>0</td>\n",
       "      <td>0</td>\n",
       "      <td>0</td>\n",
       "      <td>0</td>\n",
       "      <td>0</td>\n",
       "      <td>0</td>\n",
       "      <td>0</td>\n",
       "      <td>...</td>\n",
       "      <td>0</td>\n",
       "      <td>0</td>\n",
       "      <td>0</td>\n",
       "      <td>0</td>\n",
       "      <td>0</td>\n",
       "      <td>0</td>\n",
       "      <td>0</td>\n",
       "      <td>0</td>\n",
       "      <td>0</td>\n",
       "      <td>0</td>\n",
       "    </tr>\n",
       "    <tr>\n",
       "      <th>1</th>\n",
       "      <td>2</td>\n",
       "      <td>0</td>\n",
       "      <td>0</td>\n",
       "      <td>0</td>\n",
       "      <td>0</td>\n",
       "      <td>0</td>\n",
       "      <td>0</td>\n",
       "      <td>0</td>\n",
       "      <td>0</td>\n",
       "      <td>0</td>\n",
       "      <td>...</td>\n",
       "      <td>0</td>\n",
       "      <td>0</td>\n",
       "      <td>0</td>\n",
       "      <td>0</td>\n",
       "      <td>0</td>\n",
       "      <td>0</td>\n",
       "      <td>0</td>\n",
       "      <td>0</td>\n",
       "      <td>0</td>\n",
       "      <td>0</td>\n",
       "    </tr>\n",
       "    <tr>\n",
       "      <th>2</th>\n",
       "      <td>2</td>\n",
       "      <td>0</td>\n",
       "      <td>0</td>\n",
       "      <td>0</td>\n",
       "      <td>0</td>\n",
       "      <td>0</td>\n",
       "      <td>0</td>\n",
       "      <td>0</td>\n",
       "      <td>0</td>\n",
       "      <td>0</td>\n",
       "      <td>...</td>\n",
       "      <td>0</td>\n",
       "      <td>0</td>\n",
       "      <td>0</td>\n",
       "      <td>0</td>\n",
       "      <td>0</td>\n",
       "      <td>0</td>\n",
       "      <td>0</td>\n",
       "      <td>0</td>\n",
       "      <td>0</td>\n",
       "      <td>0</td>\n",
       "    </tr>\n",
       "    <tr>\n",
       "      <th>3</th>\n",
       "      <td>6</td>\n",
       "      <td>0</td>\n",
       "      <td>0</td>\n",
       "      <td>0</td>\n",
       "      <td>0</td>\n",
       "      <td>0</td>\n",
       "      <td>0</td>\n",
       "      <td>0</td>\n",
       "      <td>0</td>\n",
       "      <td>0</td>\n",
       "      <td>...</td>\n",
       "      <td>0</td>\n",
       "      <td>0</td>\n",
       "      <td>0</td>\n",
       "      <td>0</td>\n",
       "      <td>0</td>\n",
       "      <td>0</td>\n",
       "      <td>0</td>\n",
       "      <td>0</td>\n",
       "      <td>0</td>\n",
       "      <td>0</td>\n",
       "    </tr>\n",
       "    <tr>\n",
       "      <th>4</th>\n",
       "      <td>4</td>\n",
       "      <td>0</td>\n",
       "      <td>0</td>\n",
       "      <td>0</td>\n",
       "      <td>0</td>\n",
       "      <td>0</td>\n",
       "      <td>0</td>\n",
       "      <td>0</td>\n",
       "      <td>0</td>\n",
       "      <td>0</td>\n",
       "      <td>...</td>\n",
       "      <td>0</td>\n",
       "      <td>0</td>\n",
       "      <td>0</td>\n",
       "      <td>0</td>\n",
       "      <td>0</td>\n",
       "      <td>0</td>\n",
       "      <td>0</td>\n",
       "      <td>0</td>\n",
       "      <td>0</td>\n",
       "      <td>0</td>\n",
       "    </tr>\n",
       "    <tr>\n",
       "      <th>...</th>\n",
       "      <td>...</td>\n",
       "      <td>...</td>\n",
       "      <td>...</td>\n",
       "      <td>...</td>\n",
       "      <td>...</td>\n",
       "      <td>...</td>\n",
       "      <td>...</td>\n",
       "      <td>...</td>\n",
       "      <td>...</td>\n",
       "      <td>...</td>\n",
       "      <td>...</td>\n",
       "      <td>...</td>\n",
       "      <td>...</td>\n",
       "      <td>...</td>\n",
       "      <td>...</td>\n",
       "      <td>...</td>\n",
       "      <td>...</td>\n",
       "      <td>...</td>\n",
       "      <td>...</td>\n",
       "      <td>...</td>\n",
       "      <td>...</td>\n",
       "    </tr>\n",
       "    <tr>\n",
       "      <th>33595</th>\n",
       "      <td>0</td>\n",
       "      <td>0</td>\n",
       "      <td>0</td>\n",
       "      <td>0</td>\n",
       "      <td>0</td>\n",
       "      <td>0</td>\n",
       "      <td>0</td>\n",
       "      <td>0</td>\n",
       "      <td>0</td>\n",
       "      <td>0</td>\n",
       "      <td>...</td>\n",
       "      <td>0</td>\n",
       "      <td>0</td>\n",
       "      <td>0</td>\n",
       "      <td>0</td>\n",
       "      <td>0</td>\n",
       "      <td>0</td>\n",
       "      <td>0</td>\n",
       "      <td>0</td>\n",
       "      <td>0</td>\n",
       "      <td>0</td>\n",
       "    </tr>\n",
       "    <tr>\n",
       "      <th>33596</th>\n",
       "      <td>2</td>\n",
       "      <td>0</td>\n",
       "      <td>0</td>\n",
       "      <td>0</td>\n",
       "      <td>0</td>\n",
       "      <td>0</td>\n",
       "      <td>0</td>\n",
       "      <td>0</td>\n",
       "      <td>0</td>\n",
       "      <td>0</td>\n",
       "      <td>...</td>\n",
       "      <td>0</td>\n",
       "      <td>0</td>\n",
       "      <td>0</td>\n",
       "      <td>0</td>\n",
       "      <td>0</td>\n",
       "      <td>0</td>\n",
       "      <td>0</td>\n",
       "      <td>0</td>\n",
       "      <td>0</td>\n",
       "      <td>0</td>\n",
       "    </tr>\n",
       "    <tr>\n",
       "      <th>33597</th>\n",
       "      <td>7</td>\n",
       "      <td>0</td>\n",
       "      <td>0</td>\n",
       "      <td>0</td>\n",
       "      <td>0</td>\n",
       "      <td>0</td>\n",
       "      <td>0</td>\n",
       "      <td>0</td>\n",
       "      <td>0</td>\n",
       "      <td>0</td>\n",
       "      <td>...</td>\n",
       "      <td>0</td>\n",
       "      <td>0</td>\n",
       "      <td>0</td>\n",
       "      <td>0</td>\n",
       "      <td>0</td>\n",
       "      <td>0</td>\n",
       "      <td>0</td>\n",
       "      <td>0</td>\n",
       "      <td>0</td>\n",
       "      <td>0</td>\n",
       "    </tr>\n",
       "    <tr>\n",
       "      <th>33598</th>\n",
       "      <td>9</td>\n",
       "      <td>0</td>\n",
       "      <td>0</td>\n",
       "      <td>0</td>\n",
       "      <td>0</td>\n",
       "      <td>0</td>\n",
       "      <td>0</td>\n",
       "      <td>0</td>\n",
       "      <td>0</td>\n",
       "      <td>0</td>\n",
       "      <td>...</td>\n",
       "      <td>0</td>\n",
       "      <td>0</td>\n",
       "      <td>0</td>\n",
       "      <td>0</td>\n",
       "      <td>0</td>\n",
       "      <td>0</td>\n",
       "      <td>0</td>\n",
       "      <td>0</td>\n",
       "      <td>0</td>\n",
       "      <td>0</td>\n",
       "    </tr>\n",
       "    <tr>\n",
       "      <th>33599</th>\n",
       "      <td>8</td>\n",
       "      <td>0</td>\n",
       "      <td>0</td>\n",
       "      <td>0</td>\n",
       "      <td>0</td>\n",
       "      <td>0</td>\n",
       "      <td>0</td>\n",
       "      <td>0</td>\n",
       "      <td>0</td>\n",
       "      <td>0</td>\n",
       "      <td>...</td>\n",
       "      <td>0</td>\n",
       "      <td>0</td>\n",
       "      <td>0</td>\n",
       "      <td>0</td>\n",
       "      <td>0</td>\n",
       "      <td>0</td>\n",
       "      <td>0</td>\n",
       "      <td>0</td>\n",
       "      <td>0</td>\n",
       "      <td>0</td>\n",
       "    </tr>\n",
       "  </tbody>\n",
       "</table>\n",
       "<p>33600 rows × 785 columns</p>\n",
       "</div>"
      ],
      "text/plain": [
       "       label  pixel0  pixel1  pixel2  pixel3  pixel4  pixel5  pixel6  pixel7  \\\n",
       "0          7       0       0       0       0       0       0       0       0   \n",
       "1          2       0       0       0       0       0       0       0       0   \n",
       "2          2       0       0       0       0       0       0       0       0   \n",
       "3          6       0       0       0       0       0       0       0       0   \n",
       "4          4       0       0       0       0       0       0       0       0   \n",
       "...      ...     ...     ...     ...     ...     ...     ...     ...     ...   \n",
       "33595      0       0       0       0       0       0       0       0       0   \n",
       "33596      2       0       0       0       0       0       0       0       0   \n",
       "33597      7       0       0       0       0       0       0       0       0   \n",
       "33598      9       0       0       0       0       0       0       0       0   \n",
       "33599      8       0       0       0       0       0       0       0       0   \n",
       "\n",
       "       pixel8  ...  pixel774  pixel775  pixel776  pixel777  pixel778  \\\n",
       "0           0  ...         0         0         0         0         0   \n",
       "1           0  ...         0         0         0         0         0   \n",
       "2           0  ...         0         0         0         0         0   \n",
       "3           0  ...         0         0         0         0         0   \n",
       "4           0  ...         0         0         0         0         0   \n",
       "...       ...  ...       ...       ...       ...       ...       ...   \n",
       "33595       0  ...         0         0         0         0         0   \n",
       "33596       0  ...         0         0         0         0         0   \n",
       "33597       0  ...         0         0         0         0         0   \n",
       "33598       0  ...         0         0         0         0         0   \n",
       "33599       0  ...         0         0         0         0         0   \n",
       "\n",
       "       pixel779  pixel780  pixel781  pixel782  pixel783  \n",
       "0             0         0         0         0         0  \n",
       "1             0         0         0         0         0  \n",
       "2             0         0         0         0         0  \n",
       "3             0         0         0         0         0  \n",
       "4             0         0         0         0         0  \n",
       "...         ...       ...       ...       ...       ...  \n",
       "33595         0         0         0         0         0  \n",
       "33596         0         0         0         0         0  \n",
       "33597         0         0         0         0         0  \n",
       "33598         0         0         0         0         0  \n",
       "33599         0         0         0         0         0  \n",
       "\n",
       "[33600 rows x 785 columns]"
      ]
     },
     "execution_count": 5,
     "metadata": {},
     "output_type": "execute_result"
    }
   ],
   "source": [
    "data['train']"
   ]
  },
  {
   "cell_type": "code",
   "execution_count": 6,
   "id": "da52e37f",
   "metadata": {
    "execution": {
     "iopub.execute_input": "2022-03-01T09:08:54.857144Z",
     "iopub.status.busy": "2022-03-01T09:08:54.855992Z",
     "iopub.status.idle": "2022-03-01T09:08:54.878459Z",
     "shell.execute_reply": "2022-03-01T09:08:54.879088Z",
     "shell.execute_reply.started": "2022-03-01T09:01:30.166218Z"
    },
    "papermill": {
     "duration": 0.067901,
     "end_time": "2022-03-01T09:08:54.879287",
     "exception": false,
     "start_time": "2022-03-01T09:08:54.811386",
     "status": "completed"
    },
    "tags": []
   },
   "outputs": [
    {
     "data": {
      "text/html": [
       "<div>\n",
       "<style scoped>\n",
       "    .dataframe tbody tr th:only-of-type {\n",
       "        vertical-align: middle;\n",
       "    }\n",
       "\n",
       "    .dataframe tbody tr th {\n",
       "        vertical-align: top;\n",
       "    }\n",
       "\n",
       "    .dataframe thead th {\n",
       "        text-align: right;\n",
       "    }\n",
       "</style>\n",
       "<table border=\"1\" class=\"dataframe\">\n",
       "  <thead>\n",
       "    <tr style=\"text-align: right;\">\n",
       "      <th></th>\n",
       "      <th>label</th>\n",
       "      <th>pixel0</th>\n",
       "      <th>pixel1</th>\n",
       "      <th>pixel2</th>\n",
       "      <th>pixel3</th>\n",
       "      <th>pixel4</th>\n",
       "      <th>pixel5</th>\n",
       "      <th>pixel6</th>\n",
       "      <th>pixel7</th>\n",
       "      <th>pixel8</th>\n",
       "      <th>...</th>\n",
       "      <th>pixel774</th>\n",
       "      <th>pixel775</th>\n",
       "      <th>pixel776</th>\n",
       "      <th>pixel777</th>\n",
       "      <th>pixel778</th>\n",
       "      <th>pixel779</th>\n",
       "      <th>pixel780</th>\n",
       "      <th>pixel781</th>\n",
       "      <th>pixel782</th>\n",
       "      <th>pixel783</th>\n",
       "    </tr>\n",
       "  </thead>\n",
       "  <tbody>\n",
       "    <tr>\n",
       "      <th>0</th>\n",
       "      <td>4</td>\n",
       "      <td>0</td>\n",
       "      <td>0</td>\n",
       "      <td>0</td>\n",
       "      <td>0</td>\n",
       "      <td>0</td>\n",
       "      <td>0</td>\n",
       "      <td>0</td>\n",
       "      <td>0</td>\n",
       "      <td>0</td>\n",
       "      <td>...</td>\n",
       "      <td>0</td>\n",
       "      <td>0</td>\n",
       "      <td>0</td>\n",
       "      <td>0</td>\n",
       "      <td>0</td>\n",
       "      <td>0</td>\n",
       "      <td>0</td>\n",
       "      <td>0</td>\n",
       "      <td>0</td>\n",
       "      <td>0</td>\n",
       "    </tr>\n",
       "    <tr>\n",
       "      <th>1</th>\n",
       "      <td>8</td>\n",
       "      <td>0</td>\n",
       "      <td>0</td>\n",
       "      <td>0</td>\n",
       "      <td>0</td>\n",
       "      <td>0</td>\n",
       "      <td>0</td>\n",
       "      <td>0</td>\n",
       "      <td>0</td>\n",
       "      <td>0</td>\n",
       "      <td>...</td>\n",
       "      <td>0</td>\n",
       "      <td>0</td>\n",
       "      <td>0</td>\n",
       "      <td>0</td>\n",
       "      <td>0</td>\n",
       "      <td>0</td>\n",
       "      <td>0</td>\n",
       "      <td>0</td>\n",
       "      <td>0</td>\n",
       "      <td>0</td>\n",
       "    </tr>\n",
       "    <tr>\n",
       "      <th>2</th>\n",
       "      <td>5</td>\n",
       "      <td>0</td>\n",
       "      <td>0</td>\n",
       "      <td>0</td>\n",
       "      <td>0</td>\n",
       "      <td>0</td>\n",
       "      <td>0</td>\n",
       "      <td>0</td>\n",
       "      <td>0</td>\n",
       "      <td>0</td>\n",
       "      <td>...</td>\n",
       "      <td>0</td>\n",
       "      <td>0</td>\n",
       "      <td>0</td>\n",
       "      <td>0</td>\n",
       "      <td>0</td>\n",
       "      <td>0</td>\n",
       "      <td>0</td>\n",
       "      <td>0</td>\n",
       "      <td>0</td>\n",
       "      <td>0</td>\n",
       "    </tr>\n",
       "    <tr>\n",
       "      <th>3</th>\n",
       "      <td>7</td>\n",
       "      <td>0</td>\n",
       "      <td>0</td>\n",
       "      <td>0</td>\n",
       "      <td>0</td>\n",
       "      <td>0</td>\n",
       "      <td>0</td>\n",
       "      <td>0</td>\n",
       "      <td>0</td>\n",
       "      <td>0</td>\n",
       "      <td>...</td>\n",
       "      <td>0</td>\n",
       "      <td>0</td>\n",
       "      <td>0</td>\n",
       "      <td>0</td>\n",
       "      <td>0</td>\n",
       "      <td>0</td>\n",
       "      <td>0</td>\n",
       "      <td>0</td>\n",
       "      <td>0</td>\n",
       "      <td>0</td>\n",
       "    </tr>\n",
       "    <tr>\n",
       "      <th>4</th>\n",
       "      <td>1</td>\n",
       "      <td>0</td>\n",
       "      <td>0</td>\n",
       "      <td>0</td>\n",
       "      <td>0</td>\n",
       "      <td>0</td>\n",
       "      <td>0</td>\n",
       "      <td>0</td>\n",
       "      <td>0</td>\n",
       "      <td>0</td>\n",
       "      <td>...</td>\n",
       "      <td>0</td>\n",
       "      <td>0</td>\n",
       "      <td>0</td>\n",
       "      <td>0</td>\n",
       "      <td>0</td>\n",
       "      <td>0</td>\n",
       "      <td>0</td>\n",
       "      <td>0</td>\n",
       "      <td>0</td>\n",
       "      <td>0</td>\n",
       "    </tr>\n",
       "    <tr>\n",
       "      <th>...</th>\n",
       "      <td>...</td>\n",
       "      <td>...</td>\n",
       "      <td>...</td>\n",
       "      <td>...</td>\n",
       "      <td>...</td>\n",
       "      <td>...</td>\n",
       "      <td>...</td>\n",
       "      <td>...</td>\n",
       "      <td>...</td>\n",
       "      <td>...</td>\n",
       "      <td>...</td>\n",
       "      <td>...</td>\n",
       "      <td>...</td>\n",
       "      <td>...</td>\n",
       "      <td>...</td>\n",
       "      <td>...</td>\n",
       "      <td>...</td>\n",
       "      <td>...</td>\n",
       "      <td>...</td>\n",
       "      <td>...</td>\n",
       "      <td>...</td>\n",
       "    </tr>\n",
       "    <tr>\n",
       "      <th>8395</th>\n",
       "      <td>1</td>\n",
       "      <td>0</td>\n",
       "      <td>0</td>\n",
       "      <td>0</td>\n",
       "      <td>0</td>\n",
       "      <td>0</td>\n",
       "      <td>0</td>\n",
       "      <td>0</td>\n",
       "      <td>0</td>\n",
       "      <td>0</td>\n",
       "      <td>...</td>\n",
       "      <td>0</td>\n",
       "      <td>0</td>\n",
       "      <td>0</td>\n",
       "      <td>0</td>\n",
       "      <td>0</td>\n",
       "      <td>0</td>\n",
       "      <td>0</td>\n",
       "      <td>0</td>\n",
       "      <td>0</td>\n",
       "      <td>0</td>\n",
       "    </tr>\n",
       "    <tr>\n",
       "      <th>8396</th>\n",
       "      <td>9</td>\n",
       "      <td>0</td>\n",
       "      <td>0</td>\n",
       "      <td>0</td>\n",
       "      <td>0</td>\n",
       "      <td>0</td>\n",
       "      <td>0</td>\n",
       "      <td>0</td>\n",
       "      <td>0</td>\n",
       "      <td>0</td>\n",
       "      <td>...</td>\n",
       "      <td>0</td>\n",
       "      <td>0</td>\n",
       "      <td>0</td>\n",
       "      <td>0</td>\n",
       "      <td>0</td>\n",
       "      <td>0</td>\n",
       "      <td>0</td>\n",
       "      <td>0</td>\n",
       "      <td>0</td>\n",
       "      <td>0</td>\n",
       "    </tr>\n",
       "    <tr>\n",
       "      <th>8397</th>\n",
       "      <td>1</td>\n",
       "      <td>0</td>\n",
       "      <td>0</td>\n",
       "      <td>0</td>\n",
       "      <td>0</td>\n",
       "      <td>0</td>\n",
       "      <td>0</td>\n",
       "      <td>0</td>\n",
       "      <td>0</td>\n",
       "      <td>0</td>\n",
       "      <td>...</td>\n",
       "      <td>0</td>\n",
       "      <td>0</td>\n",
       "      <td>0</td>\n",
       "      <td>0</td>\n",
       "      <td>0</td>\n",
       "      <td>0</td>\n",
       "      <td>0</td>\n",
       "      <td>0</td>\n",
       "      <td>0</td>\n",
       "      <td>0</td>\n",
       "    </tr>\n",
       "    <tr>\n",
       "      <th>8398</th>\n",
       "      <td>3</td>\n",
       "      <td>0</td>\n",
       "      <td>0</td>\n",
       "      <td>0</td>\n",
       "      <td>0</td>\n",
       "      <td>0</td>\n",
       "      <td>0</td>\n",
       "      <td>0</td>\n",
       "      <td>0</td>\n",
       "      <td>0</td>\n",
       "      <td>...</td>\n",
       "      <td>0</td>\n",
       "      <td>0</td>\n",
       "      <td>0</td>\n",
       "      <td>0</td>\n",
       "      <td>0</td>\n",
       "      <td>0</td>\n",
       "      <td>0</td>\n",
       "      <td>0</td>\n",
       "      <td>0</td>\n",
       "      <td>0</td>\n",
       "    </tr>\n",
       "    <tr>\n",
       "      <th>8399</th>\n",
       "      <td>1</td>\n",
       "      <td>0</td>\n",
       "      <td>0</td>\n",
       "      <td>0</td>\n",
       "      <td>0</td>\n",
       "      <td>0</td>\n",
       "      <td>0</td>\n",
       "      <td>0</td>\n",
       "      <td>0</td>\n",
       "      <td>0</td>\n",
       "      <td>...</td>\n",
       "      <td>0</td>\n",
       "      <td>0</td>\n",
       "      <td>0</td>\n",
       "      <td>0</td>\n",
       "      <td>0</td>\n",
       "      <td>0</td>\n",
       "      <td>0</td>\n",
       "      <td>0</td>\n",
       "      <td>0</td>\n",
       "      <td>0</td>\n",
       "    </tr>\n",
       "  </tbody>\n",
       "</table>\n",
       "<p>8400 rows × 785 columns</p>\n",
       "</div>"
      ],
      "text/plain": [
       "      label  pixel0  pixel1  pixel2  pixel3  pixel4  pixel5  pixel6  pixel7  \\\n",
       "0         4       0       0       0       0       0       0       0       0   \n",
       "1         8       0       0       0       0       0       0       0       0   \n",
       "2         5       0       0       0       0       0       0       0       0   \n",
       "3         7       0       0       0       0       0       0       0       0   \n",
       "4         1       0       0       0       0       0       0       0       0   \n",
       "...     ...     ...     ...     ...     ...     ...     ...     ...     ...   \n",
       "8395      1       0       0       0       0       0       0       0       0   \n",
       "8396      9       0       0       0       0       0       0       0       0   \n",
       "8397      1       0       0       0       0       0       0       0       0   \n",
       "8398      3       0       0       0       0       0       0       0       0   \n",
       "8399      1       0       0       0       0       0       0       0       0   \n",
       "\n",
       "      pixel8  ...  pixel774  pixel775  pixel776  pixel777  pixel778  pixel779  \\\n",
       "0          0  ...         0         0         0         0         0         0   \n",
       "1          0  ...         0         0         0         0         0         0   \n",
       "2          0  ...         0         0         0         0         0         0   \n",
       "3          0  ...         0         0         0         0         0         0   \n",
       "4          0  ...         0         0         0         0         0         0   \n",
       "...      ...  ...       ...       ...       ...       ...       ...       ...   \n",
       "8395       0  ...         0         0         0         0         0         0   \n",
       "8396       0  ...         0         0         0         0         0         0   \n",
       "8397       0  ...         0         0         0         0         0         0   \n",
       "8398       0  ...         0         0         0         0         0         0   \n",
       "8399       0  ...         0         0         0         0         0         0   \n",
       "\n",
       "      pixel780  pixel781  pixel782  pixel783  \n",
       "0            0         0         0         0  \n",
       "1            0         0         0         0  \n",
       "2            0         0         0         0  \n",
       "3            0         0         0         0  \n",
       "4            0         0         0         0  \n",
       "...        ...       ...       ...       ...  \n",
       "8395         0         0         0         0  \n",
       "8396         0         0         0         0  \n",
       "8397         0         0         0         0  \n",
       "8398         0         0         0         0  \n",
       "8399         0         0         0         0  \n",
       "\n",
       "[8400 rows x 785 columns]"
      ]
     },
     "execution_count": 6,
     "metadata": {},
     "output_type": "execute_result"
    }
   ],
   "source": [
    "data['val']"
   ]
  },
  {
   "cell_type": "code",
   "execution_count": 7,
   "id": "455fdd6d",
   "metadata": {
    "execution": {
     "iopub.execute_input": "2022-03-01T09:08:54.964681Z",
     "iopub.status.busy": "2022-03-01T09:08:54.963502Z",
     "iopub.status.idle": "2022-03-01T09:08:54.986297Z",
     "shell.execute_reply": "2022-03-01T09:08:54.986878Z",
     "shell.execute_reply.started": "2022-03-01T09:01:30.186628Z"
    },
    "papermill": {
     "duration": 0.069636,
     "end_time": "2022-03-01T09:08:54.987057",
     "exception": false,
     "start_time": "2022-03-01T09:08:54.917421",
     "status": "completed"
    },
    "tags": []
   },
   "outputs": [
    {
     "data": {
      "text/html": [
       "<div>\n",
       "<style scoped>\n",
       "    .dataframe tbody tr th:only-of-type {\n",
       "        vertical-align: middle;\n",
       "    }\n",
       "\n",
       "    .dataframe tbody tr th {\n",
       "        vertical-align: top;\n",
       "    }\n",
       "\n",
       "    .dataframe thead th {\n",
       "        text-align: right;\n",
       "    }\n",
       "</style>\n",
       "<table border=\"1\" class=\"dataframe\">\n",
       "  <thead>\n",
       "    <tr style=\"text-align: right;\">\n",
       "      <th></th>\n",
       "      <th>pixel0</th>\n",
       "      <th>pixel1</th>\n",
       "      <th>pixel2</th>\n",
       "      <th>pixel3</th>\n",
       "      <th>pixel4</th>\n",
       "      <th>pixel5</th>\n",
       "      <th>pixel6</th>\n",
       "      <th>pixel7</th>\n",
       "      <th>pixel8</th>\n",
       "      <th>pixel9</th>\n",
       "      <th>...</th>\n",
       "      <th>pixel774</th>\n",
       "      <th>pixel775</th>\n",
       "      <th>pixel776</th>\n",
       "      <th>pixel777</th>\n",
       "      <th>pixel778</th>\n",
       "      <th>pixel779</th>\n",
       "      <th>pixel780</th>\n",
       "      <th>pixel781</th>\n",
       "      <th>pixel782</th>\n",
       "      <th>pixel783</th>\n",
       "    </tr>\n",
       "  </thead>\n",
       "  <tbody>\n",
       "    <tr>\n",
       "      <th>0</th>\n",
       "      <td>0</td>\n",
       "      <td>0</td>\n",
       "      <td>0</td>\n",
       "      <td>0</td>\n",
       "      <td>0</td>\n",
       "      <td>0</td>\n",
       "      <td>0</td>\n",
       "      <td>0</td>\n",
       "      <td>0</td>\n",
       "      <td>0</td>\n",
       "      <td>...</td>\n",
       "      <td>0</td>\n",
       "      <td>0</td>\n",
       "      <td>0</td>\n",
       "      <td>0</td>\n",
       "      <td>0</td>\n",
       "      <td>0</td>\n",
       "      <td>0</td>\n",
       "      <td>0</td>\n",
       "      <td>0</td>\n",
       "      <td>0</td>\n",
       "    </tr>\n",
       "    <tr>\n",
       "      <th>1</th>\n",
       "      <td>0</td>\n",
       "      <td>0</td>\n",
       "      <td>0</td>\n",
       "      <td>0</td>\n",
       "      <td>0</td>\n",
       "      <td>0</td>\n",
       "      <td>0</td>\n",
       "      <td>0</td>\n",
       "      <td>0</td>\n",
       "      <td>0</td>\n",
       "      <td>...</td>\n",
       "      <td>0</td>\n",
       "      <td>0</td>\n",
       "      <td>0</td>\n",
       "      <td>0</td>\n",
       "      <td>0</td>\n",
       "      <td>0</td>\n",
       "      <td>0</td>\n",
       "      <td>0</td>\n",
       "      <td>0</td>\n",
       "      <td>0</td>\n",
       "    </tr>\n",
       "    <tr>\n",
       "      <th>2</th>\n",
       "      <td>0</td>\n",
       "      <td>0</td>\n",
       "      <td>0</td>\n",
       "      <td>0</td>\n",
       "      <td>0</td>\n",
       "      <td>0</td>\n",
       "      <td>0</td>\n",
       "      <td>0</td>\n",
       "      <td>0</td>\n",
       "      <td>0</td>\n",
       "      <td>...</td>\n",
       "      <td>0</td>\n",
       "      <td>0</td>\n",
       "      <td>0</td>\n",
       "      <td>0</td>\n",
       "      <td>0</td>\n",
       "      <td>0</td>\n",
       "      <td>0</td>\n",
       "      <td>0</td>\n",
       "      <td>0</td>\n",
       "      <td>0</td>\n",
       "    </tr>\n",
       "    <tr>\n",
       "      <th>3</th>\n",
       "      <td>0</td>\n",
       "      <td>0</td>\n",
       "      <td>0</td>\n",
       "      <td>0</td>\n",
       "      <td>0</td>\n",
       "      <td>0</td>\n",
       "      <td>0</td>\n",
       "      <td>0</td>\n",
       "      <td>0</td>\n",
       "      <td>0</td>\n",
       "      <td>...</td>\n",
       "      <td>0</td>\n",
       "      <td>0</td>\n",
       "      <td>0</td>\n",
       "      <td>0</td>\n",
       "      <td>0</td>\n",
       "      <td>0</td>\n",
       "      <td>0</td>\n",
       "      <td>0</td>\n",
       "      <td>0</td>\n",
       "      <td>0</td>\n",
       "    </tr>\n",
       "    <tr>\n",
       "      <th>4</th>\n",
       "      <td>0</td>\n",
       "      <td>0</td>\n",
       "      <td>0</td>\n",
       "      <td>0</td>\n",
       "      <td>0</td>\n",
       "      <td>0</td>\n",
       "      <td>0</td>\n",
       "      <td>0</td>\n",
       "      <td>0</td>\n",
       "      <td>0</td>\n",
       "      <td>...</td>\n",
       "      <td>0</td>\n",
       "      <td>0</td>\n",
       "      <td>0</td>\n",
       "      <td>0</td>\n",
       "      <td>0</td>\n",
       "      <td>0</td>\n",
       "      <td>0</td>\n",
       "      <td>0</td>\n",
       "      <td>0</td>\n",
       "      <td>0</td>\n",
       "    </tr>\n",
       "    <tr>\n",
       "      <th>...</th>\n",
       "      <td>...</td>\n",
       "      <td>...</td>\n",
       "      <td>...</td>\n",
       "      <td>...</td>\n",
       "      <td>...</td>\n",
       "      <td>...</td>\n",
       "      <td>...</td>\n",
       "      <td>...</td>\n",
       "      <td>...</td>\n",
       "      <td>...</td>\n",
       "      <td>...</td>\n",
       "      <td>...</td>\n",
       "      <td>...</td>\n",
       "      <td>...</td>\n",
       "      <td>...</td>\n",
       "      <td>...</td>\n",
       "      <td>...</td>\n",
       "      <td>...</td>\n",
       "      <td>...</td>\n",
       "      <td>...</td>\n",
       "      <td>...</td>\n",
       "    </tr>\n",
       "    <tr>\n",
       "      <th>27995</th>\n",
       "      <td>0</td>\n",
       "      <td>0</td>\n",
       "      <td>0</td>\n",
       "      <td>0</td>\n",
       "      <td>0</td>\n",
       "      <td>0</td>\n",
       "      <td>0</td>\n",
       "      <td>0</td>\n",
       "      <td>0</td>\n",
       "      <td>0</td>\n",
       "      <td>...</td>\n",
       "      <td>0</td>\n",
       "      <td>0</td>\n",
       "      <td>0</td>\n",
       "      <td>0</td>\n",
       "      <td>0</td>\n",
       "      <td>0</td>\n",
       "      <td>0</td>\n",
       "      <td>0</td>\n",
       "      <td>0</td>\n",
       "      <td>0</td>\n",
       "    </tr>\n",
       "    <tr>\n",
       "      <th>27996</th>\n",
       "      <td>0</td>\n",
       "      <td>0</td>\n",
       "      <td>0</td>\n",
       "      <td>0</td>\n",
       "      <td>0</td>\n",
       "      <td>0</td>\n",
       "      <td>0</td>\n",
       "      <td>0</td>\n",
       "      <td>0</td>\n",
       "      <td>0</td>\n",
       "      <td>...</td>\n",
       "      <td>0</td>\n",
       "      <td>0</td>\n",
       "      <td>0</td>\n",
       "      <td>0</td>\n",
       "      <td>0</td>\n",
       "      <td>0</td>\n",
       "      <td>0</td>\n",
       "      <td>0</td>\n",
       "      <td>0</td>\n",
       "      <td>0</td>\n",
       "    </tr>\n",
       "    <tr>\n",
       "      <th>27997</th>\n",
       "      <td>0</td>\n",
       "      <td>0</td>\n",
       "      <td>0</td>\n",
       "      <td>0</td>\n",
       "      <td>0</td>\n",
       "      <td>0</td>\n",
       "      <td>0</td>\n",
       "      <td>0</td>\n",
       "      <td>0</td>\n",
       "      <td>0</td>\n",
       "      <td>...</td>\n",
       "      <td>0</td>\n",
       "      <td>0</td>\n",
       "      <td>0</td>\n",
       "      <td>0</td>\n",
       "      <td>0</td>\n",
       "      <td>0</td>\n",
       "      <td>0</td>\n",
       "      <td>0</td>\n",
       "      <td>0</td>\n",
       "      <td>0</td>\n",
       "    </tr>\n",
       "    <tr>\n",
       "      <th>27998</th>\n",
       "      <td>0</td>\n",
       "      <td>0</td>\n",
       "      <td>0</td>\n",
       "      <td>0</td>\n",
       "      <td>0</td>\n",
       "      <td>0</td>\n",
       "      <td>0</td>\n",
       "      <td>0</td>\n",
       "      <td>0</td>\n",
       "      <td>0</td>\n",
       "      <td>...</td>\n",
       "      <td>0</td>\n",
       "      <td>0</td>\n",
       "      <td>0</td>\n",
       "      <td>0</td>\n",
       "      <td>0</td>\n",
       "      <td>0</td>\n",
       "      <td>0</td>\n",
       "      <td>0</td>\n",
       "      <td>0</td>\n",
       "      <td>0</td>\n",
       "    </tr>\n",
       "    <tr>\n",
       "      <th>27999</th>\n",
       "      <td>0</td>\n",
       "      <td>0</td>\n",
       "      <td>0</td>\n",
       "      <td>0</td>\n",
       "      <td>0</td>\n",
       "      <td>0</td>\n",
       "      <td>0</td>\n",
       "      <td>0</td>\n",
       "      <td>0</td>\n",
       "      <td>0</td>\n",
       "      <td>...</td>\n",
       "      <td>0</td>\n",
       "      <td>0</td>\n",
       "      <td>0</td>\n",
       "      <td>0</td>\n",
       "      <td>0</td>\n",
       "      <td>0</td>\n",
       "      <td>0</td>\n",
       "      <td>0</td>\n",
       "      <td>0</td>\n",
       "      <td>0</td>\n",
       "    </tr>\n",
       "  </tbody>\n",
       "</table>\n",
       "<p>28000 rows × 784 columns</p>\n",
       "</div>"
      ],
      "text/plain": [
       "       pixel0  pixel1  pixel2  pixel3  pixel4  pixel5  pixel6  pixel7  pixel8  \\\n",
       "0           0       0       0       0       0       0       0       0       0   \n",
       "1           0       0       0       0       0       0       0       0       0   \n",
       "2           0       0       0       0       0       0       0       0       0   \n",
       "3           0       0       0       0       0       0       0       0       0   \n",
       "4           0       0       0       0       0       0       0       0       0   \n",
       "...       ...     ...     ...     ...     ...     ...     ...     ...     ...   \n",
       "27995       0       0       0       0       0       0       0       0       0   \n",
       "27996       0       0       0       0       0       0       0       0       0   \n",
       "27997       0       0       0       0       0       0       0       0       0   \n",
       "27998       0       0       0       0       0       0       0       0       0   \n",
       "27999       0       0       0       0       0       0       0       0       0   \n",
       "\n",
       "       pixel9  ...  pixel774  pixel775  pixel776  pixel777  pixel778  \\\n",
       "0           0  ...         0         0         0         0         0   \n",
       "1           0  ...         0         0         0         0         0   \n",
       "2           0  ...         0         0         0         0         0   \n",
       "3           0  ...         0         0         0         0         0   \n",
       "4           0  ...         0         0         0         0         0   \n",
       "...       ...  ...       ...       ...       ...       ...       ...   \n",
       "27995       0  ...         0         0         0         0         0   \n",
       "27996       0  ...         0         0         0         0         0   \n",
       "27997       0  ...         0         0         0         0         0   \n",
       "27998       0  ...         0         0         0         0         0   \n",
       "27999       0  ...         0         0         0         0         0   \n",
       "\n",
       "       pixel779  pixel780  pixel781  pixel782  pixel783  \n",
       "0             0         0         0         0         0  \n",
       "1             0         0         0         0         0  \n",
       "2             0         0         0         0         0  \n",
       "3             0         0         0         0         0  \n",
       "4             0         0         0         0         0  \n",
       "...         ...       ...       ...       ...       ...  \n",
       "27995         0         0         0         0         0  \n",
       "27996         0         0         0         0         0  \n",
       "27997         0         0         0         0         0  \n",
       "27998         0         0         0         0         0  \n",
       "27999         0         0         0         0         0  \n",
       "\n",
       "[28000 rows x 784 columns]"
      ]
     },
     "execution_count": 7,
     "metadata": {},
     "output_type": "execute_result"
    }
   ],
   "source": [
    "data['test']"
   ]
  },
  {
   "cell_type": "markdown",
   "id": "58ff9e41",
   "metadata": {
    "papermill": {
     "duration": 0.040633,
     "end_time": "2022-03-01T09:08:55.066946",
     "exception": false,
     "start_time": "2022-03-01T09:08:55.026313",
     "status": "completed"
    },
    "tags": []
   },
   "source": [
    "# Dataset"
   ]
  },
  {
   "cell_type": "code",
   "execution_count": 8,
   "id": "5bb4403c",
   "metadata": {
    "execution": {
     "iopub.execute_input": "2022-03-01T09:08:55.155793Z",
     "iopub.status.busy": "2022-03-01T09:08:55.154887Z",
     "iopub.status.idle": "2022-03-01T09:08:55.158912Z",
     "shell.execute_reply": "2022-03-01T09:08:55.158275Z",
     "shell.execute_reply.started": "2022-03-01T09:01:30.207930Z"
    },
    "papermill": {
     "duration": 0.051793,
     "end_time": "2022-03-01T09:08:55.159064",
     "exception": false,
     "start_time": "2022-03-01T09:08:55.107271",
     "status": "completed"
    },
    "tags": []
   },
   "outputs": [],
   "source": [
    "class Dataset(torch.utils.data.Dataset):\n",
    "    def __init__(self,digits,labels,phase='train',transform=None):\n",
    "        self.digits=digits\n",
    "        self.labels=labels\n",
    "        self.phase=phase #train/val/test\n",
    "        self.transform=transform\n",
    "        \n",
    "    def __len__(self):\n",
    "        return len(self.digits)\n",
    "\n",
    "    def __getitem__(self,idx):\n",
    "        \n",
    "        datum=np.array(self.digits.loc[idx],dtype=np.uint8).reshape((28,28,1))\n",
    "        if self.transform:datum=self.transform(datum)\n",
    "        \n",
    "        return {'digit':datum,'label':self.labels.loc[idx]}"
   ]
  },
  {
   "cell_type": "code",
   "execution_count": 9,
   "id": "ccd070c7",
   "metadata": {
    "execution": {
     "iopub.execute_input": "2022-03-01T09:08:55.240919Z",
     "iopub.status.busy": "2022-03-01T09:08:55.239864Z",
     "iopub.status.idle": "2022-03-01T09:08:55.247599Z",
     "shell.execute_reply": "2022-03-01T09:08:55.247018Z",
     "shell.execute_reply.started": "2022-03-01T09:01:30.216203Z"
    },
    "papermill": {
     "duration": 0.049929,
     "end_time": "2022-03-01T09:08:55.247770",
     "exception": false,
     "start_time": "2022-03-01T09:08:55.197841",
     "status": "completed"
    },
    "tags": []
   },
   "outputs": [],
   "source": [
    "normalize=torchvision.transforms.Compose([\n",
    "    torchvision.transforms.ToTensor(),\n",
    "])\n",
    "\n",
    "augmentation=torchvision.transforms.Compose([\n",
    "    torchvision.transforms.ToTensor(),\n",
    "    torchvision.transforms.RandomApply(\n",
    "        [\n",
    "            torchvision.transforms.RandomRotation(degrees=(-20, 20)),\n",
    "            torchvision.transforms.RandomResizedCrop((28,28), scale=(0.8, 1.0)),\n",
    "        ],\n",
    "        p=0.8\n",
    "    ),\n",
    "])\n"
   ]
  },
  {
   "cell_type": "code",
   "execution_count": 10,
   "id": "802f1398",
   "metadata": {
    "execution": {
     "iopub.execute_input": "2022-03-01T09:08:55.423755Z",
     "iopub.status.busy": "2022-03-01T09:08:55.422062Z",
     "iopub.status.idle": "2022-03-01T09:08:55.449312Z",
     "shell.execute_reply": "2022-03-01T09:08:55.448241Z",
     "shell.execute_reply.started": "2022-03-01T09:01:30.226787Z"
    },
    "papermill": {
     "duration": 0.1613,
     "end_time": "2022-03-01T09:08:55.449477",
     "exception": false,
     "start_time": "2022-03-01T09:08:55.288177",
     "status": "completed"
    },
    "tags": []
   },
   "outputs": [],
   "source": [
    "dataset={\n",
    "    'train':Dataset(data['train'].drop('label',axis=1),data['train']['label'],'train',augmentation),\n",
    "    'val'  :Dataset(data['val'].drop('label',axis=1)  ,data['val']['label']  ,'val'  ,augmentation),\n",
    "    'test' :Dataset(data['test']    ,pd.Series(np.full(len(data['test']),-1)),'test' ,normalize),\n",
    "}"
   ]
  },
  {
   "cell_type": "code",
   "execution_count": 11,
   "id": "74e1ee43",
   "metadata": {
    "execution": {
     "iopub.execute_input": "2022-03-01T09:08:55.544961Z",
     "iopub.status.busy": "2022-03-01T09:08:55.543836Z",
     "iopub.status.idle": "2022-03-01T09:08:56.933415Z",
     "shell.execute_reply": "2022-03-01T09:08:56.934731Z",
     "shell.execute_reply.started": "2022-03-01T09:01:30.245045Z"
    },
    "papermill": {
     "duration": 1.444738,
     "end_time": "2022-03-01T09:08:56.935025",
     "exception": false,
     "start_time": "2022-03-01T09:08:55.490287",
     "status": "completed"
    },
    "tags": []
   },
   "outputs": [
    {
     "data": {
      "image/png": "[encoded data removed]",
      "text/plain": [
       "<Figure size 1440x720 with 10 Axes>"
      ]
     },
     "metadata": {},
     "output_type": "display_data"
    }
   ],
   "source": [
    "plt.figure(figsize=(20,10))\n",
    "for i in range(10):  \n",
    "    plt.subplot(1, 10, i+1)\n",
    "    plt.imshow(dataset['train'][8]['digit'][0,:,:])\n",
    "    plt.axis('off')\n",
    "    plt.title(data['train'].iloc[8,0])\n",
    "plt.show()"
   ]
  },
  {
   "cell_type": "code",
   "execution_count": 12,
   "id": "528148b0",
   "metadata": {
    "execution": {
     "iopub.execute_input": "2022-03-01T09:08:57.084611Z",
     "iopub.status.busy": "2022-03-01T09:08:57.083483Z",
     "iopub.status.idle": "2022-03-01T09:08:57.558347Z",
     "shell.execute_reply": "2022-03-01T09:08:57.558883Z",
     "shell.execute_reply.started": "2022-03-01T09:01:30.978187Z"
    },
    "papermill": {
     "duration": 0.555575,
     "end_time": "2022-03-01T09:08:57.559142",
     "exception": false,
     "start_time": "2022-03-01T09:08:57.003567",
     "status": "completed"
    },
    "tags": []
   },
   "outputs": [
    {
     "name": "stderr",
     "output_type": "stream",
     "text": [
      "/opt/conda/lib/python3.7/site-packages/ipykernel_launcher.py:3: MatplotlibDeprecationWarning: Auto-removal of grids by pcolor() and pcolormesh() is deprecated since 3.5 and will be removed two minor releases later; please call grid(False) first.\n",
      "  This is separate from the ipykernel package so we can avoid doing imports until\n"
     ]
    },
    {
     "data": {
      "image/png": "[encoded data removed]",
      "text/plain": [
       "<Figure size 432x288 with 2 Axes>"
      ]
     },
     "metadata": {},
     "output_type": "display_data"
    }
   ],
   "source": [
    "plt.imshow(dataset['test'][0]['digit'][0,:,:])\n",
    "plt.grid(False)\n",
    "plt.colorbar()\n",
    "plt.title(dataset['test'][0]['label'])\n",
    "plt.show()"
   ]
  },
  {
   "cell_type": "markdown",
   "id": "24afe536",
   "metadata": {
    "papermill": {
     "duration": 0.044298,
     "end_time": "2022-03-01T09:08:57.646694",
     "exception": false,
     "start_time": "2022-03-01T09:08:57.602396",
     "status": "completed"
    },
    "tags": []
   },
   "source": [
    "# Dataloader"
   ]
  },
  {
   "cell_type": "code",
   "execution_count": 13,
   "id": "bb708421",
   "metadata": {
    "execution": {
     "iopub.execute_input": "2022-03-01T09:08:57.744415Z",
     "iopub.status.busy": "2022-03-01T09:08:57.742347Z",
     "iopub.status.idle": "2022-03-01T09:08:57.745280Z",
     "shell.execute_reply": "2022-03-01T09:08:57.745926Z",
     "shell.execute_reply.started": "2022-03-01T09:01:31.230733Z"
    },
    "papermill": {
     "duration": 0.056281,
     "end_time": "2022-03-01T09:08:57.746289",
     "exception": false,
     "start_time": "2022-03-01T09:08:57.690008",
     "status": "completed"
    },
    "tags": []
   },
   "outputs": [],
   "source": [
    "dataloader={\n",
    "    'train':\n",
    "    torch.utils.data.DataLoader(\n",
    "        dataset['train'],\n",
    "        batch_size=CFG.batch_size,\n",
    "        shuffle=True,\n",
    "        num_workers=os.cpu_count(),\n",
    "        pin_memory=True\n",
    "    ),\n",
    "    'val':\n",
    "    torch.utils.data.DataLoader(\n",
    "        dataset['val'],\n",
    "        batch_size=CFG.batch_size,\n",
    "        shuffle=False,\n",
    "        num_workers=os.cpu_count(),\n",
    "        pin_memory=True\n",
    "    ),\n",
    "    'test':\n",
    "    torch.utils.data.DataLoader(\n",
    "        dataset['test'],\n",
    "        batch_size=CFG.batch_size,\n",
    "        shuffle=False,\n",
    "        num_workers=os.cpu_count(),\n",
    "        pin_memory=True\n",
    "    )\n",
    "}"
   ]
  },
  {
   "cell_type": "code",
   "execution_count": 14,
   "id": "e9bd8974",
   "metadata": {
    "execution": {
     "iopub.execute_input": "2022-03-01T09:08:57.840344Z",
     "iopub.status.busy": "2022-03-01T09:08:57.839223Z",
     "iopub.status.idle": "2022-03-01T09:09:01.663615Z",
     "shell.execute_reply": "2022-03-01T09:09:01.664194Z",
     "shell.execute_reply.started": "2022-03-01T09:01:31.240858Z"
    },
    "papermill": {
     "duration": 3.874586,
     "end_time": "2022-03-01T09:09:01.664410",
     "exception": false,
     "start_time": "2022-03-01T09:08:57.789824",
     "status": "completed"
    },
    "tags": []
   },
   "outputs": [
    {
     "data": {
      "text/plain": [
       "{'digit': tensor([[[[0., 0., 0.,  ..., 0., 0., 0.],\n",
       "           [0., 0., 0.,  ..., 0., 0., 0.],\n",
       "           [0., 0., 0.,  ..., 0., 0., 0.],\n",
       "           ...,\n",
       "           [0., 0., 0.,  ..., 0., 0., 0.],\n",
       "           [0., 0., 0.,  ..., 0., 0., 0.],\n",
       "           [0., 0., 0.,  ..., 0., 0., 0.]]],\n",
       " \n",
       " \n",
       "         [[[0., 0., 0.,  ..., 0., 0., 0.],\n",
       "           [0., 0., 0.,  ..., 0., 0., 0.],\n",
       "           [0., 0., 0.,  ..., 0., 0., 0.],\n",
       "           ...,\n",
       "           [0., 0., 0.,  ..., 0., 0., 0.],\n",
       "           [0., 0., 0.,  ..., 0., 0., 0.],\n",
       "           [0., 0., 0.,  ..., 0., 0., 0.]]],\n",
       " \n",
       " \n",
       "         [[[0., 0., 0.,  ..., 0., 0., 0.],\n",
       "           [0., 0., 0.,  ..., 0., 0., 0.],\n",
       "           [0., 0., 0.,  ..., 0., 0., 0.],\n",
       "           ...,\n",
       "           [0., 0., 0.,  ..., 0., 0., 0.],\n",
       "           [0., 0., 0.,  ..., 0., 0., 0.],\n",
       "           [0., 0., 0.,  ..., 0., 0., 0.]]],\n",
       " \n",
       " \n",
       "         ...,\n",
       " \n",
       " \n",
       "         [[[0., 0., 0.,  ..., 0., 0., 0.],\n",
       "           [0., 0., 0.,  ..., 0., 0., 0.],\n",
       "           [0., 0., 0.,  ..., 0., 0., 0.],\n",
       "           ...,\n",
       "           [0., 0., 0.,  ..., 0., 0., 0.],\n",
       "           [0., 0., 0.,  ..., 0., 0., 0.],\n",
       "           [0., 0., 0.,  ..., 0., 0., 0.]]],\n",
       " \n",
       " \n",
       "         [[[0., 0., 0.,  ..., 0., 0., 0.],\n",
       "           [0., 0., 0.,  ..., 0., 0., 0.],\n",
       "           [0., 0., 0.,  ..., 0., 0., 0.],\n",
       "           ...,\n",
       "           [0., 0., 0.,  ..., 0., 0., 0.],\n",
       "           [0., 0., 0.,  ..., 0., 0., 0.],\n",
       "           [0., 0., 0.,  ..., 0., 0., 0.]]],\n",
       " \n",
       " \n",
       "         [[[0., 0., 0.,  ..., 0., 0., 0.],\n",
       "           [0., 0., 0.,  ..., 0., 0., 0.],\n",
       "           [0., 0., 0.,  ..., 0., 0., 0.],\n",
       "           ...,\n",
       "           [0., 0., 0.,  ..., 0., 0., 0.],\n",
       "           [0., 0., 0.,  ..., 0., 0., 0.],\n",
       "           [0., 0., 0.,  ..., 0., 0., 0.]]]]),\n",
       " 'label': tensor([-1, -1, -1, -1, -1, -1, -1, -1, -1, -1, -1, -1, -1, -1, -1, -1])}"
      ]
     },
     "execution_count": 14,
     "metadata": {},
     "output_type": "execute_result"
    }
   ],
   "source": [
    "# 動作確認\n",
    "next(iter(dataloader[\"test\"]))  # 1番目の要素を取り出す\n"
   ]
  },
  {
   "cell_type": "markdown",
   "id": "82a0c13f",
   "metadata": {
    "papermill": {
     "duration": 0.043796,
     "end_time": "2022-03-01T09:09:01.750488",
     "exception": false,
     "start_time": "2022-03-01T09:09:01.706692",
     "status": "completed"
    },
    "tags": []
   },
   "source": [
    "# Model"
   ]
  },
  {
   "cell_type": "code",
   "execution_count": 15,
   "id": "ae17558f",
   "metadata": {
    "execution": {
     "iopub.execute_input": "2022-03-01T09:09:01.843966Z",
     "iopub.status.busy": "2022-03-01T09:09:01.842840Z",
     "iopub.status.idle": "2022-03-01T09:09:01.845224Z",
     "shell.execute_reply": "2022-03-01T09:09:01.845746Z",
     "shell.execute_reply.started": "2022-03-01T09:01:34.309982Z"
    },
    "papermill": {
     "duration": 0.051443,
     "end_time": "2022-03-01T09:09:01.845893",
     "exception": false,
     "start_time": "2022-03-01T09:09:01.794450",
     "status": "completed"
    },
    "tags": []
   },
   "outputs": [],
   "source": [
    "#https://www.kaggle.com/cdeotte/how-to-choose-cnn-architecture-mnist\n",
    "# 784 - [32C3-32C3-32C5S2] - [64C3-64C3-64C5S2] - 128 - 10\n",
    "# with 40% dropout, batch normalization, and data augmentation added"
   ]
  },
  {
   "cell_type": "code",
   "execution_count": 16,
   "id": "1d2ff5a7",
   "metadata": {
    "execution": {
     "iopub.execute_input": "2022-03-01T09:09:01.946639Z",
     "iopub.status.busy": "2022-03-01T09:09:01.945476Z",
     "iopub.status.idle": "2022-03-01T09:09:01.948001Z",
     "shell.execute_reply": "2022-03-01T09:09:01.948623Z",
     "shell.execute_reply.started": "2022-03-01T09:01:34.314629Z"
    },
    "papermill": {
     "duration": 0.060594,
     "end_time": "2022-03-01T09:09:01.948874",
     "exception": false,
     "start_time": "2022-03-01T09:09:01.888280",
     "status": "completed"
    },
    "tags": []
   },
   "outputs": [],
   "source": [
    "class CNN(torch.nn.Module):\n",
    "    def __init__(self):\n",
    "        super(CNN, self).__init__()\n",
    "        \n",
    "        self.conv=torch.nn.Sequential(\n",
    "            torch.nn.Conv2d(1,32,3),\n",
    "            torch.nn.ReLU(),\n",
    "            torch.nn.BatchNorm2d(32),\n",
    "            torch.nn.Conv2d(32,32,3),\n",
    "            torch.nn.ReLU(),\n",
    "            torch.nn.BatchNorm2d(32),\n",
    "            torch.nn.Conv2d(32,32,5,2),\n",
    "            torch.nn.ReLU(),\n",
    "            torch.nn.BatchNorm2d(32),\n",
    "            torch.nn.Dropout(0.4),\n",
    "            \n",
    "            torch.nn.Conv2d(32,64,3),\n",
    "            torch.nn.ReLU(),\n",
    "            torch.nn.BatchNorm2d(64),\n",
    "            torch.nn.Conv2d(64,64,3),\n",
    "            torch.nn.ReLU(),\n",
    "            torch.nn.BatchNorm2d(64),\n",
    "            torch.nn.Conv2d(64,64,5),\n",
    "            torch.nn.ReLU(),\n",
    "            torch.nn.BatchNorm2d(64),\n",
    "            torch.nn.Dropout(0.4),\n",
    "            \n",
    "        )\n",
    "        \n",
    "        self.flatten = torch.nn.Flatten()\n",
    "        \n",
    "        self.linear=torch.nn.Sequential(\n",
    "            torch.nn.Linear(256,10)\n",
    "        )\n",
    "        \n",
    "        self.softmax=torch.nn.Softmax(dim=0)\n",
    "\n",
    "    def forward(self, x):\n",
    "        x = self.conv(x)\n",
    "        x=self.flatten(x)\n",
    "        x=self.linear(x)\n",
    "        x=self.softmax(x)\n",
    "        return x"
   ]
  },
  {
   "cell_type": "code",
   "execution_count": 17,
   "id": "35f1e2db",
   "metadata": {
    "execution": {
     "iopub.execute_input": "2022-03-01T09:09:02.043754Z",
     "iopub.status.busy": "2022-03-01T09:09:02.042567Z",
     "iopub.status.idle": "2022-03-01T09:09:02.067041Z",
     "shell.execute_reply": "2022-03-01T09:09:02.067639Z",
     "shell.execute_reply.started": "2022-03-01T09:01:34.328459Z"
    },
    "papermill": {
     "duration": 0.076404,
     "end_time": "2022-03-01T09:09:02.067853",
     "exception": false,
     "start_time": "2022-03-01T09:09:01.991449",
     "status": "completed"
    },
    "tags": []
   },
   "outputs": [
    {
     "data": {
      "text/plain": [
       "CNN(\n",
       "  (conv): Sequential(\n",
       "    (0): Conv2d(1, 32, kernel_size=(3, 3), stride=(1, 1))\n",
       "    (1): ReLU()\n",
       "    (2): BatchNorm2d(32, eps=1e-05, momentum=0.1, affine=True, track_running_stats=True)\n",
       "    (3): Conv2d(32, 32, kernel_size=(3, 3), stride=(1, 1))\n",
       "    (4): ReLU()\n",
       "    (5): BatchNorm2d(32, eps=1e-05, momentum=0.1, affine=True, track_running_stats=True)\n",
       "    (6): Conv2d(32, 32, kernel_size=(5, 5), stride=(2, 2))\n",
       "    (7): ReLU()\n",
       "    (8): BatchNorm2d(32, eps=1e-05, momentum=0.1, affine=True, track_running_stats=True)\n",
       "    (9): Dropout(p=0.4, inplace=False)\n",
       "    (10): Conv2d(32, 64, kernel_size=(3, 3), stride=(1, 1))\n",
       "    (11): ReLU()\n",
       "    (12): BatchNorm2d(64, eps=1e-05, momentum=0.1, affine=True, track_running_stats=True)\n",
       "    (13): Conv2d(64, 64, kernel_size=(3, 3), stride=(1, 1))\n",
       "    (14): ReLU()\n",
       "    (15): BatchNorm2d(64, eps=1e-05, momentum=0.1, affine=True, track_running_stats=True)\n",
       "    (16): Conv2d(64, 64, kernel_size=(5, 5), stride=(1, 1))\n",
       "    (17): ReLU()\n",
       "    (18): BatchNorm2d(64, eps=1e-05, momentum=0.1, affine=True, track_running_stats=True)\n",
       "    (19): Dropout(p=0.4, inplace=False)\n",
       "  )\n",
       "  (flatten): Flatten(start_dim=1, end_dim=-1)\n",
       "  (linear): Sequential(\n",
       "    (0): Linear(in_features=256, out_features=10, bias=True)\n",
       "  )\n",
       "  (softmax): Softmax(dim=0)\n",
       ")"
      ]
     },
     "execution_count": 17,
     "metadata": {},
     "output_type": "execute_result"
    }
   ],
   "source": [
    "cnn=CNN()\n",
    "cnn.to(CFG.device)"
   ]
  },
  {
   "cell_type": "code",
   "execution_count": 18,
   "id": "da7f3f1c",
   "metadata": {
    "execution": {
     "iopub.execute_input": "2022-03-01T09:09:02.166498Z",
     "iopub.status.busy": "2022-03-01T09:09:02.165285Z",
     "iopub.status.idle": "2022-03-01T09:09:15.457867Z",
     "shell.execute_reply": "2022-03-01T09:09:15.457056Z",
     "shell.execute_reply.started": "2022-03-01T09:01:34.357563Z"
    },
    "papermill": {
     "duration": 13.345572,
     "end_time": "2022-03-01T09:09:15.458031",
     "exception": false,
     "start_time": "2022-03-01T09:09:02.112459",
     "status": "completed"
    },
    "tags": []
   },
   "outputs": [
    {
     "data": {
      "image/png": "[encoded data removed]",
      "text/plain": [
       "<Figure size 576x288 with 2 Axes>"
      ]
     },
     "metadata": {},
     "output_type": "display_data"
    },
    {
     "data": {
      "image/png": "[encoded data removed]",
      "text/plain": [
       "<Figure size 576x288 with 2 Axes>"
      ]
     },
     "metadata": {},
     "output_type": "display_data"
    },
    {
     "data": {
      "image/png": "[encoded data removed]",
      "text/plain": [
       "<Figure size 576x288 with 2 Axes>"
      ]
     },
     "metadata": {},
     "output_type": "display_data"
    },
    {
     "data": {
      "image/png": "[encoded data removed]",
      "text/plain": [
       "<Figure size 576x288 with 2 Axes>"
      ]
     },
     "metadata": {},
     "output_type": "display_data"
    },
    {
     "data": {
      "image/png": "[encoded data removed]",
      "text/plain": [
       "<Figure size 576x288 with 2 Axes>"
      ]
     },
     "metadata": {},
     "output_type": "display_data"
    },
    {
     "data": {
      "image/png": "[encoded data removed]",
      "text/plain": [
       "<Figure size 576x288 with 2 Axes>"
      ]
     },
     "metadata": {},
     "output_type": "display_data"
    },
    {
     "data": {
      "image/png": "[encoded data removed]",
      "text/plain": [
       "<Figure size 576x288 with 2 Axes>"
      ]
     },
     "metadata": {},
     "output_type": "display_data"
    },
    {
     "data": {
      "image/png": "[encoded data removed]",
      "text/plain": [
       "<Figure size 576x288 with 2 Axes>"
      ]
     },
     "metadata": {},
     "output_type": "display_data"
    },
    {
     "data": {
      "image/png": "[encoded data removed]",
      "text/plain": [
       "<Figure size 576x288 with 2 Axes>"
      ]
     },
     "metadata": {},
     "output_type": "display_data"
    },
    {
     "data": {
      "image/png": "[encoded data removed]",
      "text/plain": [
       "<Figure size 576x288 with 2 Axes>"
      ]
     },
     "metadata": {},
     "output_type": "display_data"
    },
    {
     "data": {
      "image/png": "[encoded data removed]",
      "text/plain": [
       "<Figure size 576x288 with 2 Axes>"
      ]
     },
     "metadata": {},
     "output_type": "display_data"
    },
    {
     "data": {
      "image/png": "[encoded data removed]",
      "text/plain": [
       "<Figure size 576x288 with 2 Axes>"
      ]
     },
     "metadata": {},
     "output_type": "display_data"
    },
    {
     "data": {
      "image/png": "[encoded data removed]",
      "text/plain": [
       "<Figure size 576x288 with 2 Axes>"
      ]
     },
     "metadata": {},
     "output_type": "display_data"
    },
    {
     "data": {
      "image/png": "[encoded data removed]",
      "text/plain": [
       "<Figure size 576x288 with 2 Axes>"
      ]
     },
     "metadata": {},
     "output_type": "display_data"
    },
    {
     "data": {
      "image/png": "[encoded data removed]",
      "text/plain": [
       "<Figure size 576x288 with 2 Axes>"
      ]
     },
     "metadata": {},
     "output_type": "display_data"
    },
    {
     "data": {
      "image/png": "[encoded data removed]",
      "text/plain": [
       "<Figure size 576x288 with 2 Axes>"
      ]
     },
     "metadata": {},
     "output_type": "display_data"
    }
   ],
   "source": [
    "for batch in dataloader['train']:\n",
    "    digit=batch['digit'].to(CFG.device)\n",
    "    target=batch['label'].to(CFG.device)\n",
    "    \n",
    "    pre=cnn(digit)\n",
    "    \n",
    "    for i in range(CFG.batch_size):\n",
    "        plt.figure(figsize=(8,4))\n",
    " \n",
    "        plt.subplot(1, 2, 1)\n",
    "        plt.imshow(batch['digit'][i,0,:,:])\n",
    "        plt.axis('off')\n",
    "        plt.title(f\"digit:[{target[i]}]\")\n",
    "\n",
    "        plt.subplot(1, 2, 2)\n",
    "        plt.bar(np.arange(10),\n",
    "                pre[i].cpu().detach().numpy(),\n",
    "                color=['red' if (x == np.argmax(pre[i].cpu().detach().numpy())) else 'grey' for x in range(10)]\n",
    "        )\n",
    "        plt.show()\n",
    "\n",
    "    break"
   ]
  },
  {
   "cell_type": "markdown",
   "id": "2f3d24fc",
   "metadata": {
    "papermill": {
     "duration": 0.059586,
     "end_time": "2022-03-01T09:09:15.578339",
     "exception": false,
     "start_time": "2022-03-01T09:09:15.518753",
     "status": "completed"
    },
    "tags": []
   },
   "source": [
    "# Trainer"
   ]
  },
  {
   "cell_type": "code",
   "execution_count": 19,
   "id": "5255ded3",
   "metadata": {
    "execution": {
     "iopub.execute_input": "2022-03-01T09:09:15.714335Z",
     "iopub.status.busy": "2022-03-01T09:09:15.705184Z",
     "iopub.status.idle": "2022-03-01T09:09:15.717579Z",
     "shell.execute_reply": "2022-03-01T09:09:15.716940Z",
     "shell.execute_reply.started": "2022-03-01T09:01:45.132121Z"
    },
    "papermill": {
     "duration": 0.079593,
     "end_time": "2022-03-01T09:09:15.717794",
     "exception": false,
     "start_time": "2022-03-01T09:09:15.638201",
     "status": "completed"
    },
    "tags": []
   },
   "outputs": [],
   "source": [
    "class Trainer():\n",
    "\n",
    "    def __init__(self):\n",
    "        self.loss_fun=torch.nn.CrossEntropyLoss()\n",
    "        self.score_fun=lambda pre,ground_truth:torch.eq(torch.argmax(pre),ground_truth)\n",
    "\n",
    "        self.optimizer=None\n",
    "        self.lr_scheduler=None\n",
    "        self.scaler=torch.cuda.amp.GradScaler(enabled=CFG.amp) \n",
    "\n",
    "    \n",
    "    def train_val_test(self,model,dataloader,phase,epoch=-1):\n",
    "\n",
    "        model.train() if phase=='train' else model.eval()   # モデルのモード\n",
    "        #model.to(CFG.device)\n",
    "\n",
    "        predictions=[]\n",
    "        losses=[]\n",
    "        scores=[]\n",
    "\n",
    "        # データローダーからミニバッチを取り出すループ\n",
    "\n",
    "        #tqdm_bar=io.StringIO() file=tqdm_bar,desc=f\"model description\\n{epoch} {phase}\"\n",
    "        for batch in tqdm(dataloader):\n",
    "            \n",
    "            # optimizerを初期化\n",
    "            if phase=='train':self.optimizer.zero_grad()\n",
    "\n",
    "            # 順伝搬（forward）計算\n",
    "            with torch.set_grad_enabled(phase=='train'):\n",
    " \n",
    "                digits = batch['digit'].to(CFG.device,non_blocking=True)\n",
    "                targets = batch['label'].to(CFG.device,non_blocking=True)\n",
    "\n",
    "                with torch.cuda.amp.autocast(enabled=CFG.amp):\n",
    "\n",
    "                    preds=model(digits)#,targets)\n",
    "\n",
    "                    if phase!='test':\n",
    "                        loss = self.loss_fun(preds,targets)  # 損失を計算\n",
    "                        losses.append(loss.item())\n",
    " \n",
    "                        score = self.score_fun(preds, targets).cpu().numpy()  # 正誤判定\n",
    "                        scores.extend(score)\n",
    "\n",
    "                # 訓練時はバックプロパゲーション\n",
    "                if phase == 'train':\n",
    "                    if CFG.amp:\n",
    "                        #scalerの場合\n",
    "                        self.scaler.scale(loss).backward() # ロスのバックワード\n",
    "                        self.scaler.step(self.optimizer) # オプティマイザーの更新\n",
    "                        self.scaler.update() # スケーラーの更新\n",
    "                    else:\n",
    "                        loss.backward()\n",
    "                        self.optimizer.step()\n",
    "\n",
    "            predictions.extend(np.argmax(preds.detach().cpu().numpy(),axis=1))\n",
    "\n",
    "            del preds\n",
    "            if phase!='test':del loss,score\n",
    "            torch.cuda.empty_cache()\n",
    "            gc.collect()\n",
    "\n",
    "        return predictions,losses,scores\n",
    "\n",
    "trainer=Trainer()"
   ]
  },
  {
   "cell_type": "markdown",
   "id": "abcf21ef",
   "metadata": {
    "papermill": {
     "duration": 0.057542,
     "end_time": "2022-03-01T09:09:15.834463",
     "exception": false,
     "start_time": "2022-03-01T09:09:15.776921",
     "status": "completed"
    },
    "tags": []
   },
   "source": [
    "submission"
   ]
  },
  {
   "cell_type": "code",
   "execution_count": 20,
   "id": "56b8e150",
   "metadata": {
    "execution": {
     "iopub.execute_input": "2022-03-01T09:09:16.058391Z",
     "iopub.status.busy": "2022-03-01T09:09:16.057130Z",
     "iopub.status.idle": "2022-03-01T09:15:23.366243Z",
     "shell.execute_reply": "2022-03-01T09:15:23.365585Z",
     "shell.execute_reply.started": "2022-03-01T09:01:45.149984Z"
    },
    "papermill": {
     "duration": 367.440878,
     "end_time": "2022-03-01T09:15:23.366418",
     "exception": false,
     "start_time": "2022-03-01T09:09:15.925540",
     "status": "completed"
    },
    "tags": []
   },
   "outputs": [
    {
     "name": "stderr",
     "output_type": "stream",
     "text": [
      "100%|██████████| 2100/2100 [06:07<00:00,  5.72it/s]\n"
     ]
    }
   ],
   "source": [
    "trainer.optimizer=torch.optim.SGD(cnn.parameters(), lr=0.01, momentum=0.9)\n",
    "predictions,losses,scores=trainer.train_val_test(cnn,dataloader['train'],'train',epoch=0)"
   ]
  },
  {
   "cell_type": "code",
   "execution_count": 21,
   "id": "f18ce9d3",
   "metadata": {
    "execution": {
     "iopub.execute_input": "2022-03-01T09:15:25.310170Z",
     "iopub.status.busy": "2022-03-01T09:15:25.308938Z",
     "iopub.status.idle": "2022-03-01T09:15:33.193366Z",
     "shell.execute_reply": "2022-03-01T09:15:33.192221Z",
     "shell.execute_reply.started": "2022-03-01T09:02:10.312818Z"
    },
    "papermill": {
     "duration": 8.85076,
     "end_time": "2022-03-01T09:15:33.193615",
     "exception": false,
     "start_time": "2022-03-01T09:15:24.342855",
     "status": "completed"
    },
    "tags": []
   },
   "outputs": [
    {
     "data": {
      "image/png": "[encoded data removed]",
      "text/plain": [
       "<Figure size 576x288 with 2 Axes>"
      ]
     },
     "metadata": {},
     "output_type": "display_data"
    },
    {
     "data": {
      "image/png": "[encoded data removed]",
      "text/plain": [
       "<Figure size 576x288 with 2 Axes>"
      ]
     },
     "metadata": {},
     "output_type": "display_data"
    },
    {
     "data": {
      "image/png": "[encoded data removed]",
      "text/plain": [
       "<Figure size 576x288 with 2 Axes>"
      ]
     },
     "metadata": {},
     "output_type": "display_data"
    },
    {
     "data": {
      "image/png": "[encoded data removed]",
      "text/plain": [
       "<Figure size 576x288 with 2 Axes>"
      ]
     },
     "metadata": {},
     "output_type": "display_data"
    },
    {
     "data": {
      "image/png": "[encoded data removed]",
      "text/plain": [
       "<Figure size 576x288 with 2 Axes>"
      ]
     },
     "metadata": {},
     "output_type": "display_data"
    },
    {
     "data": {
      "image/png": "[encoded data removed]",
      "text/plain": [
       "<Figure size 576x288 with 2 Axes>"
      ]
     },
     "metadata": {},
     "output_type": "display_data"
    },
    {
     "data": {
      "image/png": "[encoded data removed]",
      "text/plain": [
       "<Figure size 576x288 with 2 Axes>"
      ]
     },
     "metadata": {},
     "output_type": "display_data"
    },
    {
     "data": {
      "image/png": "[encoded data removed]",
      "text/plain": [
       "<Figure size 576x288 with 2 Axes>"
      ]
     },
     "metadata": {},
     "output_type": "display_data"
    },
    {
     "data": {
      "image/png": "[encoded data removed]",
      "text/plain": [
       "<Figure size 576x288 with 2 Axes>"
      ]
     },
     "metadata": {},
     "output_type": "display_data"
    },
    {
     "data": {
      "image/png": "[encoded data removed]",
      "text/plain": [
       "<Figure size 576x288 with 2 Axes>"
      ]
     },
     "metadata": {},
     "output_type": "display_data"
    },
    {
     "data": {
      "image/png": "[encoded data removed]",
      "text/plain": [
       "<Figure size 576x288 with 2 Axes>"
      ]
     },
     "metadata": {},
     "output_type": "display_data"
    },
    {
     "data": {
      "image/png": "[encoded data removed]",
      "text/plain": [
       "<Figure size 576x288 with 2 Axes>"
      ]
     },
     "metadata": {},
     "output_type": "display_data"
    },
    {
     "data": {
      "image/png": "[encoded data removed]",
      "text/plain": [
       "<Figure size 576x288 with 2 Axes>"
      ]
     },
     "metadata": {},
     "output_type": "display_data"
    },
    {
     "data": {
      "image/png": "[encoded data removed]",
      "text/plain": [
       "<Figure size 576x288 with 2 Axes>"
      ]
     },
     "metadata": {},
     "output_type": "display_data"
    },
    {
     "data": {
      "image/png": "[encoded data removed]",
      "text/plain": [
       "<Figure size 576x288 with 2 Axes>"
      ]
     },
     "metadata": {},
     "output_type": "display_data"
    },
    {
     "data": {
      "image/png": "[encoded data removed]",
      "text/plain": [
       "<Figure size 576x288 with 2 Axes>"
      ]
     },
     "metadata": {},
     "output_type": "display_data"
    }
   ],
   "source": [
    "for batch in dataloader['val']:\n",
    "    digit=batch['digit'].to(CFG.device)\n",
    "    target=batch['label'].to(CFG.device)\n",
    "    \n",
    "    pre=cnn(digit)\n",
    "    \n",
    "    for i in range(CFG.batch_size):\n",
    "        plt.figure(figsize=(8,4))\n",
    " \n",
    "        plt.subplot(1, 2, 1)\n",
    "        plt.imshow(batch['digit'][i,0,:,:])\n",
    "        plt.axis('off')\n",
    "        plt.title(f\"digit:[{target[i]}]\")\n",
    "\n",
    "        plt.subplot(1, 2, 2)\n",
    "        plt.bar(np.arange(10),\n",
    "                pre[i].cpu().detach().numpy(),\n",
    "                color=['red' if (x == np.argmax(pre[i].cpu().detach().numpy())) else 'grey' for x in range(10)]\n",
    "        )\n",
    "        plt.show()\n",
    "\n",
    "    break"
   ]
  },
  {
   "cell_type": "markdown",
   "id": "d04a68bb",
   "metadata": {
    "papermill": {
     "duration": 0.975346,
     "end_time": "2022-03-01T09:15:35.312080",
     "exception": false,
     "start_time": "2022-03-01T09:15:34.336734",
     "status": "completed"
    },
    "tags": []
   },
   "source": [
    "# Prediction"
   ]
  },
  {
   "cell_type": "code",
   "execution_count": 22,
   "id": "a524784b",
   "metadata": {
    "execution": {
     "iopub.execute_input": "2022-03-01T09:15:37.320650Z",
     "iopub.status.busy": "2022-03-01T09:15:37.319339Z",
     "iopub.status.idle": "2022-03-01T09:20:24.121496Z",
     "shell.execute_reply": "2022-03-01T09:20:24.122232Z",
     "shell.execute_reply.started": "2022-03-01T09:02:15.356927Z"
    },
    "papermill": {
     "duration": 287.840911,
     "end_time": "2022-03-01T09:20:24.122485",
     "exception": false,
     "start_time": "2022-03-01T09:15:36.281574",
     "status": "completed"
    },
    "tags": []
   },
   "outputs": [
    {
     "name": "stderr",
     "output_type": "stream",
     "text": [
      "100%|██████████| 1750/1750 [04:46<00:00,  6.10it/s]\n",
      "/opt/conda/lib/python3.7/site-packages/numpy/core/fromnumeric.py:3420: RuntimeWarning: Mean of empty slice.\n",
      "  out=out, **kwargs)\n",
      "/opt/conda/lib/python3.7/site-packages/numpy/core/_methods.py:188: RuntimeWarning: invalid value encountered in double_scalars\n",
      "  ret = ret.dtype.type(ret / rcount)\n"
     ]
    },
    {
     "data": {
      "text/plain": [
       "nan"
      ]
     },
     "execution_count": 22,
     "metadata": {},
     "output_type": "execute_result"
    }
   ],
   "source": [
    "predictions,losses,scores=trainer.train_val_test(cnn,dataloader['test'],'test',epoch=0)\n",
    "np.mean(scores)"
   ]
  },
  {
   "cell_type": "code",
   "execution_count": 23,
   "id": "f7a1fc8a",
   "metadata": {
    "execution": {
     "iopub.execute_input": "2022-03-01T09:20:27.959191Z",
     "iopub.status.busy": "2022-03-01T09:20:27.958090Z",
     "iopub.status.idle": "2022-03-01T09:20:27.971291Z",
     "shell.execute_reply": "2022-03-01T09:20:27.971881Z",
     "shell.execute_reply.started": "2022-03-01T09:05:22.350102Z"
    },
    "papermill": {
     "duration": 2.132284,
     "end_time": "2022-03-01T09:20:27.972046",
     "exception": false,
     "start_time": "2022-03-01T09:20:25.839762",
     "status": "completed"
    },
    "tags": []
   },
   "outputs": [
    {
     "data": {
      "text/html": [
       "<div>\n",
       "<style scoped>\n",
       "    .dataframe tbody tr th:only-of-type {\n",
       "        vertical-align: middle;\n",
       "    }\n",
       "\n",
       "    .dataframe tbody tr th {\n",
       "        vertical-align: top;\n",
       "    }\n",
       "\n",
       "    .dataframe thead th {\n",
       "        text-align: right;\n",
       "    }\n",
       "</style>\n",
       "<table border=\"1\" class=\"dataframe\">\n",
       "  <thead>\n",
       "    <tr style=\"text-align: right;\">\n",
       "      <th></th>\n",
       "      <th>Label</th>\n",
       "    </tr>\n",
       "    <tr>\n",
       "      <th>ImageId</th>\n",
       "      <th></th>\n",
       "    </tr>\n",
       "  </thead>\n",
       "  <tbody>\n",
       "    <tr>\n",
       "      <th>1</th>\n",
       "      <td>NaN</td>\n",
       "    </tr>\n",
       "    <tr>\n",
       "      <th>2</th>\n",
       "      <td>NaN</td>\n",
       "    </tr>\n",
       "    <tr>\n",
       "      <th>3</th>\n",
       "      <td>NaN</td>\n",
       "    </tr>\n",
       "    <tr>\n",
       "      <th>4</th>\n",
       "      <td>NaN</td>\n",
       "    </tr>\n",
       "    <tr>\n",
       "      <th>5</th>\n",
       "      <td>NaN</td>\n",
       "    </tr>\n",
       "    <tr>\n",
       "      <th>...</th>\n",
       "      <td>...</td>\n",
       "    </tr>\n",
       "    <tr>\n",
       "      <th>27996</th>\n",
       "      <td>NaN</td>\n",
       "    </tr>\n",
       "    <tr>\n",
       "      <th>27997</th>\n",
       "      <td>NaN</td>\n",
       "    </tr>\n",
       "    <tr>\n",
       "      <th>27998</th>\n",
       "      <td>NaN</td>\n",
       "    </tr>\n",
       "    <tr>\n",
       "      <th>27999</th>\n",
       "      <td>NaN</td>\n",
       "    </tr>\n",
       "    <tr>\n",
       "      <th>28000</th>\n",
       "      <td>NaN</td>\n",
       "    </tr>\n",
       "  </tbody>\n",
       "</table>\n",
       "<p>28000 rows × 1 columns</p>\n",
       "</div>"
      ],
      "text/plain": [
       "        Label\n",
       "ImageId      \n",
       "1         NaN\n",
       "2         NaN\n",
       "3         NaN\n",
       "4         NaN\n",
       "5         NaN\n",
       "...       ...\n",
       "27996     NaN\n",
       "27997     NaN\n",
       "27998     NaN\n",
       "27999     NaN\n",
       "28000     NaN\n",
       "\n",
       "[28000 rows x 1 columns]"
      ]
     },
     "execution_count": 23,
     "metadata": {},
     "output_type": "execute_result"
    }
   ],
   "source": [
    "submission=pd.DataFrame(index=sample_submission.index,columns=['Label'])\n",
    "submission"
   ]
  },
  {
   "cell_type": "code",
   "execution_count": 24,
   "id": "0180178a",
   "metadata": {
    "execution": {
     "iopub.execute_input": "2022-03-01T09:20:32.168840Z",
     "iopub.status.busy": "2022-03-01T09:20:32.143741Z",
     "iopub.status.idle": "2022-03-01T09:20:32.175314Z",
     "shell.execute_reply": "2022-03-01T09:20:32.174629Z",
     "shell.execute_reply.started": "2022-03-01T09:07:13.704353Z"
    },
    "papermill": {
     "duration": 1.933493,
     "end_time": "2022-03-01T09:20:32.175475",
     "exception": false,
     "start_time": "2022-03-01T09:20:30.241982",
     "status": "completed"
    },
    "tags": []
   },
   "outputs": [
    {
     "data": {
      "text/html": [
       "<div>\n",
       "<style scoped>\n",
       "    .dataframe tbody tr th:only-of-type {\n",
       "        vertical-align: middle;\n",
       "    }\n",
       "\n",
       "    .dataframe tbody tr th {\n",
       "        vertical-align: top;\n",
       "    }\n",
       "\n",
       "    .dataframe thead th {\n",
       "        text-align: right;\n",
       "    }\n",
       "</style>\n",
       "<table border=\"1\" class=\"dataframe\">\n",
       "  <thead>\n",
       "    <tr style=\"text-align: right;\">\n",
       "      <th></th>\n",
       "      <th>Label</th>\n",
       "    </tr>\n",
       "    <tr>\n",
       "      <th>ImageId</th>\n",
       "      <th></th>\n",
       "    </tr>\n",
       "  </thead>\n",
       "  <tbody>\n",
       "    <tr>\n",
       "      <th>1</th>\n",
       "      <td>2</td>\n",
       "    </tr>\n",
       "    <tr>\n",
       "      <th>2</th>\n",
       "      <td>6</td>\n",
       "    </tr>\n",
       "    <tr>\n",
       "      <th>3</th>\n",
       "      <td>8</td>\n",
       "    </tr>\n",
       "    <tr>\n",
       "      <th>4</th>\n",
       "      <td>6</td>\n",
       "    </tr>\n",
       "    <tr>\n",
       "      <th>5</th>\n",
       "      <td>1</td>\n",
       "    </tr>\n",
       "    <tr>\n",
       "      <th>...</th>\n",
       "      <td>...</td>\n",
       "    </tr>\n",
       "    <tr>\n",
       "      <th>27996</th>\n",
       "      <td>9</td>\n",
       "    </tr>\n",
       "    <tr>\n",
       "      <th>27997</th>\n",
       "      <td>0</td>\n",
       "    </tr>\n",
       "    <tr>\n",
       "      <th>27998</th>\n",
       "      <td>3</td>\n",
       "    </tr>\n",
       "    <tr>\n",
       "      <th>27999</th>\n",
       "      <td>9</td>\n",
       "    </tr>\n",
       "    <tr>\n",
       "      <th>28000</th>\n",
       "      <td>2</td>\n",
       "    </tr>\n",
       "  </tbody>\n",
       "</table>\n",
       "<p>28000 rows × 1 columns</p>\n",
       "</div>"
      ],
      "text/plain": [
       "         Label\n",
       "ImageId       \n",
       "1            2\n",
       "2            6\n",
       "3            8\n",
       "4            6\n",
       "5            1\n",
       "...        ...\n",
       "27996        9\n",
       "27997        0\n",
       "27998        3\n",
       "27999        9\n",
       "28000        2\n",
       "\n",
       "[28000 rows x 1 columns]"
      ]
     },
     "execution_count": 24,
     "metadata": {},
     "output_type": "execute_result"
    }
   ],
   "source": [
    "submission.Label=predictions\n",
    "submission"
   ]
  },
  {
   "cell_type": "code",
   "execution_count": 25,
   "id": "5c819dfd",
   "metadata": {
    "execution": {
     "iopub.execute_input": "2022-03-01T09:20:35.615082Z",
     "iopub.status.busy": "2022-03-01T09:20:35.614034Z",
     "iopub.status.idle": "2022-03-01T09:20:35.678666Z",
     "shell.execute_reply": "2022-03-01T09:20:35.678070Z"
    },
    "papermill": {
     "duration": 1.78978,
     "end_time": "2022-03-01T09:20:35.678878",
     "exception": false,
     "start_time": "2022-03-01T09:20:33.889098",
     "status": "completed"
    },
    "tags": []
   },
   "outputs": [],
   "source": [
    "submission.to_csv(\"submission.csv\",index=submission.index.name)"
   ]
  }
 ],
 "metadata": {
  "kernelspec": {
   "display_name": "Python 3",
   "language": "python",
   "name": "python3"
  },
  "language_info": {
   "codemirror_mode": {
    "name": "ipython",
    "version": 3
   },
   "file_extension": ".py",
   "mimetype": "text/x-python",
   "name": "python",
   "nbconvert_exporter": "python",
   "pygments_lexer": "ipython3",
   "version": "3.7.12"
  },
  "papermill": {
   "default_parameters": {},
   "duration": 727.782592,
   "end_time": "2022-03-01T09:20:40.621027",
   "environment_variables": {},
   "exception": null,
   "input_path": "__notebook__.ipynb",
   "output_path": "__notebook__.ipynb",
   "parameters": {},
   "start_time": "2022-03-01T09:08:32.838435",
   "version": "2.3.3"
  }
 },
 "nbformat": 4,
 "nbformat_minor": 5
}
