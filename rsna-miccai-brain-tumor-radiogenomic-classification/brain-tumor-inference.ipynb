{
 "cells": [
  {
   "cell_type": "code",
   "execution_count": 1,
   "id": "8bd6b777",
   "metadata": {
    "_cell_guid": "b1076dfc-b9ad-4769-8c92-a6c4dae69d19",
    "_uuid": "8f2839f25d086af736a60e9eeb907d3b93b6e0e5",
    "execution": {
     "iopub.execute_input": "2022-03-04T13:56:09.524270Z",
     "iopub.status.busy": "2022-03-04T13:56:09.522663Z",
     "iopub.status.idle": "2022-03-04T13:56:11.992717Z",
     "shell.execute_reply": "2022-03-04T13:56:11.991700Z",
     "shell.execute_reply.started": "2021-09-04T06:57:50.128569Z"
    },
    "papermill": {
     "duration": 2.490145,
     "end_time": "2022-03-04T13:56:11.992877",
     "exception": false,
     "start_time": "2022-03-04T13:56:09.502732",
     "status": "completed"
    },
    "tags": []
   },
   "outputs": [],
   "source": [
    "#defaul libraries\n",
    "#https://docs.python.org/ja/\n",
    "import os\n",
    "import sys\n",
    "import io\n",
    "\n",
    "import math\n",
    "import random\n",
    "import pprint\n",
    "import time\n",
    "import datetime\n",
    "import typing\n",
    "import json\n",
    "import glob\n",
    "import requests\n",
    "import warnings\n",
    "import gc\n",
    "from pprint import pprint\n",
    "import re\n",
    "\n",
    "import numpy as np #https://numpy.org/\n",
    "import pandas as pd #https://pandas.pydata.org/\n",
    "import sklearn #https://scikit-learn.org/stable/\n",
    "\n",
    "import matplotlib.pyplot as plt #https://matplotlib.org/stable/api/_as_gen/matplotlib.pyplot.html\n",
    "from matplotlib import animation, rc\n",
    "rc('animation', html='jshtml')\n",
    "%matplotlib inline\n",
    "\n",
    "import seaborn as sns\n",
    "sns.set()\n",
    "\n",
    "from tqdm.auto import tqdm #https://tqdm.github.io/\n",
    "\n",
    "import torch #https://pytorch.org/\n",
    "\n",
    "sys.path.append(\"../input/efficientnetpyttorch3d/EfficientNet-PyTorch-3D\")\n",
    "from efficientnet_pytorch_3d import EfficientNet3D\n",
    "\n",
    "# import torchvision\n",
    "import cv2\n",
    "from PIL import Image\n",
    "\n",
    "import pydicom"
   ]
  },
  {
   "cell_type": "code",
   "execution_count": 2,
   "id": "8ad47b46",
   "metadata": {
    "execution": {
     "iopub.execute_input": "2022-03-04T13:56:12.070021Z",
     "iopub.status.busy": "2022-03-04T13:56:12.069323Z",
     "iopub.status.idle": "2022-03-04T13:56:12.078400Z",
     "shell.execute_reply": "2022-03-04T13:56:12.078988Z",
     "shell.execute_reply.started": "2021-09-04T06:57:52.718658Z"
    },
    "papermill": {
     "duration": 0.071328,
     "end_time": "2022-03-04T13:56:12.079169",
     "exception": false,
     "start_time": "2022-03-04T13:56:12.007841",
     "status": "completed"
    },
    "tags": []
   },
   "outputs": [
    {
     "name": "stdout",
     "output_type": "stream",
     "text": [
      "cuda\n",
      "0\n",
      "Tesla P100-PCIE-16GB\n"
     ]
    }
   ],
   "source": [
    "class CFG():\n",
    "    \n",
    "    data_path=\"../input/rsna-miccai-brain-tumor-radiogenomic-classification/\"\n",
    "    debug=False\n",
    "    seed=0\n",
    "\n",
    "    device = torch.device('cuda' if torch.cuda.is_available() else 'cpu')\n",
    "    batch_size=4\n",
    "    epochs=10\n",
    "    learning_rate=0.1\n",
    "    kFold=5\n",
    "    \n",
    "    \n",
    "    image_size=128\n",
    "\n",
    "    #高速化関連\n",
    "    #https://qiita.com/sugulu_Ogawa_ISID/items/62f5f7adee083d96a587\n",
    "\n",
    "    #GPU 遅くなるらしい↓\n",
    "    torch.backends.cudnn.deterministic = True\n",
    "\n",
    "    #イテレーションごとのnnの順伝搬および誤差関数の 計算手法がある程度一定であれば、torch.backends.cudnn.benchmark = Trueで GPU での計算が高速化\n",
    "    #torch.backends.cudnn.benchmark = False\n",
    "\n",
    "\n",
    "def set_seed(seed=0):\n",
    "    random.seed(seed)\n",
    "    os.environ['PYTHONHASHSEED'] = str(seed)\n",
    "    np.random.seed(seed)\n",
    "    #tf.random.set_seed(seed)\n",
    "    torch.manual_seed(seed)\n",
    "    torch.cuda.manual_seed(seed)\n",
    "    torch.cuda.manual_seed_all(seed)\n",
    "\n",
    "set_seed(CFG.seed)\n",
    "\n",
    "print(CFG.device)\n",
    "if torch.cuda.is_available():\n",
    "    print(torch.cuda.current_device())\n",
    "    print(torch.cuda.get_device_name())\n"
   ]
  },
  {
   "cell_type": "code",
   "execution_count": 3,
   "id": "87e85e89",
   "metadata": {
    "execution": {
     "iopub.execute_input": "2022-03-04T13:56:12.115501Z",
     "iopub.status.busy": "2022-03-04T13:56:12.114946Z",
     "iopub.status.idle": "2022-03-04T13:56:12.117860Z",
     "shell.execute_reply": "2022-03-04T13:56:12.117438Z",
     "shell.execute_reply.started": "2021-09-04T06:57:52.799378Z"
    },
    "papermill": {
     "duration": 0.023175,
     "end_time": "2022-03-04T13:56:12.117968",
     "exception": false,
     "start_time": "2022-03-04T13:56:12.094793",
     "status": "completed"
    },
    "tags": []
   },
   "outputs": [],
   "source": [
    "def color(string,fg='DEFAULT',bg='DEFAULT',fg_rgb=None,bg_rgb=None,style='END'):\n",
    "    colors=['BLACK','RED','GREEN','YELLOW','BLUE','PURPLE','CYAN','WHITE','8','DEFAULT']\n",
    "    styles=['END','BOLD','2','3','UNDERLINE','5','6','REVERSE','INVISIBLE','9']\n",
    "\n",
    "    fg=f'\\033[3{colors.index(fg)}m'\n",
    "    bg=f'\\033[4{colors.index(bg)}m'\n",
    "    style=f'\\033[0{styles.index(style)}m'\n",
    "\n",
    "    if fg_rgb:fg=f\"\\033[38;2;{fg_rgb[0]};{fg_rgb[1]};{fg_rgb[2]}m\"\n",
    "    if bg_rgb:bg=f\"\\033[48;2;{bg_rgb[0]};{bg_rgb[1]};{bg_rgb[2]}m\"\n",
    "\n",
    "    return style+fg+bg+str(string)+'\\033[0m'"
   ]
  },
  {
   "cell_type": "code",
   "execution_count": 4,
   "id": "8d4acf44",
   "metadata": {
    "execution": {
     "iopub.execute_input": "2022-03-04T13:56:12.151800Z",
     "iopub.status.busy": "2022-03-04T13:56:12.151198Z",
     "iopub.status.idle": "2022-03-04T13:56:12.170690Z",
     "shell.execute_reply": "2022-03-04T13:56:12.171223Z",
     "shell.execute_reply.started": "2021-09-04T06:57:52.809276Z"
    },
    "papermill": {
     "duration": 0.038633,
     "end_time": "2022-03-04T13:56:12.171379",
     "exception": false,
     "start_time": "2022-03-04T13:56:12.132746",
     "status": "completed"
    },
    "tags": []
   },
   "outputs": [],
   "source": [
    "labels={'test':None}\n",
    "labels['test']=pd.read_csv(os.path.join(CFG.data_path,\"sample_submission.csv\"),index_col='BraTS21ID')\n",
    "if CFG.debug:\n",
    "    labels['test']=labels['test'].sample(frac=0.1)"
   ]
  },
  {
   "cell_type": "code",
   "execution_count": 5,
   "id": "b1d78e90",
   "metadata": {
    "execution": {
     "iopub.execute_input": "2022-03-04T13:56:12.207125Z",
     "iopub.status.busy": "2022-03-04T13:56:12.206467Z",
     "iopub.status.idle": "2022-03-04T13:56:12.209942Z",
     "shell.execute_reply": "2022-03-04T13:56:12.209485Z",
     "shell.execute_reply.started": "2021-09-04T06:57:52.832487Z"
    },
    "papermill": {
     "duration": 0.023423,
     "end_time": "2022-03-04T13:56:12.210044",
     "exception": false,
     "start_time": "2022-03-04T13:56:12.186621",
     "status": "completed"
    },
    "tags": []
   },
   "outputs": [],
   "source": [
    "labels['test'][\"path\"] = [\n",
    "    os.path.join(*[CFG.data_path,'test',str(index).zfill(5)]) for index in labels['test'].index\n",
    "]"
   ]
  },
  {
   "cell_type": "code",
   "execution_count": 6,
   "id": "4355c4fd",
   "metadata": {
    "execution": {
     "iopub.execute_input": "2022-03-04T13:56:12.246188Z",
     "iopub.status.busy": "2022-03-04T13:56:12.245475Z",
     "iopub.status.idle": "2022-03-04T13:56:12.259711Z",
     "shell.execute_reply": "2022-03-04T13:56:12.260151Z",
     "shell.execute_reply.started": "2021-09-04T06:57:52.841576Z"
    },
    "papermill": {
     "duration": 0.035443,
     "end_time": "2022-03-04T13:56:12.260282",
     "exception": false,
     "start_time": "2022-03-04T13:56:12.224839",
     "status": "completed"
    },
    "tags": []
   },
   "outputs": [
    {
     "data": {
      "text/html": [
       "<div>\n",
       "<style scoped>\n",
       "    .dataframe tbody tr th:only-of-type {\n",
       "        vertical-align: middle;\n",
       "    }\n",
       "\n",
       "    .dataframe tbody tr th {\n",
       "        vertical-align: top;\n",
       "    }\n",
       "\n",
       "    .dataframe thead th {\n",
       "        text-align: right;\n",
       "    }\n",
       "</style>\n",
       "<table border=\"1\" class=\"dataframe\">\n",
       "  <thead>\n",
       "    <tr style=\"text-align: right;\">\n",
       "      <th></th>\n",
       "      <th>MGMT_value</th>\n",
       "      <th>path</th>\n",
       "    </tr>\n",
       "    <tr>\n",
       "      <th>BraTS21ID</th>\n",
       "      <th></th>\n",
       "      <th></th>\n",
       "    </tr>\n",
       "  </thead>\n",
       "  <tbody>\n",
       "    <tr>\n",
       "      <th>1</th>\n",
       "      <td>0.5</td>\n",
       "      <td>../input/rsna-miccai-brain-tumor-radiogenomic-...</td>\n",
       "    </tr>\n",
       "    <tr>\n",
       "      <th>13</th>\n",
       "      <td>0.5</td>\n",
       "      <td>../input/rsna-miccai-brain-tumor-radiogenomic-...</td>\n",
       "    </tr>\n",
       "    <tr>\n",
       "      <th>15</th>\n",
       "      <td>0.5</td>\n",
       "      <td>../input/rsna-miccai-brain-tumor-radiogenomic-...</td>\n",
       "    </tr>\n",
       "    <tr>\n",
       "      <th>27</th>\n",
       "      <td>0.5</td>\n",
       "      <td>../input/rsna-miccai-brain-tumor-radiogenomic-...</td>\n",
       "    </tr>\n",
       "    <tr>\n",
       "      <th>37</th>\n",
       "      <td>0.5</td>\n",
       "      <td>../input/rsna-miccai-brain-tumor-radiogenomic-...</td>\n",
       "    </tr>\n",
       "    <tr>\n",
       "      <th>...</th>\n",
       "      <td>...</td>\n",
       "      <td>...</td>\n",
       "    </tr>\n",
       "    <tr>\n",
       "      <th>826</th>\n",
       "      <td>0.5</td>\n",
       "      <td>../input/rsna-miccai-brain-tumor-radiogenomic-...</td>\n",
       "    </tr>\n",
       "    <tr>\n",
       "      <th>829</th>\n",
       "      <td>0.5</td>\n",
       "      <td>../input/rsna-miccai-brain-tumor-radiogenomic-...</td>\n",
       "    </tr>\n",
       "    <tr>\n",
       "      <th>833</th>\n",
       "      <td>0.5</td>\n",
       "      <td>../input/rsna-miccai-brain-tumor-radiogenomic-...</td>\n",
       "    </tr>\n",
       "    <tr>\n",
       "      <th>997</th>\n",
       "      <td>0.5</td>\n",
       "      <td>../input/rsna-miccai-brain-tumor-radiogenomic-...</td>\n",
       "    </tr>\n",
       "    <tr>\n",
       "      <th>1006</th>\n",
       "      <td>0.5</td>\n",
       "      <td>../input/rsna-miccai-brain-tumor-radiogenomic-...</td>\n",
       "    </tr>\n",
       "  </tbody>\n",
       "</table>\n",
       "<p>87 rows × 2 columns</p>\n",
       "</div>"
      ],
      "text/plain": [
       "           MGMT_value                                               path\n",
       "BraTS21ID                                                               \n",
       "1                 0.5  ../input/rsna-miccai-brain-tumor-radiogenomic-...\n",
       "13                0.5  ../input/rsna-miccai-brain-tumor-radiogenomic-...\n",
       "15                0.5  ../input/rsna-miccai-brain-tumor-radiogenomic-...\n",
       "27                0.5  ../input/rsna-miccai-brain-tumor-radiogenomic-...\n",
       "37                0.5  ../input/rsna-miccai-brain-tumor-radiogenomic-...\n",
       "...               ...                                                ...\n",
       "826               0.5  ../input/rsna-miccai-brain-tumor-radiogenomic-...\n",
       "829               0.5  ../input/rsna-miccai-brain-tumor-radiogenomic-...\n",
       "833               0.5  ../input/rsna-miccai-brain-tumor-radiogenomic-...\n",
       "997               0.5  ../input/rsna-miccai-brain-tumor-radiogenomic-...\n",
       "1006              0.5  ../input/rsna-miccai-brain-tumor-radiogenomic-...\n",
       "\n",
       "[87 rows x 2 columns]"
      ]
     },
     "execution_count": 6,
     "metadata": {},
     "output_type": "execute_result"
    }
   ],
   "source": [
    "labels['test']"
   ]
  },
  {
   "cell_type": "code",
   "execution_count": 7,
   "id": "5fc58e38",
   "metadata": {
    "execution": {
     "iopub.execute_input": "2022-03-04T13:56:12.315143Z",
     "iopub.status.busy": "2022-03-04T13:56:12.314508Z",
     "iopub.status.idle": "2022-03-04T13:56:12.530507Z",
     "shell.execute_reply": "2022-03-04T13:56:12.531358Z",
     "shell.execute_reply.started": "2021-09-04T06:57:52.862182Z"
    },
    "papermill": {
     "duration": 0.254408,
     "end_time": "2022-03-04T13:56:12.531630",
     "exception": false,
     "start_time": "2022-03-04T13:56:12.277222",
     "status": "completed"
    },
    "tags": []
   },
   "outputs": [
    {
     "data": {
      "image/png": "[encoded data removed]",
      "text/plain": [
       "<Figure size 360x360 with 1 Axes>"
      ]
     },
     "metadata": {},
     "output_type": "display_data"
    }
   ],
   "source": [
    "plt.figure(figsize=(5, 5))\n",
    "sns.countplot(data=labels['test'], x=\"MGMT_value\");"
   ]
  },
  {
   "cell_type": "code",
   "execution_count": 8,
   "id": "e339bcb5",
   "metadata": {
    "execution": {
     "iopub.execute_input": "2022-03-04T13:56:12.595452Z",
     "iopub.status.busy": "2022-03-04T13:56:12.594532Z",
     "iopub.status.idle": "2022-03-04T13:56:12.638307Z",
     "shell.execute_reply": "2022-03-04T13:56:12.639305Z",
     "shell.execute_reply.started": "2021-09-04T06:57:52.994195Z"
    },
    "papermill": {
     "duration": 0.081209,
     "end_time": "2022-03-04T13:56:12.639475",
     "exception": false,
     "start_time": "2022-03-04T13:56:12.558266",
     "status": "completed"
    },
    "tags": []
   },
   "outputs": [],
   "source": [
    "class Dataset(torch.utils.data.Dataset):\n",
    "    def __init__(self,labels,phase='train',image_size=None):\n",
    "        self.labels=labels\n",
    "        self.phase=phase #train/val/test\n",
    "        self.remove_black_boundary=True\n",
    "        self.image_size=image_size\n",
    "        \n",
    "    def __len__(self):\n",
    "        return len(self.labels)\n",
    "    \n",
    "    def images_path(self,BraTS21ID):\n",
    "        \"\"\"BraTS21ID に対応する患者のMRI画像のpathをまとめた DataFrame を返す\"\"\"\n",
    "        df={\"FLAIR\":None,\"T1w\":None,\"T1wCE\":None,\"T2w\":None}\n",
    "        for mri_type in [\"FLAIR\",\"T1w\",\"T1wCE\",\"T2w\"]:\n",
    "            #print(os.path.join(self.labels.loc[BraTS21ID].path,mri_type))\n",
    "            folder_path=os.path.join(self.labels.loc[BraTS21ID].path,mri_type)\n",
    "            dcm_files = os.listdir(folder_path)\n",
    "            tmp_df = pd.DataFrame(\n",
    "                {'image_path':[os.path.join(folder_path,dcm_file) for dcm_file in dcm_files]},\n",
    "                index=[int(re.search('(\\d+)',a).group()) for a in dcm_files],\n",
    "            )\n",
    "            tmp_df.sort_index(inplace=True)\n",
    "            df[mri_type]=tmp_df\n",
    "        return df\n",
    "    \n",
    "    def load_dicom(self,path,voi_lut=True,remove_black_boundary=True):\n",
    "        \"\"\"path で指定した MRI画像 を返す\"\"\"\n",
    "        dicom = pydicom.read_file(path)\n",
    "        data = dicom.pixel_array\n",
    "        \n",
    "        # VOI LUT (if available by DICOM device) is used to\n",
    "        # transform raw DICOM data to \"human-friendly\" view\n",
    "        if voi_lut:data = pydicom.pixel_data_handlers.util.apply_voi_lut(data, dicom)#??????????????\n",
    "        \n",
    "        # depending on this value, X-ray may look inverted - fix that:\n",
    "        if dicom.PhotometricInterpretation == \"MONOCHROME1\":\n",
    "            print('inverted')\n",
    "            data = np.amax(data) - data\n",
    "        \n",
    "        data=data.astype(np.float32)\n",
    "        data = data-np.min(data)\n",
    "        if np.max(data)!=0 : data/=np.max(data)\n",
    "        #data = (data * 255).astype(np.uint8)\n",
    "        return cv2.resize(data, (CFG.image_size, CFG.image_size))\n",
    "\n",
    "    def __getitem__(self,BraTS21ID):\n",
    "        #print(f'fetching:{BraTS21ID}')\n",
    "        df=self.images_path(BraTS21ID)\n",
    "        mri_images={\n",
    "            \"FLAIR\":np.ndarray((0,CFG.image_size,CFG.image_size),dtype=np.int),\n",
    "            \"T1w\"  :np.ndarray((0,CFG.image_size,CFG.image_size),dtype=np.int),\n",
    "            \"T1wCE\":np.ndarray((0,CFG.image_size,CFG.image_size),dtype=np.int),\n",
    "            \"T2w\"  :np.ndarray((0,CFG.image_size,CFG.image_size),dtype=np.int)\n",
    "        }\n",
    "        #3次元ndarrayに画像を一枚ずつ追加\n",
    "        for mri_type in [\"FLAIR\",\"T1w\",\"T1wCE\",\"T2w\"]:\n",
    "            \n",
    "            #plane決定\n",
    "            ImageOrientationPatient=pydicom.read_file(df[mri_type].image_path.iloc[0]).get('ImageOrientationPatient')\n",
    "            ImageOrientationPatient=np.round(ImageOrientationPatient)[[0,1,3,4]]\n",
    "            \n",
    "            orientation='unknown'\n",
    "            if (ImageOrientationPatient==[1,0,0,0]).all():orientation=\"Coronal\"\n",
    "            if (ImageOrientationPatient==[0,1,0,0]).all():orientation=\"Sagittal\"\n",
    "            if (ImageOrientationPatient==[1,0,0,1]).all():orientation=\"Axial\"\n",
    "            #print(orientation)\n",
    "\n",
    "            #画像まとめる\n",
    "            for image_path in df[mri_type].image_path:\n",
    "                image=self.load_dicom(image_path)\n",
    "                image=np.reshape(image,(1,CFG.image_size,CFG.image_size)) # reshapeで追加先と同じ次元数にする\n",
    "                mri_images[mri_type] = np.append(mri_images[mri_type], np.atleast_3d(image), axis=0)\n",
    "            \n",
    "                \n",
    "            #真っ黒な画像　＆　周りの黒い領域を消す\n",
    "            #self.remove_black_boundary:\n",
    "            t,x,y=np.where(mri_images[mri_type]>0)\n",
    "            ###train 123 T1w T2w 真っ暗\n",
    "            if (len(t) == 0 or len(x) == 0 or len(y) == 0) : pass\n",
    "            #if self.frame_per_brain and (np.max(t) - np.min(t)) < self.frame_per_brain : pass\n",
    "            #if (np.max(x) - np.min(x)) < 10 : pass\n",
    "            #if (np.max(y) - np.min(y)) < 10 : pass\n",
    "            mri_images[mri_type]=mri_images[mri_type][np.min(t):np.max(t),np.min(x):np.max(x),np.min(y):np.max(y)]\n",
    "\n",
    "            \n",
    "            #xかyに合わせて拡大 (脳の前後を画像サイズに合わせる) coronalの場合は80%\n",
    "            t,x,y=np.shape(mri_images[mri_type])\n",
    "            enlarged_x=int(x/max(x,y)*CFG.image_size*(1 if orientation!='Coronal' else 0.8))\n",
    "            enlarged_y=int(y/max(x,y)*CFG.image_size*(1 if orientation!='Coronal' else 0.8))\n",
    "\n",
    "            enlarged_mri_images = np.zeros((t,enlarged_x,enlarged_y))\n",
    "            for idx,image in enumerate(mri_images[mri_type]):\n",
    "                enlarged_mri_images[idx,:,:] = cv2.resize(image.astype('float32') ,(enlarged_y,enlarged_x),interpolation=cv2.INTER_CUBIC)\n",
    "            mri_images[mri_type]=enlarged_mri_images\n",
    "\n",
    "            \n",
    "            #時間軸の画像枚数を変換\n",
    "            image_t_num=self.image_size\n",
    "            if orientation=='Sagittal':image_t_num=int(image_t_num*0.8)\n",
    "            modified_mri_images = np.zeros((\n",
    "                image_t_num,\n",
    "                np.shape(mri_images[mri_type])[1],\n",
    "                np.shape(mri_images[mri_type])[2],\n",
    "            ))\n",
    "            \n",
    "            for i in range(image_t_num):\n",
    "                frame=(np.shape(mri_images[mri_type])[0]-1)/(image_t_num-1)*i\n",
    "                rate=frame-int(frame)\n",
    "                #print(i,frame,rate)\n",
    "\n",
    "                if abs(rate)<1e-5:modified_mri_images[i,:,:]=mri_images[mri_type][int(frame)]\n",
    "                else:modified_mri_images[i,:,:]=mri_images[mri_type][int(frame)]*(1-rate)+mri_images[mri_type][int(frame)+1]*rate#\n",
    "\n",
    "            mri_images[mri_type]=modified_mri_images\n",
    "            \n",
    "            #Axialになるよう反転\n",
    "            #print(np.shape(mri_images[mri_type]))\n",
    "            if orientation=='Axial':mri_images[mri_type]=np.flip(mri_images[mri_type],0)\n",
    "            if orientation=='Sagittal':mri_images[mri_type]=np.flip(mri_images[mri_type].transpose(1,2,0),2)\n",
    "            if orientation=='Coronal':mri_images[mri_type]=np.flip(mri_images[mri_type].transpose(1,0,2),1)\n",
    "                \n",
    "            #反転後の時間軸の画像枚数を調整\n",
    "            modified_mri_images = np.zeros((\n",
    "                self.image_size,\n",
    "                np.shape(mri_images[mri_type])[1],\n",
    "                np.shape(mri_images[mri_type])[2],\n",
    "            ))\n",
    "\n",
    "            for i in range(self.image_size):\n",
    "                frame=(np.shape(mri_images[mri_type])[0]-1)/(self.image_size-1)*i\n",
    "                rate=frame-int(frame)\n",
    "                #print(i,frame,rate)\n",
    "\n",
    "                if abs(rate)<1e-5:modified_mri_images[i,:,:]=mri_images[mri_type][int(frame)]\n",
    "                else:modified_mri_images[i,:,:]=mri_images[mri_type][int(frame)]*(1-rate)+mri_images[mri_type][int(frame)+1]*rate##\n",
    "\n",
    "            mri_images[mri_type]=modified_mri_images\n",
    "\n",
    "\n",
    "            #切り取ったあと周りを追加して256×256に\n",
    "            t,x,y=np.shape(mri_images[mri_type])\n",
    "            padding=[\n",
    "                ((CFG.image_size-t)//2,(CFG.image_size-t+1)//2),#(0,0),\n",
    "                ((CFG.image_size-x)//2,(CFG.image_size-x+1)//2),\n",
    "                ((CFG.image_size-y)//2,(CFG.image_size-y+1)//2)\n",
    "            ]#paddingの大きさ\n",
    "            mri_images[mri_type]=np.pad(mri_images[mri_type],padding,'constant')\n",
    "            \n",
    "            #min-max normalization\n",
    "            ma=np.max(mri_images[mri_type])\n",
    "            mi=np.min(mri_images[mri_type])\n",
    "            mri_images[mri_type]=(mri_images[mri_type]-mi)/(ma-mi)\n",
    "            \n",
    "            mri_images[mri_type]=mri_images[mri_type][range(0,CFG.image_size,2)]\n",
    "                \n",
    "        return mri_images,self.labels.MGMT_value.loc[BraTS21ID]"
   ]
  },
  {
   "cell_type": "code",
   "execution_count": 9,
   "id": "0451447f",
   "metadata": {
    "execution": {
     "iopub.execute_input": "2022-03-04T13:56:12.697330Z",
     "iopub.status.busy": "2022-03-04T13:56:12.695666Z",
     "iopub.status.idle": "2022-03-04T13:56:12.698705Z",
     "shell.execute_reply": "2022-03-04T13:56:12.698087Z",
     "shell.execute_reply.started": "2021-09-04T06:57:53.029302Z"
    },
    "papermill": {
     "duration": 0.033345,
     "end_time": "2022-03-04T13:56:12.698849",
     "exception": false,
     "start_time": "2022-03-04T13:56:12.665504",
     "status": "completed"
    },
    "tags": []
   },
   "outputs": [],
   "source": [
    "dataset={\n",
    "    'test':Dataset(labels['test'],'test',image_size=CFG.image_size),\n",
    "}"
   ]
  },
  {
   "cell_type": "code",
   "execution_count": 10,
   "id": "aea98019",
   "metadata": {
    "execution": {
     "iopub.execute_input": "2022-03-04T13:56:12.758905Z",
     "iopub.status.busy": "2022-03-04T13:56:12.758001Z",
     "iopub.status.idle": "2022-03-04T13:56:12.763456Z",
     "shell.execute_reply": "2022-03-04T13:56:12.764195Z",
     "shell.execute_reply.started": "2021-09-04T06:57:53.042717Z"
    },
    "papermill": {
     "duration": 0.040259,
     "end_time": "2022-03-04T13:56:12.764355",
     "exception": false,
     "start_time": "2022-03-04T13:56:12.724096",
     "status": "completed"
    },
    "tags": []
   },
   "outputs": [],
   "source": [
    "class Sampler(torch.utils.data.Sampler):\n",
    "    def __init__(self, indice):\n",
    "        self.indice=indice\n",
    "    def __iter__(self):\n",
    "        for index in self.indice:yield index\n",
    "\n",
    "def collate_fn(batch):\n",
    "    #print(\"collate_fn\")\n",
    "    mri_images,MGMT_value= list(zip(*batch))\n",
    "    #mri_images[0][\"FLAIR\"]\n",
    "    all_mri_images=[]#(4,frame_per_brain,256,256)のtensorのリスト\n",
    "    \n",
    "    for idx in range(len(MGMT_value)):\n",
    "        mri_image_tensor=[]\n",
    "        for mri_type in [\"FLAIR\",\"T1w\",\"T1wCE\",\"T2w\"]:\n",
    "            mri_image_tensor.append(torch.tensor(mri_images[idx][mri_type]))\n",
    "        all_mri_images.append(torch.stack(mri_image_tensor))\n",
    "\n",
    "    batch_image=all_mri_images[0].unsqueeze(0) if len(all_mri_images)==1 else torch.stack(all_mri_images)\n",
    "    #(batch_size,4,frame_per_brain,256,256)\n",
    "    return batch_image.float(),torch.tensor(MGMT_value).float()\n",
    "\n",
    "def set_dataloader():\n",
    "    global dataloader\n",
    "    dataloader={\n",
    "        'test':\n",
    "        torch.utils.data.DataLoader(\n",
    "            dataset['test'],\n",
    "            batch_size=CFG.batch_size,\n",
    "            sampler=Sampler(list(labels['test'].index)),\n",
    "            collate_fn=collate_fn,\n",
    "            num_workers=2,#os.cpu_count(),\n",
    "            pin_memory=True\n",
    "        )\n",
    "    }\n",
    "set_dataloader()"
   ]
  },
  {
   "cell_type": "code",
   "execution_count": 11,
   "id": "775c986f",
   "metadata": {
    "execution": {
     "iopub.execute_input": "2022-03-04T13:56:12.819792Z",
     "iopub.status.busy": "2022-03-04T13:56:12.818940Z",
     "iopub.status.idle": "2022-03-04T13:56:12.823443Z",
     "shell.execute_reply": "2022-03-04T13:56:12.824050Z",
     "shell.execute_reply.started": "2021-09-04T06:57:53.056696Z"
    },
    "papermill": {
     "duration": 0.034859,
     "end_time": "2022-03-04T13:56:12.824221",
     "exception": false,
     "start_time": "2022-03-04T13:56:12.789362",
     "status": "completed"
    },
    "tags": []
   },
   "outputs": [],
   "source": [
    "# class Model(torch.nn.Module):\n",
    "#     def __init__(self):\n",
    "#         super().__init__()\n",
    "#         self.FLAIR = EfficientNet3D.from_name(\"efficientnet-b0\", override_params={'num_classes': 2}, in_channels=1)\n",
    "#         self.T1w   = EfficientNet3D.from_name(\"efficientnet-b0\", override_params={'num_classes': 2}, in_channels=1)\n",
    "#         self.T1wCE = EfficientNet3D.from_name(\"efficientnet-b0\", override_params={'num_classes': 2}, in_channels=1)\n",
    "#         self.T2w   = EfficientNet3D.from_name(\"efficientnet-b0\", override_params={'num_classes': 2}, in_channels=1)\n",
    "#         n_features = self.FLAIR._fc.in_features\n",
    "#         self.FLAIR._fc  = torch.nn.Linear(in_features=n_features, out_features=1, bias=True)\n",
    "#         self.T1w._fc    = torch.nn.Linear(in_features=n_features, out_features=1, bias=True)\n",
    "#         self.T1wCE._fc = torch.nn.Linear(in_features=n_features, out_features=1, bias=True)\n",
    "#         self.T2w._fc    = torch.nn.Linear(in_features=n_features, out_features=1, bias=True)\n",
    "        \n",
    "#         self.fc    = torch.nn.Linear(in_features=4, out_features=1, bias=True)\n",
    "        \n",
    "#         #self.sigmoid=torch.nn.Sigmoid()\n",
    "        \n",
    "    \n",
    "#     def forward(self, x):\n",
    "        \n",
    "#         #x (batch_size,channel,x,y,z)?\n",
    "#         out1 = self.FLAIR(x[:,0,:,:,:].unsqueeze(1))\n",
    "#         out2 = self.T1w(x[:,1,:,:,:].unsqueeze(1))\n",
    "#         out3 = self.T1wCE(x[:,2,:,:,:].unsqueeze(1))\n",
    "#         out4 = self.T2w(x[:,3,:,:,:].unsqueeze(1))\n",
    "        \n",
    "# #         print(out1.shape)\n",
    "# #         print(torch.cat((out1,out2,out3,out4),-1))\n",
    "#         return self.fc(torch.cat((out1,out2,out3,out4),-1))\n",
    "\n",
    "    \n",
    "# model=Model()\n",
    "# model.to(CFG.device)\n",
    "# model.load_state_dict(torch.load('../input/brain-tumor-radiogenomic-classification/4models.pt'))"
   ]
  },
  {
   "cell_type": "code",
   "execution_count": 12,
   "id": "4a212bb5",
   "metadata": {
    "execution": {
     "iopub.execute_input": "2022-03-04T13:56:12.883043Z",
     "iopub.status.busy": "2022-03-04T13:56:12.882401Z",
     "iopub.status.idle": "2022-03-04T13:56:17.656246Z",
     "shell.execute_reply": "2022-03-04T13:56:17.656680Z",
     "shell.execute_reply.started": "2021-09-04T06:57:59.742469Z"
    },
    "papermill": {
     "duration": 4.805445,
     "end_time": "2022-03-04T13:56:17.656843",
     "exception": false,
     "start_time": "2022-03-04T13:56:12.851398",
     "status": "completed"
    },
    "tags": []
   },
   "outputs": [
    {
     "data": {
      "text/plain": [
       "<All keys matched successfully>"
      ]
     },
     "execution_count": 12,
     "metadata": {},
     "output_type": "execute_result"
    }
   ],
   "source": [
    "model=EfficientNet3D.from_name(\"efficientnet-b0\", override_params={'num_classes': 2}, in_channels=1)\n",
    "n_features = model._fc.in_features\n",
    "model._fc = torch.nn.Linear(in_features=n_features, out_features=1, bias=True)\n",
    "model.to(CFG.device)\n",
    "\n",
    "model.load_state_dict(torch.load('../input/brain-tumor-radiogenomic-classification/model_ver32.pt'))"
   ]
  },
  {
   "cell_type": "code",
   "execution_count": 13,
   "id": "5d80aa5c",
   "metadata": {
    "execution": {
     "iopub.execute_input": "2022-03-04T13:56:17.698420Z",
     "iopub.status.busy": "2022-03-04T13:56:17.697630Z",
     "iopub.status.idle": "2022-03-04T13:56:17.700389Z",
     "shell.execute_reply": "2022-03-04T13:56:17.699942Z",
     "shell.execute_reply.started": "2021-09-04T06:57:59.748012Z"
    },
    "papermill": {
     "duration": 0.026897,
     "end_time": "2022-03-04T13:56:17.700488",
     "exception": false,
     "start_time": "2022-03-04T13:56:17.673591",
     "status": "completed"
    },
    "tags": []
   },
   "outputs": [],
   "source": [
    "def test(model,dataloader,ch_num=4):# モデルを学習させる関数\n",
    "    \n",
    "    #assert((phase=='train')==bool(optimizer))#学習時にoptimizer必須\n",
    "    torch.no_grad()#model.eval()   # モデルのモード\n",
    "\n",
    "    y=[]\n",
    "    preds=[]\n",
    "    losses=[]\n",
    "    scores=[]\n",
    "\n",
    "#     print('preprocess images')\n",
    "#     #preprocessed=list(dataloader[phase])\n",
    "#     print('end')\n",
    "\n",
    "    # データローダーからミニバッチを取り出すループ\n",
    "    for images,targets in tqdm(dataloader['test']):\n",
    "\n",
    "        #print(images.shape)\n",
    "\n",
    "        if images.shape[0]==1:\n",
    "            #なぜかバッチサイズが1になるとバグる\n",
    "            print('batchsize==1')\n",
    "            preds.append(0.5)\n",
    "            continue\n",
    "\n",
    "\n",
    "        # 順伝搬（forward）計算\n",
    "        with torch.set_grad_enabled(False):\n",
    "            \n",
    "            if ch_num==1:\n",
    "                images=images[:,0,:,:,:].unsqueeze(1)\n",
    "\n",
    "#             with torch.cuda.amp.autocast():#HalfTensorになる？\n",
    "\n",
    "            # non_blocking=TrueでPinned MemoryからGPUに転送中もCPUが動作できるらしい。\n",
    "            images = images[:,0,:,:,:].unsqueeze(1).to(CFG.device,non_blocking=True)#[:,0,:,:,:].unsqueeze(1)\n",
    "            targets = targets.to(CFG.device,non_blocking=True)\n",
    "\n",
    "            outputs = model(images).squeeze(1)\n",
    "\n",
    "        preds.extend(torch.nn.Sigmoid()(outputs).detach().cpu().numpy())\n",
    "        y.extend(targets.detach().cpu().numpy())\n",
    "\n",
    "        del images,targets,outputs\n",
    "        torch.cuda.empty_cache()\n",
    "        gc.collect()\n",
    "\n",
    "    return preds,losses,scores\n"
   ]
  },
  {
   "cell_type": "markdown",
   "id": "ad748c92",
   "metadata": {
    "papermill": {
     "duration": 0.015659,
     "end_time": "2022-03-04T13:56:17.731920",
     "exception": false,
     "start_time": "2022-03-04T13:56:17.716261",
     "status": "completed"
    },
    "tags": []
   },
   "source": []
  },
  {
   "cell_type": "code",
   "execution_count": 14,
   "id": "7a6c6789",
   "metadata": {
    "execution": {
     "iopub.execute_input": "2022-03-04T13:56:17.767875Z",
     "iopub.status.busy": "2022-03-04T13:56:17.767133Z",
     "iopub.status.idle": "2022-03-04T13:56:17.769694Z",
     "shell.execute_reply": "2022-03-04T13:56:17.769262Z",
     "shell.execute_reply.started": "2021-09-04T06:57:59.759821Z"
    },
    "papermill": {
     "duration": 0.02209,
     "end_time": "2022-03-04T13:56:17.769802",
     "exception": false,
     "start_time": "2022-03-04T13:56:17.747712",
     "status": "completed"
    },
    "tags": []
   },
   "outputs": [],
   "source": [
    "# #set_dataloader()\n",
    "\n",
    "# predictions=pd.DataFrame()\n",
    "\n",
    "# preds,losses,scores=test(model,dataloader)\n",
    "\n",
    "# predictions['4ch']=preds\n",
    "\n",
    "# model=EfficientNet3D.from_name(\"efficientnet-b0\", override_params={'num_classes': 2}, in_channels=1)\n",
    "# n_features = model._fc.in_features\n",
    "# model._fc = torch.nn.Linear(in_features=n_features, out_features=1, bias=True)\n",
    "# model.to(CFG.device)\n",
    "\n",
    "\n",
    "# model.load_state_dict(torch.load('../input/brain-tumor-radiogenomic-classification/model.pt'))\n",
    "\n",
    "# preds,losses,scores=test(model,dataloader,ch_num=1)\n",
    "# predictions['1ch']=preds\n",
    "\n",
    "# model.load_state_dict(torch.load('../input/brain-tumor-radiogenomic-classification/model (1).pt'))\n",
    "\n",
    "# preds,losses,scores=test(model,dataloader,ch_num=1)\n",
    "# predictions['1ch_ver2']=preds"
   ]
  },
  {
   "cell_type": "code",
   "execution_count": 15,
   "id": "ed2474dd",
   "metadata": {
    "execution": {
     "iopub.execute_input": "2022-03-04T13:56:17.805185Z",
     "iopub.status.busy": "2022-03-04T13:56:17.804416Z",
     "iopub.status.idle": "2022-03-04T13:56:17.807056Z",
     "shell.execute_reply": "2022-03-04T13:56:17.806524Z",
     "shell.execute_reply.started": "2021-09-04T06:57:59.771478Z"
    },
    "papermill": {
     "duration": 0.021171,
     "end_time": "2022-03-04T13:56:17.807155",
     "exception": false,
     "start_time": "2022-03-04T13:56:17.785984",
     "status": "completed"
    },
    "tags": []
   },
   "outputs": [],
   "source": [
    "# predictions['sum']=predictions['4ch']+predictions['1ch']+predictions['1ch_ver2']\n",
    "# predictions['sum']=predictions['sum']/3"
   ]
  },
  {
   "cell_type": "code",
   "execution_count": 16,
   "id": "fa9f53b5",
   "metadata": {
    "execution": {
     "iopub.execute_input": "2022-03-04T13:56:17.842403Z",
     "iopub.status.busy": "2022-03-04T13:56:17.841644Z",
     "iopub.status.idle": "2022-03-04T13:56:17.844338Z",
     "shell.execute_reply": "2022-03-04T13:56:17.843953Z",
     "shell.execute_reply.started": "2021-09-04T06:57:59.783786Z"
    },
    "papermill": {
     "duration": 0.021444,
     "end_time": "2022-03-04T13:56:17.844441",
     "exception": false,
     "start_time": "2022-03-04T13:56:17.822997",
     "status": "completed"
    },
    "tags": []
   },
   "outputs": [],
   "source": [
    "# predictions"
   ]
  },
  {
   "cell_type": "code",
   "execution_count": 17,
   "id": "f320a37d",
   "metadata": {
    "execution": {
     "iopub.execute_input": "2022-03-04T13:56:17.880076Z",
     "iopub.status.busy": "2022-03-04T13:56:17.879484Z",
     "iopub.status.idle": "2022-03-04T14:06:13.312855Z",
     "shell.execute_reply": "2022-03-04T14:06:13.312005Z",
     "shell.execute_reply.started": "2021-09-04T06:57:59.793134Z"
    },
    "papermill": {
     "duration": 595.452404,
     "end_time": "2022-03-04T14:06:13.312999",
     "exception": false,
     "start_time": "2022-03-04T13:56:17.860595",
     "status": "completed"
    },
    "tags": []
   },
   "outputs": [
    {
     "data": {
      "application/vnd.jupyter.widget-view+json": {
       "model_id": "27068eb632f34e5485f546fd36032de0",
       "version_major": 2,
       "version_minor": 0
      },
      "text/plain": [
       "0it [00:00, ?it/s]"
      ]
     },
     "metadata": {},
     "output_type": "display_data"
    }
   ],
   "source": [
    "preds,losses,scores=test(model,dataloader)"
   ]
  },
  {
   "cell_type": "code",
   "execution_count": 18,
   "id": "dd7a93fd",
   "metadata": {
    "execution": {
     "iopub.execute_input": "2022-03-04T14:06:13.355469Z",
     "iopub.status.busy": "2022-03-04T14:06:13.354656Z",
     "iopub.status.idle": "2022-03-04T14:06:13.370376Z",
     "shell.execute_reply": "2022-03-04T14:06:13.369971Z",
     "shell.execute_reply.started": "2021-09-04T06:58:51.215312Z"
    },
    "papermill": {
     "duration": 0.040314,
     "end_time": "2022-03-04T14:06:13.370492",
     "exception": false,
     "start_time": "2022-03-04T14:06:13.330178",
     "status": "completed"
    },
    "tags": []
   },
   "outputs": [
    {
     "data": {
      "text/html": [
       "<div>\n",
       "<style scoped>\n",
       "    .dataframe tbody tr th:only-of-type {\n",
       "        vertical-align: middle;\n",
       "    }\n",
       "\n",
       "    .dataframe tbody tr th {\n",
       "        vertical-align: top;\n",
       "    }\n",
       "\n",
       "    .dataframe thead th {\n",
       "        text-align: right;\n",
       "    }\n",
       "</style>\n",
       "<table border=\"1\" class=\"dataframe\">\n",
       "  <thead>\n",
       "    <tr style=\"text-align: right;\">\n",
       "      <th></th>\n",
       "      <th>MGMT_value</th>\n",
       "    </tr>\n",
       "    <tr>\n",
       "      <th>BraTS21ID</th>\n",
       "      <th></th>\n",
       "    </tr>\n",
       "  </thead>\n",
       "  <tbody>\n",
       "    <tr>\n",
       "      <th>1</th>\n",
       "      <td>0.386466</td>\n",
       "    </tr>\n",
       "    <tr>\n",
       "      <th>13</th>\n",
       "      <td>0.804999</td>\n",
       "    </tr>\n",
       "    <tr>\n",
       "      <th>15</th>\n",
       "      <td>0.088822</td>\n",
       "    </tr>\n",
       "    <tr>\n",
       "      <th>27</th>\n",
       "      <td>0.325689</td>\n",
       "    </tr>\n",
       "    <tr>\n",
       "      <th>37</th>\n",
       "      <td>0.310758</td>\n",
       "    </tr>\n",
       "    <tr>\n",
       "      <th>...</th>\n",
       "      <td>...</td>\n",
       "    </tr>\n",
       "    <tr>\n",
       "      <th>826</th>\n",
       "      <td>0.500082</td>\n",
       "    </tr>\n",
       "    <tr>\n",
       "      <th>829</th>\n",
       "      <td>0.380193</td>\n",
       "    </tr>\n",
       "    <tr>\n",
       "      <th>833</th>\n",
       "      <td>0.379946</td>\n",
       "    </tr>\n",
       "    <tr>\n",
       "      <th>997</th>\n",
       "      <td>0.069444</td>\n",
       "    </tr>\n",
       "    <tr>\n",
       "      <th>1006</th>\n",
       "      <td>0.413636</td>\n",
       "    </tr>\n",
       "  </tbody>\n",
       "</table>\n",
       "<p>87 rows × 1 columns</p>\n",
       "</div>"
      ],
      "text/plain": [
       "           MGMT_value\n",
       "BraTS21ID            \n",
       "1            0.386466\n",
       "13           0.804999\n",
       "15           0.088822\n",
       "27           0.325689\n",
       "37           0.310758\n",
       "...               ...\n",
       "826          0.500082\n",
       "829          0.380193\n",
       "833          0.379946\n",
       "997          0.069444\n",
       "1006         0.413636\n",
       "\n",
       "[87 rows x 1 columns]"
      ]
     },
     "execution_count": 18,
     "metadata": {},
     "output_type": "execute_result"
    }
   ],
   "source": [
    "#preds=[1.0]*87\n",
    "submission=labels['test'].drop('path',axis=1)\n",
    "\n",
    "submission['MGMT_value']=preds\n",
    "submission.to_csv(\"submission.csv\",index='BraTS21ID')\n",
    "submission"
   ]
  },
  {
   "cell_type": "code",
   "execution_count": null,
   "id": "bc41813d",
   "metadata": {
    "papermill": {
     "duration": 0.017527,
     "end_time": "2022-03-04T14:06:13.406246",
     "exception": false,
     "start_time": "2022-03-04T14:06:13.388719",
     "status": "completed"
    },
    "tags": []
   },
   "outputs": [],
   "source": []
  }
 ],
 "metadata": {
  "kernelspec": {
   "display_name": "Python 3",
   "language": "python",
   "name": "python3"
  },
  "language_info": {
   "codemirror_mode": {
    "name": "ipython",
    "version": 3
   },
   "file_extension": ".py",
   "mimetype": "text/x-python",
   "name": "python",
   "nbconvert_exporter": "python",
   "pygments_lexer": "ipython3",
   "version": "3.7.10"
  },
  "papermill": {
   "default_parameters": {},
   "duration": 612.789827,
   "end_time": "2022-03-04T14:06:15.692032",
   "environment_variables": {},
   "exception": null,
   "input_path": "__notebook__.ipynb",
   "output_path": "__notebook__.ipynb",
   "parameters": {},
   "start_time": "2022-03-04T13:56:02.902205",
   "version": "2.3.3"
  },
  "widgets": {
   "application/vnd.jupyter.widget-state+json": {
    "state": {
     "16f9e96a9dbb4aaf929f74b1124405dc": {
      "model_module": "@jupyter-widgets/controls",
      "model_module_version": "1.5.0",
      "model_name": "HTMLModel",
      "state": {
       "_dom_classes": [],
       "_model_module": "@jupyter-widgets/controls",
       "_model_module_version": "1.5.0",
       "_model_name": "HTMLModel",
       "_view_count": null,
       "_view_module": "@jupyter-widgets/controls",
       "_view_module_version": "1.5.0",
       "_view_name": "HTMLView",
       "description": "",
       "description_tooltip": null,
       "layout": "IPY_MODEL_fe91739f5a92434cbcd7ee5a55973bf4",
       "placeholder": "​",
       "style": "IPY_MODEL_4afc8434314343468408845bdff8b61c",
       "value": ""
      }
     },
     "260e4126be2f4c738d794acf16f0ea8e": {
      "model_module": "@jupyter-widgets/controls",
      "model_module_version": "1.5.0",
      "model_name": "HTMLModel",
      "state": {
       "_dom_classes": [],
       "_model_module": "@jupyter-widgets/controls",
       "_model_module_version": "1.5.0",
       "_model_name": "HTMLModel",
       "_view_count": null,
       "_view_module": "@jupyter-widgets/controls",
       "_view_module_version": "1.5.0",
       "_view_name": "HTMLView",
       "description": "",
       "description_tooltip": null,
       "layout": "IPY_MODEL_c9ad31439e7d4f08a8223f2fbfdcc6b1",
       "placeholder": "​",
       "style": "IPY_MODEL_c6316531a7dd41a1864a66ea89ff8bec",
       "value": " 22/? [09:55&lt;00:00, 17.92s/it]"
      }
     },
     "27068eb632f34e5485f546fd36032de0": {
      "model_module": "@jupyter-widgets/controls",
      "model_module_version": "1.5.0",
      "model_name": "HBoxModel",
      "state": {
       "_dom_classes": [],
       "_model_module": "@jupyter-widgets/controls",
       "_model_module_version": "1.5.0",
       "_model_name": "HBoxModel",
       "_view_count": null,
       "_view_module": "@jupyter-widgets/controls",
       "_view_module_version": "1.5.0",
       "_view_name": "HBoxView",
       "box_style": "",
       "children": [
        "IPY_MODEL_16f9e96a9dbb4aaf929f74b1124405dc",
        "IPY_MODEL_fb20aad5792142848189ef2533061d2e",
        "IPY_MODEL_260e4126be2f4c738d794acf16f0ea8e"
       ],
       "layout": "IPY_MODEL_71b726283d9f4606bec8ed02d77c654d"
      }
     },
     "4afc8434314343468408845bdff8b61c": {
      "model_module": "@jupyter-widgets/controls",
      "model_module_version": "1.5.0",
      "model_name": "DescriptionStyleModel",
      "state": {
       "_model_module": "@jupyter-widgets/controls",
       "_model_module_version": "1.5.0",
       "_model_name": "DescriptionStyleModel",
       "_view_count": null,
       "_view_module": "@jupyter-widgets/base",
       "_view_module_version": "1.2.0",
       "_view_name": "StyleView",
       "description_width": ""
      }
     },
     "71b726283d9f4606bec8ed02d77c654d": {
      "model_module": "@jupyter-widgets/base",
      "model_module_version": "1.2.0",
      "model_name": "LayoutModel",
      "state": {
       "_model_module": "@jupyter-widgets/base",
       "_model_module_version": "1.2.0",
       "_model_name": "LayoutModel",
       "_view_count": null,
       "_view_module": "@jupyter-widgets/base",
       "_view_module_version": "1.2.0",
       "_view_name": "LayoutView",
       "align_content": null,
       "align_items": null,
       "align_self": null,
       "border": null,
       "bottom": null,
       "display": null,
       "flex": null,
       "flex_flow": null,
       "grid_area": null,
       "grid_auto_columns": null,
       "grid_auto_flow": null,
       "grid_auto_rows": null,
       "grid_column": null,
       "grid_gap": null,
       "grid_row": null,
       "grid_template_areas": null,
       "grid_template_columns": null,
       "grid_template_rows": null,
       "height": null,
       "justify_content": null,
       "justify_items": null,
       "left": null,
       "margin": null,
       "max_height": null,
       "max_width": null,
       "min_height": null,
       "min_width": null,
       "object_fit": null,
       "object_position": null,
       "order": null,
       "overflow": null,
       "overflow_x": null,
       "overflow_y": null,
       "padding": null,
       "right": null,
       "top": null,
       "visibility": null,
       "width": null
      }
     },
     "c6316531a7dd41a1864a66ea89ff8bec": {
      "model_module": "@jupyter-widgets/controls",
      "model_module_version": "1.5.0",
      "model_name": "DescriptionStyleModel",
      "state": {
       "_model_module": "@jupyter-widgets/controls",
       "_model_module_version": "1.5.0",
       "_model_name": "DescriptionStyleModel",
       "_view_count": null,
       "_view_module": "@jupyter-widgets/base",
       "_view_module_version": "1.2.0",
       "_view_name": "StyleView",
       "description_width": ""
      }
     },
     "c9ad31439e7d4f08a8223f2fbfdcc6b1": {
      "model_module": "@jupyter-widgets/base",
      "model_module_version": "1.2.0",
      "model_name": "LayoutModel",
      "state": {
       "_model_module": "@jupyter-widgets/base",
       "_model_module_version": "1.2.0",
       "_model_name": "LayoutModel",
       "_view_count": null,
       "_view_module": "@jupyter-widgets/base",
       "_view_module_version": "1.2.0",
       "_view_name": "LayoutView",
       "align_content": null,
       "align_items": null,
       "align_self": null,
       "border": null,
       "bottom": null,
       "display": null,
       "flex": null,
       "flex_flow": null,
       "grid_area": null,
       "grid_auto_columns": null,
       "grid_auto_flow": null,
       "grid_auto_rows": null,
       "grid_column": null,
       "grid_gap": null,
       "grid_row": null,
       "grid_template_areas": null,
       "grid_template_columns": null,
       "grid_template_rows": null,
       "height": null,
       "justify_content": null,
       "justify_items": null,
       "left": null,
       "margin": null,
       "max_height": null,
       "max_width": null,
       "min_height": null,
       "min_width": null,
       "object_fit": null,
       "object_position": null,
       "order": null,
       "overflow": null,
       "overflow_x": null,
       "overflow_y": null,
       "padding": null,
       "right": null,
       "top": null,
       "visibility": null,
       "width": null
      }
     },
     "de3f4dde882c489c8069cea647e242fd": {
      "model_module": "@jupyter-widgets/controls",
      "model_module_version": "1.5.0",
      "model_name": "ProgressStyleModel",
      "state": {
       "_model_module": "@jupyter-widgets/controls",
       "_model_module_version": "1.5.0",
       "_model_name": "ProgressStyleModel",
       "_view_count": null,
       "_view_module": "@jupyter-widgets/base",
       "_view_module_version": "1.2.0",
       "_view_name": "StyleView",
       "bar_color": null,
       "description_width": ""
      }
     },
     "fb20aad5792142848189ef2533061d2e": {
      "model_module": "@jupyter-widgets/controls",
      "model_module_version": "1.5.0",
      "model_name": "FloatProgressModel",
      "state": {
       "_dom_classes": [],
       "_model_module": "@jupyter-widgets/controls",
       "_model_module_version": "1.5.0",
       "_model_name": "FloatProgressModel",
       "_view_count": null,
       "_view_module": "@jupyter-widgets/controls",
       "_view_module_version": "1.5.0",
       "_view_name": "ProgressView",
       "bar_style": "success",
       "description": "",
       "description_tooltip": null,
       "layout": "IPY_MODEL_fdc47e5edb2949f1a6e9b46a38dbe19e",
       "max": 1.0,
       "min": 0.0,
       "orientation": "horizontal",
       "style": "IPY_MODEL_de3f4dde882c489c8069cea647e242fd",
       "value": 1.0
      }
     },
     "fdc47e5edb2949f1a6e9b46a38dbe19e": {
      "model_module": "@jupyter-widgets/base",
      "model_module_version": "1.2.0",
      "model_name": "LayoutModel",
      "state": {
       "_model_module": "@jupyter-widgets/base",
       "_model_module_version": "1.2.0",
       "_model_name": "LayoutModel",
       "_view_count": null,
       "_view_module": "@jupyter-widgets/base",
       "_view_module_version": "1.2.0",
       "_view_name": "LayoutView",
       "align_content": null,
       "align_items": null,
       "align_self": null,
       "border": null,
       "bottom": null,
       "display": null,
       "flex": null,
       "flex_flow": null,
       "grid_area": null,
       "grid_auto_columns": null,
       "grid_auto_flow": null,
       "grid_auto_rows": null,
       "grid_column": null,
       "grid_gap": null,
       "grid_row": null,
       "grid_template_areas": null,
       "grid_template_columns": null,
       "grid_template_rows": null,
       "height": null,
       "justify_content": null,
       "justify_items": null,
       "left": null,
       "margin": null,
       "max_height": null,
       "max_width": null,
       "min_height": null,
       "min_width": null,
       "object_fit": null,
       "object_position": null,
       "order": null,
       "overflow": null,
       "overflow_x": null,
       "overflow_y": null,
       "padding": null,
       "right": null,
       "top": null,
       "visibility": null,
       "width": "20px"
      }
     },
     "fe91739f5a92434cbcd7ee5a55973bf4": {
      "model_module": "@jupyter-widgets/base",
      "model_module_version": "1.2.0",
      "model_name": "LayoutModel",
      "state": {
       "_model_module": "@jupyter-widgets/base",
       "_model_module_version": "1.2.0",
       "_model_name": "LayoutModel",
       "_view_count": null,
       "_view_module": "@jupyter-widgets/base",
       "_view_module_version": "1.2.0",
       "_view_name": "LayoutView",
       "align_content": null,
       "align_items": null,
       "align_self": null,
       "border": null,
       "bottom": null,
       "display": null,
       "flex": null,
       "flex_flow": null,
       "grid_area": null,
       "grid_auto_columns": null,
       "grid_auto_flow": null,
       "grid_auto_rows": null,
       "grid_column": null,
       "grid_gap": null,
       "grid_row": null,
       "grid_template_areas": null,
       "grid_template_columns": null,
       "grid_template_rows": null,
       "height": null,
       "justify_content": null,
       "justify_items": null,
       "left": null,
       "margin": null,
       "max_height": null,
       "max_width": null,
       "min_height": null,
       "min_width": null,
       "object_fit": null,
       "object_position": null,
       "order": null,
       "overflow": null,
       "overflow_x": null,
       "overflow_y": null,
       "padding": null,
       "right": null,
       "top": null,
       "visibility": null,
       "width": null
      }
     }
    },
    "version_major": 2,
    "version_minor": 0
   }
  }
 },
 "nbformat": 4,
 "nbformat_minor": 5
}
