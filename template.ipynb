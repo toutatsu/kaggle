{
 "cells": [
  {
   "cell_type": "markdown",
   "id": "b9af2a0c",
   "metadata": {
    "papermill": {
     "duration": 0.011542,
     "end_time": "2021-08-06T12:41:09.227914",
     "exception": false,
     "start_time": "2021-08-06T12:41:09.216372",
     "status": "completed"
    },
    "tags": []
   },
   "source": [
    "<h1>template notebook</h1>"
   ]
  },
  {
   "cell_type": "markdown",
   "id": "35a9f761",
   "metadata": {
    "papermill": {
     "duration": 0.010079,
     "end_time": "2021-08-06T12:41:09.250428",
     "exception": false,
     "start_time": "2021-08-06T12:41:09.240349",
     "status": "completed"
    },
    "tags": []
   },
   "source": [
    "import libraries"
   ]
  },
  {
   "cell_type": "code",
   "execution_count": 1,
   "id": "12d08bda",
   "metadata": {
    "execution": {
     "iopub.execute_input": "2021-08-06T12:41:09.275296Z",
     "iopub.status.busy": "2021-08-06T12:41:09.274161Z",
     "iopub.status.idle": "2021-08-06T12:41:11.802361Z",
     "shell.execute_reply": "2021-08-06T12:41:11.801607Z",
     "shell.execute_reply.started": "2021-08-06T12:38:24.470548Z"
    },
    "papermill": {
     "duration": 2.541845,
     "end_time": "2021-08-06T12:41:11.802530",
     "exception": false,
     "start_time": "2021-08-06T12:41:09.260685",
     "status": "completed"
    },
    "tags": []
   },
   "outputs": [],
   "source": [
    "#defaul libraries\n",
    "#https://docs.python.org/ja/\n",
    "import os\n",
    "import sys\n",
    "import io\n",
    "\n",
    "import math\n",
    "import random\n",
    "import pprint\n",
    "import time\n",
    "import datetime\n",
    "import typing\n",
    "import json\n",
    "import glob\n",
    "import requests\n",
    "import warnings\n",
    "import gc\n",
    "from pprint import pprint\n",
    "import re\n",
    "\n",
    "import numpy as np #https://numpy.org/\n",
    "import pandas as pd #https://pandas.pydata.org/\n",
    "import sklearn #https://scikit-learn.org/stable/\n",
    "\n",
    "import matplotlib.pyplot as plt #https://matplotlib.org/stable/api/_as_gen/matplotlib.pyplot.html\n",
    "%matplotlib inline\n",
    "\n",
    "import seaborn as sns\n",
    "sns.set()\n",
    "\n",
    "from tqdm import tqdm #https://tqdm.github.io/\n",
    "\n",
    "import torch #https://pytorch.org/\n",
    "import transformers #https://huggingface.co/transformers/\n",
    "\n",
    "import torchvision\n",
    "import torchtext"
   ]
  },
  {
   "cell_type": "markdown",
   "id": "eede96ea",
   "metadata": {
    "papermill": {
     "duration": 0.010202,
     "end_time": "2021-08-06T12:41:11.823394",
     "exception": false,
     "start_time": "2021-08-06T12:41:11.813192",
     "status": "completed"
    },
    "tags": []
   },
   "source": [
    "CFG"
   ]
  },
  {
   "cell_type": "code",
   "execution_count": 2,
   "id": "9289c7b6",
   "metadata": {
    "execution": {
     "iopub.execute_input": "2021-08-06T12:41:11.854259Z",
     "iopub.status.busy": "2021-08-06T12:41:11.853444Z",
     "iopub.status.idle": "2021-08-06T12:41:11.862541Z",
     "shell.execute_reply": "2021-08-06T12:41:11.861514Z",
     "shell.execute_reply.started": "2021-08-06T12:38:25.803754Z"
    },
    "papermill": {
     "duration": 0.02885,
     "end_time": "2021-08-06T12:41:11.862787",
     "exception": false,
     "start_time": "2021-08-06T12:41:11.833937",
     "status": "completed"
    },
    "tags": []
   },
   "outputs": [
    {
     "name": "stdout",
     "output_type": "stream",
     "text": [
      "cpu\n"
     ]
    }
   ],
   "source": [
    "class CFG():\n",
    "    \n",
    "    data_path=\"./\"#../input/tabular-playground-series-mar-2021/\"\n",
    "    debug=True\n",
    "    seed=0\n",
    "\n",
    "    device = torch.device('cuda:2' if torch.cuda.is_available() else 'cpu')\n",
    "    batch_size=1#32\n",
    "    epochs=30\n",
    "    learning_rate=0.1\n",
    "    kFold=5\n",
    "\n",
    "\n",
    "    #高速化関連\n",
    "    #https://qiita.com/sugulu_Ogawa_ISID/items/62f5f7adee083d96a587\n",
    "\n",
    "    #GPU 遅くなるらしい↓\n",
    "    torch.backends.cudnn.deterministic = True\n",
    "\n",
    "    #イテレーションごとのnnの順伝搬および誤差関数の 計算手法がある程度一定であれば、torch.backends.cudnn.benchmark = Trueで GPU での計算が高速化\n",
    "    torch.backends.cudnn.benchmark = False\n",
    "\n",
    "\n",
    "def set_seed(seed=0):\n",
    "    random.seed(seed)\n",
    "    os.environ['PYTHONHASHSEED'] = str(seed)\n",
    "    np.random.seed(seed)\n",
    "    #tf.random.set_seed(seed)\n",
    "    torch.manual_seed(seed)\n",
    "    torch.cuda.manual_seed(seed)\n",
    "    torch.cuda.manual_seed_all(seed)\n",
    "\n",
    "set_seed(CFG.seed)\n",
    "\n",
    "print(CFG.device)\n",
    "if torch.cuda.is_available():\n",
    "    print(torch.cuda.current_device())\n",
    "    print(torch.cuda.get_device_name())"
   ]
  },
  {
   "cell_type": "markdown",
   "id": "25940e52",
   "metadata": {
    "papermill": {
     "duration": 0.010813,
     "end_time": "2021-08-06T12:41:11.887828",
     "exception": false,
     "start_time": "2021-08-06T12:41:11.877015",
     "status": "completed"
    },
    "tags": []
   },
   "source": [
    "color"
   ]
  },
  {
   "cell_type": "code",
   "execution_count": 3,
   "id": "41af68f9",
   "metadata": {
    "execution": {
     "iopub.execute_input": "2021-08-06T12:41:11.917079Z",
     "iopub.status.busy": "2021-08-06T12:41:11.916425Z",
     "iopub.status.idle": "2021-08-06T12:41:11.918766Z",
     "shell.execute_reply": "2021-08-06T12:41:11.919274Z",
     "shell.execute_reply.started": "2021-08-06T12:38:25.818373Z"
    },
    "papermill": {
     "duration": 0.020786,
     "end_time": "2021-08-06T12:41:11.919450",
     "exception": false,
     "start_time": "2021-08-06T12:41:11.898664",
     "status": "completed"
    },
    "tags": []
   },
   "outputs": [],
   "source": [
    "def color(string,fg='DEFAULT',bg='DEFAULT',fg_rgb=None,bg_rgb=None,style='END'):\n",
    "    colors=['BLACK','RED','GREEN','YELLOW','BLUE','PURPLE','CYAN','WHITE','8','DEFAULT']\n",
    "    styles=['END','BOLD','2','3','UNDERLINE','5','6','REVERSE','INVISIBLE','9']\n",
    "\n",
    "    fg=f'\\033[3{colors.index(fg)}m'\n",
    "    bg=f'\\033[4{colors.index(bg)}m'\n",
    "    style=f'\\033[0{styles.index(style)}m'\n",
    "\n",
    "    if fg_rgb:fg=f\"\\033[38;2;{fg_rgb[0]};{fg_rgb[1]};{fg_rgb[2]}m\"\n",
    "    if bg_rgb:bg=f\"\\033[48;2;{bg_rgb[0]};{bg_rgb[1]};{bg_rgb[2]}m\"\n",
    "\n",
    "    return style+fg+bg+str(string)+'\\033[0m'"
   ]
  },
  {
   "cell_type": "code",
   "execution_count": 4,
   "id": "fe7a4032",
   "metadata": {
    "execution": {
     "iopub.execute_input": "2021-08-06T12:41:11.948540Z",
     "iopub.status.busy": "2021-08-06T12:41:11.947558Z",
     "iopub.status.idle": "2021-08-06T12:41:11.952418Z",
     "shell.execute_reply": "2021-08-06T12:41:11.951776Z",
     "shell.execute_reply.started": "2021-08-06T12:38:25.829726Z"
    },
    "papermill": {
     "duration": 0.022013,
     "end_time": "2021-08-06T12:41:11.952548",
     "exception": false,
     "start_time": "2021-08-06T12:41:11.930535",
     "status": "completed"
    },
    "tags": []
   },
   "outputs": [
    {
     "name": "stdout",
     "output_type": "stream",
     "text": [
      "\u001b[01m\u001b[32m\u001b[49mcolor test\u001b[0m\n",
      "\u001b[04m\u001b[31m\u001b[44mcolor test\u001b[0m\n",
      "\u001b[08m\u001b[36m\u001b[47mcolor test\u001b[0m\n",
      "\u001b[07m\u001b[36m\u001b[49mcolor test\u001b[0m\n",
      "\u001b[00m\u001b[38;2;150;150;255m\u001b[49maaa\u001b[0m\n"
     ]
    }
   ],
   "source": [
    "print(color(\"color test\",\"GREEN\",style='BOLD'))\n",
    "print(color(\"color test\",\"RED\",\"BLUE\",style='UNDERLINE'))\n",
    "print(color(\"color test\",\"CYAN\",\"WHITE\",style='INVISIBLE'))\n",
    "print(color(\"color test\",\"CYAN\",style='REVERSE'))\n",
    "print(color(\"aaa\",fg_rgb=(150,150,255)))\n",
    "# print(color(\"bbb\",fg_rgb=(0,250,50),bg_rgb=(0,0,255)))\n",
    "# print(color(\"ccc\"))\n",
    "# print(color('style',bg=\"RED\",fg='BLUE'))\n",
    "# print('\\033[07m'+\"Aa\")\n"
   ]
  },
  {
   "cell_type": "code",
   "execution_count": 5,
   "id": "c5b651f7",
   "metadata": {
    "execution": {
     "iopub.execute_input": "2021-08-06T12:41:11.980633Z",
     "iopub.status.busy": "2021-08-06T12:41:11.980005Z",
     "iopub.status.idle": "2021-08-06T12:41:11.982987Z",
     "shell.execute_reply": "2021-08-06T12:41:11.983470Z",
     "shell.execute_reply.started": "2021-08-06T12:38:25.848995Z"
    },
    "papermill": {
     "duration": 0.019862,
     "end_time": "2021-08-06T12:41:11.983643",
     "exception": false,
     "start_time": "2021-08-06T12:41:11.963781",
     "status": "completed"
    },
    "tags": []
   },
   "outputs": [],
   "source": [
    "def what_is(obj):\n",
    "    print(\"type:\",type(obj))\n",
    "    print(\"-\"*40+\"help\"+\"-\"*40)\n",
    "    print(help(obj))\n",
    "    print(\"-\"*40+\"dir\"+\"-\"*40)\n",
    "    print(dir(obj))"
   ]
  },
  {
   "cell_type": "code",
   "execution_count": 6,
   "id": "1b4a0c83",
   "metadata": {
    "execution": {
     "iopub.execute_input": "2021-08-06T12:41:12.013222Z",
     "iopub.status.busy": "2021-08-06T12:41:12.012529Z",
     "iopub.status.idle": "2021-08-06T12:41:12.015750Z",
     "shell.execute_reply": "2021-08-06T12:41:12.015134Z",
     "shell.execute_reply.started": "2021-08-06T12:38:25.858459Z"
    },
    "papermill": {
     "duration": 0.020832,
     "end_time": "2021-08-06T12:41:12.015959",
     "exception": false,
     "start_time": "2021-08-06T12:41:11.995127",
     "status": "completed"
    },
    "tags": []
   },
   "outputs": [],
   "source": [
    "target_columns=['target']\n",
    "def feature_columns(df):\n",
    "    for col in df.columns:\n",
    "        if col in target_columns:df=df.drop(columns=col)\n",
    "    return  df.columns\n",
    "def numerical_columns(df):\n",
    "    return df[feature_columns(df)].select_dtypes(include=['int64','float64']).columns\n",
    "def categorical_columns(df):\n",
    "    return df[feature_columns(df)].select_dtypes(exclude=['int64','float64']).columns"
   ]
  },
  {
   "cell_type": "markdown",
   "id": "e57ed9f9",
   "metadata": {
    "papermill": {
     "duration": 0.011278,
     "end_time": "2021-08-06T12:41:12.038839",
     "exception": false,
     "start_time": "2021-08-06T12:41:12.027561",
     "status": "completed"
    },
    "tags": []
   },
   "source": [
    "read data"
   ]
  },
  {
   "cell_type": "code",
   "execution_count": 7,
   "id": "12864a96",
   "metadata": {
    "execution": {
     "iopub.execute_input": "2021-08-06T12:41:12.071455Z",
     "iopub.status.busy": "2021-08-06T12:41:12.066292Z",
     "iopub.status.idle": "2021-08-06T12:41:12.084468Z",
     "shell.execute_reply": "2021-08-06T12:41:12.083875Z",
     "shell.execute_reply.started": "2021-08-06T12:38:25.870514Z"
    },
    "papermill": {
     "duration": 0.034488,
     "end_time": "2021-08-06T12:41:12.084615",
     "exception": false,
     "start_time": "2021-08-06T12:41:12.050127",
     "status": "completed"
    },
    "tags": []
   },
   "outputs": [
    {
     "name": "stdout",
     "output_type": "stream",
     "text": [
      "skipping\n"
     ]
    }
   ],
   "source": [
    "%%script echo skipping\n",
    "\n",
    "train=pd.read_csv(os.path.join(CFG.data_path,\"train.csv\"),index_col='id')\n",
    "test=pd.read_csv(os.path.join(CFG.data_path,\"test.csv\"),index_col='id')\n",
    "sample_submission=pd.read_csv(os.path.join(CFG.data_path,\"sample_submission.csv\"),index_col='id')\n",
    "\n",
    "if CFG.debug:\n",
    "    #train=train[:len(train)//50]\n",
    "    train=train.sample(frac=0.1)\n",
    "\n",
    "df=pd.concat([train,test])\n",
    "# train=df[:len(train)].copy()\n",
    "# test=df[len(train):].copy()\n",
    "\n",
    "data={\n",
    "    'train':pd.DataFrame(columns=['feature','target']),\n",
    "    'val':pd.DataFrame({'feature':val.feature,'target':val['target']}),\n",
    "    'test':pd.DataFrame(test),\n",
    "}"
   ]
  },
  {
   "cell_type": "markdown",
   "id": "47c3a1a9",
   "metadata": {
    "papermill": {
     "duration": 0.011503,
     "end_time": "2021-08-06T12:41:12.108010",
     "exception": false,
     "start_time": "2021-08-06T12:41:12.096507",
     "status": "completed"
    },
    "tags": []
   },
   "source": [
    "submission"
   ]
  },
  {
   "cell_type": "code",
   "execution_count": 8,
   "id": "25b490ec",
   "metadata": {
    "execution": {
     "iopub.execute_input": "2021-08-06T12:41:12.158507Z",
     "iopub.status.busy": "2021-08-06T12:41:12.157815Z",
     "iopub.status.idle": "2021-08-06T12:41:12.170147Z",
     "shell.execute_reply": "2021-08-06T12:41:12.169469Z",
     "shell.execute_reply.started": "2021-08-06T12:38:25.896947Z"
    },
    "papermill": {
     "duration": 0.050741,
     "end_time": "2021-08-06T12:41:12.170293",
     "exception": false,
     "start_time": "2021-08-06T12:41:12.119552",
     "status": "completed"
    },
    "tags": []
   },
   "outputs": [
    {
     "data": {
      "text/html": [
       "<div>\n",
       "<style scoped>\n",
       "    .dataframe tbody tr th:only-of-type {\n",
       "        vertical-align: middle;\n",
       "    }\n",
       "\n",
       "    .dataframe tbody tr th {\n",
       "        vertical-align: top;\n",
       "    }\n",
       "\n",
       "    .dataframe thead th {\n",
       "        text-align: right;\n",
       "    }\n",
       "</style>\n",
       "<table border=\"1\" class=\"dataframe\">\n",
       "  <thead>\n",
       "    <tr style=\"text-align: right;\">\n",
       "      <th></th>\n",
       "      <th>idx</th>\n",
       "      <th>target</th>\n",
       "    </tr>\n",
       "  </thead>\n",
       "  <tbody>\n",
       "    <tr>\n",
       "      <th>0</th>\n",
       "      <td>0</td>\n",
       "      <td>1</td>\n",
       "    </tr>\n",
       "    <tr>\n",
       "      <th>1</th>\n",
       "      <td>1</td>\n",
       "      <td>0</td>\n",
       "    </tr>\n",
       "    <tr>\n",
       "      <th>2</th>\n",
       "      <td>2</td>\n",
       "      <td>0</td>\n",
       "    </tr>\n",
       "    <tr>\n",
       "      <th>3</th>\n",
       "      <td>3</td>\n",
       "      <td>1</td>\n",
       "    </tr>\n",
       "    <tr>\n",
       "      <th>4</th>\n",
       "      <td>4</td>\n",
       "      <td>1</td>\n",
       "    </tr>\n",
       "  </tbody>\n",
       "</table>\n",
       "</div>"
      ],
      "text/plain": [
       "   idx  target\n",
       "0    0       1\n",
       "1    1       0\n",
       "2    2       0\n",
       "3    3       1\n",
       "4    4       1"
      ]
     },
     "execution_count": 8,
     "metadata": {},
     "output_type": "execute_result"
    }
   ],
   "source": [
    "submission=pd.DataFrame(columns=['idx','target'])\n",
    "\n",
    "submission.idx=range(5)\n",
    "submission.target=[1,0,0,1,1]\n",
    "#submission.to_csv(\"submission.csv\",index=idx)\n",
    "\n",
    "submission.head()"
   ]
  }
 ],
 "metadata": {
  "kernelspec": {
   "display_name": "Python 3",
   "language": "python",
   "name": "python3"
  },
  "language_info": {
   "codemirror_mode": {
    "name": "ipython",
    "version": 3
   },
   "file_extension": ".py",
   "mimetype": "text/x-python",
   "name": "python",
   "nbconvert_exporter": "python",
   "pygments_lexer": "ipython3",
   "version": "3.7.10"
  },
  "papermill": {
   "default_parameters": {},
   "duration": 11.59246,
   "end_time": "2021-08-06T12:41:12.992261",
   "environment_variables": {},
   "exception": null,
   "input_path": "__notebook__.ipynb",
   "output_path": "__notebook__.ipynb",
   "parameters": {},
   "start_time": "2021-08-06T12:41:01.399801",
   "version": "2.3.3"
  }
 },
 "nbformat": 4,
 "nbformat_minor": 5
}
