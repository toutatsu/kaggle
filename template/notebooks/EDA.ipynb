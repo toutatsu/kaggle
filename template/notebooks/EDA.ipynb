{
 "cells": [
  {
   "cell_type": "code",
   "execution_count": null,
   "metadata": {},
   "outputs": [],
   "source": [
    "import os\n",
    "for dirname, _, filenames in os.walk('/kaggle/input'):\n",
    "    for filename in filenames:\n",
    "        print(os.path.join(dirname, filename))"
   ]
  },
  {
   "cell_type": "code",
   "execution_count": null,
   "metadata": {},
   "outputs": [],
   "source": [
    "object?"
   ]
  },
  {
   "cell_type": "code",
   "execution_count": null,
   "metadata": {},
   "outputs": [],
   "source": [
    "lsmagic\n",
    "\n"
   ]
  },
  {
   "cell_type": "code",
   "execution_count": 1,
   "metadata": {},
   "outputs": [],
   "source": [
    "import pandas_profiling\n",
    "def simple_eda(df):\n",
    "    \"\"\"\n",
    "    simple_eda\n",
    "    \"\"\"\n",
    "    print(\"-\"*40+\"EDA\"+\"-\"*40)\n",
    "    print(\"type:\",type(df))\n",
    "    print(\"-\"*40+\"head\"+\"-\"*40)\n",
    "    display(df.head())\n",
    "    print(\"-\"*40+\"describe\"+\"-\"*40)\n",
    "    display(df.describe())\n",
    "    print(\"-\"*40+\"info\"+\"-\"*40)\n",
    "    print(df.info())\n",
    "\n",
    "    #display(df.profile_report())"
   ]
  }
 ],
 "metadata": {
  "kernelspec": {
   "display_name": "Python 3",
   "language": "python",
   "name": "python3"
  },
  "language_info": {
   "codemirror_mode": {
    "name": "ipython",
    "version": 3
   },
   "file_extension": ".py",
   "mimetype": "text/x-python",
   "name": "python",
   "nbconvert_exporter": "python",
   "pygments_lexer": "ipython3",
   "version": "3.8.8"
  }
 },
 "nbformat": 4,
 "nbformat_minor": 2
}
