{
 "cells": [
  {
   "cell_type": "markdown",
   "id": "2dfac4a2",
   "metadata": {
    "papermill": {
     "duration": 0.013721,
     "end_time": "2022-03-23T06:47:35.480214",
     "exception": false,
     "start_time": "2022-03-23T06:47:35.466493",
     "status": "completed"
    },
    "tags": []
   },
   "source": [
    "# Markdown template"
   ]
  },
  {
   "cell_type": "markdown",
   "id": "97368e66",
   "metadata": {
    "papermill": {
     "duration": 0.010379,
     "end_time": "2022-03-23T06:47:35.503829",
     "exception": false,
     "start_time": "2022-03-23T06:47:35.493450",
     "status": "completed"
    },
    "tags": []
   },
   "source": [
    "## Inference\n",
    "\n",
    ">[Markdown: Syntax](https://daringfireball.net/projects/markdown/syntax)\n",
    "\n",
    ">[GitHub Flavored Markdown Spec](https://github.github.com/gfm/)\n",
    "\n",
    ">[Markdown Cheat Sheet](https://www.markdownguide.org/cheat-sheet/)\n",
    "\n",
    ">[Markdown記法 チートシート](https://qiita.com/Qiita/items/c686397e4a0f4f11683d)\n",
    "\n",
    ">[Markdown Cheatsheet](https://github.com/adam-p/markdown-here/wiki/Markdown-Cheatsheet)"
   ]
  },
  {
   "cell_type": "markdown",
   "id": "dabf39b7",
   "metadata": {
    "papermill": {
     "duration": 0.010153,
     "end_time": "2022-03-23T06:47:35.524543",
     "exception": false,
     "start_time": "2022-03-23T06:47:35.514390",
     "status": "completed"
    },
    "tags": []
   },
   "source": [
    "## Source Code Block\n",
    "\n",
    "```ruby:qiita.rb\n",
    "puts 'The best way to log and share programmers knowledge.'\n",
    "```\n",
    "\n",
    "\n",
    "```ruby:qiita.rb\n",
    "puts 'The best way to log and share programmers knowledge.'\n",
    "```"
   ]
  },
  {
   "cell_type": "markdown",
   "id": "686ee1ad",
   "metadata": {
    "papermill": {
     "duration": 0.010235,
     "end_time": "2022-03-23T06:47:35.545713",
     "exception": false,
     "start_time": "2022-03-23T06:47:35.535478",
     "status": "completed"
    },
    "tags": []
   },
   "source": [
    "## Bold\n",
    "```markdown\n",
    "**bold**\n",
    "```\n",
    "**bold**"
   ]
  },
  {
   "cell_type": "markdown",
   "id": "0ff93ad1",
   "metadata": {
    "papermill": {
     "duration": 0.010752,
     "end_time": "2022-03-23T06:47:35.566937",
     "exception": false,
     "start_time": "2022-03-23T06:47:35.556185",
     "status": "completed"
    },
    "tags": []
   },
   "source": [
    "## Italic\n",
    "```markdown\n",
    "*italic*\n",
    "```\n",
    "*italic*"
   ]
  },
  {
   "cell_type": "markdown",
   "id": "ca0040ba",
   "metadata": {
    "papermill": {
     "duration": 0.010264,
     "end_time": "2022-03-23T06:47:35.588101",
     "exception": false,
     "start_time": "2022-03-23T06:47:35.577837",
     "status": "completed"
    },
    "tags": []
   },
   "source": [
    "## Citation\n",
    "```markdown\n",
    "> citation\n",
    "```\n",
    "\n",
    "> citation"
   ]
  },
  {
   "cell_type": "markdown",
   "id": "4fa03829",
   "metadata": {
    "papermill": {
     "duration": 0.010144,
     "end_time": "2022-03-23T06:47:35.608706",
     "exception": false,
     "start_time": "2022-03-23T06:47:35.598562",
     "status": "completed"
    },
    "tags": []
   },
   "source": [
    "## Hyperlink\n",
    "```markdown\n",
    "[hyperlink](https://www.kaggle.com/)\n",
    "```\n",
    "\n",
    "[hyperlink](https://www.kaggle.com/)"
   ]
  },
  {
   "cell_type": "markdown",
   "id": "c09d4286",
   "metadata": {
    "papermill": {
     "duration": 0.010347,
     "end_time": "2022-03-23T06:47:35.629702",
     "exception": false,
     "start_time": "2022-03-23T06:47:35.619355",
     "status": "completed"
    },
    "tags": []
   },
   "source": [
    "## Image\n",
    "```markdown\n",
    "![image](https://www.kaggle.com/static/images/site-logo.png)\n",
    "```\n",
    "![image](https://www.kaggle.com/static/images/site-logo.png)"
   ]
  },
  {
   "cell_type": "markdown",
   "id": "d3903631",
   "metadata": {
    "papermill": {
     "duration": 0.010055,
     "end_time": "2022-03-23T06:47:35.650171",
     "exception": false,
     "start_time": "2022-03-23T06:47:35.640116",
     "status": "completed"
    },
    "tags": []
   },
   "source": [
    "## List\n",
    "```markdown\n",
    "* list\n",
    "```\n",
    "* list"
   ]
  },
  {
   "cell_type": "markdown",
   "id": "6f92c686",
   "metadata": {
    "papermill": {
     "duration": 0.010022,
     "end_time": "2022-03-23T06:47:35.670517",
     "exception": false,
     "start_time": "2022-03-23T06:47:35.660495",
     "status": "completed"
    },
    "tags": []
   },
   "source": [
    "## OrderedList\n",
    "```markdown\n",
    "1. orderlist\n",
    "```\n",
    "1. orderlist"
   ]
  },
  {
   "cell_type": "markdown",
   "id": "dac1741c",
   "metadata": {
    "papermill": {
     "duration": 0.010155,
     "end_time": "2022-03-23T06:47:35.690959",
     "exception": false,
     "start_time": "2022-03-23T06:47:35.680804",
     "status": "completed"
    },
    "tags": []
   },
   "source": [
    "## Header\n",
    "```markdown\n",
    "# Header1\n",
    "## Header2\n",
    "### Header3\n",
    "#### Header4\n",
    "##### Header5\n",
    "###### Header6\n",
    "```\n",
    "# Header1\n",
    "## Header2\n",
    "### Header3\n",
    "#### Header4\n",
    "##### Header5\n",
    "#5 bolt\n",
    "###### Header6"
   ]
  },
  {
   "cell_type": "markdown",
   "id": "31074309",
   "metadata": {
    "papermill": {
     "duration": 0.01001,
     "end_time": "2022-03-23T06:47:35.711312",
     "exception": false,
     "start_time": "2022-03-23T06:47:35.701302",
     "status": "completed"
    },
    "tags": []
   },
   "source": []
  },
  {
   "cell_type": "markdown",
   "id": "9f8b3610",
   "metadata": {
    "papermill": {
     "duration": 0.010534,
     "end_time": "2022-03-23T06:47:35.732566",
     "exception": false,
     "start_time": "2022-03-23T06:47:35.722032",
     "status": "completed"
    },
    "tags": []
   },
   "source": [
    "## Strike\n",
    "```\n",
    "~~Strike~~\n",
    "```\n",
    "~~Strike~~"
   ]
  },
  {
   "cell_type": "markdown",
   "id": "5421872f",
   "metadata": {
    "papermill": {
     "duration": 0.010623,
     "end_time": "2022-03-23T06:47:35.753951",
     "exception": false,
     "start_time": "2022-03-23T06:47:35.743328",
     "status": "completed"
    },
    "tags": []
   },
   "source": [
    "## Details\n",
    "<details><summary>サンプルコード</summary><div>\n",
    "\n",
    "```rb\n",
    "puts 'Hello, World'\n",
    "```\n",
    "    \n",
    "</div></details>"
   ]
  },
  {
   "cell_type": "markdown",
   "id": "7b4cfe3f",
   "metadata": {
    "papermill": {
     "duration": 0.010466,
     "end_time": "2022-03-23T06:47:35.775117",
     "exception": false,
     "start_time": "2022-03-23T06:47:35.764651",
     "status": "completed"
    },
    "tags": []
   },
   "source": [
    "</div></details>"
   ]
  },
  {
   "cell_type": "markdown",
   "id": "724fe7bf",
   "metadata": {
    "papermill": {
     "duration": 0.010176,
     "end_time": "2022-03-23T06:47:35.795733",
     "exception": false,
     "start_time": "2022-03-23T06:47:35.785557",
     "status": "completed"
    },
    "tags": []
   },
   "source": [
    " - [ ] タスク1\n",
    " - [x] タスク2"
   ]
  },
  {
   "cell_type": "markdown",
   "id": "20efec82",
   "metadata": {
    "papermill": {
     "duration": 0.011943,
     "end_time": "2022-03-23T06:47:35.818158",
     "exception": false,
     "start_time": "2022-03-23T06:47:35.806215",
     "status": "completed"
    },
    "tags": []
   },
   "source": [
    "| Left align | Right align | Center align |\n",
    "|:-----------|------------:|:------------:|\n",
    "| This       | This        | This         |\n",
    "| column     | column      | column       |\n",
    "| will       | will        | will         |\n",
    "| be         | be          | be           |\n",
    "| left       | right       | center       |\n",
    "| aligned    | aligned     | aligned      |"
   ]
  },
  {
   "cell_type": "markdown",
   "id": "5ccdba13",
   "metadata": {
    "papermill": {
     "duration": 0.013098,
     "end_time": "2022-03-23T06:47:35.846128",
     "exception": false,
     "start_time": "2022-03-23T06:47:35.833030",
     "status": "completed"
    },
    "tags": []
   },
   "source": [
    "```math\n",
    "\\left( \\sum_{k=1}^n a_k b_k \\right)^{!!2} \\leq\n",
    "\\left( \\sum_{k=1}^n a_k^2 \\right) \\left( \\sum_{k=1}^n b_k^2 \\right)\n",
    "```"
   ]
  },
  {
   "cell_type": "markdown",
   "id": "f9760e5b",
   "metadata": {
    "papermill": {
     "duration": 0.013777,
     "end_time": "2022-03-23T06:47:35.871192",
     "exception": false,
     "start_time": "2022-03-23T06:47:35.857415",
     "status": "completed"
    },
    "tags": []
   },
   "source": [
    "term\n",
    ": definition"
   ]
  },
  {
   "cell_type": "markdown",
   "id": "2a794e2c",
   "metadata": {
    "papermill": {
     "duration": 0.012059,
     "end_time": "2022-03-23T06:47:35.896567",
     "exception": false,
     "start_time": "2022-03-23T06:47:35.884508",
     "status": "completed"
    },
    "tags": []
   },
   "source": [
    "\n",
    "https://qiita.com/Qiita/items/c686397e4a0f4f11683d\n"
   ]
  }
 ],
 "metadata": {
  "kernelspec": {
   "display_name": "Python 3",
   "language": "python",
   "name": "python3"
  },
  "language_info": {
   "codemirror_mode": {
    "name": "ipython",
    "version": 3
   },
   "file_extension": ".py",
   "mimetype": "text/x-python",
   "name": "python",
   "nbconvert_exporter": "python",
   "pygments_lexer": "ipython3",
   "version": "3.7.10"
  },
  "papermill": {
   "default_parameters": {},
   "duration": 10.508341,
   "end_time": "2022-03-23T06:47:36.525828",
   "environment_variables": {},
   "exception": null,
   "input_path": "__notebook__.ipynb",
   "output_path": "__notebook__.ipynb",
   "parameters": {},
   "start_time": "2022-03-23T06:47:26.017487",
   "version": "2.3.3"
  }
 },
 "nbformat": 4,
 "nbformat_minor": 5
}
