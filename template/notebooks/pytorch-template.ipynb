{
 "cells": [
  {
   "cell_type": "markdown",
   "id": "6c5567b8",
   "metadata": {
    "papermill": {
     "duration": 0.02094,
     "end_time": "2022-03-23T07:10:20.604427",
     "exception": false,
     "start_time": "2022-03-23T07:10:20.583487",
     "status": "completed"
    },
    "tags": []
   },
   "source": [
    "# Libraries"
   ]
  },
  {
   "cell_type": "code",
   "execution_count": 1,
   "id": "0c47d250",
   "metadata": {
    "execution": {
     "iopub.execute_input": "2022-03-23T07:10:20.658898Z",
     "iopub.status.busy": "2022-03-23T07:10:20.653550Z",
     "iopub.status.idle": "2022-03-23T07:10:23.076895Z",
     "shell.execute_reply": "2022-03-23T07:10:23.076101Z",
     "shell.execute_reply.started": "2022-03-23T07:09:50.374574Z"
    },
    "papermill": {
     "duration": 2.453325,
     "end_time": "2022-03-23T07:10:23.077090",
     "exception": false,
     "start_time": "2022-03-23T07:10:20.623765",
     "status": "completed"
    },
    "tags": []
   },
   "outputs": [],
   "source": [
    "#defaul libraries\n",
    "#https://docs.python.org/ja/\n",
    "import os\n",
    "import sys\n",
    "import io\n",
    "\n",
    "import math\n",
    "import random\n",
    "import pprint\n",
    "import time\n",
    "import datetime\n",
    "import typing\n",
    "import json\n",
    "import glob\n",
    "import requests\n",
    "import warnings\n",
    "import gc\n",
    "from pprint import pprint\n",
    "import re\n",
    "\n",
    "import numpy as np #https://numpy.org/\n",
    "import pandas as pd #https://pandas.pydata.org/\n",
    "import sklearn #https://scikit-learn.org/stable/\n",
    "\n",
    "import matplotlib.pyplot as plt #https://matplotlib.org/stable/api/_as_gen/matplotlib.pyplot.html\n",
    "%matplotlib inline\n",
    "\n",
    "import seaborn as sns\n",
    "sns.set()\n",
    "\n",
    "from tqdm import tqdm #https://tqdm.github.io/\n",
    "\n",
    "import torch #https://pytorch.org/\n",
    "import transformers #https://huggingface.co/transformers/"
   ]
  },
  {
   "cell_type": "markdown",
   "id": "d4b60222",
   "metadata": {
    "papermill": {
     "duration": 0.018152,
     "end_time": "2022-03-23T07:10:23.114009",
     "exception": false,
     "start_time": "2022-03-23T07:10:23.095857",
     "status": "completed"
    },
    "tags": []
   },
   "source": [
    "# Configuration"
   ]
  },
  {
   "cell_type": "code",
   "execution_count": 2,
   "id": "76cb0fbc",
   "metadata": {
    "execution": {
     "iopub.execute_input": "2022-03-23T07:10:23.161439Z",
     "iopub.status.busy": "2022-03-23T07:10:23.160683Z",
     "iopub.status.idle": "2022-03-23T07:10:23.163957Z",
     "shell.execute_reply": "2022-03-23T07:10:23.164483Z",
     "shell.execute_reply.started": "2022-03-23T07:09:50.391294Z"
    },
    "papermill": {
     "duration": 0.03222,
     "end_time": "2022-03-23T07:10:23.164683",
     "exception": false,
     "start_time": "2022-03-23T07:10:23.132463",
     "status": "completed"
    },
    "tags": []
   },
   "outputs": [
    {
     "name": "stdout",
     "output_type": "stream",
     "text": [
      "cpu\n"
     ]
    }
   ],
   "source": [
    "class CFG():\n",
    "    \n",
    "    data_path=\"path/to/datasets/\"\n",
    "    save_path=''\n",
    "    debug=False\n",
    "    seed=0\n",
    "\n",
    "    device = torch.device('cuda:0' if torch.cuda.is_available() else 'cpu')\n",
    "    batch_size=128\n",
    "    epochs=20\n",
    "    learning_rate=1#0.001\n",
    "    kFold=1\n",
    "    amp=True\n",
    "    \n",
    "print(CFG.device)\n",
    "\n",
    "if torch.cuda.is_available():\n",
    "    torch.cuda.set_device(CFG.device)\n",
    "    print(torch.cuda.current_device())\n",
    "    print(torch.cuda.get_device_name())\n",
    "    print(torch.cuda.device_count())\n",
    "    \n",
    "    #高速化関連\n",
    "    #https://qiita.com/sugulu_Ogawa_ISID/items/62f5f7adee083d96a587\n",
    "\n",
    "    #GPU 遅くなるらしい↓\n",
    "    torch.backends.cudnn.deterministic = True\n",
    "\n",
    "    #イテレーションごとのnnの順伝搬および誤差関数の 計算手法がある程度一定であれば、torch.backends.cudnn.benchmark = Trueで GPU での計算が高速化\n",
    "    torch.backends.cudnn.benchmark = False\n"
   ]
  },
  {
   "cell_type": "code",
   "execution_count": 3,
   "id": "098b23ce",
   "metadata": {
    "execution": {
     "iopub.execute_input": "2022-03-23T07:10:23.210356Z",
     "iopub.status.busy": "2022-03-23T07:10:23.209621Z",
     "iopub.status.idle": "2022-03-23T07:10:23.215570Z",
     "shell.execute_reply": "2022-03-23T07:10:23.214997Z",
     "shell.execute_reply.started": "2022-03-23T07:09:50.407500Z"
    },
    "papermill": {
     "duration": 0.031312,
     "end_time": "2022-03-23T07:10:23.215739",
     "exception": false,
     "start_time": "2022-03-23T07:10:23.184427",
     "status": "completed"
    },
    "tags": []
   },
   "outputs": [],
   "source": [
    "def set_seed(seed=0):\n",
    "    random.seed(seed)\n",
    "    os.environ['PYTHONHASHSEED'] = str(seed)\n",
    "    np.random.seed(seed)\n",
    "    #tf.random.set_seed(seed)\n",
    "    torch.manual_seed(seed)\n",
    "    torch.cuda.manual_seed(seed)\n",
    "    torch.cuda.manual_seed_all(seed)\n",
    "    \n",
    "set_seed(CFG.seed)"
   ]
  },
  {
   "cell_type": "markdown",
   "id": "5e02c8e0",
   "metadata": {
    "papermill": {
     "duration": 0.019249,
     "end_time": "2022-03-23T07:10:23.254339",
     "exception": false,
     "start_time": "2022-03-23T07:10:23.235090",
     "status": "completed"
    },
    "tags": []
   },
   "source": [
    "# Color"
   ]
  },
  {
   "cell_type": "code",
   "execution_count": 4,
   "id": "a01854af",
   "metadata": {
    "execution": {
     "iopub.execute_input": "2022-03-23T07:10:23.301215Z",
     "iopub.status.busy": "2022-03-23T07:10:23.300493Z",
     "iopub.status.idle": "2022-03-23T07:10:23.302493Z",
     "shell.execute_reply": "2022-03-23T07:10:23.303141Z",
     "shell.execute_reply.started": "2022-03-23T07:09:50.423249Z"
    },
    "papermill": {
     "duration": 0.028979,
     "end_time": "2022-03-23T07:10:23.303349",
     "exception": false,
     "start_time": "2022-03-23T07:10:23.274370",
     "status": "completed"
    },
    "tags": []
   },
   "outputs": [],
   "source": [
    "def color(string,fg='DEFAULT',bg='DEFAULT',fg_rgb=None,bg_rgb=None,style='END'):\n",
    "    colors=['BLACK','RED','GREEN','YELLOW','BLUE','PURPLE','CYAN','WHITE','8','DEFAULT']\n",
    "    styles=['END','BOLD','2','3','UNDERLINE','5','6','REVERSE','INVISIBLE','9']\n",
    "\n",
    "    fg=f'\\033[3{colors.index(fg)}m'\n",
    "    bg=f'\\033[4{colors.index(bg)}m'\n",
    "    style=f'\\033[0{styles.index(style)}m'\n",
    "\n",
    "    if fg_rgb:fg=f\"\\033[38;2;{fg_rgb[0]};{fg_rgb[1]};{fg_rgb[2]}m\"\n",
    "    if bg_rgb:bg=f\"\\033[48;2;{bg_rgb[0]};{bg_rgb[1]};{bg_rgb[2]}m\"\n",
    "\n",
    "    return style+fg+bg+str(string)+'\\033[0m'"
   ]
  },
  {
   "cell_type": "markdown",
   "id": "3932f35a",
   "metadata": {
    "papermill": {
     "duration": 0.018518,
     "end_time": "2022-03-23T07:10:23.340966",
     "exception": false,
     "start_time": "2022-03-23T07:10:23.322448",
     "status": "completed"
    },
    "tags": []
   },
   "source": [
    "# Dataset"
   ]
  },
  {
   "cell_type": "markdown",
   "id": "5a225aa9",
   "metadata": {
    "papermill": {
     "duration": 0.022796,
     "end_time": "2022-03-23T07:10:23.385843",
     "exception": false,
     "start_time": "2022-03-23T07:10:23.363047",
     "status": "completed"
    },
    "tags": []
   },
   "source": [
    "## Read Data"
   ]
  },
  {
   "cell_type": "code",
   "execution_count": 5,
   "id": "78cf7ba9",
   "metadata": {
    "execution": {
     "iopub.execute_input": "2022-03-23T07:10:23.435652Z",
     "iopub.status.busy": "2022-03-23T07:10:23.434950Z",
     "iopub.status.idle": "2022-03-23T07:10:23.457981Z",
     "shell.execute_reply": "2022-03-23T07:10:23.458640Z",
     "shell.execute_reply.started": "2022-03-23T07:09:50.442715Z"
    },
    "papermill": {
     "duration": 0.04977,
     "end_time": "2022-03-23T07:10:23.458896",
     "exception": false,
     "start_time": "2022-03-23T07:10:23.409126",
     "status": "completed"
    },
    "tags": []
   },
   "outputs": [
    {
     "name": "stdout",
     "output_type": "stream",
     "text": [
      "skip\n"
     ]
    }
   ],
   "source": [
    "%%script echo skip\n",
    "\n",
    "data={\n",
    "    'train':pd.DataFrame(columns=['feature','target']),\n",
    "    'val':pd.DataFrame({'feature':val.feature,'target':val['target']}),\n",
    "    'test':pd.DataFrame(test),\n",
    "}\n",
    "\n",
    "#データの読み込み\n",
    "#data=pd.read_pickle('../dataset')\n",
    "\n",
    "#sample\n",
    "if CFG.debug:\n",
    "    data=data.sample(frac=0.01,random_state=CFG.seed)\n",
    "    data.reset_index(drop=True,inplace=True)\n",
    "data"
   ]
  },
  {
   "cell_type": "markdown",
   "id": "71e0edb0",
   "metadata": {
    "papermill": {
     "duration": 0.019092,
     "end_time": "2022-03-23T07:10:23.497714",
     "exception": false,
     "start_time": "2022-03-23T07:10:23.478622",
     "status": "completed"
    },
    "tags": []
   },
   "source": [
    "## split dataset"
   ]
  },
  {
   "cell_type": "code",
   "execution_count": 6,
   "id": "299a13a9",
   "metadata": {
    "execution": {
     "iopub.execute_input": "2022-03-23T07:10:23.543104Z",
     "iopub.status.busy": "2022-03-23T07:10:23.542039Z",
     "iopub.status.idle": "2022-03-23T07:10:23.561094Z",
     "shell.execute_reply": "2022-03-23T07:10:23.561708Z",
     "shell.execute_reply.started": "2022-03-23T07:09:50.474841Z"
    },
    "papermill": {
     "duration": 0.044715,
     "end_time": "2022-03-23T07:10:23.561945",
     "exception": false,
     "start_time": "2022-03-23T07:10:23.517230",
     "status": "completed"
    },
    "tags": []
   },
   "outputs": [
    {
     "name": "stdout",
     "output_type": "stream",
     "text": [
      "skip\n"
     ]
    }
   ],
   "source": [
    "%%script echo skip\n",
    "\n",
    "data={'train':None,'val':None}\n",
    "from sklearn.model_selection import train_test_split\n",
    "data['train'], data['val'] = sklearn.model_selection.train_test_split(\n",
    "    data_,\n",
    "    test_size=0.2,\n",
    "    random_state=CFG.seed, \n",
    "    stratify=data_[\"target\"],\n",
    ")\n",
    "data['train']=data['train'].reset_index(drop=True)\n",
    "data['val']=data['val'].reset_index(drop=True)"
   ]
  },
  {
   "cell_type": "markdown",
   "id": "1b115249",
   "metadata": {
    "papermill": {
     "duration": 0.019384,
     "end_time": "2022-03-23T07:10:23.601479",
     "exception": false,
     "start_time": "2022-03-23T07:10:23.582095",
     "status": "completed"
    },
    "tags": []
   },
   "source": [
    "## Dataset"
   ]
  },
  {
   "cell_type": "code",
   "execution_count": 7,
   "id": "260fc015",
   "metadata": {
    "execution": {
     "iopub.execute_input": "2022-03-23T07:10:23.645248Z",
     "iopub.status.busy": "2022-03-23T07:10:23.644233Z",
     "iopub.status.idle": "2022-03-23T07:10:23.653098Z",
     "shell.execute_reply": "2022-03-23T07:10:23.653565Z",
     "shell.execute_reply.started": "2022-03-23T07:09:50.513304Z"
    },
    "papermill": {
     "duration": 0.032695,
     "end_time": "2022-03-23T07:10:23.653800",
     "exception": false,
     "start_time": "2022-03-23T07:10:23.621105",
     "status": "completed"
    },
    "tags": []
   },
   "outputs": [],
   "source": [
    "class Dataset(torch.utils.data.Dataset):\n",
    "    def __init__(self,digits,labels=None,phase='train',transform=None):\n",
    "        self.digits=digits\n",
    "        self.labels=labels\n",
    "        self.phase=phase #train/val/test\n",
    "        self.transform=transform\n",
    "        \n",
    "    def __len__(self):\n",
    "        return len(self.digits)\n",
    "\n",
    "    def __getitem__(self,idx):\n",
    "        \n",
    "        datum=self.digits.loc[idx]\n",
    "        if self.transform:datum=self.transform(datum)\n",
    "        \n",
    "        return {'digit':datum,'label':None if self.phase=='test' else self.labels.loc[idx]}"
   ]
  },
  {
   "cell_type": "code",
   "execution_count": 8,
   "id": "fd481d9f",
   "metadata": {
    "execution": {
     "iopub.execute_input": "2022-03-23T07:10:23.696828Z",
     "iopub.status.busy": "2022-03-23T07:10:23.696149Z",
     "iopub.status.idle": "2022-03-23T07:10:23.717057Z",
     "shell.execute_reply": "2022-03-23T07:10:23.717989Z",
     "shell.execute_reply.started": "2022-03-23T07:09:50.551114Z"
    },
    "papermill": {
     "duration": 0.044674,
     "end_time": "2022-03-23T07:10:23.718220",
     "exception": false,
     "start_time": "2022-03-23T07:10:23.673546",
     "status": "completed"
    },
    "tags": []
   },
   "outputs": [
    {
     "name": "stdout",
     "output_type": "stream",
     "text": [
      "skip\n"
     ]
    }
   ],
   "source": [
    "%%script echo skip\n",
    "\n",
    "dataset={\n",
    "    'train':Dataset(data['train'].drop('label',axis=1),data['train']['label'],'train'),\n",
    "    'val'  :Dataset(data['val'].drop('label',axis=1)  ,data['val']['label']  ,'val'  ),\n",
    "    'test' :Dataset(data['test']                      ,None                  ,'test' ),\n",
    "}"
   ]
  },
  {
   "cell_type": "markdown",
   "id": "ec1996ff",
   "metadata": {
    "papermill": {
     "duration": 0.020728,
     "end_time": "2022-03-23T07:10:23.759674",
     "exception": false,
     "start_time": "2022-03-23T07:10:23.738946",
     "status": "completed"
    },
    "tags": []
   },
   "source": [
    "## dataloader"
   ]
  },
  {
   "cell_type": "code",
   "execution_count": 9,
   "id": "1c816604",
   "metadata": {
    "execution": {
     "iopub.execute_input": "2022-03-23T07:10:23.805506Z",
     "iopub.status.busy": "2022-03-23T07:10:23.804430Z",
     "iopub.status.idle": "2022-03-23T07:10:23.827378Z",
     "shell.execute_reply": "2022-03-23T07:10:23.826598Z",
     "shell.execute_reply.started": "2022-03-23T07:09:50.578831Z"
    },
    "papermill": {
     "duration": 0.046896,
     "end_time": "2022-03-23T07:10:23.827565",
     "exception": false,
     "start_time": "2022-03-23T07:10:23.780669",
     "status": "completed"
    },
    "tags": []
   },
   "outputs": [
    {
     "name": "stdout",
     "output_type": "stream",
     "text": [
      "skip\n"
     ]
    }
   ],
   "source": [
    "%%script echo skip\n",
    "\n",
    "# def collate_fn(batch):\n",
    "#     features,targets = zip(*batch)\n",
    "#     return features,torch.tensor(targets).float()\n",
    "\n",
    "dataloader={\n",
    "    'train':\n",
    "    torch.utils.data.DataLoader(\n",
    "        dataset['train'],\n",
    "        #collate_fn=sentences_collate_fn,\n",
    "        batch_size=CFG.batch_size,\n",
    "        shuffle=True,\n",
    "        num_workers=os.cpu_count(),\n",
    "        pin_memory=True\n",
    "    ),\n",
    "    'val':\n",
    "    torch.utils.data.DataLoader(\n",
    "        dataset['val'],\n",
    "        #collate_fn=sentences_collate_fn,\n",
    "        batch_size=CFG.batch_size,\n",
    "        shuffle=False,\n",
    "        num_workers=os.cpu_count(),\n",
    "        pin_memory=True\n",
    "    ),\n",
    "    'test':\n",
    "    torch.utils.data.DataLoader(\n",
    "        dataset['test'],\n",
    "        #collate_fn=sentences_collate_fn,\n",
    "        batch_size=CFG.batch_size,\n",
    "        shuffle=False,\n",
    "        num_workers=os.cpu_count(),\n",
    "        pin_memory=True\n",
    "    )\n",
    "}"
   ]
  },
  {
   "cell_type": "code",
   "execution_count": 10,
   "id": "24c2caa1",
   "metadata": {
    "execution": {
     "iopub.execute_input": "2022-03-23T07:10:23.873959Z",
     "iopub.status.busy": "2022-03-23T07:10:23.873246Z",
     "iopub.status.idle": "2022-03-23T07:10:23.895240Z",
     "shell.execute_reply": "2022-03-23T07:10:23.894578Z",
     "shell.execute_reply.started": "2022-03-23T07:09:50.605010Z"
    },
    "papermill": {
     "duration": 0.046568,
     "end_time": "2022-03-23T07:10:23.895407",
     "exception": false,
     "start_time": "2022-03-23T07:10:23.848839",
     "status": "completed"
    },
    "tags": []
   },
   "outputs": [
    {
     "name": "stdout",
     "output_type": "stream",
     "text": [
      "skip\n"
     ]
    }
   ],
   "source": [
    "%%script echo skip\n",
    "\n",
    "# 動作確認\n",
    "inputs, labels = next(iter(dataloader[\"train\"]))  # 1番目の要素を取り出す\n",
    "print(inputs.size())\n",
    "print(labels)"
   ]
  },
  {
   "cell_type": "markdown",
   "id": "12e91214",
   "metadata": {
    "papermill": {
     "duration": 0.020589,
     "end_time": "2022-03-23T07:10:23.937280",
     "exception": false,
     "start_time": "2022-03-23T07:10:23.916691",
     "status": "completed"
    },
    "tags": []
   },
   "source": [
    "# Model"
   ]
  },
  {
   "cell_type": "code",
   "execution_count": 11,
   "id": "5e4f208b",
   "metadata": {
    "execution": {
     "iopub.execute_input": "2022-03-23T07:10:23.989574Z",
     "iopub.status.busy": "2022-03-23T07:10:23.988516Z",
     "iopub.status.idle": "2022-03-23T07:10:23.991517Z",
     "shell.execute_reply": "2022-03-23T07:10:23.992012Z",
     "shell.execute_reply.started": "2022-03-23T07:09:50.631532Z"
    },
    "papermill": {
     "duration": 0.034123,
     "end_time": "2022-03-23T07:10:23.992272",
     "exception": false,
     "start_time": "2022-03-23T07:10:23.958149",
     "status": "completed"
    },
    "tags": []
   },
   "outputs": [],
   "source": [
    "class Model(torch.nn.Module):\n",
    "    def __init__(self):\n",
    "        super(Model, self).__init__()\n",
    "        self.conv1 = torch.nn.Conv2d(1, 20, 5)\n",
    "        self.conv2 = torch.nn.Conv2d(20, 20, 5)\n",
    "\n",
    "    def forward(self, x):\n",
    "        x = torch.F.relu(self.conv1(x))\n",
    "        return torch.F.relu(self.conv2(x))\n",
    "    "
   ]
  },
  {
   "cell_type": "code",
   "execution_count": 12,
   "id": "168bd255",
   "metadata": {
    "execution": {
     "iopub.execute_input": "2022-03-23T07:10:24.039914Z",
     "iopub.status.busy": "2022-03-23T07:10:24.038929Z",
     "iopub.status.idle": "2022-03-23T07:10:24.080471Z",
     "shell.execute_reply": "2022-03-23T07:10:24.081005Z",
     "shell.execute_reply.started": "2022-03-23T07:09:50.641479Z"
    },
    "papermill": {
     "duration": 0.067295,
     "end_time": "2022-03-23T07:10:24.081231",
     "exception": false,
     "start_time": "2022-03-23T07:10:24.013936",
     "status": "completed"
    },
    "tags": []
   },
   "outputs": [],
   "source": [
    "model=Model()\n",
    "\n",
    "model.to(CFG.device)\n",
    "\n",
    "model.require_grad=True"
   ]
  },
  {
   "cell_type": "markdown",
   "id": "d6ee2884",
   "metadata": {
    "papermill": {
     "duration": 0.020201,
     "end_time": "2022-03-23T07:10:24.122511",
     "exception": false,
     "start_time": "2022-03-23T07:10:24.102310",
     "status": "completed"
    },
    "tags": []
   },
   "source": [
    "# Training"
   ]
  },
  {
   "cell_type": "markdown",
   "id": "d606cf36",
   "metadata": {
    "papermill": {
     "duration": 0.020094,
     "end_time": "2022-03-23T07:10:24.163383",
     "exception": false,
     "start_time": "2022-03-23T07:10:24.143289",
     "status": "completed"
    },
    "tags": []
   },
   "source": [
    "## Trainer"
   ]
  },
  {
   "cell_type": "code",
   "execution_count": 13,
   "id": "418312fc",
   "metadata": {
    "execution": {
     "iopub.execute_input": "2022-03-23T07:10:24.215380Z",
     "iopub.status.busy": "2022-03-23T07:10:24.214184Z",
     "iopub.status.idle": "2022-03-23T07:10:24.390356Z",
     "shell.execute_reply": "2022-03-23T07:10:24.390850Z",
     "shell.execute_reply.started": "2022-03-23T07:09:50.664477Z"
    },
    "papermill": {
     "duration": 0.206579,
     "end_time": "2022-03-23T07:10:24.391053",
     "exception": false,
     "start_time": "2022-03-23T07:10:24.184474",
     "status": "completed"
    },
    "tags": []
   },
   "outputs": [],
   "source": [
    "class Trainer():\n",
    "\n",
    "    def __init__(self):\n",
    "        self.loss_fun=torch.nn.BCEWithLogitsLoss()\n",
    "        self.score_fun=lambda a,b:torch.eq(a>0.5,b>0.5)\n",
    "\n",
    "        self.optimizer=None\n",
    "        self.lr_scheduler=None\n",
    "        self.scaler=torch.cuda.amp.GradScaler(enabled=(torch.cuda.is_available() and CFG.amp))\n",
    "\n",
    "    \n",
    "    def train_val_test(self,model,dataloader,phase,epoch=-1):\n",
    "\n",
    "        model.train() if phase=='train' else model.eval()   # モデルのモード\n",
    "        #model.to(CFG.device)\n",
    "\n",
    "        predictions=[]\n",
    "        losses=[]\n",
    "        scores=[]\n",
    "\n",
    "        # データローダーからミニバッチを取り出すループ\n",
    "\n",
    "        tqdm_bar=io.StringIO()\n",
    "        for features,targets in tqdm(dataloader,file=tqdm_bar,desc=f\"model description\\n{epoch} {phase}\"):\n",
    "            \n",
    "            # optimizerを初期化\n",
    "            if phase=='train':self.optimizer.zero_grad()\n",
    "\n",
    "            # 順伝搬（forward）計算\n",
    "            with torch.set_grad_enabled(phase=='train'):\n",
    " \n",
    "                features = features.to(CFG.device,non_blocking=True)\n",
    "                targets = targets.to(CFG.device,non_blocking=True)\n",
    "\n",
    "                with torch.cuda.amp.autocast(enabled=CFG.amp):\n",
    "\n",
    "                    preds=model(features)#,targets)\n",
    "\n",
    "                    if phase!='test':\n",
    "                        loss = self.loss_fun(preds, targets)  # 損失を計算\n",
    "                        losses.append(loss.item())\n",
    " \n",
    "                        score = self.score_fun(preds, targets).cpu().numpy()  # 正誤判定\n",
    "                        scores.extend(score)\n",
    "\n",
    "                # 訓練時はバックプロパゲーション\n",
    "                if phase == 'train':\n",
    "                    if CFG.amp:\n",
    "                        #scalerの場合\n",
    "                        self.scaler.scale(loss).backward() # ロスのバックワード\n",
    "                        self.scaler.step(self.optimizer) # オプティマイザーの更新\n",
    "                        self.scaler.update() # スケーラーの更新\n",
    "                    else:\n",
    "                        loss.backward()\n",
    "                        self.optimizer.step()\n",
    "\n",
    "            predictions.extend(preds.detach().cpu().numpy())\n",
    "\n",
    "            del preds\n",
    "            if phase!='test':del loss,score\n",
    "            torch.cuda.empty_cache()\n",
    "            gc.collect()\n",
    "\n",
    "#             slack.update(\n",
    "#                 '',\n",
    "#                 slack.textblock(\n",
    "#                     tqdm_bar.getvalue().split('\\r')[-1]+\n",
    "#                     f\"\\nscore={np.mean(scores):.3f}\"\n",
    "#                 )\n",
    "#             )\n",
    "            \n",
    "        return predictions,losses,scores\n",
    "\n",
    "    def cross_validation(self,model,dataloader):\n",
    "\n",
    "        start_time=datetime.datetime.utcnow() + datetime.timedelta(hours=9)\n",
    "\n",
    "        self.optimizer=transformers.AdamW(model.parameters(), CFG.learning_rate,betas=(0.9, 0.999), weight_decay=1e-2)\n",
    "        self.lr_scheduler=torch.optim.lr_scheduler.LambdaLR(self.optimizer, lr_lambda=lambda epoch:(1e-4)*(0.5**(epoch//5)),verbose=True)\n",
    "        \n",
    "        for fold in range(CFG.kFold):\n",
    "            print('fold',fold)\n",
    "            \n",
    "            losses={'train':[],'val':[]}\n",
    "            scores={'train':[],'val':[]}\n",
    "            \n",
    "            #self.initialize(CFG.seed,fold)\n",
    "            #dataset,dataloader,model,optimizer,scheduler,scaler=initialize(CFG.seed,fold)\n",
    "            \n",
    "            bestscore=0\n",
    "            \n",
    "            for epoch in tqdm(range(CFG.epochs)):\n",
    "                print(\"epoch=\",epoch)\n",
    "\n",
    "                # 未学習時の検証性能を確かめるため、epoch=0の訓練は省略\n",
    "                # if (epoch == 0) and (phase == 'train'):train_continue\n",
    "\n",
    "                _,loss,score=self.train_val_test(model,dataloader['train'],'train',epoch=epoch)\n",
    "                print(color(\"train score\",bg='CYAN')+' :',color(np.mean(score),'CYAN'))\n",
    "                scores['train'].append(np.mean(score))\n",
    "                losses['train'].append(np.mean(loss))\n",
    "                \n",
    "                #plt.scatter(dataset['train'].targets,preds,color='blue',s=5)\n",
    "                \n",
    "                _,loss,score=self.train_val_test(model,dataloader['val'],'val',epoch=epoch)\n",
    "                print(np.mean(loss))\n",
    "                print(color(\"val score\",bg='RED')+' :',color(np.mean(score),'RED'))\n",
    "                \n",
    "                scores['val'].append(np.mean(score))\n",
    "                losses['val'].append(np.mean(loss))\n",
    "\n",
    "                #print(scores[-1])\n",
    "\n",
    "                if bestscore < scores['val'][-1]:\n",
    "                    bestscore = scores['val'][-1]\n",
    "                    print(color(\"BEST SCORE\",bg='YELLOW')+' :',color(bestscore,'YELLOW'))\n",
    "\n",
    "                    bestmodel={\n",
    "                        'state_dict': model.state_dict(),\n",
    "                        'optimizer_dict': self.optimizer.state_dict(),\n",
    "                        'bestscore':bestscore,\n",
    "                        'seed':CFG.seed\n",
    "                    }\n",
    "\n",
    "                #print(preds)\n",
    "\n",
    "                self.lr_scheduler.step() # 学習率の更新 \n",
    "                \n",
    "            plt.plot(range(CFG.epochs),losses['train'],color = \"blue\",label='train')\n",
    "            plt.plot(range(CFG.epochs),losses['val'],color = \"red\",label='val')\n",
    "            plt.legend()\n",
    "            plt.title('Loss')\n",
    "            plt.show()\n",
    "\n",
    "            plt.plot(range(CFG.epochs),scores['train'],color = \"blue\",label='train')\n",
    "            plt.plot(range(CFG.epochs),scores['val'],color = \"red\",label='val')\n",
    "            plt.plot(range(CFG.epochs),[0.644]*CFG.epochs,color = \"green\",linestyle = \"dotted\",label='Egawa model')\n",
    "            plt.legend()\n",
    "            plt.title('Score')\n",
    "            plt.show()\n",
    "\n",
    "\n",
    "\n",
    "        exe_time=datetime.datetime.utcnow() + datetime.timedelta(hours=9)-start_time\n",
    "        print(exe_time)\n",
    "        # slack.update(\n",
    "        #     '',\n",
    "        #     slack.textblock(\n",
    "        #         f\"学習終了\\n実行時間：{exe_time}\\n{bestscore=:.3f}\"\n",
    "        #     )\n",
    "        # )\n",
    "\n",
    "        torch.save(bestmodel,\"modelname_Ver1.0:\"+str(bestscore)+\".pth\")\n",
    "\n",
    "        return predictions,losses,scores\n",
    "\n",
    "\n",
    "#             plt.plot(losses['train'],color='blue')\n",
    "#             plt.plot(losses['valid'],color='red')\n",
    "#             plt.show()\n",
    "\n",
    "\n",
    "trainer=Trainer()"
   ]
  },
  {
   "cell_type": "markdown",
   "id": "c4c07312",
   "metadata": {
    "papermill": {
     "duration": 0.019878,
     "end_time": "2022-03-23T07:10:24.431006",
     "exception": false,
     "start_time": "2022-03-23T07:10:24.411128",
     "status": "completed"
    },
    "tags": []
   },
   "source": [
    "## Train"
   ]
  },
  {
   "cell_type": "code",
   "execution_count": 14,
   "id": "fffd9ebe",
   "metadata": {
    "execution": {
     "iopub.execute_input": "2022-03-23T07:10:24.475328Z",
     "iopub.status.busy": "2022-03-23T07:10:24.474394Z",
     "iopub.status.idle": "2022-03-23T07:10:24.494061Z",
     "shell.execute_reply": "2022-03-23T07:10:24.493288Z",
     "shell.execute_reply.started": "2022-03-23T07:09:50.702902Z"
    },
    "papermill": {
     "duration": 0.042793,
     "end_time": "2022-03-23T07:10:24.494269",
     "exception": false,
     "start_time": "2022-03-23T07:10:24.451476",
     "status": "completed"
    },
    "tags": []
   },
   "outputs": [
    {
     "name": "stdout",
     "output_type": "stream",
     "text": [
      "skip\n"
     ]
    }
   ],
   "source": [
    "%%script echo skip\n",
    "trainer.cross_validation(model,dataloader['train'])"
   ]
  }
 ],
 "metadata": {
  "kernelspec": {
   "display_name": "Python 3",
   "language": "python",
   "name": "python3"
  },
  "language_info": {
   "codemirror_mode": {
    "name": "ipython",
    "version": 3
   },
   "file_extension": ".py",
   "mimetype": "text/x-python",
   "name": "python",
   "nbconvert_exporter": "python",
   "pygments_lexer": "ipython3",
   "version": "3.7.10"
  },
  "papermill": {
   "default_parameters": {},
   "duration": 13.859899,
   "end_time": "2022-03-23T07:10:25.849843",
   "environment_variables": {},
   "exception": null,
   "input_path": "__notebook__.ipynb",
   "output_path": "__notebook__.ipynb",
   "parameters": {},
   "start_time": "2022-03-23T07:10:11.989944",
   "version": "2.3.3"
  }
 },
 "nbformat": 4,
 "nbformat_minor": 5
}
