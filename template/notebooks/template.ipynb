<<<<<<< HEAD
{
 "cells": [
  {
   "cell_type": "markdown",
   "id": "b9af2a0c",
   "metadata": {
    "papermill": {
     "duration": 0.011542,
     "end_time": "2021-08-06T12:41:09.227914",
     "exception": false,
     "start_time": "2021-08-06T12:41:09.216372",
     "status": "completed"
    },
    "tags": []
   },
   "source": [
    "<h1>template notebook</h1>"
   ]
  },
  {
   "cell_type": "code",
   "execution_count": 31,
   "id": "8f81dd0a",
   "metadata": {},
   "outputs": [
    {
     "name": "stdout",
     "output_type": "stream",
     "text": [
      "/Users/toutatsu/Desktop/git_repositories/kaggle/template/notebooks\n",
      ".| |--figs\n",
      ".| |--input\n",
      ".| |--models\n",
      ".| |--notebooks\n",
      ".| | |--EDA.ipynb\n",
      ".| | |--template-pytorch.ipynb\n",
      ".| | |--template.ipynb\n",
      ".| | |--visualize.ipynb\n"
     ]
    }
   ],
   "source": [
    "#tree\n",
    "!pwd\n",
    "!find ../ | sort | sed '1d;s/^\\.//;s/\\/\\([^/]*\\)$/|--\\1/;s/\\/[^/|]*/| /g'"
   ]
  },
  {
   "cell_type": "code",
   "execution_count": 22,
   "id": "28c2702d",
   "metadata": {},
   "outputs": [
    {
     "name": "stdout",
     "output_type": "stream",
     "text": [
      "/Users/toutatsu/Desktop/git_repositories/kaggle/template/notebooks\n"
     ]
    }
   ],
   "source": [
    "!pwd"
   ]
  },
  {
   "cell_type": "markdown",
   "id": "74a0fea8",
   "metadata": {},
   "source": [
    "## import subdirectory from Github?"
   ]
  },
  {
   "cell_type": "code",
   "execution_count": null,
   "id": "f9199c74",
   "metadata": {},
   "outputs": [],
   "source": [
    "cd /kaggle/working"
   ]
  },
  {
   "cell_type": "code",
   "execution_count": null,
   "id": "c5b2b0ad",
   "metadata": {},
   "outputs": [],
   "source": [
    "mkdir -p toutatsu"
   ]
  },
  {
   "cell_type": "code",
   "execution_count": null,
   "id": "90ac047f",
   "metadata": {},
   "outputs": [],
   "source": [
    "cd toutatsu"
   ]
  },
  {
   "cell_type": "code",
   "execution_count": null,
   "id": "20151d54",
   "metadata": {},
   "outputs": [],
   "source": [
    "!pwd"
   ]
  },
  {
   "cell_type": "code",
   "execution_count": null,
   "id": "beb564c3",
   "metadata": {},
   "outputs": [],
   "source": [
    "#https://stackoverflow.com/questions/600079/how-do-i-clone-a-subdirectory-only-of-a-git-repository\n",
    "!git init\n",
    "!git remote add -f origin \"https://github.com/toutatsu/kaggle\"\n",
    "!git config core.sparseCheckout true\n",
    "\n",
    "!echo \"digit-recognizer/*\" >> .git/info/sparse-checkout\n",
    "!echo \"template.ipynb\" >> .git/info/sparse-checkout\n",
    "\n",
    "!git pull origin master\n"
   ]
  },
  {
   "cell_type": "code",
   "execution_count": null,
   "id": "95e66477",
   "metadata": {},
   "outputs": [],
   "source": [
    "ls"
   ]
  },
  {
   "cell_type": "code",
   "execution_count": null,
   "id": "40276bf3",
   "metadata": {},
   "outputs": [],
   "source": [
    "cd /kaggle/working/"
   ]
  },
  {
   "cell_type": "code",
   "execution_count": null,
   "id": "83caf625",
   "metadata": {},
   "outputs": [],
   "source": [
    "# %%script echo skipping"
   ]
  },
  {
   "cell_type": "markdown",
   "id": "35a9f761",
   "metadata": {
    "papermill": {
     "duration": 0.010079,
     "end_time": "2021-08-06T12:41:09.250428",
     "exception": false,
     "start_time": "2021-08-06T12:41:09.240349",
     "status": "completed"
    },
    "tags": []
   },
   "source": [
    "# import libraries"
   ]
  },
  {
   "cell_type": "code",
   "execution_count": 1,
   "id": "12d08bda",
   "metadata": {
    "execution": {
     "iopub.execute_input": "2021-08-06T12:41:09.275296Z",
     "iopub.status.busy": "2021-08-06T12:41:09.274161Z",
     "iopub.status.idle": "2021-08-06T12:41:11.802361Z",
     "shell.execute_reply": "2021-08-06T12:41:11.801607Z",
     "shell.execute_reply.started": "2021-08-06T12:38:24.470548Z"
    },
    "papermill": {
     "duration": 2.541845,
     "end_time": "2021-08-06T12:41:11.802530",
     "exception": false,
     "start_time": "2021-08-06T12:41:09.260685",
     "status": "completed"
    },
    "tags": []
   },
   "outputs": [],
   "source": [
    "#defaul libraries\n",
    "#https://docs.python.org/ja/\n",
    "import os\n",
    "import sys\n",
    "import io\n",
    "\n",
    "import math\n",
    "import random\n",
    "import pprint\n",
    "import time\n",
    "import datetime\n",
    "import typing\n",
    "import json\n",
    "import glob\n",
    "import requests\n",
    "import warnings\n",
    "import gc\n",
    "from pprint import pprint\n",
    "import re\n",
    "\n",
    "import numpy as np #https://numpy.org/\n",
    "import pandas as pd #https://pandas.pydata.org/\n",
    "import sklearn #https://scikit-learn.org/stable/\n",
    "\n",
    "import matplotlib.pyplot as plt #https://matplotlib.org/stable/api/_as_gen/matplotlib.pyplot.html\n",
    "%matplotlib inline\n",
    "\n",
    "import seaborn as sns\n",
    "sns.set()\n",
    "\n",
    "from tqdm import tqdm #https://tqdm.github.io/\n",
    "\n",
    "import torch #https://pytorch.org/\n",
    "import transformers #https://huggingface.co/transformers/\n",
    "\n",
    "import torchvision\n",
    "import torchtext"
   ]
  },
  {
   "cell_type": "code",
   "execution_count": null,
   "id": "8fee2f53",
   "metadata": {},
   "outputs": [],
   "source": [
    "print(os.curdir)\n",
    "for dirname, _, filenames in os.walk('.'):\n",
    "    for filename in filenames:\n",
    "        print(os.path.join(dirname, filename))"
   ]
  },
  {
   "cell_type": "markdown",
   "id": "eede96ea",
   "metadata": {
    "papermill": {
     "duration": 0.010202,
     "end_time": "2021-08-06T12:41:11.823394",
     "exception": false,
     "start_time": "2021-08-06T12:41:11.813192",
     "status": "completed"
    },
    "tags": []
   },
   "source": [
    "# Configuration"
   ]
  },
  {
   "cell_type": "code",
   "execution_count": 2,
   "id": "9289c7b6",
   "metadata": {
    "execution": {
     "iopub.execute_input": "2021-08-06T12:41:11.854259Z",
     "iopub.status.busy": "2021-08-06T12:41:11.853444Z",
     "iopub.status.idle": "2021-08-06T12:41:11.862541Z",
     "shell.execute_reply": "2021-08-06T12:41:11.861514Z",
     "shell.execute_reply.started": "2021-08-06T12:38:25.803754Z"
    },
    "papermill": {
     "duration": 0.02885,
     "end_time": "2021-08-06T12:41:11.862787",
     "exception": false,
     "start_time": "2021-08-06T12:41:11.833937",
     "status": "completed"
    },
    "tags": []
   },
   "outputs": [
    {
     "name": "stdout",
     "output_type": "stream",
     "text": [
      "cpu\n"
     ]
    }
   ],
   "source": [
    "class CFG():\n",
    "    \n",
    "    data_path=\"./\"#../input/tabular-playground-series-mar-2021/\"\n",
    "    debug=True\n",
    "    seed=0\n",
    "\n",
    "    device = torch.device('cuda:0' if torch.cuda.is_available() else 'cpu')\n",
    "    batch_size=1#32\n",
    "    epochs=30\n",
    "    learning_rate=0.1\n",
    "    kFold=5\n",
    "\n",
    "    amp=False\n",
    "\n",
    "\n",
    "    #高速化関連\n",
    "    #https://qiita.com/sugulu_Ogawa_ISID/items/62f5f7adee083d96a587\n",
    "\n",
    "    #GPU 遅くなるらしい↓\n",
    "    torch.backends.cudnn.deterministic = True\n",
    "\n",
    "    #イテレーションごとのnnの順伝搬および誤差関数の 計算手法がある程度一定であれば、torch.backends.cudnn.benchmark = Trueで GPU での計算が高速化\n",
    "    torch.backends.cudnn.benchmark = False\n",
    "\n",
    "\n",
    "def set_seed(seed=0):\n",
    "    random.seed(seed)\n",
    "    os.environ['PYTHONHASHSEED'] = str(seed)\n",
    "    np.random.seed(seed)\n",
    "    #tf.random.set_seed(seed)\n",
    "    torch.manual_seed(seed)\n",
    "    torch.cuda.manual_seed(seed)\n",
    "    torch.cuda.manual_seed_all(seed)\n",
    "\n",
    "set_seed(CFG.seed)\n",
    "\n",
    "print(CFG.device)\n",
    "if torch.cuda.is_available():\n",
    "    torch.cuda.set_device(CFG.device)\n",
    "    print(torch.cuda.current_device())\n",
    "    print(torch.cuda.get_device_name())\n",
    "\n",
    "if CFG.debug:\n",
    "    CFG.epochs=5"
   ]
  },
  {
   "cell_type": "markdown",
   "id": "25940e52",
   "metadata": {
    "papermill": {
     "duration": 0.010813,
     "end_time": "2021-08-06T12:41:11.887828",
     "exception": false,
     "start_time": "2021-08-06T12:41:11.877015",
     "status": "completed"
    },
    "tags": []
   },
   "source": [
    "# Color"
   ]
  },
  {
   "cell_type": "code",
   "execution_count": 3,
   "id": "41af68f9",
   "metadata": {
    "execution": {
     "iopub.execute_input": "2021-08-06T12:41:11.917079Z",
     "iopub.status.busy": "2021-08-06T12:41:11.916425Z",
     "iopub.status.idle": "2021-08-06T12:41:11.918766Z",
     "shell.execute_reply": "2021-08-06T12:41:11.919274Z",
     "shell.execute_reply.started": "2021-08-06T12:38:25.818373Z"
    },
    "papermill": {
     "duration": 0.020786,
     "end_time": "2021-08-06T12:41:11.919450",
     "exception": false,
     "start_time": "2021-08-06T12:41:11.898664",
     "status": "completed"
    },
    "tags": []
   },
   "outputs": [],
   "source": [
    "def color(string,fg='DEFAULT',bg='DEFAULT',fg_rgb=None,bg_rgb=None,style='END'):\n",
    "    colors=['BLACK','RED','GREEN','YELLOW','BLUE','PURPLE','CYAN','WHITE','8','DEFAULT']\n",
    "    styles=['END','BOLD','2','3','UNDERLINE','5','6','REVERSE','INVISIBLE','9']\n",
    "\n",
    "    fg=f'\\033[3{colors.index(fg)}m'\n",
    "    bg=f'\\033[4{colors.index(bg)}m'\n",
    "    style=f'\\033[0{styles.index(style)}m'\n",
    "\n",
    "    if fg_rgb:fg=f\"\\033[38;2;{fg_rgb[0]};{fg_rgb[1]};{fg_rgb[2]}m\"\n",
    "    if bg_rgb:bg=f\"\\033[48;2;{bg_rgb[0]};{bg_rgb[1]};{bg_rgb[2]}m\"\n",
    "\n",
    "    return style+fg+bg+str(string)+'\\033[0m'"
   ]
  },
  {
   "cell_type": "code",
   "execution_count": 4,
   "id": "fe7a4032",
   "metadata": {
    "execution": {
     "iopub.execute_input": "2021-08-06T12:41:11.948540Z",
     "iopub.status.busy": "2021-08-06T12:41:11.947558Z",
     "iopub.status.idle": "2021-08-06T12:41:11.952418Z",
     "shell.execute_reply": "2021-08-06T12:41:11.951776Z",
     "shell.execute_reply.started": "2021-08-06T12:38:25.829726Z"
    },
    "papermill": {
     "duration": 0.022013,
     "end_time": "2021-08-06T12:41:11.952548",
     "exception": false,
     "start_time": "2021-08-06T12:41:11.930535",
     "status": "completed"
    },
    "tags": []
   },
   "outputs": [
    {
     "name": "stdout",
     "output_type": "stream",
     "text": [
      "\u001b[01m\u001b[32m\u001b[49mcolor test\u001b[0m\n",
      "\u001b[04m\u001b[31m\u001b[44mcolor test\u001b[0m\n",
      "\u001b[08m\u001b[36m\u001b[47mcolor test\u001b[0m\n",
      "\u001b[07m\u001b[36m\u001b[49mcolor test\u001b[0m\n",
      "\u001b[00m\u001b[38;2;150;150;255m\u001b[49maaa\u001b[0m\n"
     ]
    }
   ],
   "source": [
    "print(color(\"color test\",\"GREEN\",style='BOLD'))\n",
    "print(color(\"color test\",\"RED\",\"BLUE\",style='UNDERLINE'))\n",
    "print(color(\"color test\",\"CYAN\",\"WHITE\",style='INVISIBLE'))\n",
    "print(color(\"color test\",\"CYAN\",style='REVERSE'))\n",
    "print(color(\"aaa\",fg_rgb=(150,150,255)))\n",
    "# print(color(\"bbb\",fg_rgb=(0,250,50),bg_rgb=(0,0,255)))\n",
    "# print(color(\"ccc\"))\n",
    "# print(color('style',bg=\"RED\",fg='BLUE'))\n",
    "# print('\\033[07m'+\"Aa\")\n"
   ]
  },
  {
   "cell_type": "code",
   "execution_count": 5,
   "id": "c5b651f7",
   "metadata": {
    "execution": {
     "iopub.execute_input": "2021-08-06T12:41:11.980633Z",
     "iopub.status.busy": "2021-08-06T12:41:11.980005Z",
     "iopub.status.idle": "2021-08-06T12:41:11.982987Z",
     "shell.execute_reply": "2021-08-06T12:41:11.983470Z",
     "shell.execute_reply.started": "2021-08-06T12:38:25.848995Z"
    },
    "papermill": {
     "duration": 0.019862,
     "end_time": "2021-08-06T12:41:11.983643",
     "exception": false,
     "start_time": "2021-08-06T12:41:11.963781",
     "status": "completed"
    },
    "tags": []
   },
   "outputs": [],
   "source": [
    "def what_is(obj):\n",
    "    print(\"type:\",type(obj))\n",
    "    print(\"-\"*40+\"help\"+\"-\"*40)\n",
    "    print(help(obj))\n",
    "    print(\"-\"*40+\"dir\"+\"-\"*40)\n",
    "    print(dir(obj))"
   ]
  },
  {
   "cell_type": "code",
   "execution_count": 6,
   "id": "1b4a0c83",
   "metadata": {
    "execution": {
     "iopub.execute_input": "2021-08-06T12:41:12.013222Z",
     "iopub.status.busy": "2021-08-06T12:41:12.012529Z",
     "iopub.status.idle": "2021-08-06T12:41:12.015750Z",
     "shell.execute_reply": "2021-08-06T12:41:12.015134Z",
     "shell.execute_reply.started": "2021-08-06T12:38:25.858459Z"
    },
    "papermill": {
     "duration": 0.020832,
     "end_time": "2021-08-06T12:41:12.015959",
     "exception": false,
     "start_time": "2021-08-06T12:41:11.995127",
     "status": "completed"
    },
    "tags": []
   },
   "outputs": [],
   "source": [
    "target_columns=['target']\n",
    "def feature_columns(df):\n",
    "    for col in df.columns:\n",
    "        if col in target_columns:df=df.drop(columns=col)\n",
    "    return  df.columns\n",
    "def numerical_columns(df):\n",
    "    return df[feature_columns(df)].select_dtypes(include=['int64','float64']).columns\n",
    "def categorical_columns(df):\n",
    "    return df[feature_columns(df)].select_dtypes(exclude=['int64','float64']).columns"
   ]
  },
  {
   "cell_type": "markdown",
   "id": "e57ed9f9",
   "metadata": {
    "papermill": {
     "duration": 0.011278,
     "end_time": "2021-08-06T12:41:12.038839",
     "exception": false,
     "start_time": "2021-08-06T12:41:12.027561",
     "status": "completed"
    },
    "tags": []
   },
   "source": [
    "read data"
   ]
  },
  {
   "cell_type": "code",
   "execution_count": 7,
   "id": "12864a96",
   "metadata": {
    "execution": {
     "iopub.execute_input": "2021-08-06T12:41:12.071455Z",
     "iopub.status.busy": "2021-08-06T12:41:12.066292Z",
     "iopub.status.idle": "2021-08-06T12:41:12.084468Z",
     "shell.execute_reply": "2021-08-06T12:41:12.083875Z",
     "shell.execute_reply.started": "2021-08-06T12:38:25.870514Z"
    },
    "papermill": {
     "duration": 0.034488,
     "end_time": "2021-08-06T12:41:12.084615",
     "exception": false,
     "start_time": "2021-08-06T12:41:12.050127",
     "status": "completed"
    },
    "tags": []
   },
   "outputs": [
    {
     "name": "stdout",
     "output_type": "stream",
     "text": [
      "skipping\n"
     ]
    }
   ],
   "source": [
    "%%script echo skipping\n",
    "\n",
    "train=pd.read_csv(os.path.join(CFG.data_path,\"train.csv\"),index_col='id')\n",
    "test=pd.read_csv(os.path.join(CFG.data_path,\"test.csv\"),index_col='id')\n",
    "sample_submission=pd.read_csv(os.path.join(CFG.data_path,\"sample_submission.csv\"),index_col='id')\n",
    "\n",
    "if CFG.debug:\n",
    "    #train=train[:len(train)//50]\n",
    "    train=train.sample(frac=0.1,random_state=CFG.seed)\n",
    "\n",
    "df=pd.concat([train,test])\n",
    "# train=df[:len(train)].copy()\n",
    "# test=df[len(train):].copy()\n",
    "\n",
    "data={\n",
    "    'train':pd.DataFrame(columns=['feature','target']),\n",
    "    'val':pd.DataFrame({'feature':val.feature,'target':val['target']}),\n",
    "    'test':pd.DataFrame(test),\n",
    "}\n",
    "\n"
   ]
  },
  {
   "cell_type": "code",
   "execution_count": null,
   "id": "f8ab3f24",
   "metadata": {},
   "outputs": [],
   "source": [
    "class datapath:\n",
    "    def __init__(self,path):\n",
    "        self.data_path=path\n",
    "    def __getitem__(self,idx):\n",
    "        return self.data_path+str(idx)+'.png'\n",
    "    \n",
    "data={\n",
    "    'train':datapath('/kaggle/working/train/'),\n",
    "    'test':datapath('/kaggle/working/test/'),\n",
    "}"
   ]
  },
  {
   "cell_type": "markdown",
   "id": "47c3a1a9",
   "metadata": {
    "papermill": {
     "duration": 0.011503,
     "end_time": "2021-08-06T12:41:12.108010",
     "exception": false,
     "start_time": "2021-08-06T12:41:12.096507",
     "status": "completed"
    },
    "tags": []
   },
   "source": [
    "submission"
   ]
  },
  {
   "cell_type": "code",
   "execution_count": 2,
   "id": "c0718464",
   "metadata": {},
   "outputs": [],
   "source": [
    "import pandas as pd"
   ]
  },
  {
   "cell_type": "code",
   "execution_count": 5,
   "id": "25b490ec",
   "metadata": {
    "execution": {
     "iopub.execute_input": "2021-08-06T12:41:12.158507Z",
     "iopub.status.busy": "2021-08-06T12:41:12.157815Z",
     "iopub.status.idle": "2021-08-06T12:41:12.170147Z",
     "shell.execute_reply": "2021-08-06T12:41:12.169469Z",
     "shell.execute_reply.started": "2021-08-06T12:38:25.896947Z"
    },
    "papermill": {
     "duration": 0.050741,
     "end_time": "2021-08-06T12:41:12.170293",
     "exception": false,
     "start_time": "2021-08-06T12:41:12.119552",
     "status": "completed"
    },
    "tags": []
   },
   "outputs": [
    {
     "data": {
      "text/html": [
       "<div>\n",
       "<style scoped>\n",
       "    .dataframe tbody tr th:only-of-type {\n",
       "        vertical-align: middle;\n",
       "    }\n",
       "\n",
       "    .dataframe tbody tr th {\n",
       "        vertical-align: top;\n",
       "    }\n",
       "\n",
       "    .dataframe thead th {\n",
       "        text-align: right;\n",
       "    }\n",
       "</style>\n",
       "<table border=\"1\" class=\"dataframe\">\n",
       "  <thead>\n",
       "    <tr style=\"text-align: right;\">\n",
       "      <th></th>\n",
       "      <th>idx</th>\n",
       "      <th>target</th>\n",
       "    </tr>\n",
       "    <tr>\n",
       "      <th>row_id</th>\n",
       "      <th></th>\n",
       "      <th></th>\n",
       "    </tr>\n",
       "  </thead>\n",
       "  <tbody>\n",
       "    <tr>\n",
       "      <th>0</th>\n",
       "      <td>0</td>\n",
       "      <td>1</td>\n",
       "    </tr>\n",
       "    <tr>\n",
       "      <th>1</th>\n",
       "      <td>1</td>\n",
       "      <td>0</td>\n",
       "    </tr>\n",
       "    <tr>\n",
       "      <th>2</th>\n",
       "      <td>2</td>\n",
       "      <td>0</td>\n",
       "    </tr>\n",
       "    <tr>\n",
       "      <th>3</th>\n",
       "      <td>3</td>\n",
       "      <td>1</td>\n",
       "    </tr>\n",
       "    <tr>\n",
       "      <th>4</th>\n",
       "      <td>4</td>\n",
       "      <td>1</td>\n",
       "    </tr>\n",
       "  </tbody>\n",
       "</table>\n",
       "</div>"
      ],
      "text/plain": [
       "        idx  target\n",
       "row_id             \n",
       "0         0       1\n",
       "1         1       0\n",
       "2         2       0\n",
       "3         3       1\n",
       "4         4       1"
      ]
     },
     "execution_count": 5,
     "metadata": {},
     "output_type": "execute_result"
    }
   ],
   "source": [
    "submission=pd.DataFrame(index=pd.Series(name='row_id',dtype='int'),columns=['idx','target'])\n",
    "\n",
    "\n",
    "submission.idx=range(5)\n",
    "submission.target=[1,0,0,1,1]\n",
    "\n",
    "#submission.sort_index(inplace=True)\n",
    "\n",
    "#submission.to_csv(\"submission.csv\",index=idx)\n",
    "\n",
    "submission.head()"
   ]
  },
  {
   "cell_type": "code",
   "execution_count": null,
   "id": "a697df94",
   "metadata": {},
   "outputs": [],
   "source": []
  }
 ],
 "metadata": {
  "kernelspec": {
   "display_name": "Python 3",
   "language": "python",
   "name": "python3"
  },
  "language_info": {
   "codemirror_mode": {
    "name": "ipython",
    "version": 3
   },
   "file_extension": ".py",
   "mimetype": "text/x-python",
   "name": "python",
   "nbconvert_exporter": "python",
   "pygments_lexer": "ipython3",
   "version": "3.8.8"
  },
  "papermill": {
   "default_parameters": {},
   "duration": 11.59246,
   "end_time": "2021-08-06T12:41:12.992261",
   "environment_variables": {},
   "exception": null,
   "input_path": "__notebook__.ipynb",
   "output_path": "__notebook__.ipynb",
   "parameters": {},
   "start_time": "2021-08-06T12:41:01.399801",
   "version": "2.3.3"
  }
 },
 "nbformat": 4,
 "nbformat_minor": 5
}
=======
{"cells":[{"source":"<a href=\"https://www.kaggle.com/code/toutatsu/template?scriptVersionId=91006241\" target=\"_blank\"><img align=\"left\" alt=\"Kaggle\" title=\"Open in Kaggle\" src=\"https://kaggle.com/static/images/open-in-kaggle.svg\"></a>","metadata":{},"cell_type":"markdown","outputs":[],"execution_count":0},{"cell_type":"markdown","id":"2b5e156b","metadata":{"papermill":{"duration":0.016972,"end_time":"2022-03-23T06:39:59.356433","exception":false,"start_time":"2022-03-23T06:39:59.339461","status":"completed"},"tags":[]},"source":["<h1>template notebook</h1>"]},{"cell_type":"markdown","id":"34abb1f7","metadata":{"papermill":{"duration":0.015419,"end_time":"2022-03-23T06:39:59.390062","exception":false,"start_time":"2022-03-23T06:39:59.374643","status":"completed"},"tags":[]},"source":["## import subdirectory from Github?"]},{"cell_type":"code","execution_count":1,"id":"3852f990","metadata":{"execution":{"iopub.execute_input":"2022-03-23T06:39:59.429779Z","iopub.status.busy":"2022-03-23T06:39:59.428726Z","iopub.status.idle":"2022-03-23T06:39:59.445082Z","shell.execute_reply":"2022-03-23T06:39:59.444073Z","shell.execute_reply.started":"2022-03-23T06:37:46.05229Z"},"papermill":{"duration":0.039813,"end_time":"2022-03-23T06:39:59.445345","exception":false,"start_time":"2022-03-23T06:39:59.405532","status":"completed"},"tags":[]},"outputs":[{"name":"stdout","output_type":"stream","text":["/kaggle/working\n"]}],"source":["cd /kaggle/working"]},{"cell_type":"code","execution_count":2,"id":"78565775","metadata":{"execution":{"iopub.execute_input":"2022-03-23T06:39:59.489161Z","iopub.status.busy":"2022-03-23T06:39:59.488334Z","iopub.status.idle":"2022-03-23T06:40:00.303224Z","shell.execute_reply":"2022-03-23T06:40:00.302547Z","shell.execute_reply.started":"2022-03-23T06:37:46.069061Z"},"papermill":{"duration":0.837551,"end_time":"2022-03-23T06:40:00.303368","exception":false,"start_time":"2022-03-23T06:39:59.465817","status":"completed"},"tags":[]},"outputs":[],"source":["mkdir -p toutatsu"]},{"cell_type":"code","execution_count":3,"id":"d2301592","metadata":{"execution":{"iopub.execute_input":"2022-03-23T06:40:00.340113Z","iopub.status.busy":"2022-03-23T06:40:00.339095Z","iopub.status.idle":"2022-03-23T06:40:00.34376Z","shell.execute_reply":"2022-03-23T06:40:00.34449Z","shell.execute_reply.started":"2022-03-23T06:37:46.840617Z"},"papermill":{"duration":0.026068,"end_time":"2022-03-23T06:40:00.344723","exception":false,"start_time":"2022-03-23T06:40:00.318655","status":"completed"},"tags":[]},"outputs":[{"name":"stdout","output_type":"stream","text":["/kaggle/working/toutatsu\n"]}],"source":["cd toutatsu"]},{"cell_type":"code","execution_count":4,"id":"64caf3fe","metadata":{"execution":{"iopub.execute_input":"2022-03-23T06:40:00.394531Z","iopub.status.busy":"2022-03-23T06:40:00.393778Z","iopub.status.idle":"2022-03-23T06:40:01.17698Z","shell.execute_reply":"2022-03-23T06:40:01.176438Z","shell.execute_reply.started":"2022-03-23T06:37:46.849779Z"},"papermill":{"duration":0.812207,"end_time":"2022-03-23T06:40:01.177117","exception":false,"start_time":"2022-03-23T06:40:00.36491","status":"completed"},"tags":[]},"outputs":[{"name":"stdout","output_type":"stream","text":["/kaggle/working/toutatsu\r\n"]}],"source":["!pwd"]},{"cell_type":"code","execution_count":5,"id":"915b5d48","metadata":{"execution":{"iopub.execute_input":"2022-03-23T06:40:01.222596Z","iopub.status.busy":"2022-03-23T06:40:01.221452Z","iopub.status.idle":"2022-03-23T06:40:08.48383Z","shell.execute_reply":"2022-03-23T06:40:08.483104Z","shell.execute_reply.started":"2022-03-23T06:37:47.599128Z"},"papermill":{"duration":7.291219,"end_time":"2022-03-23T06:40:08.483965","exception":false,"start_time":"2022-03-23T06:40:01.192746","status":"completed"},"tags":[]},"outputs":[{"name":"stdout","output_type":"stream","text":["Initialized empty Git repository in /kaggle/working/toutatsu/.git/\r\n","Updating origin\r\n","remote: Enumerating objects: 143, done.\u001b[K\r\n","remote: Counting objects: 100% (143/143), done.\u001b[K\r\n","remote: Compressing objects: 100% (110/110), done.\u001b[K\r\n","remote: Total 143 (delta 51), reused 45 (delta 17), pack-reused 0\u001b[K\r\n","Receiving objects: 100% (143/143), 7.23 MiB | 10.96 MiB/s, done.\r\n","Resolving deltas: 100% (51/51), done.\r\n","From https://github.com/toutatsu/kaggle\r\n"," * [new branch]      master     -> origin/master\r\n","From https://github.com/toutatsu/kaggle\r\n"," * branch            master     -> FETCH_HEAD\r\n"]}],"source":["#https://stackoverflow.com/questions/600079/how-do-i-clone-a-subdirectory-only-of-a-git-repository\n","!git init\n","!git remote add -f origin \"https://github.com/toutatsu/kaggle\"\n","!git config core.sparseCheckout true\n","\n","!echo \"digit-recognizer/*\" >> .git/info/sparse-checkout\n","!echo \"template.ipynb\" >> .git/info/sparse-checkout\n","\n","!git pull origin master\n"]},{"cell_type":"code","execution_count":6,"id":"cd2121e4","metadata":{"execution":{"iopub.execute_input":"2022-03-23T06:40:08.532979Z","iopub.status.busy":"2022-03-23T06:40:08.528109Z","iopub.status.idle":"2022-03-23T06:40:09.346431Z","shell.execute_reply":"2022-03-23T06:40:09.346968Z","shell.execute_reply.started":"2022-03-23T06:37:54.153799Z"},"papermill":{"duration":0.842977,"end_time":"2022-03-23T06:40:09.34714","exception":false,"start_time":"2022-03-23T06:40:08.504163","status":"completed"},"tags":[]},"outputs":[{"name":"stdout","output_type":"stream","text":["\u001b[0m\u001b[01;34mdigit-recognizer\u001b[0m/  \u001b[01;34mtemplate\u001b[0m/\r\n"]}],"source":["ls"]},{"cell_type":"code","execution_count":7,"id":"2660c12b","metadata":{"execution":{"iopub.execute_input":"2022-03-23T06:40:09.392912Z","iopub.status.busy":"2022-03-23T06:40:09.391996Z","iopub.status.idle":"2022-03-23T06:40:09.398988Z","shell.execute_reply":"2022-03-23T06:40:09.399781Z","shell.execute_reply.started":"2022-03-23T06:37:54.912118Z"},"papermill":{"duration":0.031236,"end_time":"2022-03-23T06:40:09.400162","exception":false,"start_time":"2022-03-23T06:40:09.368926","status":"completed"},"tags":[]},"outputs":[{"name":"stdout","output_type":"stream","text":["/kaggle/working\n"]}],"source":["cd /kaggle/working/"]},{"cell_type":"code","execution_count":8,"id":"91fcbde1","metadata":{"execution":{"iopub.execute_input":"2022-03-23T06:40:09.452049Z","iopub.status.busy":"2022-03-23T06:40:09.451162Z","iopub.status.idle":"2022-03-23T06:40:09.454853Z","shell.execute_reply":"2022-03-23T06:40:09.455433Z","shell.execute_reply.started":"2022-03-23T06:37:54.921119Z"},"papermill":{"duration":0.027793,"end_time":"2022-03-23T06:40:09.4556","exception":false,"start_time":"2022-03-23T06:40:09.427807","status":"completed"},"tags":[]},"outputs":[],"source":["# %%script echo skipping"]},{"cell_type":"markdown","id":"7926c893","metadata":{"papermill":{"duration":0.020457,"end_time":"2022-03-23T06:40:09.496243","exception":false,"start_time":"2022-03-23T06:40:09.475786","status":"completed"},"tags":[]},"source":["# import libraries"]},{"cell_type":"code","execution_count":9,"id":"a51ff83d","metadata":{"execution":{"iopub.execute_input":"2022-03-23T06:40:09.540271Z","iopub.status.busy":"2022-03-23T06:40:09.539376Z","iopub.status.idle":"2022-03-23T06:40:12.098805Z","shell.execute_reply":"2022-03-23T06:40:12.098148Z","shell.execute_reply.started":"2022-03-23T06:37:54.932273Z"},"papermill":{"duration":2.582426,"end_time":"2022-03-23T06:40:12.098939","exception":false,"start_time":"2022-03-23T06:40:09.516513","status":"completed"},"tags":[]},"outputs":[],"source":["#defaul libraries\n","#https://docs.python.org/ja/\n","import os\n","import sys\n","import io\n","\n","import math\n","import random\n","import pprint\n","import time\n","import datetime\n","import typing\n","import json\n","import glob\n","import requests\n","import warnings\n","import gc\n","from pprint import pprint\n","import re\n","\n","import numpy as np #https://numpy.org/\n","import pandas as pd #https://pandas.pydata.org/\n","import sklearn #https://scikit-learn.org/stable/\n","\n","import matplotlib.pyplot as plt #https://matplotlib.org/stable/api/_as_gen/matplotlib.pyplot.html\n","%matplotlib inline\n","\n","import seaborn as sns\n","sns.set()\n","\n","from tqdm import tqdm #https://tqdm.github.io/\n","\n","import torch #https://pytorch.org/\n","import transformers #https://huggingface.co/transformers/\n","\n","import torchvision\n","import torchtext"]},{"cell_type":"code","execution_count":10,"id":"70e4c395","metadata":{"execution":{"iopub.execute_input":"2022-03-23T06:40:12.146112Z","iopub.status.busy":"2022-03-23T06:40:12.145129Z","iopub.status.idle":"2022-03-23T06:40:12.156231Z","shell.execute_reply":"2022-03-23T06:40:12.155651Z","shell.execute_reply.started":"2022-03-23T06:37:57.58916Z"},"papermill":{"duration":0.036842,"end_time":"2022-03-23T06:40:12.15637","exception":false,"start_time":"2022-03-23T06:40:12.119528","status":"completed"},"tags":[]},"outputs":[{"name":"stdout","output_type":"stream","text":[".\n","./__notebook__.ipynb\n","./toutatsu/digit-recognizer/README.md\n","./toutatsu/digit-recognizer/MNIST_Pytorch_CNN.ipynb\n","./toutatsu/digit-recognizer/MNIST_EDA.ipynb\n","./toutatsu/digit-recognizer/MNIST_Pytorch_CNN_.ipynb\n","./toutatsu/digit-recognizer/misc/svm.py\n","./toutatsu/digit-recognizer/misc/mnist.py\n","./toutatsu/digit-recognizer/misc/PCA.py\n","./toutatsu/digit-recognizer/misc/knn.py\n","./toutatsu/.git/index\n","./toutatsu/.git/FETCH_HEAD\n","./toutatsu/.git/description\n","./toutatsu/.git/HEAD\n","./toutatsu/.git/config\n","./toutatsu/.git/info/sparse-checkout\n","./toutatsu/.git/info/exclude\n","./toutatsu/.git/logs/HEAD\n","./toutatsu/.git/logs/refs/heads/master\n","./toutatsu/.git/logs/refs/remotes/origin/master\n","./toutatsu/.git/objects/pack/pack-64f43e2d2fbb5fbd5c2841856827e01c6ea20c55.idx\n","./toutatsu/.git/objects/pack/pack-64f43e2d2fbb5fbd5c2841856827e01c6ea20c55.pack\n","./toutatsu/.git/hooks/pre-push.sample\n","./toutatsu/.git/hooks/commit-msg.sample\n","./toutatsu/.git/hooks/pre-applypatch.sample\n","./toutatsu/.git/hooks/update.sample\n","./toutatsu/.git/hooks/prepare-commit-msg.sample\n","./toutatsu/.git/hooks/fsmonitor-watchman.sample\n","./toutatsu/.git/hooks/pre-commit.sample\n","./toutatsu/.git/hooks/post-update.sample\n","./toutatsu/.git/hooks/applypatch-msg.sample\n","./toutatsu/.git/hooks/pre-receive.sample\n","./toutatsu/.git/hooks/pre-rebase.sample\n","./toutatsu/.git/refs/heads/master\n","./toutatsu/.git/refs/remotes/origin/master\n","./toutatsu/template/notebooks/template.ipynb\n"]}],"source":["print(os.curdir)\n","for dirname, _, filenames in os.walk('.'):\n","    for filename in filenames:\n","        print(os.path.join(dirname, filename))"]},{"cell_type":"markdown","id":"909465cc","metadata":{"papermill":{"duration":0.021219,"end_time":"2022-03-23T06:40:12.198967","exception":false,"start_time":"2022-03-23T06:40:12.177748","status":"completed"},"tags":[]},"source":["# Configuration"]},{"cell_type":"code","execution_count":11,"id":"4e514634","metadata":{"execution":{"iopub.execute_input":"2022-03-23T06:40:12.24955Z","iopub.status.busy":"2022-03-23T06:40:12.248662Z","iopub.status.idle":"2022-03-23T06:40:12.256694Z","shell.execute_reply":"2022-03-23T06:40:12.257352Z","shell.execute_reply.started":"2022-03-23T06:37:57.606225Z"},"papermill":{"duration":0.03807,"end_time":"2022-03-23T06:40:12.257605","exception":false,"start_time":"2022-03-23T06:40:12.219535","status":"completed"},"tags":[]},"outputs":[{"name":"stdout","output_type":"stream","text":["cpu\n"]}],"source":["class CFG():\n","    \n","    data_path=\"./\"#../input/tabular-playground-series-mar-2021/\"\n","    debug=True\n","    seed=0\n","\n","    device = torch.device('cuda:0' if torch.cuda.is_available() else 'cpu')\n","    batch_size=1#32\n","    epochs=30\n","    learning_rate=0.1\n","    kFold=5\n","\n","    amp=False\n","\n","\n","    #高速化関連\n","    #https://qiita.com/sugulu_Ogawa_ISID/items/62f5f7adee083d96a587\n","\n","    #GPU 遅くなるらしい↓\n","    torch.backends.cudnn.deterministic = True\n","\n","    #イテレーションごとのnnの順伝搬および誤差関数の 計算手法がある程度一定であれば、torch.backends.cudnn.benchmark = Trueで GPU での計算が高速化\n","    torch.backends.cudnn.benchmark = False\n","\n","\n","def set_seed(seed=0):\n","    random.seed(seed)\n","    os.environ['PYTHONHASHSEED'] = str(seed)\n","    np.random.seed(seed)\n","    #tf.random.set_seed(seed)\n","    torch.manual_seed(seed)\n","    torch.cuda.manual_seed(seed)\n","    torch.cuda.manual_seed_all(seed)\n","\n","set_seed(CFG.seed)\n","\n","print(CFG.device)\n","if torch.cuda.is_available():\n","    torch.cuda.set_device(CFG.device)\n","    print(torch.cuda.current_device())\n","    print(torch.cuda.get_device_name())\n","\n","if CFG.debug:\n","    CFG.epochs=5"]},{"cell_type":"markdown","id":"d4484c38","metadata":{"papermill":{"duration":0.02109,"end_time":"2022-03-23T06:40:12.301538","exception":false,"start_time":"2022-03-23T06:40:12.280448","status":"completed"},"tags":[]},"source":["# Color"]},{"cell_type":"code","execution_count":12,"id":"979331ec","metadata":{"execution":{"iopub.execute_input":"2022-03-23T06:40:12.351405Z","iopub.status.busy":"2022-03-23T06:40:12.350802Z","iopub.status.idle":"2022-03-23T06:40:12.353743Z","shell.execute_reply":"2022-03-23T06:40:12.353288Z","shell.execute_reply.started":"2022-03-23T06:37:57.624929Z"},"papermill":{"duration":0.03067,"end_time":"2022-03-23T06:40:12.353889","exception":false,"start_time":"2022-03-23T06:40:12.323219","status":"completed"},"tags":[]},"outputs":[],"source":["def color(string,fg='DEFAULT',bg='DEFAULT',fg_rgb=None,bg_rgb=None,style='END'):\n","    colors=['BLACK','RED','GREEN','YELLOW','BLUE','PURPLE','CYAN','WHITE','8','DEFAULT']\n","    styles=['END','BOLD','2','3','UNDERLINE','5','6','REVERSE','INVISIBLE','9']\n","\n","    fg=f'\\033[3{colors.index(fg)}m'\n","    bg=f'\\033[4{colors.index(bg)}m'\n","    style=f'\\033[0{styles.index(style)}m'\n","\n","    if fg_rgb:fg=f\"\\033[38;2;{fg_rgb[0]};{fg_rgb[1]};{fg_rgb[2]}m\"\n","    if bg_rgb:bg=f\"\\033[48;2;{bg_rgb[0]};{bg_rgb[1]};{bg_rgb[2]}m\"\n","\n","    return style+fg+bg+str(string)+'\\033[0m'"]},{"cell_type":"code","execution_count":13,"id":"b7764fb6","metadata":{"execution":{"iopub.execute_input":"2022-03-23T06:40:12.402682Z","iopub.status.busy":"2022-03-23T06:40:12.401872Z","iopub.status.idle":"2022-03-23T06:40:12.40477Z","shell.execute_reply":"2022-03-23T06:40:12.405262Z","shell.execute_reply.started":"2022-03-23T06:37:57.63536Z"},"papermill":{"duration":0.030287,"end_time":"2022-03-23T06:40:12.405425","exception":false,"start_time":"2022-03-23T06:40:12.375138","status":"completed"},"tags":[]},"outputs":[{"name":"stdout","output_type":"stream","text":["\u001b[01m\u001b[32m\u001b[49mcolor test\u001b[0m\n","\u001b[04m\u001b[31m\u001b[44mcolor test\u001b[0m\n","\u001b[08m\u001b[36m\u001b[47mcolor test\u001b[0m\n","\u001b[07m\u001b[36m\u001b[49mcolor test\u001b[0m\n","\u001b[00m\u001b[38;2;150;150;255m\u001b[49maaa\u001b[0m\n"]}],"source":["print(color(\"color test\",\"GREEN\",style='BOLD'))\n","print(color(\"color test\",\"RED\",\"BLUE\",style='UNDERLINE'))\n","print(color(\"color test\",\"CYAN\",\"WHITE\",style='INVISIBLE'))\n","print(color(\"color test\",\"CYAN\",style='REVERSE'))\n","print(color(\"aaa\",fg_rgb=(150,150,255)))\n","# print(color(\"bbb\",fg_rgb=(0,250,50),bg_rgb=(0,0,255)))\n","# print(color(\"ccc\"))\n","# print(color('style',bg=\"RED\",fg='BLUE'))\n","# print('\\033[07m'+\"Aa\")\n"]},{"cell_type":"code","execution_count":14,"id":"dcbefd9e","metadata":{"execution":{"iopub.execute_input":"2022-03-23T06:40:12.466868Z","iopub.status.busy":"2022-03-23T06:40:12.465892Z","iopub.status.idle":"2022-03-23T06:40:12.476078Z","shell.execute_reply":"2022-03-23T06:40:12.475438Z","shell.execute_reply.started":"2022-03-23T06:37:57.648473Z"},"papermill":{"duration":0.047163,"end_time":"2022-03-23T06:40:12.476268","exception":false,"start_time":"2022-03-23T06:40:12.429105","status":"completed"},"tags":[]},"outputs":[],"source":["def what_is(obj):\n","    print(\"type:\",type(obj))\n","    print(\"-\"*40+\"help\"+\"-\"*40)\n","    print(help(obj))\n","    print(\"-\"*40+\"dir\"+\"-\"*40)\n","    print(dir(obj))"]},{"cell_type":"code","execution_count":15,"id":"a8e232a8","metadata":{"execution":{"iopub.execute_input":"2022-03-23T06:40:12.535005Z","iopub.status.busy":"2022-03-23T06:40:12.53429Z","iopub.status.idle":"2022-03-23T06:40:12.53731Z","shell.execute_reply":"2022-03-23T06:40:12.536692Z","shell.execute_reply.started":"2022-03-23T06:37:57.661128Z"},"papermill":{"duration":0.038038,"end_time":"2022-03-23T06:40:12.53747","exception":false,"start_time":"2022-03-23T06:40:12.499432","status":"completed"},"tags":[]},"outputs":[],"source":["target_columns=['target']\n","def feature_columns(df):\n","    for col in df.columns:\n","        if col in target_columns:df=df.drop(columns=col)\n","    return  df.columns\n","def numerical_columns(df):\n","    return df[feature_columns(df)].select_dtypes(include=['int64','float64']).columns\n","def categorical_columns(df):\n","    return df[feature_columns(df)].select_dtypes(exclude=['int64','float64']).columns"]},{"cell_type":"markdown","id":"4a00730e","metadata":{"papermill":{"duration":0.020908,"end_time":"2022-03-23T06:40:12.57982","exception":false,"start_time":"2022-03-23T06:40:12.558912","status":"completed"},"tags":[]},"source":["read data"]},{"cell_type":"code","execution_count":16,"id":"9a8efe67","metadata":{"execution":{"iopub.execute_input":"2022-03-23T06:40:12.633873Z","iopub.status.busy":"2022-03-23T06:40:12.633246Z","iopub.status.idle":"2022-03-23T06:40:12.645192Z","shell.execute_reply":"2022-03-23T06:40:12.646059Z","shell.execute_reply.started":"2022-03-23T06:37:57.671833Z"},"papermill":{"duration":0.045215,"end_time":"2022-03-23T06:40:12.646291","exception":false,"start_time":"2022-03-23T06:40:12.601076","status":"completed"},"tags":[]},"outputs":[{"name":"stdout","output_type":"stream","text":["skipping\n"]}],"source":["%%script echo skipping\n","\n","train=pd.read_csv(os.path.join(CFG.data_path,\"train.csv\"),index_col='id')\n","test=pd.read_csv(os.path.join(CFG.data_path,\"test.csv\"),index_col='id')\n","sample_submission=pd.read_csv(os.path.join(CFG.data_path,\"sample_submission.csv\"),index_col='id')\n","\n","if CFG.debug:\n","    #train=train[:len(train)//50]\n","    train=train.sample(frac=0.1,random_state=CFG.seed)\n","\n","df=pd.concat([train,test])\n","# train=df[:len(train)].copy()\n","# test=df[len(train):].copy()\n","\n","data={\n","    'train':pd.DataFrame(columns=['feature','target']),\n","    'val':pd.DataFrame({'feature':val.feature,'target':val['target']}),\n","    'test':pd.DataFrame(test),\n","}\n","\n"]},{"cell_type":"code","execution_count":17,"id":"486dccc0","metadata":{"execution":{"iopub.execute_input":"2022-03-23T06:40:12.69621Z","iopub.status.busy":"2022-03-23T06:40:12.692808Z","iopub.status.idle":"2022-03-23T06:40:12.698345Z","shell.execute_reply":"2022-03-23T06:40:12.698833Z","shell.execute_reply.started":"2022-03-23T06:37:57.699051Z"},"papermill":{"duration":0.031235,"end_time":"2022-03-23T06:40:12.699","exception":false,"start_time":"2022-03-23T06:40:12.667765","status":"completed"},"tags":[]},"outputs":[],"source":["class datapath:\n","    def __init__(self,path):\n","        self.data_path=path\n","    def __getitem__(self,idx):\n","        return self.data_path+str(idx)+'.png'\n","    \n","data={\n","    'train':datapath('/kaggle/working/train/'),\n","    'test':datapath('/kaggle/working/test/'),\n","}"]},{"cell_type":"markdown","id":"9b87cf05","metadata":{"papermill":{"duration":0.022507,"end_time":"2022-03-23T06:40:12.742767","exception":false,"start_time":"2022-03-23T06:40:12.72026","status":"completed"},"tags":[]},"source":["submission"]},{"cell_type":"code","execution_count":18,"id":"4759999d","metadata":{"execution":{"iopub.execute_input":"2022-03-23T06:40:12.789457Z","iopub.status.busy":"2022-03-23T06:40:12.788572Z","iopub.status.idle":"2022-03-23T06:40:12.792693Z","shell.execute_reply":"2022-03-23T06:40:12.793191Z","shell.execute_reply.started":"2022-03-23T06:37:57.707457Z"},"papermill":{"duration":0.028852,"end_time":"2022-03-23T06:40:12.793368","exception":false,"start_time":"2022-03-23T06:40:12.764516","status":"completed"},"tags":[]},"outputs":[],"source":["import pandas as pd"]},{"cell_type":"code","execution_count":19,"id":"dfa4ba3f","metadata":{"execution":{"iopub.execute_input":"2022-03-23T06:40:12.840819Z","iopub.status.busy":"2022-03-23T06:40:12.839849Z","iopub.status.idle":"2022-03-23T06:40:12.875541Z","shell.execute_reply":"2022-03-23T06:40:12.875939Z","shell.execute_reply.started":"2022-03-23T06:37:57.719767Z"},"papermill":{"duration":0.061185,"end_time":"2022-03-23T06:40:12.876109","exception":false,"start_time":"2022-03-23T06:40:12.814924","status":"completed"},"tags":[]},"outputs":[{"data":{"text/html":["<div>\n","<style scoped>\n","    .dataframe tbody tr th:only-of-type {\n","        vertical-align: middle;\n","    }\n","\n","    .dataframe tbody tr th {\n","        vertical-align: top;\n","    }\n","\n","    .dataframe thead th {\n","        text-align: right;\n","    }\n","</style>\n","<table border=\"1\" class=\"dataframe\">\n","  <thead>\n","    <tr style=\"text-align: right;\">\n","      <th></th>\n","      <th>idx</th>\n","      <th>target</th>\n","    </tr>\n","    <tr>\n","      <th>row_id</th>\n","      <th></th>\n","      <th></th>\n","    </tr>\n","  </thead>\n","  <tbody>\n","    <tr>\n","      <th>0</th>\n","      <td>0</td>\n","      <td>1</td>\n","    </tr>\n","    <tr>\n","      <th>1</th>\n","      <td>1</td>\n","      <td>0</td>\n","    </tr>\n","    <tr>\n","      <th>2</th>\n","      <td>2</td>\n","      <td>0</td>\n","    </tr>\n","    <tr>\n","      <th>3</th>\n","      <td>3</td>\n","      <td>1</td>\n","    </tr>\n","    <tr>\n","      <th>4</th>\n","      <td>4</td>\n","      <td>1</td>\n","    </tr>\n","  </tbody>\n","</table>\n","</div>"],"text/plain":["        idx  target\n","row_id             \n","0         0       1\n","1         1       0\n","2         2       0\n","3         3       1\n","4         4       1"]},"execution_count":19,"metadata":{},"output_type":"execute_result"}],"source":["submission=pd.DataFrame(index=pd.Series(name='row_id',dtype='int'),columns=['idx','target'])\n","\n","\n","submission.idx=range(5)\n","submission.target=[1,0,0,1,1]\n","\n","#submission.sort_index(inplace=True)\n","\n","#submission.to_csv(\"submission.csv\",index=idx)\n","\n","submission.head()"]},{"cell_type":"code","execution_count":null,"id":"46bfce67","metadata":{"papermill":{"duration":0.022466,"end_time":"2022-03-23T06:40:12.920599","exception":false,"start_time":"2022-03-23T06:40:12.898133","status":"completed"},"tags":[]},"outputs":[],"source":[]}],"metadata":{"kernelspec":{"display_name":"Python 3","language":"python","name":"python3"},"language_info":{"codemirror_mode":{"name":"ipython","version":3},"file_extension":".py","mimetype":"text/x-python","name":"python","nbconvert_exporter":"python","pygments_lexer":"ipython3","version":"3.7.10"},"papermill":{"default_parameters":{},"duration":22.832945,"end_time":"2022-03-23T06:40:14.733427","environment_variables":{},"exception":null,"input_path":"__notebook__.ipynb","output_path":"__notebook__.ipynb","parameters":{},"start_time":"2022-03-23T06:39:51.900482","version":"2.3.3"}},"nbformat":4,"nbformat_minor":5}
>>>>>>> 499e3ca96d21a57eb01704ff43e590c60341ed1a
