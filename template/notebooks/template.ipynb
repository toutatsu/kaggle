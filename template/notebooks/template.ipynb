{
 "cells": [
  {
   "cell_type": "markdown",
   "id": "f32e081e",
   "metadata": {
    "papermill": {
     "duration": 0.023296,
     "end_time": "2022-03-31T07:41:06.826785",
     "exception": false,
     "start_time": "2022-03-31T07:41:06.803489",
     "status": "completed"
    },
    "tags": []
   },
   "source": [
    "<a href=\"https://www.kaggle.com/code/toutatsu/template?scriptVersionId=91006241\" target=\"_blank\"><img align=\"left\" alt=\"Kaggle\" title=\"Open in Kaggle\" src=\"https://kaggle.com/static/images/open-in-kaggle.svg\"></a>"
   ]
  },
  {
   "cell_type": "markdown",
   "id": "5460b393",
   "metadata": {
    "papermill": {
     "duration": 0.021711,
     "end_time": "2022-03-31T07:41:06.871552",
     "exception": false,
     "start_time": "2022-03-31T07:41:06.849841",
     "status": "completed"
    },
    "tags": []
   },
   "source": [
    "<h1>template notebook</h1>"
   ]
  },
  {
   "cell_type": "markdown",
   "id": "f1a29b33",
   "metadata": {
    "papermill": {
     "duration": 0.021569,
     "end_time": "2022-03-31T07:41:06.915436",
     "exception": false,
     "start_time": "2022-03-31T07:41:06.893867",
     "status": "completed"
    },
    "tags": []
   },
   "source": [
    "## import subdirectory from Github?"
   ]
  },
  {
   "cell_type": "code",
   "execution_count": 1,
   "id": "0703f330",
   "metadata": {
    "execution": {
     "iopub.execute_input": "2022-03-31T07:41:06.966814Z",
     "iopub.status.busy": "2022-03-31T07:41:06.964807Z",
     "iopub.status.idle": "2022-03-31T07:41:06.978461Z",
     "shell.execute_reply": "2022-03-31T07:41:06.977755Z",
     "shell.execute_reply.started": "2022-03-23T06:37:46.05229Z"
    },
    "papermill": {
     "duration": 0.040961,
     "end_time": "2022-03-31T07:41:06.978651",
     "exception": false,
     "start_time": "2022-03-31T07:41:06.937690",
     "status": "completed"
    },
    "tags": []
   },
   "outputs": [
    {
     "name": "stdout",
     "output_type": "stream",
     "text": [
      "/kaggle/working\n"
     ]
    }
   ],
   "source": [
    "cd /kaggle/working"
   ]
  },
  {
   "cell_type": "code",
   "execution_count": 2,
   "id": "7d20ff73",
   "metadata": {
    "execution": {
     "iopub.execute_input": "2022-03-31T07:41:07.029077Z",
     "iopub.status.busy": "2022-03-31T07:41:07.028382Z",
     "iopub.status.idle": "2022-03-31T07:41:07.804512Z",
     "shell.execute_reply": "2022-03-31T07:41:07.803548Z",
     "shell.execute_reply.started": "2022-03-23T06:37:46.069061Z"
    },
    "papermill": {
     "duration": 0.802914,
     "end_time": "2022-03-31T07:41:07.804764",
     "exception": false,
     "start_time": "2022-03-31T07:41:07.001850",
     "status": "completed"
    },
    "tags": []
   },
   "outputs": [],
   "source": [
    "mkdir -p toutatsu"
   ]
  },
  {
   "cell_type": "code",
   "execution_count": 3,
   "id": "a5b466c7",
   "metadata": {
    "execution": {
     "iopub.execute_input": "2022-03-31T07:41:07.872035Z",
     "iopub.status.busy": "2022-03-31T07:41:07.871320Z",
     "iopub.status.idle": "2022-03-31T07:41:07.873908Z",
     "shell.execute_reply": "2022-03-31T07:41:07.874451Z",
     "shell.execute_reply.started": "2022-03-23T06:37:46.840617Z"
    },
    "papermill": {
     "duration": 0.035706,
     "end_time": "2022-03-31T07:41:07.874627",
     "exception": false,
     "start_time": "2022-03-31T07:41:07.838921",
     "status": "completed"
    },
    "tags": []
   },
   "outputs": [
    {
     "name": "stdout",
     "output_type": "stream",
     "text": [
      "/kaggle/working/toutatsu\n"
     ]
    }
   ],
   "source": [
    "cd toutatsu"
   ]
  },
  {
   "cell_type": "code",
   "execution_count": 4,
   "id": "f41675ed",
   "metadata": {
    "execution": {
     "iopub.execute_input": "2022-03-31T07:41:07.925369Z",
     "iopub.status.busy": "2022-03-31T07:41:07.924423Z",
     "iopub.status.idle": "2022-03-31T07:41:08.677447Z",
     "shell.execute_reply": "2022-03-31T07:41:08.678294Z",
     "shell.execute_reply.started": "2022-03-23T06:37:46.849779Z"
    },
    "papermill": {
     "duration": 0.781264,
     "end_time": "2022-03-31T07:41:08.678595",
     "exception": false,
     "start_time": "2022-03-31T07:41:07.897331",
     "status": "completed"
    },
    "tags": []
   },
   "outputs": [
    {
     "name": "stdout",
     "output_type": "stream",
     "text": [
      "/kaggle/working/toutatsu\r\n"
     ]
    }
   ],
   "source": [
    "!pwd"
   ]
  },
  {
   "cell_type": "code",
   "execution_count": 5,
   "id": "1c039749",
   "metadata": {
    "execution": {
     "iopub.execute_input": "2022-03-31T07:41:08.745913Z",
     "iopub.status.busy": "2022-03-31T07:41:08.744638Z",
     "iopub.status.idle": "2022-03-31T07:41:17.795915Z",
     "shell.execute_reply": "2022-03-31T07:41:17.794963Z",
     "shell.execute_reply.started": "2022-03-23T06:37:47.599128Z"
    },
    "papermill": {
     "duration": 9.084144,
     "end_time": "2022-03-31T07:41:17.796146",
     "exception": false,
     "start_time": "2022-03-31T07:41:08.712002",
     "status": "completed"
    },
    "tags": []
   },
   "outputs": [
    {
     "name": "stdout",
     "output_type": "stream",
     "text": [
      "Initialized empty Git repository in /kaggle/working/toutatsu/.git/\r\n",
      "Updating origin\r\n",
      "remote: Enumerating objects: 190, done.\u001b[K\r\n",
      "remote: Counting objects: 100% (190/190), done.\u001b[K\r\n",
      "remote: Compressing objects: 100% (136/136), done.\u001b[K\r\n",
      "remote: Total 190 (delta 77), reused 68 (delta 30), pack-reused 0\u001b[K\r\n",
      "Receiving objects: 100% (190/190), 8.03 MiB | 5.11 MiB/s, done.\r\n",
      "Resolving deltas: 100% (77/77), done.\r\n",
      "From https://github.com/toutatsu/kaggle\r\n",
      " * [new branch]      master     -> origin/master\r\n",
      "From https://github.com/toutatsu/kaggle\r\n",
      " * branch            master     -> FETCH_HEAD\r\n"
     ]
    }
   ],
   "source": [
    "#https://stackoverflow.com/questions/600079/how-do-i-clone-a-subdirectory-only-of-a-git-repository\n",
    "!git init\n",
    "!git remote add -f origin \"https://github.com/toutatsu/kaggle\"\n",
    "!git config core.sparseCheckout true\n",
    "\n",
    "!echo \"digit-recognizer/*\" >> .git/info/sparse-checkout\n",
    "!echo \"template.ipynb\" >> .git/info/sparse-checkout\n",
    "\n",
    "!git pull origin master\n"
   ]
  },
  {
   "cell_type": "code",
   "execution_count": 6,
   "id": "6ec1b20a",
   "metadata": {
    "execution": {
     "iopub.execute_input": "2022-03-31T07:41:17.884191Z",
     "iopub.status.busy": "2022-03-31T07:41:17.882666Z",
     "iopub.status.idle": "2022-03-31T07:41:18.634653Z",
     "shell.execute_reply": "2022-03-31T07:41:18.634042Z",
     "shell.execute_reply.started": "2022-03-23T06:37:54.153799Z"
    },
    "papermill": {
     "duration": 0.796767,
     "end_time": "2022-03-31T07:41:18.634828",
     "exception": false,
     "start_time": "2022-03-31T07:41:17.838061",
     "status": "completed"
    },
    "tags": []
   },
   "outputs": [
    {
     "name": "stdout",
     "output_type": "stream",
     "text": [
      "\u001b[0m\u001b[01;34mdigit-recognizer\u001b[0m/  \u001b[01;34mtemplate\u001b[0m/\r\n"
     ]
    }
   ],
   "source": [
    "ls"
   ]
  },
  {
   "cell_type": "code",
   "execution_count": 7,
   "id": "437c2a8b",
   "metadata": {
    "execution": {
     "iopub.execute_input": "2022-03-31T07:41:18.705033Z",
     "iopub.status.busy": "2022-03-31T07:41:18.704183Z",
     "iopub.status.idle": "2022-03-31T07:41:18.710146Z",
     "shell.execute_reply": "2022-03-31T07:41:18.709490Z",
     "shell.execute_reply.started": "2022-03-23T06:37:54.912118Z"
    },
    "papermill": {
     "duration": 0.044303,
     "end_time": "2022-03-31T07:41:18.710292",
     "exception": false,
     "start_time": "2022-03-31T07:41:18.665989",
     "status": "completed"
    },
    "tags": []
   },
   "outputs": [
    {
     "name": "stdout",
     "output_type": "stream",
     "text": [
      "/kaggle/working\n"
     ]
    }
   ],
   "source": [
    "cd /kaggle/working/"
   ]
  },
  {
   "cell_type": "code",
   "execution_count": 8,
   "id": "8c58fe9e",
   "metadata": {
    "execution": {
     "iopub.execute_input": "2022-03-31T07:41:18.778003Z",
     "iopub.status.busy": "2022-03-31T07:41:18.777342Z",
     "iopub.status.idle": "2022-03-31T07:41:18.780469Z",
     "shell.execute_reply": "2022-03-31T07:41:18.779807Z",
     "shell.execute_reply.started": "2022-03-23T06:37:54.921119Z"
    },
    "papermill": {
     "duration": 0.038852,
     "end_time": "2022-03-31T07:41:18.780611",
     "exception": false,
     "start_time": "2022-03-31T07:41:18.741759",
     "status": "completed"
    },
    "tags": []
   },
   "outputs": [],
   "source": [
    "# %%script echo skipping"
   ]
  },
  {
   "cell_type": "markdown",
   "id": "26ebd8a1",
   "metadata": {
    "papermill": {
     "duration": 0.030349,
     "end_time": "2022-03-31T07:41:18.843214",
     "exception": false,
     "start_time": "2022-03-31T07:41:18.812865",
     "status": "completed"
    },
    "tags": []
   },
   "source": [
    "# import libraries"
   ]
  },
  {
   "cell_type": "code",
   "execution_count": 9,
   "id": "aa471dd7",
   "metadata": {
    "execution": {
     "iopub.execute_input": "2022-03-31T07:41:18.915132Z",
     "iopub.status.busy": "2022-03-31T07:41:18.914398Z",
     "iopub.status.idle": "2022-03-31T07:41:21.459311Z",
     "shell.execute_reply": "2022-03-31T07:41:21.459885Z",
     "shell.execute_reply.started": "2022-03-23T06:37:54.932273Z"
    },
    "papermill": {
     "duration": 2.586105,
     "end_time": "2022-03-31T07:41:21.460071",
     "exception": false,
     "start_time": "2022-03-31T07:41:18.873966",
     "status": "completed"
    },
    "tags": []
   },
   "outputs": [],
   "source": [
    "#defaul libraries\n",
    "#https://docs.python.org/ja/\n",
    "import os\n",
    "import sys\n",
    "import io\n",
    "\n",
    "import math\n",
    "import random\n",
    "import pprint\n",
    "import time\n",
    "import datetime\n",
    "import typing\n",
    "import json\n",
    "import glob\n",
    "import requests\n",
    "import warnings\n",
    "import gc\n",
    "from pprint import pprint\n",
    "import re\n",
    "\n",
    "import numpy as np #https://numpy.org/\n",
    "import pandas as pd #https://pandas.pydata.org/\n",
    "import sklearn #https://scikit-learn.org/stable/\n",
    "\n",
    "import matplotlib.pyplot as plt #https://matplotlib.org/stable/api/_as_gen/matplotlib.pyplot.html\n",
    "%matplotlib inline\n",
    "\n",
    "import seaborn as sns\n",
    "sns.set()\n",
    "\n",
    "from tqdm import tqdm #https://tqdm.github.io/\n",
    "\n",
    "import torch #https://pytorch.org/\n",
    "import transformers #https://huggingface.co/transformers/\n",
    "\n",
    "import torchvision\n",
    "import torchtext"
   ]
  },
  {
   "cell_type": "code",
   "execution_count": 10,
   "id": "59b39c21",
   "metadata": {
    "execution": {
     "iopub.execute_input": "2022-03-31T07:41:21.530928Z",
     "iopub.status.busy": "2022-03-31T07:41:21.529813Z",
     "iopub.status.idle": "2022-03-31T07:41:21.542149Z",
     "shell.execute_reply": "2022-03-31T07:41:21.541556Z",
     "shell.execute_reply.started": "2022-03-23T06:37:57.58916Z"
    },
    "papermill": {
     "duration": 0.05034,
     "end_time": "2022-03-31T07:41:21.542306",
     "exception": false,
     "start_time": "2022-03-31T07:41:21.491966",
     "status": "completed"
    },
    "tags": []
   },
   "outputs": [
    {
     "name": "stdout",
     "output_type": "stream",
     "text": [
      ".\n",
      "./__notebook__.ipynb\n",
      "./toutatsu/digit-recognizer/MNIST_Pytorch_CNN.ipynb\n",
      "./toutatsu/digit-recognizer/MNIST_EDA.ipynb\n",
      "./toutatsu/digit-recognizer/README.md\n",
      "./toutatsu/digit-recognizer/misc/mnist.py\n",
      "./toutatsu/digit-recognizer/misc/PCA.py\n",
      "./toutatsu/digit-recognizer/misc/svm.py\n",
      "./toutatsu/digit-recognizer/misc/knn.py\n",
      "./toutatsu/template/notebooks/template.ipynb\n",
      "./toutatsu/.git/index\n",
      "./toutatsu/.git/FETCH_HEAD\n",
      "./toutatsu/.git/config\n",
      "./toutatsu/.git/description\n",
      "./toutatsu/.git/HEAD\n",
      "./toutatsu/.git/logs/HEAD\n",
      "./toutatsu/.git/logs/refs/heads/master\n",
      "./toutatsu/.git/logs/refs/remotes/origin/master\n",
      "./toutatsu/.git/info/sparse-checkout\n",
      "./toutatsu/.git/info/exclude\n",
      "./toutatsu/.git/refs/heads/master\n",
      "./toutatsu/.git/refs/remotes/origin/master\n",
      "./toutatsu/.git/objects/pack/pack-4dc9c7919f0a828d4a8d89f4c0cda2defe6321e0.idx\n",
      "./toutatsu/.git/objects/pack/pack-4dc9c7919f0a828d4a8d89f4c0cda2defe6321e0.pack\n",
      "./toutatsu/.git/hooks/pre-receive.sample\n",
      "./toutatsu/.git/hooks/prepare-commit-msg.sample\n",
      "./toutatsu/.git/hooks/commit-msg.sample\n",
      "./toutatsu/.git/hooks/pre-applypatch.sample\n",
      "./toutatsu/.git/hooks/applypatch-msg.sample\n",
      "./toutatsu/.git/hooks/fsmonitor-watchman.sample\n",
      "./toutatsu/.git/hooks/pre-rebase.sample\n",
      "./toutatsu/.git/hooks/pre-push.sample\n",
      "./toutatsu/.git/hooks/pre-commit.sample\n",
      "./toutatsu/.git/hooks/post-update.sample\n",
      "./toutatsu/.git/hooks/update.sample\n"
     ]
    }
   ],
   "source": [
    "print(os.curdir)\n",
    "for dirname, _, filenames in os.walk('.'):\n",
    "    for filename in filenames:\n",
    "        print(os.path.join(dirname, filename))"
   ]
  },
  {
   "cell_type": "markdown",
   "id": "c85e7d01",
   "metadata": {
    "papermill": {
     "duration": 0.031324,
     "end_time": "2022-03-31T07:41:21.604870",
     "exception": false,
     "start_time": "2022-03-31T07:41:21.573546",
     "status": "completed"
    },
    "tags": []
   },
   "source": [
    "# Configuration"
   ]
  },
  {
   "cell_type": "code",
   "execution_count": 11,
   "id": "2f2d7cfa",
   "metadata": {
    "execution": {
     "iopub.execute_input": "2022-03-31T07:41:21.670358Z",
     "iopub.status.busy": "2022-03-31T07:41:21.669650Z",
     "iopub.status.idle": "2022-03-31T07:41:21.683712Z",
     "shell.execute_reply": "2022-03-31T07:41:21.684377Z",
     "shell.execute_reply.started": "2022-03-23T06:37:57.606225Z"
    },
    "papermill": {
     "duration": 0.048441,
     "end_time": "2022-03-31T07:41:21.684549",
     "exception": false,
     "start_time": "2022-03-31T07:41:21.636108",
     "status": "completed"
    },
    "tags": []
   },
   "outputs": [
    {
     "name": "stdout",
     "output_type": "stream",
     "text": [
      "cpu\n"
     ]
    }
   ],
   "source": [
    "class CFG():\n",
    "    \n",
    "    data_path=\"./\"#../input/tabular-playground-series-mar-2021/\"\n",
    "    debug=True\n",
    "    seed=0\n",
    "\n",
    "    device = torch.device('cuda:0' if torch.cuda.is_available() else 'cpu')\n",
    "    batch_size=1#32\n",
    "    epochs=30\n",
    "    learning_rate=0.1\n",
    "    kFold=5\n",
    "\n",
    "    amp=False\n",
    "\n",
    "\n",
    "    #高速化関連\n",
    "    #https://qiita.com/sugulu_Ogawa_ISID/items/62f5f7adee083d96a587\n",
    "\n",
    "    #GPU 遅くなるらしい↓\n",
    "    torch.backends.cudnn.deterministic = True\n",
    "\n",
    "    #イテレーションごとのnnの順伝搬および誤差関数の 計算手法がある程度一定であれば、torch.backends.cudnn.benchmark = Trueで GPU での計算が高速化\n",
    "    torch.backends.cudnn.benchmark = False\n",
    "\n",
    "\n",
    "def set_seed(seed=0):\n",
    "    random.seed(seed)\n",
    "    os.environ['PYTHONHASHSEED'] = str(seed)\n",
    "    np.random.seed(seed)\n",
    "    #tf.random.set_seed(seed)\n",
    "    torch.manual_seed(seed)\n",
    "    torch.cuda.manual_seed(seed)\n",
    "    torch.cuda.manual_seed_all(seed)\n",
    "\n",
    "set_seed(CFG.seed)\n",
    "\n",
    "print(CFG.device)\n",
    "if torch.cuda.is_available():\n",
    "    torch.cuda.set_device(CFG.device)\n",
    "    print(torch.cuda.current_device())\n",
    "    print(torch.cuda.get_device_name())\n",
    "\n",
    "if CFG.debug:\n",
    "    CFG.epochs=5"
   ]
  },
  {
   "cell_type": "markdown",
   "id": "142bd7c6",
   "metadata": {
    "papermill": {
     "duration": 0.031698,
     "end_time": "2022-03-31T07:41:21.748467",
     "exception": false,
     "start_time": "2022-03-31T07:41:21.716769",
     "status": "completed"
    },
    "tags": []
   },
   "source": [
    "# Color"
   ]
  },
  {
   "cell_type": "code",
   "execution_count": 12,
   "id": "b4ffbcc1",
   "metadata": {
    "execution": {
     "iopub.execute_input": "2022-03-31T07:41:21.814832Z",
     "iopub.status.busy": "2022-03-31T07:41:21.814141Z",
     "iopub.status.idle": "2022-03-31T07:41:21.821840Z",
     "shell.execute_reply": "2022-03-31T07:41:21.821292Z",
     "shell.execute_reply.started": "2022-03-23T06:37:57.624929Z"
    },
    "papermill": {
     "duration": 0.041933,
     "end_time": "2022-03-31T07:41:21.821982",
     "exception": false,
     "start_time": "2022-03-31T07:41:21.780049",
     "status": "completed"
    },
    "tags": []
   },
   "outputs": [],
   "source": [
    "def color(string,fg='DEFAULT',bg='DEFAULT',fg_rgb=None,bg_rgb=None,style='END'):\n",
    "    colors=['BLACK','RED','GREEN','YELLOW','BLUE','PURPLE','CYAN','WHITE','8','DEFAULT']\n",
    "    styles=['END','BOLD','2','3','UNDERLINE','5','6','REVERSE','INVISIBLE','9']\n",
    "\n",
    "    fg=f'\\033[3{colors.index(fg)}m'\n",
    "    bg=f'\\033[4{colors.index(bg)}m'\n",
    "    style=f'\\033[0{styles.index(style)}m'\n",
    "\n",
    "    if fg_rgb:fg=f\"\\033[38;2;{fg_rgb[0]};{fg_rgb[1]};{fg_rgb[2]}m\"\n",
    "    if bg_rgb:bg=f\"\\033[48;2;{bg_rgb[0]};{bg_rgb[1]};{bg_rgb[2]}m\"\n",
    "\n",
    "    return style+fg+bg+str(string)+'\\033[0m'"
   ]
  },
  {
   "cell_type": "code",
   "execution_count": 13,
   "id": "c13b6bd9",
   "metadata": {
    "execution": {
     "iopub.execute_input": "2022-03-31T07:41:21.892512Z",
     "iopub.status.busy": "2022-03-31T07:41:21.891431Z",
     "iopub.status.idle": "2022-03-31T07:41:21.895520Z",
     "shell.execute_reply": "2022-03-31T07:41:21.896221Z",
     "shell.execute_reply.started": "2022-03-23T06:37:57.63536Z"
    },
    "papermill": {
     "duration": 0.042632,
     "end_time": "2022-03-31T07:41:21.896396",
     "exception": false,
     "start_time": "2022-03-31T07:41:21.853764",
     "status": "completed"
    },
    "tags": []
   },
   "outputs": [
    {
     "name": "stdout",
     "output_type": "stream",
     "text": [
      "\u001b[01m\u001b[32m\u001b[49mcolor test\u001b[0m\n",
      "\u001b[04m\u001b[31m\u001b[44mcolor test\u001b[0m\n",
      "\u001b[08m\u001b[36m\u001b[47mcolor test\u001b[0m\n",
      "\u001b[07m\u001b[36m\u001b[49mcolor test\u001b[0m\n",
      "\u001b[00m\u001b[38;2;150;150;255m\u001b[49maaa\u001b[0m\n"
     ]
    }
   ],
   "source": [
    "print(color(\"color test\",\"GREEN\",style='BOLD'))\n",
    "print(color(\"color test\",\"RED\",\"BLUE\",style='UNDERLINE'))\n",
    "print(color(\"color test\",\"CYAN\",\"WHITE\",style='INVISIBLE'))\n",
    "print(color(\"color test\",\"CYAN\",style='REVERSE'))\n",
    "print(color(\"aaa\",fg_rgb=(150,150,255)))\n",
    "# print(color(\"bbb\",fg_rgb=(0,250,50),bg_rgb=(0,0,255)))\n",
    "# print(color(\"ccc\"))\n",
    "# print(color('style',bg=\"RED\",fg='BLUE'))\n",
    "# print('\\033[07m'+\"Aa\")\n"
   ]
  },
  {
   "cell_type": "code",
   "execution_count": 14,
   "id": "bbf4b58a",
   "metadata": {
    "execution": {
     "iopub.execute_input": "2022-03-31T07:41:21.965376Z",
     "iopub.status.busy": "2022-03-31T07:41:21.962483Z",
     "iopub.status.idle": "2022-03-31T07:41:21.968085Z",
     "shell.execute_reply": "2022-03-31T07:41:21.968576Z",
     "shell.execute_reply.started": "2022-03-23T06:37:57.648473Z"
    },
    "papermill": {
     "duration": 0.040736,
     "end_time": "2022-03-31T07:41:21.968780",
     "exception": false,
     "start_time": "2022-03-31T07:41:21.928044",
     "status": "completed"
    },
    "tags": []
   },
   "outputs": [],
   "source": [
    "def what_is(obj):\n",
    "    print(\"type:\",type(obj))\n",
    "    print(\"-\"*40+\"help\"+\"-\"*40)\n",
    "    print(help(obj))\n",
    "    print(\"-\"*40+\"dir\"+\"-\"*40)\n",
    "    print(dir(obj))"
   ]
  },
  {
   "cell_type": "code",
   "execution_count": 15,
   "id": "386dce1b",
   "metadata": {
    "execution": {
     "iopub.execute_input": "2022-03-31T07:41:22.039564Z",
     "iopub.status.busy": "2022-03-31T07:41:22.038903Z",
     "iopub.status.idle": "2022-03-31T07:41:22.042414Z",
     "shell.execute_reply": "2022-03-31T07:41:22.041857Z",
     "shell.execute_reply.started": "2022-03-23T06:37:57.661128Z"
    },
    "papermill": {
     "duration": 0.042151,
     "end_time": "2022-03-31T07:41:22.042559",
     "exception": false,
     "start_time": "2022-03-31T07:41:22.000408",
     "status": "completed"
    },
    "tags": []
   },
   "outputs": [],
   "source": [
    "target_columns=['target']\n",
    "def feature_columns(df):\n",
    "    for col in df.columns:\n",
    "        if col in target_columns:df=df.drop(columns=col)\n",
    "    return  df.columns\n",
    "def numerical_columns(df):\n",
    "    return df[feature_columns(df)].select_dtypes(include=['int64','float64']).columns\n",
    "def categorical_columns(df):\n",
    "    return df[feature_columns(df)].select_dtypes(exclude=['int64','float64']).columns"
   ]
  },
  {
   "cell_type": "markdown",
   "id": "9de108b0",
   "metadata": {
    "papermill": {
     "duration": 0.032384,
     "end_time": "2022-03-31T07:41:22.106780",
     "exception": false,
     "start_time": "2022-03-31T07:41:22.074396",
     "status": "completed"
    },
    "tags": []
   },
   "source": [
    "read data"
   ]
  },
  {
   "cell_type": "code",
   "execution_count": 16,
   "id": "4d5b3811",
   "metadata": {
    "execution": {
     "iopub.execute_input": "2022-03-31T07:41:22.181089Z",
     "iopub.status.busy": "2022-03-31T07:41:22.176066Z",
     "iopub.status.idle": "2022-03-31T07:41:22.193357Z",
     "shell.execute_reply": "2022-03-31T07:41:22.193949Z",
     "shell.execute_reply.started": "2022-03-23T06:37:57.671833Z"
    },
    "papermill": {
     "duration": 0.05524,
     "end_time": "2022-03-31T07:41:22.194133",
     "exception": false,
     "start_time": "2022-03-31T07:41:22.138893",
     "status": "completed"
    },
    "tags": []
   },
   "outputs": [
    {
     "name": "stdout",
     "output_type": "stream",
     "text": [
      "skipping\n"
     ]
    }
   ],
   "source": [
    "%%script echo skipping\n",
    "\n",
    "train=pd.read_csv(os.path.join(CFG.data_path,\"train.csv\"),index_col='id')\n",
    "test=pd.read_csv(os.path.join(CFG.data_path,\"test.csv\"),index_col='id')\n",
    "sample_submission=pd.read_csv(os.path.join(CFG.data_path,\"sample_submission.csv\"),index_col='id')\n",
    "\n",
    "if CFG.debug:\n",
    "    #train=train[:len(train)//50]\n",
    "    train=train.sample(frac=0.1,random_state=CFG.seed)\n",
    "\n",
    "df=pd.concat([train,test])\n",
    "# train=df[:len(train)].copy()\n",
    "# test=df[len(train):].copy()\n",
    "\n",
    "data={\n",
    "    'train':pd.DataFrame(columns=['feature','target']),\n",
    "    'val':pd.DataFrame({'feature':val.feature,'target':val['target']}),\n",
    "    'test':pd.DataFrame(test),\n",
    "}\n",
    "\n"
   ]
  },
  {
   "cell_type": "code",
   "execution_count": 17,
   "id": "79dc7c61",
   "metadata": {
    "execution": {
     "iopub.execute_input": "2022-03-31T07:41:22.266082Z",
     "iopub.status.busy": "2022-03-31T07:41:22.265225Z",
     "iopub.status.idle": "2022-03-31T07:41:22.268762Z",
     "shell.execute_reply": "2022-03-31T07:41:22.268069Z",
     "shell.execute_reply.started": "2022-03-23T06:37:57.699051Z"
    },
    "papermill": {
     "duration": 0.042141,
     "end_time": "2022-03-31T07:41:22.268917",
     "exception": false,
     "start_time": "2022-03-31T07:41:22.226776",
     "status": "completed"
    },
    "tags": []
   },
   "outputs": [],
   "source": [
    "class datapath:\n",
    "    def __init__(self,path):\n",
    "        self.data_path=path\n",
    "    def __getitem__(self,idx):\n",
    "        return self.data_path+str(idx)+'.png'\n",
    "    \n",
    "data={\n",
    "    'train':datapath('/kaggle/working/train/'),\n",
    "    'test':datapath('/kaggle/working/test/'),\n",
    "}"
   ]
  },
  {
   "cell_type": "markdown",
   "id": "280881ef",
   "metadata": {
    "papermill": {
     "duration": 0.033009,
     "end_time": "2022-03-31T07:41:22.335379",
     "exception": false,
     "start_time": "2022-03-31T07:41:22.302370",
     "status": "completed"
    },
    "tags": []
   },
   "source": [
    "submission"
   ]
  },
  {
   "cell_type": "code",
   "execution_count": 18,
   "id": "a9350cac",
   "metadata": {
    "execution": {
     "iopub.execute_input": "2022-03-31T07:41:22.406543Z",
     "iopub.status.busy": "2022-03-31T07:41:22.405537Z",
     "iopub.status.idle": "2022-03-31T07:41:22.409055Z",
     "shell.execute_reply": "2022-03-31T07:41:22.408375Z",
     "shell.execute_reply.started": "2022-03-23T06:37:57.707457Z"
    },
    "papermill": {
     "duration": 0.040725,
     "end_time": "2022-03-31T07:41:22.409211",
     "exception": false,
     "start_time": "2022-03-31T07:41:22.368486",
     "status": "completed"
    },
    "tags": []
   },
   "outputs": [],
   "source": [
    "import pandas as pd"
   ]
  },
  {
   "cell_type": "code",
   "execution_count": 19,
   "id": "72a5179f",
   "metadata": {
    "execution": {
     "iopub.execute_input": "2022-03-31T07:41:22.482963Z",
     "iopub.status.busy": "2022-03-31T07:41:22.482235Z",
     "iopub.status.idle": "2022-03-31T07:41:22.514834Z",
     "shell.execute_reply": "2022-03-31T07:41:22.515379Z",
     "shell.execute_reply.started": "2022-03-23T06:37:57.719767Z"
    },
    "papermill": {
     "duration": 0.073484,
     "end_time": "2022-03-31T07:41:22.515554",
     "exception": false,
     "start_time": "2022-03-31T07:41:22.442070",
     "status": "completed"
    },
    "tags": []
   },
   "outputs": [
    {
     "data": {
      "text/html": [
       "<div>\n",
       "<style scoped>\n",
       "    .dataframe tbody tr th:only-of-type {\n",
       "        vertical-align: middle;\n",
       "    }\n",
       "\n",
       "    .dataframe tbody tr th {\n",
       "        vertical-align: top;\n",
       "    }\n",
       "\n",
       "    .dataframe thead th {\n",
       "        text-align: right;\n",
       "    }\n",
       "</style>\n",
       "<table border=\"1\" class=\"dataframe\">\n",
       "  <thead>\n",
       "    <tr style=\"text-align: right;\">\n",
       "      <th></th>\n",
       "      <th>idx</th>\n",
       "      <th>target</th>\n",
       "    </tr>\n",
       "    <tr>\n",
       "      <th>row_id</th>\n",
       "      <th></th>\n",
       "      <th></th>\n",
       "    </tr>\n",
       "  </thead>\n",
       "  <tbody>\n",
       "    <tr>\n",
       "      <th>0</th>\n",
       "      <td>0</td>\n",
       "      <td>1</td>\n",
       "    </tr>\n",
       "    <tr>\n",
       "      <th>1</th>\n",
       "      <td>1</td>\n",
       "      <td>0</td>\n",
       "    </tr>\n",
       "    <tr>\n",
       "      <th>2</th>\n",
       "      <td>2</td>\n",
       "      <td>0</td>\n",
       "    </tr>\n",
       "    <tr>\n",
       "      <th>3</th>\n",
       "      <td>3</td>\n",
       "      <td>1</td>\n",
       "    </tr>\n",
       "    <tr>\n",
       "      <th>4</th>\n",
       "      <td>4</td>\n",
       "      <td>1</td>\n",
       "    </tr>\n",
       "  </tbody>\n",
       "</table>\n",
       "</div>"
      ],
      "text/plain": [
       "        idx  target\n",
       "row_id             \n",
       "0         0       1\n",
       "1         1       0\n",
       "2         2       0\n",
       "3         3       1\n",
       "4         4       1"
      ]
     },
     "execution_count": 19,
     "metadata": {},
     "output_type": "execute_result"
    }
   ],
   "source": [
    "submission=pd.DataFrame(index=pd.Series(name='row_id',dtype='int'),columns=['idx','target'])\n",
    "\n",
    "\n",
    "submission.idx=range(5)\n",
    "submission.target=[1,0,0,1,1]\n",
    "\n",
    "#submission.sort_index(inplace=True)\n",
    "\n",
    "#submission.to_csv(\"submission.csv\",index=idx)\n",
    "\n",
    "submission.head()"
   ]
  },
  {
   "cell_type": "code",
   "execution_count": null,
   "id": "5e6e8145",
   "metadata": {
    "papermill": {
     "duration": 0.032539,
     "end_time": "2022-03-31T07:41:22.580600",
     "exception": false,
     "start_time": "2022-03-31T07:41:22.548061",
     "status": "completed"
    },
    "tags": []
   },
   "outputs": [],
   "source": []
  }
 ],
 "metadata": {
  "kernelspec": {
   "display_name": "Python 3",
   "language": "python",
   "name": "python3"
  },
  "language_info": {
   "codemirror_mode": {
    "name": "ipython",
    "version": 3
   },
   "file_extension": ".py",
   "mimetype": "text/x-python",
   "name": "python",
   "nbconvert_exporter": "python",
   "pygments_lexer": "ipython3",
   "version": "3.7.10"
  },
  "papermill": {
   "default_parameters": {},
   "duration": 24.507357,
   "end_time": "2022-03-31T07:41:23.423547",
   "environment_variables": {},
   "exception": null,
   "input_path": "__notebook__.ipynb",
   "output_path": "__notebook__.ipynb",
   "parameters": {},
   "start_time": "2022-03-31T07:40:58.916190",
   "version": "2.3.3"
  }
 },
 "nbformat": 4,
 "nbformat_minor": 5
}
